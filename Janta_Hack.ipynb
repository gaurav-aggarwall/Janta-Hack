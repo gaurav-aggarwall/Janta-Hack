{
  "nbformat": 4,
  "nbformat_minor": 0,
  "metadata": {
    "colab": {
      "name": "Final_Submission.ipynb",
      "provenance": [],
      "collapsed_sections": []
    },
    "kernelspec": {
      "name": "python3",
      "display_name": "Python 3"
    }
  },
  "cells": [
    {
      "cell_type": "markdown",
      "metadata": {
        "id": "ms64eMvXs5Ug",
        "colab_type": "text"
      },
      "source": [
        "# **JanataHack** - E-Commerce Analytics ML Hackathon\n"
      ]
    },
    {
      "cell_type": "markdown",
      "metadata": {
        "id": "lELxg12vWgOo",
        "colab_type": "text"
      },
      "source": [
        "Thanks to Analytics Vidhya for organising such an initiative during the lockdown period due to COVID-19. \n",
        "\n",
        "JantaHack is an online Machine Learning Competition with the problem statement involving **Gender Prediction** from E-Commerce sessions given features such as timestamps of their session and list of products they visited.  \n",
        "\n",
        "\n",
        "All the best to all the participants and Kudos to Winners.\n",
        "Once again, Many thanks to Analytics Vidhya Team."
      ]
    },
    {
      "cell_type": "markdown",
      "metadata": {
        "id": "Ro6UdRYe8IiZ",
        "colab_type": "text"
      },
      "source": [
        "**Contents**\n",
        "\n",
        "1. Very basic EDA, we did a little more extensive one and will be sharing that one as well.\n",
        "2. Voting Classifier\n",
        "3. BiLSTM Classifier\n",
        "4. Submission Strategy\n",
        "\n",
        "\n",
        "*We understand that many of the ideas we have used are not original or unique, therefore, we have tried to acknowledge. However, we might have missed some unintentionally, please let us know and accept our apologies.*"
      ]
    },
    {
      "cell_type": "markdown",
      "metadata": {
        "id": "mJhQMNkwjF-D",
        "colab_type": "text"
      },
      "source": [
        "# ***Commencer***"
      ]
    },
    {
      "cell_type": "code",
      "metadata": {
        "id": "Eau68I-tappi",
        "colab_type": "code",
        "colab": {}
      },
      "source": [
        "# Imports\n",
        "\n",
        "import pandas as pd\n",
        "import numpy as np\n",
        "from sklearn.model_selection import train_test_split\n",
        "from sklearn.metrics import classification_report\n",
        "from sklearn.metrics import f1_score\n",
        "from sklearn.metrics import accuracy_score\n",
        "from sklearn.metrics import recall_score\n",
        "from xgboost.sklearn import XGBClassifier\n",
        "from sklearn.preprocessing import LabelEncoder\n",
        "from sklearn.ensemble import RandomForestClassifier,VotingClassifier\n",
        "from xgboost.sklearn import XGBClassifier\n",
        "from sklearn.neighbors import KNeighborsClassifier\n",
        "from lightgbm.sklearn import LGBMClassifier\n",
        "from sklearn.neural_network import MLPClassifier\n",
        "\n",
        "import tensorflow as tf\n",
        "from tensorflow import keras\n",
        "from tensorflow.keras.preprocessing.text import Tokenizer\n",
        "from tensorflow.keras.preprocessing.sequence import pad_sequences\n",
        "from keras.models import Sequential\n",
        "from keras.layers import Dense\n",
        "from keras.layers import LSTM,BatchNormalization,Bidirectional,Embedding,Dropout\n",
        "from sklearn.preprocessing import LabelEncoder\n",
        "from keras.callbacks import EarlyStopping\n",
        "\n",
        "import warnings\n",
        "warnings.filterwarnings('ignore')\n",
        "import missingno as msno \n",
        "import plotly.figure_factory as ff\n",
        "import plotly.express as px\n",
        "import plotly.io as pio\n",
        "from collections import Counter\n",
        "pio.templates.default = \"plotly_dark\""
      ],
      "execution_count": 0,
      "outputs": []
    },
    {
      "cell_type": "markdown",
      "metadata": {
        "id": "HObLNfYktR-a",
        "colab_type": "text"
      },
      "source": [
        "## **Exploratory Data Analysis**"
      ]
    },
    {
      "cell_type": "code",
      "metadata": {
        "id": "UtW9_l73ZVfX",
        "colab_type": "code",
        "colab": {}
      },
      "source": [
        "train=pd.read_csv('/content/train.csv')\n",
        "test=pd.read_csv('/content/test.csv')"
      ],
      "execution_count": 0,
      "outputs": []
    },
    {
      "cell_type": "code",
      "metadata": {
        "id": "e_Som50UnUCu",
        "colab_type": "code",
        "outputId": "1058c46e-9e56-419e-e291-f318f7dff4db",
        "colab": {
          "base_uri": "https://localhost:8080/",
          "height": 34
        }
      },
      "source": [
        "train.shape,test.shape"
      ],
      "execution_count": 0,
      "outputs": [
        {
          "output_type": "execute_result",
          "data": {
            "text/plain": [
              "((10500, 5), (4500, 4))"
            ]
          },
          "metadata": {
            "tags": []
          },
          "execution_count": 3
        }
      ]
    },
    {
      "cell_type": "markdown",
      "metadata": {
        "id": "ZaZ9lZ8insTI",
        "colab_type": "text"
      },
      "source": [
        "**Checking for Missing Values**"
      ]
    },
    {
      "cell_type": "code",
      "metadata": {
        "id": "lfjlyxJFngwq",
        "colab_type": "code",
        "outputId": "199c7c9c-8731-459d-bb80-4442cf3cd15b",
        "colab": {
          "base_uri": "https://localhost:8080/",
          "height": 600
        }
      },
      "source": [
        "msno.bar(train,figsize=(8,8));"
      ],
      "execution_count": 0,
      "outputs": [
        {
          "output_type": "display_data",
          "data": {
            "image/png": "[encoded data removed]",
            "text/plain": [
              "<Figure size 576x576 with 3 Axes>"
            ]
          },
          "metadata": {
            "tags": [],
            "needs_background": "light"
          }
        }
      ]
    },
    {
      "cell_type": "code",
      "metadata": {
        "id": "OEO1wmU-nj4Q",
        "colab_type": "code",
        "outputId": "17682fff-b991-4aa8-89cc-e6b914a2341a",
        "colab": {
          "base_uri": "https://localhost:8080/",
          "height": 592
        }
      },
      "source": [
        "msno.bar(test,figsize=(8,8));"
      ],
      "execution_count": 0,
      "outputs": [
        {
          "output_type": "display_data",
          "data": {
            "image/png": "[encoded data removed]",
            "text/plain": [
              "<Figure size 576x576 with 3 Axes>"
            ]
          },
          "metadata": {
            "tags": [],
            "needs_background": "light"
          }
        }
      ]
    },
    {
      "cell_type": "markdown",
      "metadata": {
        "id": "Os4zvdRinz-X",
        "colab_type": "text"
      },
      "source": [
        "**Checking for Label Distribution**"
      ]
    },
    {
      "cell_type": "code",
      "metadata": {
        "id": "I6fI295gnzar",
        "colab_type": "code",
        "outputId": "3cdcfb5b-1126-4b58-9837-6c0fa29bff9b",
        "colab": {
          "base_uri": "https://localhost:8080/",
          "height": 542
        }
      },
      "source": [
        "fig = px.pie(pd.DataFrame(train['gender'].value_counts()),values='gender',names=['male','female'])\n",
        "fig.show()"
      ],
      "execution_count": 0,
      "outputs": [
        {
          "output_type": "display_data",
          "data": {
            "text/html": [
              "<html>\n",
              "<head><meta charset=\"utf-8\" /></head>\n",
              "<body>\n",
              "    <div>\n",
              "            <script src=\"https://cdnjs.cloudflare.com/ajax/libs/mathjax/2.7.5/MathJax.js?config=TeX-AMS-MML_SVG\"></script><script type=\"text/javascript\">if (window.MathJax) {MathJax.Hub.Config({SVG: {font: \"STIX-Web\"}});}</script>\n",
              "                <script type=\"text/javascript\">window.PlotlyConfig = {MathJaxConfig: 'local'};</script>\n",
              "        <script src=\"https://cdn.plot.ly/plotly-latest.min.js\"></script>    \n",
              "            <div id=\"916d0d96-50dd-429a-85ae-13933e6f2894\" class=\"plotly-graph-div\" style=\"height:525px; width:100%;\"></div>\n",
              "            <script type=\"text/javascript\">\n",
              "                \n",
              "                    window.PLOTLYENV=window.PLOTLYENV || {};\n",
              "                    \n",
              "                if (document.getElementById(\"916d0d96-50dd-429a-85ae-13933e6f2894\")) {\n",
              "                    Plotly.newPlot(\n",
              "                        '916d0d96-50dd-429a-85ae-13933e6f2894',\n",
              "                        [{\"domain\": {\"x\": [0.0, 1.0], \"y\": [0.0, 1.0]}, \"hoverlabel\": {\"namelength\": 0}, \"hovertemplate\": \"label=%{label}<br>gender=%{value}\", \"labels\": [\"male\", \"female\"], \"legendgroup\": \"\", \"name\": \"\", \"showlegend\": true, \"type\": \"pie\", \"values\": [8192, 2308]}],\n",
              "                        {\"legend\": {\"tracegroupgap\": 0}, \"margin\": {\"t\": 60}, \"template\": {\"data\": {\"bar\": [{\"error_x\": {\"color\": \"#f2f5fa\"}, \"error_y\": {\"color\": \"#f2f5fa\"}, \"marker\": {\"line\": {\"color\": \"rgb(17,17,17)\", \"width\": 0.5}}, \"type\": \"bar\"}], \"barpolar\": [{\"marker\": {\"line\": {\"color\": \"rgb(17,17,17)\", \"width\": 0.5}}, \"type\": \"barpolar\"}], \"carpet\": [{\"aaxis\": {\"endlinecolor\": \"#A2B1C6\", \"gridcolor\": \"#506784\", \"linecolor\": \"#506784\", \"minorgridcolor\": \"#506784\", \"startlinecolor\": \"#A2B1C6\"}, \"baxis\": {\"endlinecolor\": \"#A2B1C6\", \"gridcolor\": \"#506784\", \"linecolor\": \"#506784\", \"minorgridcolor\": \"#506784\", \"startlinecolor\": \"#A2B1C6\"}, \"type\": \"carpet\"}], \"choropleth\": [{\"colorbar\": {\"outlinewidth\": 0, \"ticks\": \"\"}, \"type\": \"choropleth\"}], \"contour\": [{\"colorbar\": {\"outlinewidth\": 0, \"ticks\": \"\"}, \"colorscale\": [[0.0, \"#0d0887\"], [0.1111111111111111, \"#46039f\"], [0.2222222222222222, \"#7201a8\"], [0.3333333333333333, \"#9c179e\"], [0.4444444444444444, \"#bd3786\"], [0.5555555555555556, \"#d8576b\"], [0.6666666666666666, \"#ed7953\"], [0.7777777777777778, \"#fb9f3a\"], [0.8888888888888888, \"#fdca26\"], [1.0, \"#f0f921\"]], \"type\": \"contour\"}], \"contourcarpet\": [{\"colorbar\": {\"outlinewidth\": 0, \"ticks\": \"\"}, \"type\": \"contourcarpet\"}], \"heatmap\": [{\"colorbar\": {\"outlinewidth\": 0, \"ticks\": \"\"}, \"colorscale\": [[0.0, \"#0d0887\"], [0.1111111111111111, \"#46039f\"], [0.2222222222222222, \"#7201a8\"], [0.3333333333333333, \"#9c179e\"], [0.4444444444444444, \"#bd3786\"], [0.5555555555555556, \"#d8576b\"], [0.6666666666666666, \"#ed7953\"], [0.7777777777777778, \"#fb9f3a\"], [0.8888888888888888, \"#fdca26\"], [1.0, \"#f0f921\"]], \"type\": \"heatmap\"}], \"heatmapgl\": [{\"colorbar\": {\"outlinewidth\": 0, \"ticks\": \"\"}, \"colorscale\": [[0.0, \"#0d0887\"], [0.1111111111111111, \"#46039f\"], [0.2222222222222222, \"#7201a8\"], [0.3333333333333333, \"#9c179e\"], [0.4444444444444444, \"#bd3786\"], [0.5555555555555556, \"#d8576b\"], [0.6666666666666666, \"#ed7953\"], [0.7777777777777778, \"#fb9f3a\"], [0.8888888888888888, \"#fdca26\"], [1.0, \"#f0f921\"]], \"type\": \"heatmapgl\"}], \"histogram\": [{\"marker\": {\"colorbar\": {\"outlinewidth\": 0, \"ticks\": \"\"}}, \"type\": \"histogram\"}], \"histogram2d\": [{\"colorbar\": {\"outlinewidth\": 0, \"ticks\": \"\"}, \"colorscale\": [[0.0, \"#0d0887\"], [0.1111111111111111, \"#46039f\"], [0.2222222222222222, \"#7201a8\"], [0.3333333333333333, \"#9c179e\"], [0.4444444444444444, \"#bd3786\"], [0.5555555555555556, \"#d8576b\"], [0.6666666666666666, \"#ed7953\"], [0.7777777777777778, \"#fb9f3a\"], [0.8888888888888888, \"#fdca26\"], [1.0, \"#f0f921\"]], \"type\": \"histogram2d\"}], \"histogram2dcontour\": [{\"colorbar\": {\"outlinewidth\": 0, \"ticks\": \"\"}, \"colorscale\": [[0.0, \"#0d0887\"], [0.1111111111111111, \"#46039f\"], [0.2222222222222222, \"#7201a8\"], [0.3333333333333333, \"#9c179e\"], [0.4444444444444444, \"#bd3786\"], [0.5555555555555556, \"#d8576b\"], [0.6666666666666666, \"#ed7953\"], [0.7777777777777778, \"#fb9f3a\"], [0.8888888888888888, \"#fdca26\"], [1.0, \"#f0f921\"]], \"type\": \"histogram2dcontour\"}], \"mesh3d\": [{\"colorbar\": {\"outlinewidth\": 0, \"ticks\": \"\"}, \"type\": \"mesh3d\"}], \"parcoords\": [{\"line\": {\"colorbar\": {\"outlinewidth\": 0, \"ticks\": \"\"}}, \"type\": \"parcoords\"}], \"pie\": [{\"automargin\": true, \"type\": \"pie\"}], \"scatter\": [{\"marker\": {\"line\": {\"color\": \"#283442\"}}, \"type\": \"scatter\"}], \"scatter3d\": [{\"line\": {\"colorbar\": {\"outlinewidth\": 0, \"ticks\": \"\"}}, \"marker\": {\"colorbar\": {\"outlinewidth\": 0, \"ticks\": \"\"}}, \"type\": \"scatter3d\"}], \"scattercarpet\": [{\"marker\": {\"colorbar\": {\"outlinewidth\": 0, \"ticks\": \"\"}}, \"type\": \"scattercarpet\"}], \"scattergeo\": [{\"marker\": {\"colorbar\": {\"outlinewidth\": 0, \"ticks\": \"\"}}, \"type\": \"scattergeo\"}], \"scattergl\": [{\"marker\": {\"line\": {\"color\": \"#283442\"}}, \"type\": \"scattergl\"}], \"scattermapbox\": [{\"marker\": {\"colorbar\": {\"outlinewidth\": 0, \"ticks\": \"\"}}, \"type\": \"scattermapbox\"}], \"scatterpolar\": [{\"marker\": {\"colorbar\": {\"outlinewidth\": 0, \"ticks\": \"\"}}, \"type\": \"scatterpolar\"}], \"scatterpolargl\": [{\"marker\": {\"colorbar\": {\"outlinewidth\": 0, \"ticks\": \"\"}}, \"type\": \"scatterpolargl\"}], \"scatterternary\": [{\"marker\": {\"colorbar\": {\"outlinewidth\": 0, \"ticks\": \"\"}}, \"type\": \"scatterternary\"}], \"surface\": [{\"colorbar\": {\"outlinewidth\": 0, \"ticks\": \"\"}, \"colorscale\": [[0.0, \"#0d0887\"], [0.1111111111111111, \"#46039f\"], [0.2222222222222222, \"#7201a8\"], [0.3333333333333333, \"#9c179e\"], [0.4444444444444444, \"#bd3786\"], [0.5555555555555556, \"#d8576b\"], [0.6666666666666666, \"#ed7953\"], [0.7777777777777778, \"#fb9f3a\"], [0.8888888888888888, \"#fdca26\"], [1.0, \"#f0f921\"]], \"type\": \"surface\"}], \"table\": [{\"cells\": {\"fill\": {\"color\": \"#506784\"}, \"line\": {\"color\": \"rgb(17,17,17)\"}}, \"header\": {\"fill\": {\"color\": \"#2a3f5f\"}, \"line\": {\"color\": \"rgb(17,17,17)\"}}, \"type\": \"table\"}]}, \"layout\": {\"annotationdefaults\": {\"arrowcolor\": \"#f2f5fa\", \"arrowhead\": 0, \"arrowwidth\": 1}, \"coloraxis\": {\"colorbar\": {\"outlinewidth\": 0, \"ticks\": \"\"}}, \"colorscale\": {\"diverging\": [[0, \"#8e0152\"], [0.1, \"#c51b7d\"], [0.2, \"#de77ae\"], [0.3, \"#f1b6da\"], [0.4, \"#fde0ef\"], [0.5, \"#f7f7f7\"], [0.6, \"#e6f5d0\"], [0.7, \"#b8e186\"], [0.8, \"#7fbc41\"], [0.9, \"#4d9221\"], [1, \"#276419\"]], \"sequential\": [[0.0, \"#0d0887\"], [0.1111111111111111, \"#46039f\"], [0.2222222222222222, \"#7201a8\"], [0.3333333333333333, \"#9c179e\"], [0.4444444444444444, \"#bd3786\"], [0.5555555555555556, \"#d8576b\"], [0.6666666666666666, \"#ed7953\"], [0.7777777777777778, \"#fb9f3a\"], [0.8888888888888888, \"#fdca26\"], [1.0, \"#f0f921\"]], \"sequentialminus\": [[0.0, \"#0d0887\"], [0.1111111111111111, \"#46039f\"], [0.2222222222222222, \"#7201a8\"], [0.3333333333333333, \"#9c179e\"], [0.4444444444444444, \"#bd3786\"], [0.5555555555555556, \"#d8576b\"], [0.6666666666666666, \"#ed7953\"], [0.7777777777777778, \"#fb9f3a\"], [0.8888888888888888, \"#fdca26\"], [1.0, \"#f0f921\"]]}, \"colorway\": [\"#636efa\", \"#EF553B\", \"#00cc96\", \"#ab63fa\", \"#FFA15A\", \"#19d3f3\", \"#FF6692\", \"#B6E880\", \"#FF97FF\", \"#FECB52\"], \"font\": {\"color\": \"#f2f5fa\"}, \"geo\": {\"bgcolor\": \"rgb(17,17,17)\", \"lakecolor\": \"rgb(17,17,17)\", \"landcolor\": \"rgb(17,17,17)\", \"showlakes\": true, \"showland\": true, \"subunitcolor\": \"#506784\"}, \"hoverlabel\": {\"align\": \"left\"}, \"hovermode\": \"closest\", \"mapbox\": {\"style\": \"dark\"}, \"paper_bgcolor\": \"rgb(17,17,17)\", \"plot_bgcolor\": \"rgb(17,17,17)\", \"polar\": {\"angularaxis\": {\"gridcolor\": \"#506784\", \"linecolor\": \"#506784\", \"ticks\": \"\"}, \"bgcolor\": \"rgb(17,17,17)\", \"radialaxis\": {\"gridcolor\": \"#506784\", \"linecolor\": \"#506784\", \"ticks\": \"\"}}, \"scene\": {\"xaxis\": {\"backgroundcolor\": \"rgb(17,17,17)\", \"gridcolor\": \"#506784\", \"gridwidth\": 2, \"linecolor\": \"#506784\", \"showbackground\": true, \"ticks\": \"\", \"zerolinecolor\": \"#C8D4E3\"}, \"yaxis\": {\"backgroundcolor\": \"rgb(17,17,17)\", \"gridcolor\": \"#506784\", \"gridwidth\": 2, \"linecolor\": \"#506784\", \"showbackground\": true, \"ticks\": \"\", \"zerolinecolor\": \"#C8D4E3\"}, \"zaxis\": {\"backgroundcolor\": \"rgb(17,17,17)\", \"gridcolor\": \"#506784\", \"gridwidth\": 2, \"linecolor\": \"#506784\", \"showbackground\": true, \"ticks\": \"\", \"zerolinecolor\": \"#C8D4E3\"}}, \"shapedefaults\": {\"line\": {\"color\": \"#f2f5fa\"}}, \"sliderdefaults\": {\"bgcolor\": \"#C8D4E3\", \"bordercolor\": \"rgb(17,17,17)\", \"borderwidth\": 1, \"tickwidth\": 0}, \"ternary\": {\"aaxis\": {\"gridcolor\": \"#506784\", \"linecolor\": \"#506784\", \"ticks\": \"\"}, \"baxis\": {\"gridcolor\": \"#506784\", \"linecolor\": \"#506784\", \"ticks\": \"\"}, \"bgcolor\": \"rgb(17,17,17)\", \"caxis\": {\"gridcolor\": \"#506784\", \"linecolor\": \"#506784\", \"ticks\": \"\"}}, \"title\": {\"x\": 0.05}, \"updatemenudefaults\": {\"bgcolor\": \"#506784\", \"borderwidth\": 0}, \"xaxis\": {\"automargin\": true, \"gridcolor\": \"#283442\", \"linecolor\": \"#506784\", \"ticks\": \"\", \"title\": {\"standoff\": 15}, \"zerolinecolor\": \"#283442\", \"zerolinewidth\": 2}, \"yaxis\": {\"automargin\": true, \"gridcolor\": \"#283442\", \"linecolor\": \"#506784\", \"ticks\": \"\", \"title\": {\"standoff\": 15}, \"zerolinecolor\": \"#283442\", \"zerolinewidth\": 2}}}},\n",
              "                        {\"responsive\": true}\n",
              "                    ).then(function(){\n",
              "                            \n",
              "var gd = document.getElementById('916d0d96-50dd-429a-85ae-13933e6f2894');\n",
              "var x = new MutationObserver(function (mutations, observer) {{\n",
              "        var display = window.getComputedStyle(gd).display;\n",
              "        if (!display || display === 'none') {{\n",
              "            console.log([gd, 'removed!']);\n",
              "            Plotly.purge(gd);\n",
              "            observer.disconnect();\n",
              "        }}\n",
              "}});\n",
              "\n",
              "// Listen for the removal of the full notebook cells\n",
              "var notebookContainer = gd.closest('#notebook-container');\n",
              "if (notebookContainer) {{\n",
              "    x.observe(notebookContainer, {childList: true});\n",
              "}}\n",
              "\n",
              "// Listen for the clearing of the current output cell\n",
              "var outputEl = gd.closest('.output');\n",
              "if (outputEl) {{\n",
              "    x.observe(outputEl, {childList: true});\n",
              "}}\n",
              "\n",
              "                        })\n",
              "                };\n",
              "                \n",
              "            </script>\n",
              "        </div>\n",
              "</body>\n",
              "</html>"
            ]
          },
          "metadata": {
            "tags": []
          }
        }
      ]
    },
    {
      "cell_type": "markdown",
      "metadata": {
        "id": "K1ktqnmCo7Qv",
        "colab_type": "text"
      },
      "source": [
        "Tree based algorithms and Deep Learning models are not affected by this imbalance to that extend. Moreover, handling this imbalance resulted in drop in performance."
      ]
    },
    {
      "cell_type": "code",
      "metadata": {
        "id": "myhoCoilZkOe",
        "colab_type": "code",
        "outputId": "f9ab2171-c552-4540-8e89-34769a3f0f6f",
        "colab": {
          "base_uri": "https://localhost:8080/",
          "height": 204
        }
      },
      "source": [
        "concat=pd.concat([train,test],ignore_index=True)\n",
        "concat.head()"
      ],
      "execution_count": 0,
      "outputs": [
        {
          "output_type": "execute_result",
          "data": {
            "text/html": [
              "<div>\n",
              "<style scoped>\n",
              "    .dataframe tbody tr th:only-of-type {\n",
              "        vertical-align: middle;\n",
              "    }\n",
              "\n",
              "    .dataframe tbody tr th {\n",
              "        vertical-align: top;\n",
              "    }\n",
              "\n",
              "    .dataframe thead th {\n",
              "        text-align: right;\n",
              "    }\n",
              "</style>\n",
              "<table border=\"1\" class=\"dataframe\">\n",
              "  <thead>\n",
              "    <tr style=\"text-align: right;\">\n",
              "      <th></th>\n",
              "      <th>session_id</th>\n",
              "      <th>startTime</th>\n",
              "      <th>endTime</th>\n",
              "      <th>ProductList</th>\n",
              "      <th>gender</th>\n",
              "    </tr>\n",
              "  </thead>\n",
              "  <tbody>\n",
              "    <tr>\n",
              "      <th>0</th>\n",
              "      <td>u16159</td>\n",
              "      <td>15/12/14 18:11</td>\n",
              "      <td>15/12/14 18:12</td>\n",
              "      <td>A00002/B00003/C00006/D28435/;A00002/B00003/C00...</td>\n",
              "      <td>female</td>\n",
              "    </tr>\n",
              "    <tr>\n",
              "      <th>1</th>\n",
              "      <td>u10253</td>\n",
              "      <td>16/12/14 14:35</td>\n",
              "      <td>16/12/14 14:41</td>\n",
              "      <td>A00001/B00009/C00031/D29404/;A00001/B00009/C00...</td>\n",
              "      <td>male</td>\n",
              "    </tr>\n",
              "    <tr>\n",
              "      <th>2</th>\n",
              "      <td>u19037</td>\n",
              "      <td>01/12/14 15:58</td>\n",
              "      <td>01/12/14 15:58</td>\n",
              "      <td>A00002/B00001/C00020/D16944/</td>\n",
              "      <td>female</td>\n",
              "    </tr>\n",
              "    <tr>\n",
              "      <th>3</th>\n",
              "      <td>u14556</td>\n",
              "      <td>23/11/14 2:57</td>\n",
              "      <td>23/11/14 3:00</td>\n",
              "      <td>A00002/B00004/C00018/D10284/;A00002/B00004/C00...</td>\n",
              "      <td>female</td>\n",
              "    </tr>\n",
              "    <tr>\n",
              "      <th>4</th>\n",
              "      <td>u24295</td>\n",
              "      <td>17/12/14 16:44</td>\n",
              "      <td>17/12/14 16:46</td>\n",
              "      <td>A00001/B00001/C00012/D30805/;A00001/B00001/C00...</td>\n",
              "      <td>male</td>\n",
              "    </tr>\n",
              "  </tbody>\n",
              "</table>\n",
              "</div>"
            ],
            "text/plain": [
              "  session_id  ...  gender\n",
              "0     u16159  ...  female\n",
              "1     u10253  ...    male\n",
              "2     u19037  ...  female\n",
              "3     u14556  ...  female\n",
              "4     u24295  ...    male\n",
              "\n",
              "[5 rows x 5 columns]"
            ]
          },
          "metadata": {
            "tags": []
          },
          "execution_count": 7
        }
      ]
    },
    {
      "cell_type": "markdown",
      "metadata": {
        "id": "vMxJh0AnJIY5",
        "colab_type": "text"
      },
      "source": [
        "### **Approach 1:** Feature Engineering and Machine Learning Models\n",
        "\n",
        "\n",
        "Features in the dataset can be broadly categorised as following\n",
        "\n",
        "#### **Temporal Features**\n",
        "\n",
        "\n",
        "*   Hour of the Day --> *Maybe convert them to morning,afternoon,evening*\n",
        "*   Day of the Week\n",
        "*   Is Weekday or not\n",
        "\n",
        "\n",
        "#### **Behavioural Features**\n",
        "\n",
        "\n",
        "\n",
        "1.   Duration of Session (in minutes)\n",
        "2.   Number of Products visited\n",
        "\n",
        "\n",
        "#### **Product Features**\n",
        "\n",
        "\n",
        "-  Dominant A category\n",
        "-  Dominant B category\n",
        "-  Dominant C category\n",
        "-  First A category\n",
        "-  First B category\n",
        "-  Last A category\n",
        "-  Last B category\n",
        "-  Number of category A visits\n",
        "-  Number of category B visits\n",
        "-  Number of category C visits\n",
        "\n",
        "\n",
        "\n",
        "\n",
        "---\n",
        "\n",
        "\n",
        "\n",
        "\n",
        "---\n",
        "\n",
        "**References**  \n",
        "[1] Duc Duong, Hanh Tan and Son Pham, \"Customer gender prediction based on E-commerce data,\" 2016 Eighth International Conference on Knowledge and Systems Engineering (KSE), Hanoi, 2016, pp. 91-95.\n"
      ]
    },
    {
      "cell_type": "markdown",
      "metadata": {
        "id": "8N5KM_zPuZkr",
        "colab_type": "text"
      },
      "source": [
        "**Take Away:** Anything and Everything is a Feature!"
      ]
    },
    {
      "cell_type": "code",
      "metadata": {
        "id": "-ZPT6OpcZTFd",
        "colab_type": "code",
        "colab": {}
      },
      "source": [
        "concat_ml=concat.copy()"
      ],
      "execution_count": 0,
      "outputs": []
    },
    {
      "cell_type": "code",
      "metadata": {
        "id": "sH9y6q4VNF8Q",
        "colab_type": "code",
        "colab": {}
      },
      "source": [
        "\n",
        "\"\"\"\n",
        "  Extracting Temporal Features along with Duration\n",
        "\"\"\"\n",
        "def handle_time(df:pd.DataFrame)->pd.DataFrame:\n",
        "  # Thanks to Analytics Vidhya's Slack group for JantaHack for helping out with the following snippet.\n",
        "  df['startTime'] = pd.to_datetime(df['startTime'],format='%d/%m/%y %H:%M')\n",
        "  df['endTime'] = pd.to_datetime(df['endTime'],format='%d/%m/%y %H:%M')\n",
        "  df['duration'] = df['endTime'] - df['startTime']\n",
        "  df['duration'] = df['duration'].astype('timedelta64[m]') #minute conversion\n",
        "  df['weekday'] = df['startTime'].dt.dayofweek\n",
        "  df['hour_24h'] = df['startTime'].dt.hour\n",
        "  df['is_weekday'] = ((pd.DatetimeIndex(df['startTime']).dayofweek) // 5 == 1).astype(float)\n",
        "  return df\n",
        "\n",
        "\n",
        "\"\"\"\n",
        "  Extract Number of Products\n",
        "\"\"\"\n",
        "def number_product(x):\n",
        "    if \";\"  in x:\n",
        "        product_list = x.split(\";\")\n",
        "        num_products = len(product_list)   \n",
        "    else:\n",
        "        num_products = 1\n",
        "    return num_products    \n",
        "\n",
        "\n",
        "\"\"\"\n",
        "  Extract Dominant A,B,C\n",
        "\"\"\"\n",
        "def most_visited(x,return_col='A'):\n",
        "    if \";\"  in x:\n",
        "        product_list = x.split(\";\")\n",
        "        A_list =[]\n",
        "        B_list =[]\n",
        "        C_list =[]\n",
        "        for item in product_list:\n",
        "            A_list.append(item.split(\"/\")[0])\n",
        "            B_list.append(item.split(\"/\")[1])\n",
        "            C_list.append(item.split(\"/\")[2])\n",
        "        most_visited_A =  max(A_list, key=Counter(A_list).get)\n",
        "        most_visited_B =  max(B_list, key=Counter(B_list).get) \n",
        "        most_visited_C =  max(C_list,key=Counter(C_list).get)      \n",
        "    else:\n",
        "        product_list = x.split(\"/\")\n",
        "        most_visited_A = product_list[0]\n",
        "        most_visited_B = product_list[1]\n",
        "        most_visited_C = product_list[2]\n",
        "    if return_col is 'A':\n",
        "      return most_visited_A  \n",
        "    elif return_col is 'B':\n",
        "      return most_visited_B\n",
        "    else:\n",
        "      return most_visited_C \n",
        "  \n",
        "\n",
        "\"\"\"\n",
        "  Number of Category visits\n",
        "\"\"\"\n",
        "def number_category_visits(x,return_col='A'):\n",
        "  if \";\"  in x:\n",
        "        product_list = x.split(\";\")\n",
        "        A_list =[]\n",
        "        B_list =[]\n",
        "        C_list =[]\n",
        "        for item in product_list:\n",
        "            A_list.append(item.split(\"/\")[0])\n",
        "            B_list.append(item.split(\"/\")[1])\n",
        "            C_list.append(item.split(\"/\")[2])\n",
        "        num_A = len(set(A_list))\n",
        "        num_B = len(set(B_list))\n",
        "        num_C = len(set(C_list))\n",
        "  else:\n",
        "      num_A = 1\n",
        "      num_B = 1\n",
        "      num_C = 1\n",
        "  if return_col is 'A':\n",
        "    return num_A\n",
        "  elif return_col is 'B':\n",
        "    return num_B\n",
        "  else:\n",
        "    return num_C\n",
        "\n",
        "\n",
        "\n",
        "\"\"\"\n",
        "  First Product\n",
        "\"\"\"\n",
        "def first_visit(x,return_col='A'):\n",
        "  if \";\"  in x:\n",
        "        first_product = x.split(\";\")[0]\n",
        "        product_list=first_product.split('/')\n",
        "        first_A = product_list[0]\n",
        "        first_B = product_list[1]\n",
        "        \n",
        "  else:\n",
        "      product_list=x.split('/')\n",
        "      first_A = product_list[0]\n",
        "      first_B = product_list[1]\n",
        "  if return_col is 'A':\n",
        "    return first_A\n",
        "  elif return_col is 'B':\n",
        "    return first_B\n",
        "\n",
        "\n",
        "\n",
        "\"\"\"\n",
        "  Last Product\n",
        "\"\"\"\n",
        "def last_visit(x,return_col='A'):\n",
        "  if \";\"  in x:\n",
        "        last_product = x.split(\";\")[-1]\n",
        "        product_list=last_product.split('/')\n",
        "        last_A = product_list[0]\n",
        "        last_B = product_list[1]\n",
        "        \n",
        "  else:\n",
        "      product_list=x.split('/')\n",
        "      last_A = product_list[0]\n",
        "      last_B = product_list[1]\n",
        "  if return_col is 'A':\n",
        "    return last_A\n",
        "  elif return_col is 'B':\n",
        "    return last_B"
      ],
      "execution_count": 0,
      "outputs": []
    },
    {
      "cell_type": "code",
      "metadata": {
        "id": "YaIuSmDFwUN0",
        "colab_type": "code",
        "colab": {}
      },
      "source": [
        "concat_ml=handle_time(concat_ml)"
      ],
      "execution_count": 0,
      "outputs": []
    },
    {
      "cell_type": "code",
      "metadata": {
        "id": "d21Wnm3JWNrI",
        "colab_type": "code",
        "colab": {}
      },
      "source": [
        "concat_ml['Num_Prod']=concat_ml['ProductList'].apply(lambda x:number_product(x))\n",
        "concat_ml['Dominant_A']=concat_ml['ProductList'].apply(lambda x:most_visited(x,'A'))\n",
        "concat_ml['Dominant_B']=concat_ml['ProductList'].apply(lambda x:most_visited(x,'B'))\n",
        "concat_ml['Dominant_C']=concat_ml['ProductList'].apply(lambda x:most_visited(x,'C'))\n",
        "concat_ml['Uni_A']=concat_ml['ProductList'].apply(lambda x:number_category_visits(x,'A'))\n",
        "concat_ml['Uni_B']=concat_ml['ProductList'].apply(lambda x:number_category_visits(x,'B'))\n",
        "concat_ml['Uni_C']=concat_ml['ProductList'].apply(lambda x:number_category_visits(x,'C'))"
      ],
      "execution_count": 0,
      "outputs": []
    },
    {
      "cell_type": "code",
      "metadata": {
        "id": "25AtIJ7BZPjh",
        "colab_type": "code",
        "colab": {}
      },
      "source": [
        "concat_ml.pop('ProductList');\n",
        "# concat_ml.pop('session_id');\n",
        "concat_ml.pop('startTime');\n",
        "concat_ml.pop('endTime');"
      ],
      "execution_count": 0,
      "outputs": []
    },
    {
      "cell_type": "code",
      "metadata": {
        "id": "4a_LjODrvC2-",
        "colab_type": "code",
        "outputId": "99a5bddd-05b4-4e60-805f-a24433bc14a4",
        "colab": {
          "base_uri": "https://localhost:8080/",
          "height": 204
        }
      },
      "source": [
        "concat_ml.head()"
      ],
      "execution_count": 0,
      "outputs": [
        {
          "output_type": "execute_result",
          "data": {
            "text/html": [
              "<div>\n",
              "<style scoped>\n",
              "    .dataframe tbody tr th:only-of-type {\n",
              "        vertical-align: middle;\n",
              "    }\n",
              "\n",
              "    .dataframe tbody tr th {\n",
              "        vertical-align: top;\n",
              "    }\n",
              "\n",
              "    .dataframe thead th {\n",
              "        text-align: right;\n",
              "    }\n",
              "</style>\n",
              "<table border=\"1\" class=\"dataframe\">\n",
              "  <thead>\n",
              "    <tr style=\"text-align: right;\">\n",
              "      <th></th>\n",
              "      <th>session_id</th>\n",
              "      <th>gender</th>\n",
              "      <th>duration</th>\n",
              "      <th>weekday</th>\n",
              "      <th>hour_24h</th>\n",
              "      <th>is_weekday</th>\n",
              "      <th>Num_Prod</th>\n",
              "      <th>Dominant_A</th>\n",
              "      <th>Dominant_B</th>\n",
              "      <th>Dominant_C</th>\n",
              "      <th>Uni_A</th>\n",
              "      <th>Uni_B</th>\n",
              "      <th>Uni_C</th>\n",
              "    </tr>\n",
              "  </thead>\n",
              "  <tbody>\n",
              "    <tr>\n",
              "      <th>0</th>\n",
              "      <td>u16159</td>\n",
              "      <td>female</td>\n",
              "      <td>1.0</td>\n",
              "      <td>0</td>\n",
              "      <td>18</td>\n",
              "      <td>0.0</td>\n",
              "      <td>4</td>\n",
              "      <td>A00002</td>\n",
              "      <td>B00003</td>\n",
              "      <td>C00006</td>\n",
              "      <td>1</td>\n",
              "      <td>1</td>\n",
              "      <td>1</td>\n",
              "    </tr>\n",
              "    <tr>\n",
              "      <th>1</th>\n",
              "      <td>u10253</td>\n",
              "      <td>male</td>\n",
              "      <td>6.0</td>\n",
              "      <td>1</td>\n",
              "      <td>14</td>\n",
              "      <td>0.0</td>\n",
              "      <td>7</td>\n",
              "      <td>A00001</td>\n",
              "      <td>B00009</td>\n",
              "      <td>C00031</td>\n",
              "      <td>1</td>\n",
              "      <td>1</td>\n",
              "      <td>1</td>\n",
              "    </tr>\n",
              "    <tr>\n",
              "      <th>2</th>\n",
              "      <td>u19037</td>\n",
              "      <td>female</td>\n",
              "      <td>0.0</td>\n",
              "      <td>0</td>\n",
              "      <td>15</td>\n",
              "      <td>0.0</td>\n",
              "      <td>1</td>\n",
              "      <td>A00002</td>\n",
              "      <td>B00001</td>\n",
              "      <td>C00020</td>\n",
              "      <td>1</td>\n",
              "      <td>1</td>\n",
              "      <td>1</td>\n",
              "    </tr>\n",
              "    <tr>\n",
              "      <th>3</th>\n",
              "      <td>u14556</td>\n",
              "      <td>female</td>\n",
              "      <td>3.0</td>\n",
              "      <td>6</td>\n",
              "      <td>2</td>\n",
              "      <td>1.0</td>\n",
              "      <td>3</td>\n",
              "      <td>A00002</td>\n",
              "      <td>B00004</td>\n",
              "      <td>C00018</td>\n",
              "      <td>1</td>\n",
              "      <td>1</td>\n",
              "      <td>1</td>\n",
              "    </tr>\n",
              "    <tr>\n",
              "      <th>4</th>\n",
              "      <td>u24295</td>\n",
              "      <td>male</td>\n",
              "      <td>2.0</td>\n",
              "      <td>2</td>\n",
              "      <td>16</td>\n",
              "      <td>0.0</td>\n",
              "      <td>2</td>\n",
              "      <td>A00001</td>\n",
              "      <td>B00001</td>\n",
              "      <td>C00012</td>\n",
              "      <td>1</td>\n",
              "      <td>1</td>\n",
              "      <td>1</td>\n",
              "    </tr>\n",
              "  </tbody>\n",
              "</table>\n",
              "</div>"
            ],
            "text/plain": [
              "  session_id  gender  duration  weekday  ...  Dominant_C  Uni_A  Uni_B Uni_C\n",
              "0     u16159  female       1.0        0  ...      C00006      1      1     1\n",
              "1     u10253    male       6.0        1  ...      C00031      1      1     1\n",
              "2     u19037  female       0.0        0  ...      C00020      1      1     1\n",
              "3     u14556  female       3.0        6  ...      C00018      1      1     1\n",
              "4     u24295    male       2.0        2  ...      C00012      1      1     1\n",
              "\n",
              "[5 rows x 13 columns]"
            ]
          },
          "metadata": {
            "tags": []
          },
          "execution_count": 13
        }
      ]
    },
    {
      "cell_type": "code",
      "metadata": {
        "id": "RKYNS2mevE3c",
        "colab_type": "code",
        "outputId": "b6b7023f-f4dc-4935-f7bc-dffd708e88a3",
        "colab": {
          "base_uri": "https://localhost:8080/",
          "height": 542
        }
      },
      "source": [
        "fig = px.histogram(concat_ml[concat_ml['gender'].notnull()], x=\"Dominant_A\",color='gender')\n",
        "fig.show()"
      ],
      "execution_count": 0,
      "outputs": [
        {
          "output_type": "display_data",
          "data": {
            "text/html": [
              "<html>\n",
              "<head><meta charset=\"utf-8\" /></head>\n",
              "<body>\n",
              "    <div>\n",
              "            <script src=\"https://cdnjs.cloudflare.com/ajax/libs/mathjax/2.7.5/MathJax.js?config=TeX-AMS-MML_SVG\"></script><script type=\"text/javascript\">if (window.MathJax) {MathJax.Hub.Config({SVG: {font: \"STIX-Web\"}});}</script>\n",
              "                <script type=\"text/javascript\">window.PlotlyConfig = {MathJaxConfig: 'local'};</script>\n",
              "        <script src=\"https://cdn.plot.ly/plotly-latest.min.js\"></script>    \n",
              "            <div id=\"3eea0730-cbc5-488f-b879-5a93c75392fc\" class=\"plotly-graph-div\" style=\"height:525px; width:100%;\"></div>\n",
              "            <script type=\"text/javascript\">\n",
              "                \n",
              "                    window.PLOTLYENV=window.PLOTLYENV || {};\n",
              "                    \n",
              "                if (document.getElementById(\"3eea0730-cbc5-488f-b879-5a93c75392fc\")) {\n",
              "                    Plotly.newPlot(\n",
              "                        '3eea0730-cbc5-488f-b879-5a93c75392fc',\n",
              "                        [{\"alignmentgroup\": \"True\", \"bingroup\": \"x\", \"hoverlabel\": {\"namelength\": 0}, \"hovertemplate\": \"gender=female<br>Dominant_A=%{x}<br>count=%{y}\", \"legendgroup\": \"gender=female\", \"marker\": {\"color\": \"#636efa\"}, \"name\": \"gender=female\", \"offsetgroup\": \"gender=female\", \"orientation\": \"v\", \"showlegend\": true, \"type\": \"histogram\", \"x\": [\"A00002\", \"A00002\", \"A00002\", \"A00002\", \"A00002\", \"A00002\", \"A00002\", \"A00002\", \"A00002\", \"A00002\", \"A00003\", \"A00002\", \"A00003\", \"A00002\", \"A00002\", \"A00003\", \"A00002\", \"A00002\", \"A00002\", \"A00002\", \"A00001\", \"A00002\", \"A00002\", \"A00002\", \"A00002\", \"A00002\", \"A00003\", \"A00002\", \"A00002\", \"A00002\", \"A00002\", \"A00001\", \"A00002\", \"A00002\", \"A00002\", \"A00003\", \"A00002\", \"A00002\", \"A00002\", \"A00003\", \"A00002\", \"A00002\", \"A00002\", \"A00002\", \"A00002\", \"A00003\", \"A00002\", \"A00002\", \"A00002\", \"A00003\", \"A00002\", \"A00005\", \"A00003\", \"A00002\", \"A00002\", \"A00002\", \"A00002\", \"A00002\", \"A00002\", \"A00001\", \"A00002\", \"A00002\", \"A00002\", \"A00003\", \"A00002\", \"A00002\", \"A00002\", \"A00002\", \"A00006\", \"A00002\", \"A00002\", \"A00002\", \"A00002\", \"A00002\", \"A00002\", \"A00002\", \"A00002\", \"A00003\", \"A00002\", \"A00002\", \"A00002\", \"A00003\", \"A00002\", \"A00003\", \"A00002\", \"A00001\", \"A00002\", \"A00003\", \"A00002\", \"A00003\", \"A00002\", \"A00002\", \"A00002\", \"A00003\", \"A00001\", \"A00002\", \"A00002\", \"A00002\", \"A00003\", \"A00006\", \"A00002\", \"A00002\", \"A00002\", \"A00002\", \"A00002\", \"A00003\", \"A00003\", \"A00002\", \"A00002\", \"A00002\", \"A00002\", \"A00002\", \"A00002\", \"A00002\", \"A00005\", \"A00002\", \"A00002\", \"A00002\", \"A00003\", \"A00002\", \"A00002\", \"A00002\", \"A00001\", \"A00002\", \"A00002\", \"A00002\", \"A00002\", \"A00001\", \"A00002\", \"A00002\", \"A00002\", \"A00002\", \"A00002\", \"A00002\", \"A00003\", \"A00003\", \"A00003\", \"A00003\", \"A00003\", \"A00002\", \"A00002\", \"A00002\", \"A00002\", \"A00002\", \"A00002\", \"A00002\", \"A00002\", \"A00002\", \"A00005\", \"A00002\", \"A00002\", \"A00002\", \"A00003\", \"A00003\", \"A00003\", \"A00002\", \"A00002\", \"A00002\", \"A00002\", \"A00003\", \"A00005\", \"A00002\", \"A00002\", \"A00002\", \"A00002\", \"A00002\", \"A00002\", \"A00002\", \"A00002\", \"A00003\", \"A00002\", \"A00003\", \"A00002\", \"A00002\", \"A00002\", \"A00003\", \"A00002\", \"A00002\", \"A00002\", \"A00002\", \"A00002\", \"A00001\", \"A00002\", \"A00003\", \"A00006\", \"A00002\", \"A00002\", \"A00002\", \"A00003\", \"A00002\", \"A00002\", \"A00002\", \"A00002\", \"A00002\", \"A00002\", \"A00002\", \"A00002\", \"A00003\", \"A00002\", \"A00002\", \"A00002\", \"A00002\", \"A00002\", \"A00002\", \"A00002\", \"A00002\", \"A00002\", \"A00002\", \"A00003\", \"A00002\", \"A00002\", \"A00002\", \"A00001\", \"A00002\", \"A00001\", \"A00001\", \"A00002\", \"A00003\", \"A00001\", \"A00002\", \"A00003\", \"A00003\", \"A00003\", \"A00002\", \"A00002\", \"A00002\", \"A00002\", \"A00003\", \"A00002\", \"A00002\", \"A00002\", \"A00002\", \"A00002\", \"A00003\", \"A00002\", \"A00002\", \"A00002\", \"A00002\", \"A00002\", \"A00002\", \"A00002\", \"A00002\", \"A00002\", \"A00003\", \"A00002\", \"A00003\", \"A00002\", \"A00001\", \"A00002\", \"A00003\", \"A00002\", \"A00002\", \"A00003\", \"A00002\", \"A00002\", \"A00003\", \"A00002\", \"A00002\", \"A00002\", \"A00003\", \"A00002\", \"A00002\", \"A00002\", \"A00002\", \"A00002\", \"A00002\", \"A00003\", \"A00002\", \"A00002\", \"A00003\", \"A00003\", \"A00002\", \"A00011\", \"A00002\", \"A00002\", \"A00002\", \"A00002\", \"A00002\", \"A00002\", \"A00002\", \"A00002\", \"A00002\", \"A00002\", \"A00002\", \"A00002\", \"A00002\", \"A00002\", \"A00002\", \"A00002\", \"A00002\", \"A00002\", \"A00002\", \"A00003\", \"A00007\", \"A00003\", \"A00002\", \"A00002\", \"A00002\", \"A00002\", \"A00002\", \"A00006\", \"A00002\", \"A00002\", \"A00002\", \"A00003\", \"A00002\", \"A00002\", \"A00006\", \"A00002\", \"A00002\", \"A00006\", \"A00002\", \"A00002\", \"A00002\", \"A00006\", \"A00003\", \"A00003\", \"A00002\", \"A00003\", \"A00002\", \"A00002\", \"A00002\", \"A00002\", \"A00004\", \"A00002\", \"A00003\", \"A00002\", \"A00002\", \"A00003\", \"A00002\", \"A00002\", \"A00002\", \"A00002\", \"A00002\", \"A00003\", \"A00002\", \"A00002\", \"A00003\", \"A00002\", \"A00002\", \"A00002\", \"A00003\", \"A00003\", \"A00002\", \"A00002\", \"A00003\", \"A00002\", \"A00002\", \"A00003\", \"A00003\", \"A00003\", \"A00002\", \"A00002\", \"A00002\", \"A00002\", \"A00002\", \"A00002\", \"A00002\", \"A00002\", \"A00002\", \"A00003\", \"A00002\", \"A00002\", \"A00002\", \"A00003\", \"A00003\", \"A00002\", \"A00002\", \"A00002\", \"A00002\", \"A00002\", \"A00002\", \"A00002\", \"A00002\", \"A00002\", \"A00002\", \"A00002\", \"A00002\", \"A00001\", \"A00003\", \"A00002\", \"A00002\", \"A00002\", \"A00003\", \"A00002\", \"A00002\", \"A00002\", \"A00002\", \"A00002\", \"A00002\", \"A00002\", \"A00002\", \"A00002\", \"A00003\", \"A00002\", \"A00002\", \"A00001\", \"A00003\", \"A00002\", \"A00002\", \"A00002\", \"A00002\", \"A00003\", \"A00002\", \"A00003\", \"A00002\", \"A00002\", \"A00002\", \"A00003\", \"A00002\", \"A00003\", \"A00005\", \"A00002\", \"A00003\", \"A00002\", \"A00002\", \"A00003\", \"A00002\", \"A00002\", \"A00003\", \"A00002\", \"A00002\", \"A00001\", \"A00002\", \"A00002\", \"A00003\", \"A00002\", \"A00002\", \"A00002\", \"A00002\", \"A00002\", \"A00002\", \"A00002\", \"A00003\", \"A00002\", \"A00002\", \"A00002\", \"A00006\", \"A00002\", \"A00003\", \"A00002\", \"A00002\", \"A00002\", \"A00002\", \"A00002\", \"A00002\", \"A00003\", \"A00002\", \"A00001\", \"A00002\", \"A00002\", \"A00001\", \"A00002\", \"A00002\", \"A00002\", \"A00002\", \"A00002\", \"A00002\", \"A00001\", \"A00004\", \"A00002\", \"A00006\", \"A00003\", \"A00002\", \"A00002\", \"A00002\", \"A00002\", \"A00002\", \"A00002\", \"A00001\", \"A00002\", \"A00002\", \"A00003\", \"A00002\", \"A00003\", \"A00003\", \"A00002\", \"A00002\", \"A00002\", \"A00002\", \"A00002\", \"A00002\", \"A00002\", \"A00001\", \"A00002\", \"A00002\", \"A00002\", \"A00003\", \"A00002\", \"A00002\", \"A00002\", \"A00002\", \"A00003\", \"A00002\", \"A00002\", \"A00002\", \"A00002\", \"A00002\", \"A00002\", \"A00002\", \"A00002\", \"A00002\", \"A00003\", \"A00002\", \"A00002\", \"A00002\", \"A00003\", \"A00002\", \"A00002\", \"A00002\", \"A00002\", \"A00002\", \"A00005\", \"A00002\", \"A00002\", \"A00002\", \"A00001\", \"A00003\", \"A00002\", \"A00002\", \"A00002\", \"A00002\", \"A00003\", \"A00002\", \"A00003\", \"A00002\", \"A00002\", \"A00002\", \"A00003\", \"A00005\", \"A00002\", \"A00002\", \"A00002\", \"A00011\", \"A00002\", \"A00002\", \"A00002\", \"A00002\", \"A00003\", \"A00002\", \"A00003\", \"A00001\", \"A00002\", \"A00002\", \"A00002\", \"A00003\", \"A00005\", \"A00002\", \"A00002\", \"A00003\", \"A00002\", \"A00003\", \"A00003\", \"A00002\", \"A00002\", \"A00002\", \"A00002\", \"A00002\", \"A00002\", \"A00002\", \"A00003\", \"A00002\", \"A00002\", \"A00002\", \"A00002\", \"A00001\", \"A00002\", \"A00002\", \"A00002\", \"A00002\", \"A00001\", \"A00005\", \"A00002\", \"A00011\", \"A00003\", \"A00002\", \"A00002\", \"A00002\", \"A00002\", \"A00002\", \"A00002\", \"A00002\", \"A00002\", \"A00002\", \"A00002\", \"A00002\", \"A00002\", \"A00002\", \"A00002\", \"A00002\", \"A00002\", \"A00003\", \"A00002\", \"A00002\", \"A00002\", \"A00002\", \"A00002\", \"A00002\", \"A00002\", \"A00002\", \"A00003\", \"A00003\", \"A00002\", \"A00002\", \"A00005\", \"A00002\", \"A00002\", \"A00003\", \"A00002\", \"A00002\", \"A00003\", \"A00006\", \"A00003\", \"A00002\", \"A00002\", \"A00002\", \"A00002\", \"A00002\", \"A00002\", \"A00002\", \"A00002\", \"A00003\", \"A00002\", \"A00002\", \"A00002\", \"A00003\", \"A00002\", \"A00002\", \"A00003\", \"A00002\", \"A00002\", \"A00002\", \"A00002\", \"A00002\", \"A00003\", \"A00002\", \"A00003\", \"A00002\", \"A00002\", \"A00003\", \"A00002\", \"A00003\", \"A00002\", \"A00002\", \"A00003\", \"A00002\", \"A00002\", \"A00002\", \"A00002\", \"A00002\", \"A00005\", \"A00001\", \"A00003\", \"A00002\", \"A00003\", \"A00003\", \"A00002\", \"A00002\", \"A00001\", \"A00003\", \"A00002\", \"A00002\", \"A00002\", \"A00002\", \"A00006\", \"A00002\", \"A00002\", \"A00002\", \"A00002\", \"A00002\", \"A00002\", \"A00002\", \"A00002\", \"A00003\", \"A00003\", \"A00002\", \"A00002\", \"A00002\", \"A00002\", \"A00002\", \"A00004\", \"A00002\", \"A00002\", \"A00002\", \"A00002\", \"A00002\", \"A00002\", \"A00003\", \"A00002\", \"A00001\", \"A00002\", \"A00002\", \"A00002\", \"A00002\", \"A00002\", \"A00002\", \"A00002\", \"A00002\", \"A00002\", \"A00002\", \"A00002\", \"A00002\", \"A00002\", \"A00002\", \"A00003\", \"A00011\", \"A00001\", \"A00003\", \"A00006\", \"A00003\", \"A00001\", \"A00003\", \"A00002\", \"A00002\", \"A00005\", \"A00001\", \"A00002\", \"A00002\", \"A00002\", \"A00005\", \"A00002\", \"A00002\", \"A00002\", \"A00002\", \"A00002\", \"A00003\", \"A00002\", \"A00002\", \"A00002\", \"A00002\", \"A00003\", \"A00002\", \"A00002\", \"A00002\", \"A00002\", \"A00003\", \"A00002\", \"A00003\", \"A00003\", \"A00002\", \"A00006\", \"A00003\", \"A00002\", \"A00002\", \"A00002\", \"A00002\", \"A00002\", \"A00002\", \"A00003\", \"A00002\", \"A00002\", \"A00005\", \"A00002\", \"A00002\", \"A00003\", \"A00002\", \"A00006\", \"A00002\", \"A00002\", \"A00001\", \"A00002\", \"A00002\", \"A00002\", \"A00002\", \"A00002\", \"A00003\", \"A00002\", \"A00002\", \"A00002\", \"A00002\", \"A00006\", \"A00002\", \"A00003\", \"A00002\", \"A00005\", \"A00003\", \"A00002\", \"A00003\", \"A00003\", \"A00003\", \"A00002\", \"A00003\", \"A00002\", \"A00003\", \"A00003\", \"A00003\", \"A00003\", \"A00003\", \"A00001\", \"A00002\", \"A00002\", \"A00006\", \"A00002\", \"A00002\", \"A00001\", \"A00002\", \"A00002\", \"A00002\", \"A00003\", \"A00002\", \"A00003\", \"A00003\", \"A00002\", \"A00001\", \"A00003\", \"A00002\", \"A00002\", \"A00003\", \"A00002\", \"A00003\", \"A00002\", \"A00003\", \"A00002\", \"A00002\", \"A00003\", \"A00002\", \"A00002\", \"A00003\", \"A00002\", \"A00002\", \"A00003\", \"A00002\", \"A00002\", \"A00003\", \"A00002\", \"A00002\", \"A00011\", \"A00005\", \"A00002\", \"A00002\", \"A00002\", \"A00002\", \"A00002\", \"A00003\", \"A00002\", \"A00002\", \"A00002\", \"A00002\", \"A00003\", \"A00003\", \"A00005\", \"A00002\", \"A00002\", \"A00002\", \"A00002\", \"A00002\", \"A00003\", \"A00002\", \"A00006\", \"A00003\", \"A00002\", \"A00002\", \"A00003\", \"A00002\", \"A00011\", \"A00002\", \"A00002\", \"A00003\", \"A00003\", \"A00002\", \"A00003\", \"A00002\", \"A00002\", \"A00002\", \"A00003\", \"A00002\", \"A00002\", \"A00002\", \"A00002\", \"A00002\", \"A00002\", \"A00002\", \"A00002\", \"A00002\", \"A00002\", \"A00002\", \"A00006\", \"A00002\", \"A00002\", \"A00003\", \"A00001\", \"A00002\", \"A00002\", \"A00003\", \"A00002\", \"A00002\", \"A00003\", \"A00002\", \"A00002\", \"A00002\", \"A00001\", \"A00001\", \"A00002\", \"A00002\", \"A00002\", \"A00003\", \"A00002\", \"A00002\", \"A00002\", \"A00002\", \"A00002\", \"A00002\", \"A00003\", \"A00002\", \"A00003\", \"A00002\", \"A00002\", \"A00002\", \"A00002\", \"A00003\", \"A00002\", \"A00002\", \"A00002\", \"A00002\", \"A00002\", \"A00004\", \"A00002\", \"A00002\", \"A00002\", \"A00002\", \"A00001\", \"A00002\", \"A00002\", \"A00003\", \"A00002\", \"A00003\", \"A00002\", \"A00003\", \"A00002\", \"A00002\", \"A00002\", \"A00003\", \"A00003\", \"A00002\", \"A00001\", \"A00001\", \"A00002\", \"A00002\", \"A00002\", \"A00002\", \"A00002\", \"A00002\", \"A00002\", \"A00001\", \"A00002\", \"A00003\", \"A00002\", \"A00002\", \"A00002\", \"A00005\", \"A00002\", \"A00002\", \"A00002\", \"A00002\", \"A00002\", \"A00002\", \"A00002\", \"A00002\", \"A00005\", \"A00002\", \"A00002\", \"A00003\", \"A00002\", \"A00003\", \"A00003\", \"A00002\", \"A00011\", \"A00002\", \"A00002\", \"A00002\", \"A00002\", \"A00002\", \"A00002\", \"A00002\", \"A00002\", \"A00002\", \"A00002\", \"A00002\", \"A00002\", \"A00003\", \"A00002\", \"A00003\", \"A00002\", \"A00002\", \"A00002\", \"A00002\", \"A00003\", \"A00005\", \"A00002\", \"A00002\", \"A00002\", \"A00002\", \"A00002\", \"A00002\", \"A00002\", \"A00002\", \"A00002\", \"A00002\", \"A00003\", \"A00002\", \"A00003\", \"A00002\", \"A00003\", \"A00003\", \"A00002\", \"A00002\", \"A00002\", \"A00003\", \"A00002\", \"A00002\", \"A00002\", \"A00002\", \"A00002\", \"A00003\", \"A00003\", \"A00002\", \"A00002\", \"A00011\", \"A00002\", \"A00002\", \"A00002\", \"A00002\", \"A00003\", \"A00002\", \"A00002\", \"A00004\", \"A00003\", \"A00002\", \"A00002\", \"A00002\", \"A00003\", \"A00003\", \"A00002\", \"A00002\", \"A00002\", \"A00002\", \"A00003\", \"A00002\", \"A00002\", \"A00002\", \"A00002\", \"A00003\", \"A00002\", \"A00002\", \"A00002\", \"A00002\", \"A00002\", \"A00002\", \"A00004\", \"A00002\", \"A00003\", \"A00003\", \"A00002\", \"A00002\", \"A00009\", \"A00002\", \"A00002\", \"A00002\", \"A00002\", \"A00002\", \"A00002\", \"A00002\", \"A00002\", \"A00003\", \"A00002\", \"A00001\", \"A00003\", \"A00002\", \"A00002\", \"A00001\", \"A00002\", \"A00002\", \"A00002\", \"A00002\", \"A00002\", \"A00002\", \"A00002\", \"A00002\", \"A00002\", \"A00002\", \"A00002\", \"A00002\", \"A00002\", \"A00002\", \"A00002\", \"A00002\", \"A00001\", \"A00003\", \"A00003\", \"A00002\", \"A00002\", \"A00002\", \"A00002\", \"A00002\", \"A00002\", \"A00002\", \"A00003\", \"A00003\", \"A00002\", \"A00002\", \"A00002\", \"A00002\", \"A00001\", \"A00002\", \"A00002\", \"A00002\", \"A00002\", \"A00002\", \"A00002\", \"A00002\", \"A00004\", \"A00002\", \"A00002\", \"A00002\", \"A00002\", \"A00002\", \"A00002\", \"A00002\", \"A00002\", \"A00002\", \"A00002\", \"A00002\", \"A00003\", \"A00003\", \"A00002\", \"A00005\", \"A00003\", \"A00002\", \"A00002\", \"A00002\", \"A00002\", \"A00002\", \"A00002\", \"A00002\", \"A00002\", \"A00002\", \"A00001\", \"A00003\", \"A00002\", \"A00002\", \"A00002\", \"A00002\", \"A00002\", \"A00003\", \"A00004\", \"A00002\", \"A00002\", \"A00002\", \"A00002\", \"A00002\", \"A00002\", \"A00005\", \"A00002\", \"A00002\", \"A00002\", \"A00002\", \"A00002\", \"A00005\", \"A00002\", \"A00002\", \"A00003\", \"A00002\", \"A00002\", \"A00002\", \"A00002\", \"A00002\", \"A00003\", \"A00002\", \"A00002\", \"A00002\", \"A00002\", \"A00002\", \"A00002\", \"A00002\", \"A00002\", \"A00002\", \"A00003\", \"A00002\", \"A00002\", \"A00002\", \"A00003\", \"A00003\", \"A00002\", \"A00002\", \"A00002\", \"A00002\", \"A00002\", \"A00002\", \"A00002\", \"A00002\", \"A00003\", \"A00003\", \"A00002\", \"A00002\", \"A00002\", \"A00002\", \"A00003\", \"A00002\", \"A00002\", \"A00002\", \"A00002\", \"A00002\", \"A00002\", \"A00002\", \"A00002\", \"A00002\", \"A00002\", \"A00002\", \"A00002\", \"A00003\", \"A00003\", \"A00002\", \"A00002\", \"A00002\", \"A00002\", \"A00003\", \"A00003\", \"A00002\", \"A00002\", \"A00002\", \"A00002\", \"A00003\", \"A00006\", \"A00003\", \"A00003\", \"A00002\", \"A00002\", \"A00002\", \"A00001\", \"A00002\", \"A00002\", \"A00005\", \"A00002\", \"A00002\", \"A00002\", \"A00003\", \"A00002\", \"A00002\", \"A00003\", \"A00002\", \"A00002\", \"A00002\", \"A00002\", \"A00001\", \"A00002\", \"A00002\", \"A00003\", \"A00006\", \"A00002\", \"A00002\", \"A00003\", \"A00002\", \"A00002\", \"A00002\", \"A00002\", \"A00002\", \"A00002\", \"A00002\", \"A00002\", \"A00006\", \"A00003\", \"A00002\", \"A00002\", \"A00002\", \"A00003\", \"A00001\", \"A00002\", \"A00002\", \"A00002\", \"A00002\", \"A00002\", \"A00002\", \"A00002\", \"A00003\", \"A00002\", \"A00002\", \"A00003\", \"A00002\", \"A00001\", \"A00002\", \"A00002\", \"A00002\", \"A00003\", \"A00002\", \"A00002\", \"A00001\", \"A00002\", \"A00002\", \"A00002\", \"A00002\", \"A00002\", \"A00003\", \"A00003\", \"A00001\", \"A00002\", \"A00007\", \"A00002\", \"A00002\", \"A00003\", \"A00002\", \"A00002\", \"A00003\", \"A00007\", \"A00002\", \"A00003\", \"A00002\", \"A00003\", \"A00003\", \"A00002\", \"A00003\", \"A00002\", \"A00003\", \"A00002\", \"A00002\", \"A00002\", \"A00002\", \"A00002\", \"A00001\", \"A00003\", \"A00002\", \"A00002\", \"A00002\", \"A00002\", \"A00002\", \"A00001\", \"A00002\", \"A00002\", \"A00002\", \"A00002\", \"A00002\", \"A00002\", \"A00010\", \"A00002\", \"A00001\", \"A00003\", \"A00002\", \"A00006\", \"A00002\", \"A00002\", \"A00002\", \"A00002\", \"A00002\", \"A00003\", \"A00003\", \"A00009\", \"A00002\", \"A00002\", \"A00002\", \"A00003\", \"A00003\", \"A00002\", \"A00003\", \"A00002\", \"A00003\", \"A00002\", \"A00003\", \"A00003\", \"A00003\", \"A00002\", \"A00002\", \"A00002\", \"A00002\", \"A00006\", \"A00002\", \"A00002\", \"A00003\", \"A00002\", \"A00002\", \"A00002\", \"A00002\", \"A00002\", \"A00002\", \"A00002\", \"A00002\", \"A00002\", \"A00002\", \"A00002\", \"A00002\", \"A00002\", \"A00002\", \"A00002\", \"A00002\", \"A00003\", \"A00002\", \"A00003\", \"A00001\", \"A00002\", \"A00002\", \"A00003\", \"A00002\", \"A00002\", \"A00003\", \"A00002\", \"A00002\", \"A00002\", \"A00003\", \"A00002\", \"A00002\", \"A00002\", \"A00002\", \"A00002\", \"A00003\", \"A00002\", \"A00002\", \"A00002\", \"A00002\", \"A00004\", \"A00002\", \"A00002\", \"A00003\", \"A00002\", \"A00002\", \"A00002\", \"A00002\", \"A00002\", \"A00002\", \"A00002\", \"A00002\", \"A00002\", \"A00002\", \"A00003\", \"A00003\", \"A00002\", \"A00002\", \"A00002\", \"A00002\", \"A00002\", \"A00002\", \"A00002\", \"A00002\", \"A00002\", \"A00002\", \"A00002\", \"A00002\", \"A00002\", \"A00002\", \"A00002\", \"A00002\", \"A00002\", \"A00002\", \"A00002\", \"A00002\", \"A00002\", \"A00007\", \"A00002\", \"A00002\", \"A00002\", \"A00002\", \"A00002\", \"A00002\", \"A00002\", \"A00003\", \"A00002\", \"A00002\", \"A00003\", \"A00002\", \"A00002\", \"A00003\", \"A00002\", \"A00008\", \"A00002\", \"A00002\", \"A00002\", \"A00002\", \"A00002\", \"A00003\", \"A00003\", \"A00002\", \"A00003\", \"A00002\", \"A00002\", \"A00002\", \"A00002\", \"A00002\", \"A00002\", \"A00003\", \"A00002\", \"A00002\", \"A00002\", \"A00002\", \"A00002\", \"A00002\", \"A00002\", \"A00002\", \"A00002\", \"A00003\", \"A00002\", \"A00002\", \"A00002\", \"A00002\", \"A00002\", \"A00001\", \"A00002\", \"A00002\", \"A00002\", \"A00002\", \"A00002\", \"A00002\", \"A00003\", \"A00002\", \"A00002\", \"A00003\", \"A00002\", \"A00003\", \"A00002\", \"A00003\", \"A00003\", \"A00002\", \"A00002\", \"A00002\", \"A00002\", \"A00002\", \"A00001\", \"A00002\", \"A00003\", \"A00002\", \"A00002\", \"A00002\", \"A00002\", \"A00002\", \"A00002\", \"A00003\", \"A00002\", \"A00002\", \"A00003\", \"A00002\", \"A00002\", \"A00003\", \"A00002\", \"A00003\", \"A00002\", \"A00002\", \"A00010\", \"A00002\", \"A00002\", \"A00002\", \"A00002\", \"A00002\", \"A00002\", \"A00002\", \"A00002\", \"A00002\", \"A00002\", \"A00002\", \"A00002\", \"A00002\", \"A00002\", \"A00002\", \"A00002\", \"A00002\", \"A00002\", \"A00002\", \"A00003\", \"A00003\", \"A00002\", \"A00002\", \"A00003\", \"A00002\", \"A00002\", \"A00002\", \"A00002\", \"A00003\", \"A00002\", \"A00002\", \"A00002\", \"A00003\", \"A00002\", \"A00002\", \"A00002\", \"A00001\", \"A00002\", \"A00011\", \"A00005\", \"A00004\", \"A00002\", \"A00001\", \"A00002\", \"A00002\", \"A00002\", \"A00003\", \"A00003\", \"A00002\", \"A00002\", \"A00004\", \"A00002\", \"A00002\", \"A00003\", \"A00003\", \"A00002\", \"A00002\", \"A00002\", \"A00002\", \"A00002\", \"A00002\", \"A00002\", \"A00002\", \"A00003\", \"A00009\", \"A00002\", \"A00002\", \"A00002\", \"A00001\", \"A00008\", \"A00002\", \"A00002\", \"A00002\", \"A00002\", \"A00002\", \"A00003\", \"A00002\", \"A00002\", \"A00003\", \"A00002\", \"A00003\", \"A00002\", \"A00002\", \"A00006\", \"A00002\", \"A00002\", \"A00002\", \"A00002\", \"A00002\", \"A00002\", \"A00002\", \"A00002\", \"A00002\", \"A00002\", \"A00011\", \"A00002\", \"A00002\", \"A00002\", \"A00002\", \"A00002\", \"A00002\", \"A00002\", \"A00002\", \"A00002\", \"A00007\", \"A00003\", \"A00002\", \"A00003\", \"A00002\", \"A00003\", \"A00002\", \"A00002\", \"A00002\", \"A00002\", \"A00002\", \"A00001\", \"A00002\", \"A00003\", \"A00002\", \"A00002\", \"A00002\", \"A00002\", \"A00003\", \"A00003\", \"A00002\", \"A00002\", \"A00002\", \"A00002\", \"A00003\", \"A00002\", \"A00002\", \"A00003\", \"A00002\", \"A00006\", \"A00002\", \"A00001\", \"A00002\", \"A00003\", \"A00003\", \"A00002\", \"A00002\", \"A00003\", \"A00002\", \"A00003\", \"A00002\", \"A00003\", \"A00002\", \"A00002\", \"A00006\", \"A00002\", \"A00002\", \"A00002\", \"A00002\", \"A00003\", \"A00003\", \"A00002\", \"A00002\", \"A00001\", \"A00003\", \"A00003\", \"A00002\", \"A00002\", \"A00002\", \"A00002\", \"A00003\", \"A00003\", \"A00002\", \"A00002\", \"A00002\", \"A00002\", \"A00003\", \"A00002\", \"A00002\", \"A00003\", \"A00002\", \"A00002\", \"A00002\", \"A00002\", \"A00002\", \"A00003\", \"A00003\", \"A00002\", \"A00002\", \"A00002\", \"A00002\", \"A00002\", \"A00002\", \"A00005\", \"A00002\", \"A00003\", \"A00001\", \"A00002\", \"A00002\", \"A00002\", \"A00002\", \"A00002\", \"A00003\", \"A00002\", \"A00001\", \"A00003\", \"A00002\", \"A00003\", \"A00002\", \"A00002\", \"A00003\", \"A00002\", \"A00002\", \"A00003\", \"A00002\", \"A00002\", \"A00002\", \"A00002\", \"A00002\", \"A00002\", \"A00002\", \"A00002\", \"A00003\", \"A00002\", \"A00002\", \"A00002\", \"A00002\", \"A00003\", \"A00002\", \"A00003\", \"A00002\", \"A00003\", \"A00003\", \"A00006\", \"A00002\", \"A00005\", \"A00002\", \"A00002\", \"A00002\", \"A00011\", \"A00002\", \"A00002\", \"A00010\", \"A00002\", \"A00002\", \"A00002\", \"A00002\", \"A00002\", \"A00002\", \"A00002\", \"A00002\", \"A00002\", \"A00002\", \"A00002\", \"A00001\", \"A00002\", \"A00002\", \"A00002\", \"A00003\", \"A00002\", \"A00002\", \"A00002\", \"A00002\", \"A00002\", \"A00002\", \"A00002\", \"A00002\", \"A00002\", \"A00002\", \"A00002\", \"A00002\", \"A00002\", \"A00002\", \"A00002\", \"A00003\", \"A00002\", \"A00002\", \"A00002\", \"A00003\", \"A00002\", \"A00002\", \"A00003\", \"A00002\", \"A00002\", \"A00002\", \"A00003\", \"A00002\", \"A00002\", \"A00002\", \"A00002\", \"A00003\", \"A00003\", \"A00002\", \"A00002\", \"A00002\", \"A00002\", \"A00002\", \"A00002\", \"A00002\", \"A00002\", \"A00002\", \"A00002\", \"A00003\", \"A00002\", \"A00002\", \"A00002\", \"A00002\", \"A00002\", \"A00003\", \"A00002\", \"A00002\", \"A00002\", \"A00002\", \"A00002\", \"A00003\", \"A00003\", \"A00002\", \"A00002\", \"A00002\", \"A00002\", \"A00003\", \"A00002\", \"A00002\", \"A00002\", \"A00002\", \"A00002\", \"A00002\", \"A00001\", \"A00002\", \"A00003\", \"A00002\", \"A00003\", \"A00002\", \"A00002\", \"A00002\", \"A00002\", \"A00002\", \"A00002\", \"A00002\", \"A00002\", \"A00002\", \"A00002\", \"A00002\", \"A00003\", \"A00002\", \"A00002\", \"A00002\", \"A00002\", \"A00002\", \"A00002\", \"A00001\", \"A00002\", \"A00002\", \"A00002\", \"A00002\", \"A00002\", \"A00002\", \"A00002\", \"A00002\", \"A00003\", \"A00002\", \"A00002\", \"A00002\", \"A00002\", \"A00002\", \"A00002\", \"A00002\", \"A00003\", \"A00003\", \"A00002\", \"A00002\", \"A00002\", \"A00002\", \"A00002\", \"A00002\", \"A00003\", \"A00002\", \"A00002\", \"A00002\", \"A00002\", \"A00002\", \"A00003\", \"A00002\", \"A00002\", \"A00002\", \"A00002\", \"A00002\", \"A00002\", \"A00002\", \"A00002\", \"A00002\", \"A00002\", \"A00002\", \"A00003\", \"A00003\", \"A00002\", \"A00002\", \"A00002\", \"A00002\", \"A00002\", \"A00005\", \"A00002\", \"A00003\", \"A00003\", \"A00002\", \"A00001\", \"A00003\", \"A00002\", \"A00002\", \"A00002\", \"A00002\", \"A00001\", \"A00002\", \"A00002\", \"A00002\", \"A00002\", \"A00002\", \"A00002\", \"A00002\", \"A00002\", \"A00004\", \"A00002\", \"A00002\", \"A00002\", \"A00002\", \"A00003\", \"A00002\", \"A00003\", \"A00002\", \"A00005\", \"A00003\", \"A00003\", \"A00003\", \"A00002\", \"A00002\", \"A00003\", \"A00002\", \"A00002\", \"A00002\", \"A00002\", \"A00002\", \"A00002\", \"A00002\", \"A00006\", \"A00002\", \"A00001\", \"A00002\", \"A00002\", \"A00002\", \"A00003\", \"A00002\", \"A00002\", \"A00003\", \"A00002\", \"A00005\", \"A00002\", \"A00002\", \"A00002\", \"A00001\", \"A00002\", \"A00002\", \"A00003\", \"A00002\", \"A00003\", \"A00002\", \"A00002\", \"A00002\", \"A00002\", \"A00003\", \"A00002\", \"A00002\", \"A00002\", \"A00003\", \"A00002\", \"A00002\", \"A00004\", \"A00002\", \"A00002\", \"A00002\", \"A00002\", \"A00002\", \"A00002\", \"A00002\", \"A00002\", \"A00002\", \"A00003\", \"A00003\", \"A00003\", \"A00003\", \"A00002\", \"A00002\", \"A00002\", \"A00001\", \"A00002\", \"A00003\", \"A00003\", \"A00002\", \"A00002\", \"A00003\", \"A00002\", \"A00002\", \"A00002\", \"A00002\", \"A00002\", \"A00002\", \"A00003\", \"A00002\", \"A00002\", \"A00003\", \"A00002\", \"A00002\", \"A00003\", \"A00002\", \"A00002\", \"A00002\", \"A00002\", \"A00001\", \"A00002\", \"A00002\", \"A00001\", \"A00002\", \"A00002\", \"A00002\", \"A00002\", \"A00002\", \"A00002\", \"A00001\", \"A00002\", \"A00003\", \"A00002\", \"A00002\", \"A00003\", \"A00002\", \"A00001\", \"A00003\", \"A00003\", \"A00002\", \"A00003\", \"A00002\", \"A00003\", \"A00002\", \"A00002\", \"A00002\", \"A00002\", \"A00002\", \"A00002\", \"A00002\", \"A00002\", \"A00002\", \"A00002\", \"A00006\", \"A00003\", \"A00002\", \"A00002\", \"A00003\", \"A00002\", \"A00002\", \"A00002\", \"A00002\", \"A00002\", \"A00003\", \"A00002\", \"A00002\", \"A00002\", \"A00001\", \"A00002\", \"A00002\", \"A00002\", \"A00002\", \"A00002\", \"A00002\", \"A00002\", \"A00003\", \"A00002\", \"A00001\", \"A00002\", \"A00002\", \"A00002\", \"A00002\", \"A00002\", \"A00001\", \"A00003\", \"A00002\", \"A00002\", \"A00002\", \"A00003\", \"A00002\", \"A00002\", \"A00002\", \"A00003\", \"A00003\", \"A00002\", \"A00001\", \"A00002\", \"A00003\", \"A00002\", \"A00002\", \"A00003\", \"A00003\", \"A00002\", \"A00001\", \"A00003\", \"A00002\", \"A00001\", \"A00002\", \"A00002\", \"A00002\", \"A00002\", \"A00002\", \"A00002\", \"A00002\", \"A00002\", \"A00003\", \"A00003\", \"A00003\", \"A00002\", \"A00002\", \"A00002\", \"A00002\", \"A00002\", \"A00006\", \"A00002\", \"A00003\", \"A00002\", \"A00003\", \"A00002\", \"A00002\", \"A00002\", \"A00002\", \"A00002\", \"A00001\", \"A00002\", \"A00002\", \"A00002\", \"A00002\", \"A00003\", \"A00002\", \"A00003\", \"A00002\", \"A00002\", \"A00002\", \"A00002\", \"A00003\", \"A00002\", \"A00002\", \"A00002\", \"A00002\", \"A00005\", \"A00002\", \"A00002\", \"A00002\", \"A00003\", \"A00002\", \"A00002\", \"A00005\", \"A00002\", \"A00002\", \"A00002\", \"A00002\", \"A00002\", \"A00002\", \"A00002\", \"A00002\", \"A00003\", \"A00001\", \"A00002\", \"A00003\", \"A00002\", \"A00002\", \"A00002\", \"A00002\", \"A00002\", \"A00002\", \"A00002\", \"A00002\", \"A00003\", \"A00002\", \"A00001\", \"A00002\", \"A00002\", \"A00002\", \"A00001\", \"A00002\", \"A00002\", \"A00002\", \"A00005\", \"A00003\", \"A00002\", \"A00001\", \"A00002\", \"A00002\", \"A00002\", \"A00002\", \"A00002\", \"A00002\", \"A00003\", \"A00002\", \"A00003\", \"A00003\", \"A00002\", \"A00002\", \"A00003\", \"A00003\", \"A00002\", \"A00002\", \"A00002\", \"A00002\", \"A00003\", \"A00002\", \"A00003\", \"A00003\", \"A00002\", \"A00003\", \"A00003\", \"A00002\", \"A00003\", \"A00002\", \"A00005\", \"A00002\", \"A00003\", \"A00003\", \"A00002\", \"A00003\", \"A00003\", \"A00002\", \"A00006\", \"A00002\", \"A00002\", \"A00002\", \"A00001\", \"A00003\", \"A00002\", \"A00002\", \"A00002\", \"A00002\", \"A00002\", \"A00002\", \"A00002\", \"A00002\", \"A00003\", \"A00002\", \"A00003\", \"A00002\", \"A00002\", \"A00003\", \"A00002\", \"A00003\", \"A00002\", \"A00002\", \"A00002\", \"A00002\", \"A00002\", \"A00005\", \"A00002\", \"A00002\", \"A00002\", \"A00002\", \"A00003\", \"A00002\", \"A00003\", \"A00002\", \"A00002\", \"A00002\", \"A00002\", \"A00003\", \"A00003\", \"A00005\", \"A00002\", \"A00002\", \"A00002\", \"A00002\", \"A00003\", \"A00002\", \"A00002\", \"A00002\", \"A00002\", \"A00002\", \"A00002\", \"A00002\", \"A00002\", \"A00003\", \"A00002\", \"A00002\", \"A00003\", \"A00002\", \"A00002\", \"A00001\", \"A00002\", \"A00003\", \"A00005\", \"A00002\", \"A00003\", \"A00003\", \"A00001\", \"A00003\", \"A00003\", \"A00002\", \"A00002\", \"A00002\", \"A00002\", \"A00003\", \"A00003\", \"A00002\", \"A00002\", \"A00002\", \"A00003\", \"A00002\", \"A00002\", \"A00002\", \"A00002\", \"A00002\", \"A00005\", \"A00002\", \"A00002\", \"A00002\", \"A00002\", \"A00003\", \"A00001\", \"A00002\", \"A00002\", \"A00003\", \"A00002\", \"A00003\", \"A00003\", \"A00002\", \"A00002\", \"A00002\", \"A00002\", \"A00002\", \"A00002\", \"A00002\", \"A00002\", \"A00002\", \"A00002\", \"A00003\", \"A00003\", \"A00001\", \"A00002\", \"A00003\", \"A00011\", \"A00002\", \"A00002\", \"A00002\", \"A00002\", \"A00002\", \"A00002\", \"A00002\", \"A00002\", \"A00003\", \"A00002\", \"A00002\", \"A00002\", \"A00002\", \"A00002\", \"A00002\", \"A00002\", \"A00001\", \"A00003\", \"A00002\", \"A00002\", \"A00002\", \"A00002\", \"A00003\", \"A00002\", \"A00002\", \"A00002\", \"A00003\", \"A00002\", \"A00002\", \"A00002\", \"A00002\", \"A00003\", \"A00009\", \"A00002\", \"A00002\", \"A00002\", \"A00002\", \"A00002\", \"A00002\", \"A00002\", \"A00003\", \"A00007\", \"A00002\", \"A00002\", \"A00002\", \"A00002\", \"A00002\", \"A00002\", \"A00002\", \"A00002\", \"A00004\", \"A00002\", \"A00002\", \"A00002\", \"A00002\", \"A00002\", \"A00002\", \"A00002\", \"A00001\", \"A00003\", \"A00002\", \"A00002\", \"A00002\", \"A00002\", \"A00002\", \"A00002\", \"A00001\", \"A00002\", \"A00002\", \"A00002\", \"A00002\", \"A00002\", \"A00002\", \"A00002\", \"A00002\", \"A00002\", \"A00002\", \"A00002\", \"A00003\", \"A00002\", \"A00002\", \"A00005\", \"A00002\", \"A00003\", \"A00002\", \"A00003\", \"A00002\", \"A00003\", \"A00002\", \"A00002\", \"A00002\", \"A00003\", \"A00002\", \"A00002\", \"A00003\", \"A00002\", \"A00001\", \"A00003\", \"A00002\", \"A00003\", \"A00002\", \"A00003\", \"A00002\", \"A00002\", \"A00002\", \"A00002\", \"A00002\", \"A00003\", \"A00002\", \"A00003\", \"A00002\", \"A00002\", \"A00006\", \"A00002\", \"A00002\", \"A00002\", \"A00002\", \"A00002\", \"A00003\", \"A00002\", \"A00002\", \"A00002\", \"A00003\", \"A00002\", \"A00001\", \"A00002\", \"A00002\", \"A00002\", \"A00003\", \"A00002\", \"A00002\", \"A00002\", \"A00002\", \"A00001\", \"A00002\", \"A00002\", \"A00002\", \"A00003\", \"A00002\", \"A00002\", \"A00002\", \"A00002\", \"A00002\", \"A00002\", \"A00002\", \"A00002\", \"A00002\", \"A00002\", \"A00001\", \"A00002\", \"A00002\", \"A00002\", \"A00003\", \"A00003\", \"A00001\", \"A00002\", \"A00002\", \"A00002\", \"A00002\", \"A00002\", \"A00002\", \"A00002\", \"A00002\", \"A00002\", \"A00002\", \"A00002\", \"A00002\", \"A00002\", \"A00010\", \"A00002\", \"A00002\", \"A00002\", \"A00005\", \"A00002\", \"A00003\", \"A00003\", \"A00002\", \"A00002\", \"A00002\", \"A00003\", \"A00008\", \"A00002\", \"A00002\", \"A00001\", \"A00002\", \"A00002\", \"A00002\", \"A00003\", \"A00003\", \"A00002\", \"A00002\", \"A00002\", \"A00003\", \"A00002\", \"A00005\", \"A00002\", \"A00002\", \"A00002\", \"A00002\", \"A00002\", \"A00002\", \"A00002\", \"A00002\", \"A00002\", \"A00002\", \"A00002\", \"A00002\", \"A00002\", \"A00003\", \"A00002\", \"A00002\", \"A00002\", \"A00002\", \"A00006\", \"A00002\", \"A00002\", \"A00002\", \"A00003\", \"A00002\", \"A00002\", \"A00002\", \"A00002\", \"A00002\", \"A00002\", \"A00002\", \"A00003\", \"A00006\", \"A00002\", \"A00002\", \"A00005\", \"A00002\", \"A00002\", \"A00002\", \"A00002\", \"A00003\", \"A00002\", \"A00002\", \"A00002\", \"A00002\", \"A00002\", \"A00002\", \"A00002\", \"A00002\", \"A00002\", \"A00002\", \"A00002\", \"A00001\", \"A00002\", \"A00002\", \"A00002\", \"A00002\", \"A00002\", \"A00002\", \"A00002\", \"A00002\", \"A00003\", \"A00002\", \"A00005\", \"A00002\", \"A00002\", \"A00002\", \"A00003\", \"A00002\", \"A00002\", \"A00002\", \"A00002\", \"A00002\", \"A00002\", \"A00003\", \"A00002\", \"A00002\", \"A00002\", \"A00002\", \"A00002\", \"A00002\", \"A00002\", \"A00003\", \"A00002\", \"A00003\", \"A00001\", \"A00003\", \"A00002\", \"A00002\", \"A00002\", \"A00002\", \"A00002\", \"A00002\", \"A00002\", \"A00003\", \"A00002\", \"A00002\", \"A00002\", \"A00002\", \"A00002\", \"A00002\", \"A00002\", \"A00002\", \"A00003\", \"A00002\", \"A00002\", \"A00003\", \"A00003\", \"A00002\", \"A00002\", \"A00002\", \"A00005\", \"A00002\", \"A00002\", \"A00002\", \"A00002\", \"A00002\", \"A00002\", \"A00002\", \"A00002\", \"A00003\", \"A00002\", \"A00002\", \"A00002\", \"A00002\", \"A00002\", \"A00002\", \"A00002\", \"A00003\", \"A00002\", \"A00002\", \"A00006\", \"A00003\", \"A00005\", \"A00002\", \"A00002\", \"A00002\", \"A00002\", \"A00002\", \"A00001\", \"A00002\", \"A00011\", \"A00002\", \"A00001\", \"A00003\", \"A00002\", \"A00002\", \"A00002\", \"A00002\", \"A00003\", \"A00002\", \"A00002\", \"A00002\", \"A00002\", \"A00002\", \"A00002\", \"A00002\", \"A00002\", \"A00002\", \"A00002\", \"A00002\", \"A00001\", \"A00002\", \"A00002\", \"A00003\", \"A00002\", \"A00002\", \"A00002\", \"A00002\", \"A00005\", \"A00002\", \"A00002\", \"A00002\", \"A00003\", \"A00002\", \"A00002\", \"A00003\", \"A00002\", \"A00002\", \"A00002\", \"A00001\", \"A00002\", \"A00002\", \"A00002\", \"A00002\", \"A00003\", \"A00011\", \"A00008\", \"A00002\", \"A00001\", \"A00002\", \"A00002\", \"A00003\", \"A00002\", \"A00003\", \"A00002\", \"A00002\", \"A00002\", \"A00002\", \"A00002\", \"A00001\", \"A00002\", \"A00005\", \"A00002\", \"A00002\", \"A00002\", \"A00002\", \"A00003\", \"A00002\", \"A00005\", \"A00002\", \"A00003\", \"A00002\", \"A00002\", \"A00002\", \"A00002\", \"A00002\", \"A00002\", \"A00002\", \"A00002\", \"A00002\", \"A00002\", \"A00002\", \"A00002\", \"A00002\", \"A00002\", \"A00002\", \"A00002\", \"A00002\", \"A00002\", \"A00003\", \"A00002\", \"A00002\", \"A00003\", \"A00002\", \"A00002\", \"A00002\", \"A00002\", \"A00002\", \"A00003\", \"A00002\", \"A00001\", \"A00002\", \"A00005\", \"A00002\", \"A00002\", \"A00001\", \"A00002\", \"A00003\", \"A00002\", \"A00003\", \"A00001\", \"A00003\", \"A00003\", \"A00002\", \"A00008\", \"A00005\", \"A00002\", \"A00002\", \"A00002\", \"A00002\", \"A00002\", \"A00002\", \"A00001\", \"A00002\", \"A00002\", \"A00002\", \"A00002\", \"A00003\", \"A00002\", \"A00002\", \"A00002\", \"A00002\", \"A00002\", \"A00002\", \"A00003\", \"A00001\", \"A00002\", \"A00002\", \"A00002\", \"A00003\", \"A00002\", \"A00003\", \"A00002\", \"A00002\", \"A00002\", \"A00002\", \"A00002\", \"A00002\", \"A00003\", \"A00002\", \"A00002\", \"A00002\", \"A00001\", \"A00001\", \"A00002\", \"A00002\", \"A00002\", \"A00002\", \"A00001\", \"A00002\", \"A00002\", \"A00002\", \"A00003\", \"A00002\", \"A00003\", \"A00002\", \"A00002\", \"A00001\", \"A00003\", \"A00003\", \"A00002\", \"A00002\", \"A00002\", \"A00002\", \"A00002\", \"A00003\", \"A00002\", \"A00002\", \"A00002\", \"A00002\", \"A00002\", \"A00002\", \"A00002\", \"A00003\", \"A00002\", \"A00006\", \"A00006\", \"A00002\", \"A00002\", \"A00002\", \"A00002\", \"A00002\", \"A00002\", \"A00002\", \"A00002\", \"A00002\", \"A00002\", \"A00002\", \"A00001\", \"A00006\", \"A00002\", \"A00001\", \"A00002\", \"A00009\", \"A00002\", \"A00002\", \"A00002\", \"A00002\", \"A00002\", \"A00002\", \"A00010\", \"A00002\", \"A00002\", \"A00002\", \"A00002\", \"A00001\", \"A00003\", \"A00002\", \"A00002\", \"A00001\", \"A00003\", \"A00002\", \"A00002\", \"A00002\", \"A00002\", \"A00002\", \"A00003\", \"A00002\", \"A00002\", \"A00002\", \"A00002\", \"A00002\", \"A00002\", \"A00002\", \"A00003\", \"A00002\", \"A00003\", \"A00002\", \"A00002\", \"A00002\", \"A00002\", \"A00002\", \"A00002\", \"A00002\", \"A00002\", \"A00002\", \"A00001\", \"A00002\", \"A00005\", \"A00003\", \"A00002\", \"A00002\", \"A00003\", \"A00002\", \"A00002\", \"A00002\", \"A00002\", \"A00002\", \"A00002\", \"A00003\", \"A00002\", \"A00002\", \"A00003\", \"A00002\", \"A00003\", \"A00002\", \"A00002\", \"A00001\", \"A00002\", \"A00003\", \"A00003\", \"A00006\", \"A00002\", \"A00003\", \"A00002\", \"A00002\", \"A00003\", \"A00002\", \"A00002\", \"A00002\", \"A00002\", \"A00002\", \"A00002\", \"A00002\", \"A00002\", \"A00002\", \"A00002\", \"A00002\", \"A00002\", \"A00002\", \"A00002\", \"A00002\", \"A00003\", \"A00002\", \"A00002\", \"A00002\", \"A00002\", \"A00002\", \"A00002\", \"A00002\", \"A00002\", \"A00003\", \"A00002\", \"A00002\", \"A00003\", \"A00002\", \"A00002\", \"A00002\", \"A00002\", \"A00002\", \"A00002\", \"A00003\", \"A00003\", \"A00002\", \"A00002\", \"A00002\", \"A00002\", \"A00002\", \"A00003\", \"A00003\", \"A00002\", \"A00006\", \"A00002\", \"A00002\", \"A00001\", \"A00002\", \"A00002\", \"A00002\", \"A00002\", \"A00002\", \"A00002\", \"A00002\", \"A00002\", \"A00007\", \"A00003\", \"A00002\", \"A00003\", \"A00002\", \"A00002\", \"A00002\", \"A00002\", \"A00002\", \"A00002\", \"A00002\", \"A00002\", \"A00002\", \"A00002\", \"A00002\", \"A00002\", \"A00002\", \"A00002\", \"A00002\", \"A00003\", \"A00002\", \"A00003\", \"A00002\", \"A00002\", \"A00002\", \"A00002\", \"A00002\", \"A00002\", \"A00002\", \"A00003\", \"A00005\", \"A00002\", \"A00002\", \"A00002\", \"A00002\", \"A00002\", \"A00002\", \"A00002\", \"A00002\", \"A00002\", \"A00002\", \"A00001\", \"A00002\", \"A00002\", \"A00011\", \"A00003\", \"A00003\", \"A00001\", \"A00003\", \"A00003\", \"A00002\", \"A00002\", \"A00002\", \"A00003\", \"A00003\", \"A00002\", \"A00002\", \"A00003\", \"A00002\", \"A00002\", \"A00002\", \"A00002\", \"A00002\", \"A00002\", \"A00002\", \"A00002\", \"A00010\", \"A00002\", \"A00009\", \"A00002\", \"A00004\", \"A00002\", \"A00002\", \"A00002\", \"A00002\", \"A00002\", \"A00002\", \"A00001\", \"A00002\", \"A00002\", \"A00002\", \"A00003\", \"A00002\", \"A00002\", \"A00002\", \"A00003\", \"A00002\", \"A00002\", \"A00001\", \"A00007\", \"A00002\", \"A00002\", \"A00003\", \"A00003\", \"A00002\", \"A00002\", \"A00002\", \"A00002\", \"A00002\", \"A00003\", \"A00002\", \"A00001\", \"A00002\", \"A00003\", \"A00002\", \"A00002\", \"A00005\", \"A00001\", \"A00003\", \"A00002\", \"A00002\", \"A00002\", \"A00002\", \"A00002\", \"A00002\", \"A00003\", \"A00002\", \"A00002\", \"A00002\", \"A00002\", \"A00003\", \"A00002\", \"A00002\", \"A00002\", \"A00002\", \"A00002\", \"A00002\", \"A00006\", \"A00002\", \"A00002\", \"A00003\", \"A00002\", \"A00002\", \"A00002\", \"A00002\", \"A00002\", \"A00001\", \"A00002\", \"A00010\", \"A00001\", \"A00002\", \"A00001\", \"A00002\", \"A00003\", \"A00002\", \"A00002\", \"A00002\", \"A00001\", \"A00002\", \"A00002\", \"A00005\", \"A00002\", \"A00002\", \"A00002\", \"A00003\", \"A00002\", \"A00002\", \"A00003\", \"A00002\", \"A00002\", \"A00002\", \"A00002\", \"A00003\", \"A00002\", \"A00002\", \"A00003\", \"A00003\", \"A00002\", \"A00002\", \"A00002\", \"A00002\", \"A00002\", \"A00002\", \"A00002\", \"A00003\", \"A00002\", \"A00002\", \"A00002\", \"A00002\", \"A00002\", \"A00002\", \"A00002\", \"A00002\", \"A00003\", \"A00002\", \"A00001\", \"A00002\", \"A00002\", \"A00002\", \"A00002\", \"A00002\", \"A00002\", \"A00011\", \"A00002\", \"A00002\", \"A00002\", \"A00002\", \"A00002\", \"A00002\", \"A00002\", \"A00002\", \"A00003\", \"A00002\", \"A00001\", \"A00002\", \"A00003\", \"A00002\", \"A00003\", \"A00003\", \"A00002\", \"A00002\", \"A00003\", \"A00002\", \"A00003\", \"A00002\", \"A00002\", \"A00002\", \"A00003\", \"A00002\", \"A00002\", \"A00002\", \"A00001\", \"A00002\", \"A00002\", \"A00002\", \"A00009\", \"A00002\", \"A00002\", \"A00003\", \"A00002\", \"A00002\", \"A00002\", \"A00002\", \"A00002\", \"A00002\", \"A00002\", \"A00002\", \"A00002\", \"A00002\", \"A00002\", \"A00002\", \"A00003\", \"A00002\", \"A00002\", \"A00002\", \"A00002\", \"A00002\", \"A00003\", \"A00003\", \"A00002\", \"A00002\", \"A00002\", \"A00002\", \"A00002\", \"A00002\", \"A00002\", \"A00002\", \"A00002\", \"A00004\", \"A00002\", \"A00002\", \"A00002\", \"A00003\", \"A00002\", \"A00002\", \"A00002\", \"A00002\", \"A00002\", \"A00003\", \"A00002\", \"A00002\", \"A00002\", \"A00003\", \"A00002\", \"A00002\", \"A00003\", \"A00002\", \"A00005\", \"A00002\", \"A00002\", \"A00002\", \"A00002\", \"A00002\", \"A00003\", \"A00003\", \"A00002\", \"A00002\", \"A00002\", \"A00002\", \"A00002\", \"A00002\", \"A00003\", \"A00001\", \"A00002\", \"A00002\", \"A00003\", \"A00003\", \"A00002\", \"A00002\", \"A00002\", \"A00006\", \"A00001\", \"A00002\", \"A00003\", \"A00002\", \"A00003\", \"A00003\", \"A00002\", \"A00002\", \"A00002\", \"A00002\", \"A00003\", \"A00003\", \"A00002\", \"A00002\", \"A00002\", \"A00001\", \"A00002\", \"A00002\", \"A00002\", \"A00002\", \"A00002\", \"A00003\", \"A00002\", \"A00003\", \"A00002\", \"A00002\", \"A00002\", \"A00002\", \"A00002\", \"A00003\", \"A00003\", \"A00002\", \"A00002\", \"A00001\", \"A00002\", \"A00002\", \"A00001\", \"A00002\", \"A00002\", \"A00002\", \"A00002\", \"A00002\", \"A00002\", \"A00002\", \"A00002\", \"A00002\", \"A00002\", \"A00002\", \"A00002\", \"A00007\", \"A00002\", \"A00003\", \"A00003\", \"A00002\", \"A00002\", \"A00002\", \"A00002\", \"A00003\", \"A00002\", \"A00003\", \"A00002\", \"A00001\", \"A00001\", \"A00003\", \"A00002\", \"A00003\", \"A00002\", \"A00002\", \"A00005\", \"A00002\", \"A00002\", \"A00002\", \"A00003\", \"A00002\", \"A00002\", \"A00002\", \"A00003\", \"A00002\", \"A00002\", \"A00002\", \"A00002\", \"A00003\", \"A00002\", \"A00002\", \"A00002\", \"A00002\", \"A00002\", \"A00002\", \"A00002\", \"A00002\", \"A00002\", \"A00002\", \"A00002\", \"A00002\", \"A00002\", \"A00002\", \"A00002\", \"A00003\", \"A00003\", \"A00002\", \"A00002\", \"A00002\", \"A00002\", \"A00002\", \"A00002\", \"A00002\", \"A00002\", \"A00003\", \"A00002\", \"A00002\", \"A00002\", \"A00002\", \"A00003\", \"A00002\", \"A00003\", \"A00002\", \"A00003\", \"A00002\", \"A00002\", \"A00002\", \"A00002\", \"A00002\", \"A00003\", \"A00002\", \"A00003\", \"A00002\", \"A00002\", \"A00002\", \"A00002\", \"A00002\", \"A00002\", \"A00002\", \"A00009\", \"A00003\", \"A00002\", \"A00002\", \"A00002\", \"A00005\", \"A00002\", \"A00001\", \"A00001\", \"A00002\", \"A00002\", \"A00003\", \"A00003\", \"A00003\", \"A00002\", \"A00001\", \"A00002\", \"A00002\", \"A00002\", \"A00002\", \"A00002\", \"A00002\", \"A00003\", \"A00003\", \"A00002\", \"A00002\", \"A00002\", \"A00002\", \"A00002\", \"A00002\", \"A00003\", \"A00002\", \"A00002\", \"A00002\", \"A00003\", \"A00002\", \"A00001\", \"A00003\", \"A00003\", \"A00002\", \"A00002\", \"A00002\", \"A00003\", \"A00003\", \"A00002\", \"A00002\", \"A00003\", \"A00002\", \"A00002\", \"A00002\", \"A00002\", \"A00002\", \"A00003\", \"A00002\", \"A00003\", \"A00002\", \"A00003\", \"A00002\", \"A00002\", \"A00002\", \"A00002\", \"A00002\", \"A00002\", \"A00002\", \"A00002\", \"A00003\", \"A00002\", \"A00002\", \"A00002\", \"A00002\", \"A00002\", \"A00002\", \"A00002\", \"A00002\", \"A00004\", \"A00002\", \"A00002\", \"A00002\", \"A00002\", \"A00002\", \"A00002\", \"A00002\", \"A00002\", \"A00002\", \"A00002\", \"A00002\", \"A00003\", \"A00002\", \"A00003\", \"A00002\", \"A00002\", \"A00002\", \"A00002\", \"A00002\", \"A00002\", \"A00002\", \"A00002\", \"A00002\", \"A00002\", \"A00002\", \"A00002\", \"A00002\", \"A00009\", \"A00002\", \"A00003\", \"A00002\", \"A00002\", \"A00002\", \"A00003\", \"A00002\", \"A00003\", \"A00002\", \"A00002\", \"A00004\", \"A00002\", \"A00002\", \"A00005\", \"A00002\", \"A00002\", \"A00002\", \"A00002\", \"A00002\", \"A00005\", \"A00002\", \"A00002\", \"A00002\", \"A00002\", \"A00002\", \"A00002\", \"A00002\", \"A00002\", \"A00002\", \"A00002\", \"A00002\", \"A00002\", \"A00002\", \"A00002\", \"A00003\", \"A00002\", \"A00002\", \"A00002\", \"A00002\", \"A00003\", \"A00002\", \"A00003\", \"A00002\", \"A00002\", \"A00003\", \"A00001\", \"A00002\", \"A00003\", \"A00002\", \"A00002\", \"A00002\", \"A00002\", \"A00002\", \"A00003\", \"A00003\", \"A00003\", \"A00002\", \"A00002\", \"A00002\", \"A00002\", \"A00005\", \"A00003\", \"A00002\", \"A00002\", \"A00002\", \"A00002\", \"A00003\", \"A00002\", \"A00002\", \"A00002\", \"A00002\", \"A00003\", \"A00003\", \"A00002\", \"A00002\", \"A00002\", \"A00002\", \"A00002\", \"A00002\", \"A00003\", \"A00002\", \"A00002\", \"A00002\", \"A00002\", \"A00002\", \"A00003\", \"A00001\", \"A00001\", \"A00002\", \"A00002\", \"A00002\", \"A00002\", \"A00002\", \"A00003\", \"A00002\", \"A00002\", \"A00003\", \"A00002\", \"A00002\", \"A00002\", \"A00002\", \"A00002\", \"A00002\", \"A00002\", \"A00001\", \"A00002\", \"A00002\", \"A00002\", \"A00002\", \"A00002\", \"A00003\", \"A00002\", \"A00002\", \"A00002\", \"A00003\", \"A00002\", \"A00002\", \"A00002\", \"A00002\", \"A00002\", \"A00002\", \"A00002\", \"A00002\", \"A00002\", \"A00003\", \"A00002\", \"A00002\", \"A00002\", \"A00002\", \"A00002\", \"A00002\", \"A00002\", \"A00003\", \"A00002\", \"A00007\", \"A00003\", \"A00002\", \"A00002\", \"A00002\", \"A00002\", \"A00002\", \"A00002\", \"A00009\", \"A00003\", \"A00002\", \"A00002\", \"A00002\", \"A00002\", \"A00002\", \"A00002\", \"A00003\", \"A00002\", \"A00002\", \"A00002\", \"A00002\", \"A00002\", \"A00002\", \"A00002\", \"A00002\", \"A00002\", \"A00002\", \"A00002\", \"A00002\", \"A00002\", \"A00002\", \"A00002\", \"A00006\", \"A00002\", \"A00002\", \"A00003\", \"A00003\", \"A00002\", \"A00002\", \"A00003\", \"A00002\", \"A00002\", \"A00003\", \"A00002\", \"A00002\", \"A00002\", \"A00003\", \"A00002\", \"A00002\", \"A00002\", \"A00005\", \"A00002\", \"A00002\", \"A00002\", \"A00003\", \"A00002\", \"A00002\", \"A00002\", \"A00002\", \"A00002\", \"A00002\", \"A00003\", \"A00002\", \"A00002\", \"A00003\", \"A00008\", \"A00003\", \"A00001\", \"A00002\", \"A00002\", \"A00002\", \"A00005\", \"A00003\", \"A00002\", \"A00002\", \"A00002\", \"A00002\", \"A00002\", \"A00002\", \"A00003\", \"A00002\", \"A00003\", \"A00002\", \"A00002\", \"A00002\", \"A00002\", \"A00002\", \"A00003\", \"A00006\", \"A00002\", \"A00002\", \"A00002\", \"A00002\", \"A00002\", \"A00002\", \"A00002\", \"A00002\", \"A00002\", \"A00002\", \"A00005\", \"A00002\", \"A00002\", \"A00002\", \"A00002\", \"A00002\", \"A00002\", \"A00002\", \"A00002\", \"A00002\", \"A00002\", \"A00002\", \"A00003\", \"A00002\", \"A00002\", \"A00002\", \"A00002\", \"A00002\", \"A00003\", \"A00002\", \"A00002\", \"A00001\", \"A00002\", \"A00003\", \"A00002\", \"A00002\", \"A00002\", \"A00002\", \"A00002\", \"A00003\", \"A00002\", \"A00002\", \"A00002\", \"A00002\", \"A00002\", \"A00003\", \"A00002\", \"A00002\", \"A00003\", \"A00003\", \"A00002\", \"A00002\", \"A00002\", \"A00003\", \"A00002\", \"A00002\", \"A00002\", \"A00002\", \"A00002\", \"A00002\", \"A00002\", \"A00002\", \"A00006\", \"A00005\", \"A00005\", \"A00002\", \"A00003\", \"A00002\", \"A00002\", \"A00006\", \"A00003\", \"A00002\", \"A00002\", \"A00002\", \"A00005\", \"A00002\", \"A00002\", \"A00001\", \"A00006\", \"A00002\", \"A00003\", \"A00002\", \"A00003\", \"A00002\", \"A00002\", \"A00002\", \"A00002\", \"A00002\", \"A00003\", \"A00003\", \"A00002\", \"A00002\", \"A00002\", \"A00002\", \"A00003\", \"A00002\", \"A00002\", \"A00011\", \"A00002\", \"A00003\", \"A00002\", \"A00002\", \"A00002\", \"A00003\", \"A00002\", \"A00002\", \"A00002\", \"A00002\", \"A00003\", \"A00002\", \"A00002\", \"A00003\", \"A00002\", \"A00002\", \"A00002\", \"A00002\", \"A00002\", \"A00003\", \"A00003\", \"A00002\", \"A00002\", \"A00003\", \"A00002\", \"A00002\", \"A00002\", \"A00002\", \"A00002\", \"A00002\", \"A00002\", \"A00002\", \"A00002\", \"A00002\", \"A00002\", \"A00003\", \"A00002\", \"A00002\", \"A00002\", \"A00001\", \"A00002\", \"A00002\", \"A00002\", \"A00003\", \"A00010\", \"A00002\", \"A00002\", \"A00002\", \"A00002\", \"A00002\", \"A00002\", \"A00002\", \"A00002\", \"A00002\", \"A00002\", \"A00002\", \"A00002\", \"A00003\", \"A00002\", \"A00002\", \"A00002\", \"A00002\", \"A00002\", \"A00002\", \"A00002\", \"A00002\", \"A00004\", \"A00002\", \"A00002\", \"A00002\", \"A00002\", \"A00002\", \"A00002\", \"A00002\", \"A00003\", \"A00001\", \"A00002\", \"A00002\", \"A00003\", \"A00002\", \"A00002\", \"A00002\", \"A00002\", \"A00002\", \"A00002\", \"A00002\", \"A00002\", \"A00002\", \"A00003\", \"A00002\", \"A00002\", \"A00002\", \"A00002\", \"A00002\", \"A00002\", \"A00002\", \"A00002\", \"A00001\", \"A00002\", \"A00002\", \"A00002\", \"A00002\", \"A00001\", \"A00003\", \"A00003\", \"A00002\", \"A00002\", \"A00002\", \"A00002\", \"A00002\", \"A00002\", \"A00002\", \"A00002\", \"A00003\", \"A00002\", \"A00002\", \"A00002\", \"A00002\", \"A00002\", \"A00004\", \"A00002\", \"A00002\", \"A00002\", \"A00002\", \"A00002\", \"A00002\", \"A00001\", \"A00002\", \"A00002\", \"A00002\", \"A00002\", \"A00002\", \"A00002\", \"A00011\", \"A00002\", \"A00003\", \"A00002\", \"A00002\", \"A00002\", \"A00002\", \"A00002\", \"A00003\", \"A00003\", \"A00002\", \"A00002\", \"A00002\", \"A00002\", \"A00003\", \"A00002\", \"A00002\", \"A00003\", \"A00001\", \"A00002\", \"A00002\", \"A00002\", \"A00002\", \"A00002\", \"A00002\", \"A00002\", \"A00002\", \"A00005\", \"A00002\", \"A00003\", \"A00002\", \"A00002\", \"A00002\", \"A00003\", \"A00002\", \"A00002\", \"A00003\", \"A00002\", \"A00003\", \"A00002\", \"A00002\", \"A00003\", \"A00002\", \"A00003\", \"A00002\", \"A00002\", \"A00003\", \"A00005\", \"A00002\", \"A00006\", \"A00002\", \"A00008\", \"A00002\", \"A00002\", \"A00002\", \"A00006\", \"A00002\", \"A00002\", \"A00002\", \"A00002\", \"A00002\", \"A00002\", \"A00002\", \"A00002\", \"A00002\", \"A00002\", \"A00003\", \"A00002\", \"A00003\", \"A00002\", \"A00002\", \"A00002\", \"A00002\", \"A00002\", \"A00002\", \"A00002\", \"A00002\", \"A00002\", \"A00002\", \"A00002\", \"A00002\", \"A00002\", \"A00006\", \"A00002\", \"A00002\", \"A00002\", \"A00003\", \"A00003\", \"A00002\", \"A00002\", \"A00002\", \"A00002\", \"A00001\", \"A00003\", \"A00002\", \"A00005\", \"A00001\", \"A00002\", \"A00002\", \"A00002\", \"A00002\", \"A00003\", \"A00002\", \"A00003\", \"A00002\", \"A00002\", \"A00002\", \"A00002\", \"A00002\", \"A00002\", \"A00002\", \"A00004\", \"A00002\", \"A00002\", \"A00001\", \"A00003\", \"A00003\", \"A00002\", \"A00002\", \"A00002\", \"A00002\", \"A00002\", \"A00002\", \"A00002\", \"A00003\", \"A00002\", \"A00002\", \"A00002\", \"A00002\", \"A00002\", \"A00001\", \"A00002\", \"A00011\", \"A00002\", \"A00001\", \"A00002\", \"A00003\", \"A00002\", \"A00002\", \"A00003\", \"A00002\", \"A00002\", \"A00002\", \"A00002\", \"A00002\", \"A00002\", \"A00002\", \"A00002\", \"A00002\", \"A00002\", \"A00006\", \"A00002\", \"A00002\", \"A00003\", \"A00002\", \"A00002\", \"A00002\", \"A00003\", \"A00001\", \"A00002\", \"A00003\", \"A00002\", \"A00002\", \"A00003\", \"A00003\", \"A00002\", \"A00003\", \"A00002\", \"A00002\", \"A00002\", \"A00002\", \"A00003\", \"A00002\", \"A00002\", \"A00002\", \"A00002\", \"A00002\", \"A00002\", \"A00002\", \"A00003\", \"A00002\", \"A00002\", \"A00004\", \"A00002\", \"A00002\", \"A00002\", \"A00003\", \"A00002\", \"A00002\", \"A00002\", \"A00002\", \"A00002\", \"A00002\", \"A00002\", \"A00002\", \"A00003\", \"A00003\", \"A00002\", \"A00002\", \"A00002\", \"A00002\", \"A00002\", \"A00002\", \"A00003\", \"A00002\", \"A00002\", \"A00002\", \"A00001\", \"A00002\", \"A00002\", \"A00002\", \"A00002\", \"A00002\", \"A00002\", \"A00003\", \"A00002\", \"A00001\", \"A00002\", \"A00005\", \"A00002\", \"A00002\", \"A00002\", \"A00002\", \"A00002\", \"A00004\", \"A00002\", \"A00003\", \"A00002\", \"A00002\", \"A00002\", \"A00003\", \"A00003\", \"A00002\", \"A00002\", \"A00002\", \"A00002\", \"A00003\", \"A00002\", \"A00002\", \"A00002\", \"A00003\", \"A00002\", \"A00002\", \"A00002\", \"A00001\", \"A00002\", \"A00002\", \"A00002\", \"A00003\", \"A00002\", \"A00002\", \"A00002\", \"A00002\", \"A00002\", \"A00003\", \"A00002\", \"A00002\", \"A00002\", \"A00002\", \"A00002\", \"A00002\", \"A00002\", \"A00002\", \"A00002\", \"A00002\", \"A00002\", \"A00002\", \"A00002\", \"A00003\", \"A00002\", \"A00003\", \"A00002\", \"A00002\", \"A00003\", \"A00001\", \"A00002\", \"A00002\", \"A00002\", \"A00002\", \"A00002\", \"A00003\", \"A00003\", \"A00002\", \"A00002\", \"A00002\", \"A00003\", \"A00002\", \"A00002\", \"A00003\", \"A00002\", \"A00003\", \"A00002\", \"A00002\", \"A00002\", \"A00002\", \"A00002\", \"A00002\", \"A00002\", \"A00002\", \"A00002\", \"A00002\", \"A00002\", \"A00001\", \"A00005\", \"A00002\", \"A00002\", \"A00002\", \"A00003\", \"A00002\", \"A00002\", \"A00005\", \"A00002\", \"A00002\", \"A00003\", \"A00002\", \"A00002\", \"A00002\", \"A00002\", \"A00003\", \"A00003\", \"A00002\", \"A00002\", \"A00002\", \"A00002\", \"A00001\", \"A00002\", \"A00002\", \"A00004\", \"A00002\", \"A00002\", \"A00002\", \"A00002\", \"A00002\", \"A00002\", \"A00002\", \"A00003\", \"A00002\", \"A00002\", \"A00002\", \"A00002\", \"A00002\", \"A00002\", \"A00002\", \"A00002\", \"A00002\", \"A00002\", \"A00002\", \"A00002\", \"A00003\", \"A00002\", \"A00002\", \"A00002\", \"A00002\", \"A00002\", \"A00002\", \"A00002\", \"A00004\", \"A00002\", \"A00002\", \"A00002\", \"A00002\", \"A00002\", \"A00002\", \"A00005\", \"A00011\", \"A00002\", \"A00002\", \"A00002\", \"A00002\", \"A00003\", \"A00002\", \"A00002\", \"A00002\", \"A00002\", \"A00006\", \"A00003\", \"A00003\", \"A00002\", \"A00002\", \"A00003\", \"A00002\", \"A00002\", \"A00002\", \"A00002\", \"A00002\", \"A00001\", \"A00002\", \"A00002\", \"A00002\", \"A00002\", \"A00002\", \"A00002\", \"A00002\", \"A00003\", \"A00002\", \"A00002\", \"A00002\", \"A00002\", \"A00002\", \"A00003\", \"A00003\", \"A00003\", \"A00005\", \"A00002\", \"A00002\", \"A00002\", \"A00002\", \"A00003\", \"A00002\", \"A00002\", \"A00003\", \"A00002\", \"A00002\", \"A00002\", \"A00002\", \"A00002\", \"A00002\", \"A00002\", \"A00002\", \"A00003\", \"A00003\", \"A00002\", \"A00002\", \"A00002\", \"A00002\", \"A00001\", \"A00002\", \"A00002\", \"A00002\", \"A00002\", \"A00002\", \"A00003\", \"A00002\", \"A00002\", \"A00006\", \"A00002\", \"A00002\", \"A00002\", \"A00002\", \"A00003\", \"A00003\", \"A00002\", \"A00003\", \"A00003\", \"A00001\", \"A00002\", \"A00003\", \"A00002\", \"A00002\", \"A00002\", \"A00002\", \"A00002\", \"A00003\", \"A00002\", \"A00002\", \"A00002\", \"A00002\", \"A00002\", \"A00002\", \"A00002\", \"A00002\", \"A00002\", \"A00002\", \"A00002\", \"A00003\", \"A00002\", \"A00002\", \"A00002\", \"A00002\", \"A00002\", \"A00002\", \"A00002\", \"A00002\", \"A00003\", \"A00002\", \"A00002\", \"A00002\", \"A00002\", \"A00003\", \"A00002\", \"A00002\", \"A00002\", \"A00002\", \"A00002\", \"A00002\", \"A00003\", \"A00002\", \"A00002\", \"A00002\", \"A00002\", \"A00002\", \"A00001\", \"A00002\", \"A00002\", \"A00002\", \"A00002\", \"A00002\", \"A00001\", \"A00003\", \"A00002\", \"A00002\", \"A00002\", \"A00002\", \"A00003\", \"A00002\", \"A00002\", \"A00002\", \"A00001\", \"A00002\", \"A00002\", \"A00002\", \"A00002\", \"A00002\", \"A00002\", \"A00002\", \"A00002\", \"A00002\", \"A00002\", \"A00002\", \"A00002\", \"A00002\", \"A00002\", \"A00002\", \"A00002\", \"A00002\", \"A00003\", \"A00003\", \"A00002\", \"A00002\", \"A00002\", \"A00006\", \"A00002\", \"A00002\", \"A00002\", \"A00002\", \"A00001\", \"A00002\", \"A00002\", \"A00002\", \"A00003\", \"A00002\", \"A00002\", \"A00002\", \"A00002\", \"A00002\", \"A00002\", \"A00002\", \"A00002\", \"A00002\", \"A00003\", \"A00002\", \"A00002\", \"A00002\", \"A00002\", \"A00006\", \"A00002\", \"A00002\", \"A00002\", \"A00002\", \"A00003\", \"A00002\", \"A00008\", \"A00002\", \"A00002\", \"A00002\", \"A00002\", \"A00002\", \"A00002\", \"A00002\", \"A00002\", \"A00002\", \"A00003\", \"A00003\", \"A00002\", \"A00002\", \"A00002\", \"A00002\", \"A00002\", \"A00002\", \"A00002\", \"A00003\", \"A00002\", \"A00003\", \"A00002\", \"A00004\", \"A00002\", \"A00002\", \"A00002\", \"A00003\", \"A00002\", \"A00002\", \"A00002\", \"A00002\", \"A00002\", \"A00002\", \"A00003\", \"A00003\", \"A00003\", \"A00002\", \"A00002\", \"A00002\", \"A00001\", \"A00002\", \"A00003\", \"A00003\", \"A00002\", \"A00003\", \"A00003\", \"A00002\", \"A00002\", \"A00002\", \"A00002\", \"A00005\", \"A00002\", \"A00002\", \"A00003\", \"A00002\", \"A00002\", \"A00001\", \"A00003\", \"A00002\", \"A00002\", \"A00002\", \"A00002\", \"A00002\", \"A00002\", \"A00002\", \"A00002\", \"A00002\", \"A00006\", \"A00002\", \"A00002\", \"A00003\", \"A00002\", \"A00003\", \"A00003\", \"A00003\", \"A00002\", \"A00003\", \"A00003\", \"A00006\", \"A00002\", \"A00003\", \"A00003\", \"A00003\", \"A00001\", \"A00003\", \"A00002\", \"A00002\", \"A00002\", \"A00003\", \"A00002\", \"A00001\", \"A00002\", \"A00002\", \"A00001\", \"A00002\", \"A00003\", \"A00002\", \"A00002\", \"A00002\", \"A00003\", \"A00003\", \"A00003\", \"A00002\", \"A00002\", \"A00002\", \"A00002\", \"A00002\", \"A00002\", \"A00002\", \"A00003\", \"A00002\", \"A00002\", \"A00003\", \"A00002\", \"A00002\", \"A00002\", \"A00002\", \"A00002\", \"A00002\", \"A00003\", \"A00002\", \"A00003\", \"A00003\", \"A00003\", \"A00002\", \"A00002\", \"A00002\", \"A00002\", \"A00002\", \"A00002\", \"A00001\", \"A00002\", \"A00003\", \"A00003\", \"A00002\", \"A00002\", \"A00002\", \"A00002\", \"A00003\", \"A00004\", \"A00003\", \"A00002\", \"A00002\", \"A00003\", \"A00003\", \"A00002\", \"A00003\", \"A00003\", \"A00002\", \"A00002\", \"A00002\", \"A00002\", \"A00002\", \"A00003\", \"A00002\", \"A00002\", \"A00002\", \"A00002\", \"A00001\", \"A00002\", \"A00002\", \"A00003\", \"A00002\", \"A00002\", \"A00006\", \"A00002\", \"A00002\", \"A00002\", \"A00002\", \"A00002\", \"A00003\", \"A00002\", \"A00002\", \"A00002\", \"A00002\", \"A00006\", \"A00003\", \"A00008\", \"A00002\", \"A00002\", \"A00002\", \"A00003\", \"A00002\", \"A00005\", \"A00002\", \"A00002\", \"A00002\", \"A00003\", \"A00002\", \"A00002\", \"A00002\", \"A00002\", \"A00003\", \"A00002\", \"A00002\", \"A00002\", \"A00002\", \"A00002\", \"A00003\", \"A00002\", \"A00002\", \"A00003\", \"A00002\", \"A00002\", \"A00002\", \"A00001\", \"A00002\", \"A00002\", \"A00005\", \"A00002\", \"A00005\", \"A00002\", \"A00002\", \"A00002\", \"A00003\", \"A00002\", \"A00002\", \"A00002\", \"A00002\", \"A00004\", \"A00003\", \"A00002\", \"A00002\", \"A00002\", \"A00002\", \"A00002\", \"A00002\", \"A00005\", \"A00002\", \"A00002\", \"A00002\", \"A00002\", \"A00002\", \"A00002\", \"A00002\", \"A00002\", \"A00005\", \"A00003\", \"A00002\", \"A00002\", \"A00004\", \"A00002\", \"A00003\", \"A00002\", \"A00003\", \"A00002\", \"A00002\", \"A00003\", \"A00002\", \"A00002\", \"A00003\", \"A00002\", \"A00003\", \"A00002\", \"A00002\", \"A00002\", \"A00002\", \"A00002\", \"A00002\", \"A00002\", \"A00002\", \"A00002\", \"A00002\", \"A00002\", \"A00002\", \"A00002\", \"A00002\", \"A00002\", \"A00002\", \"A00002\", \"A00002\", \"A00002\", \"A00002\", \"A00002\", \"A00002\", \"A00002\", \"A00002\", \"A00002\", \"A00002\", \"A00002\", \"A00002\", \"A00002\", \"A00002\", \"A00002\", \"A00002\", \"A00002\", \"A00009\", \"A00002\", \"A00002\", \"A00003\", \"A00002\", \"A00002\", \"A00002\", \"A00002\", \"A00002\", \"A00002\", \"A00003\", \"A00002\", \"A00002\", \"A00002\", \"A00003\", \"A00001\", \"A00004\", \"A00002\", \"A00003\", \"A00003\", \"A00002\", \"A00003\", \"A00002\", \"A00002\", \"A00002\", \"A00003\", \"A00002\", \"A00002\", \"A00002\", \"A00002\", \"A00002\", \"A00003\", \"A00003\", \"A00003\", \"A00002\", \"A00002\", \"A00001\", \"A00002\", \"A00002\", \"A00003\", \"A00002\", \"A00002\", \"A00002\", \"A00002\", \"A00002\", \"A00003\", \"A00002\", \"A00002\", \"A00002\", \"A00002\", \"A00002\", \"A00002\", \"A00001\", \"A00002\", \"A00002\", \"A00002\", \"A00005\", \"A00003\", \"A00002\", \"A00002\", \"A00002\", \"A00002\", \"A00002\", \"A00002\", \"A00003\", \"A00002\", \"A00002\", \"A00002\", \"A00002\", \"A00002\", \"A00002\", \"A00002\", \"A00003\", \"A00003\", \"A00001\", \"A00002\", \"A00010\", \"A00002\", \"A00002\", \"A00002\", \"A00002\", \"A00002\", \"A00005\", \"A00002\", \"A00003\", \"A00003\", \"A00002\", \"A00002\", \"A00002\", \"A00002\", \"A00003\", \"A00002\", \"A00002\", \"A00005\", \"A00002\", \"A00002\", \"A00005\", \"A00002\", \"A00002\", \"A00001\", \"A00002\", \"A00002\", \"A00002\", \"A00003\", \"A00002\", \"A00003\", \"A00002\", \"A00002\", \"A00002\", \"A00002\", \"A00003\", \"A00002\", \"A00002\", \"A00002\", \"A00002\", \"A00002\", \"A00002\", \"A00002\", \"A00002\", \"A00002\", \"A00003\", \"A00002\", \"A00001\", \"A00002\", \"A00002\", \"A00002\", \"A00002\", \"A00002\", \"A00002\", \"A00002\", \"A00002\", \"A00002\", \"A00002\", \"A00002\", \"A00003\", \"A00002\", \"A00002\", \"A00002\", \"A00005\", \"A00002\", \"A00003\", \"A00003\", \"A00002\", \"A00002\", \"A00003\", \"A00002\", \"A00001\", \"A00002\", \"A00002\", \"A00002\", \"A00002\", \"A00002\", \"A00002\", \"A00003\", \"A00003\", \"A00002\", \"A00002\", \"A00002\", \"A00002\", \"A00002\", \"A00002\", \"A00002\", \"A00002\", \"A00003\", \"A00005\", \"A00002\", \"A00002\", \"A00002\", \"A00002\", \"A00002\", \"A00002\", \"A00002\", \"A00002\", \"A00002\", \"A00002\", \"A00003\", \"A00003\", \"A00003\", \"A00002\", \"A00002\", \"A00003\", \"A00002\", \"A00002\", \"A00003\", \"A00002\", \"A00002\", \"A00003\", \"A00002\", \"A00003\", \"A00003\", \"A00003\", \"A00002\", \"A00002\", \"A00002\", \"A00002\", \"A00002\", \"A00003\", \"A00002\", \"A00003\", \"A00002\", \"A00003\", \"A00003\", \"A00002\", \"A00002\", \"A00002\", \"A00002\", \"A00003\", \"A00002\", \"A00010\", \"A00002\", \"A00005\", \"A00002\", \"A00002\", \"A00002\", \"A00002\", \"A00002\", \"A00002\", \"A00002\", \"A00002\", \"A00003\", \"A00003\", \"A00003\", \"A00002\", \"A00002\", \"A00002\", \"A00003\", \"A00002\", \"A00002\", \"A00002\", \"A00002\", \"A00003\", \"A00002\", \"A00002\", \"A00002\", \"A00002\", \"A00002\", \"A00003\", \"A00002\", \"A00002\", \"A00011\", \"A00003\", \"A00002\", \"A00002\", \"A00002\", \"A00002\", \"A00002\", \"A00002\", \"A00002\", \"A00002\", \"A00002\", \"A00002\", \"A00003\", \"A00002\", \"A00005\", \"A00002\", \"A00005\", \"A00010\", \"A00002\", \"A00002\", \"A00002\", \"A00002\", \"A00002\", \"A00003\", \"A00003\", \"A00002\", \"A00002\", \"A00002\", \"A00002\", \"A00002\", \"A00006\", \"A00002\", \"A00006\", \"A00002\", \"A00002\", \"A00002\", \"A00003\", \"A00002\", \"A00002\", \"A00003\", \"A00002\", \"A00003\", \"A00002\", \"A00001\", \"A00002\", \"A00002\", \"A00003\", \"A00002\", \"A00002\", \"A00002\", \"A00003\", \"A00006\", \"A00002\", \"A00002\", \"A00003\", \"A00002\", \"A00001\", \"A00002\", \"A00002\", \"A00002\", \"A00003\", \"A00003\", \"A00002\", \"A00002\", \"A00002\", \"A00002\", \"A00003\", \"A00002\", \"A00002\", \"A00005\", \"A00003\", \"A00003\", \"A00003\", \"A00003\", \"A00002\", \"A00002\", \"A00002\", \"A00002\", \"A00002\", \"A00002\", \"A00002\", \"A00002\", \"A00005\", \"A00002\", \"A00002\", \"A00003\", \"A00002\", \"A00002\", \"A00003\", \"A00002\", \"A00002\", \"A00002\", \"A00002\", \"A00002\", \"A00003\", \"A00002\", \"A00002\", \"A00002\", \"A00002\", \"A00002\", \"A00002\", \"A00002\", \"A00002\", \"A00002\", \"A00002\", \"A00005\", \"A00003\", \"A00002\", \"A00002\", \"A00002\", \"A00002\", \"A00002\", \"A00002\", \"A00002\", \"A00002\", \"A00002\", \"A00002\", \"A00002\", \"A00002\", \"A00002\", \"A00002\", \"A00002\", \"A00002\", \"A00002\", \"A00002\", \"A00002\", \"A00002\", \"A00002\", \"A00002\", \"A00002\", \"A00002\", \"A00003\", \"A00002\", \"A00002\", \"A00005\", \"A00005\", \"A00002\", \"A00002\", \"A00002\", \"A00002\", \"A00003\", \"A00002\", \"A00002\", \"A00002\", \"A00002\", \"A00002\", \"A00002\", \"A00002\", \"A00002\", \"A00002\", \"A00002\", \"A00002\", \"A00002\", \"A00002\", \"A00002\", \"A00002\", \"A00003\", \"A00002\", \"A00002\", \"A00002\", \"A00002\", \"A00002\", \"A00002\", \"A00003\", \"A00002\", \"A00002\", \"A00003\", \"A00002\", \"A00002\", \"A00005\", \"A00002\", \"A00002\", \"A00001\", \"A00003\", \"A00005\", \"A00001\", \"A00003\", \"A00005\", \"A00002\", \"A00002\", \"A00001\", \"A00002\", \"A00002\", \"A00002\", \"A00002\", \"A00003\", \"A00002\", \"A00002\", \"A00002\", \"A00002\", \"A00002\", \"A00002\", \"A00003\", \"A00002\", \"A00002\", \"A00001\", \"A00002\", \"A00002\", \"A00003\", \"A00002\", \"A00002\", \"A00003\", \"A00002\", \"A00005\", \"A00002\", \"A00003\", \"A00002\", \"A00003\", \"A00002\", \"A00002\", \"A00002\", \"A00005\", \"A00003\", \"A00002\", \"A00002\", \"A00009\", \"A00003\", \"A00002\", \"A00002\", \"A00002\", \"A00002\", \"A00001\", \"A00002\", \"A00003\", \"A00001\", \"A00002\", \"A00002\", \"A00005\", \"A00001\", \"A00002\", \"A00002\", \"A00002\", \"A00003\", \"A00002\", \"A00002\", \"A00003\", \"A00003\", \"A00002\", \"A00002\", \"A00006\", \"A00002\", \"A00001\", \"A00002\", \"A00002\", \"A00003\", \"A00002\", \"A00002\", \"A00002\", \"A00002\", \"A00002\", \"A00002\", \"A00002\", \"A00002\", \"A00002\", \"A00002\", \"A00007\", \"A00002\", \"A00003\", \"A00002\", \"A00002\", \"A00003\", \"A00002\", \"A00003\", \"A00002\", \"A00002\", \"A00002\", \"A00002\", \"A00003\", \"A00002\", \"A00002\", \"A00002\", \"A00003\", \"A00002\", \"A00003\", \"A00002\", \"A00002\", \"A00002\", \"A00003\", \"A00002\", \"A00002\", \"A00005\", \"A00002\", \"A00002\", \"A00002\", \"A00003\", \"A00003\", \"A00002\", \"A00002\", \"A00003\", \"A00002\", \"A00002\", \"A00002\", \"A00002\", \"A00001\", \"A00003\", \"A00002\", \"A00002\", \"A00002\", \"A00002\", \"A00002\", \"A00002\", \"A00003\", \"A00002\", \"A00002\", \"A00003\", \"A00002\", \"A00003\", \"A00002\", \"A00002\", \"A00002\", \"A00002\", \"A00003\", \"A00002\", \"A00003\", \"A00004\", \"A00002\", \"A00002\", \"A00003\", \"A00002\", \"A00002\", \"A00002\", \"A00002\", \"A00001\", \"A00002\", \"A00002\", \"A00002\", \"A00002\", \"A00002\", \"A00002\", \"A00002\", \"A00002\", \"A00002\", \"A00002\", \"A00003\", \"A00002\", \"A00002\", \"A00002\", \"A00002\", \"A00002\", \"A00002\", \"A00002\", \"A00002\", \"A00002\", \"A00004\", \"A00002\", \"A00001\", \"A00003\", \"A00003\", \"A00002\", \"A00006\", \"A00002\", \"A00003\", \"A00002\", \"A00002\", \"A00002\", \"A00003\", \"A00002\", \"A00002\", \"A00002\", \"A00002\", \"A00002\", \"A00002\", \"A00002\", \"A00002\", \"A00002\", \"A00003\", \"A00005\", \"A00002\", \"A00002\", \"A00002\", \"A00003\", \"A00002\", \"A00002\", \"A00002\", \"A00002\", \"A00002\", \"A00002\", \"A00002\", \"A00003\", \"A00002\", \"A00003\", \"A00003\", \"A00002\", \"A00002\", \"A00002\", \"A00003\", \"A00002\", \"A00002\", \"A00002\", \"A00002\", \"A00002\", \"A00002\", \"A00002\", \"A00003\", \"A00001\", \"A00002\", \"A00002\", \"A00002\", \"A00002\", \"A00001\", \"A00002\", \"A00002\", \"A00002\", \"A00003\", \"A00003\", \"A00003\", \"A00002\", \"A00002\", \"A00002\", \"A00002\", \"A00002\", \"A00003\", \"A00002\", \"A00002\", \"A00002\", \"A00003\", \"A00003\", \"A00002\", \"A00002\", \"A00002\", \"A00002\", \"A00002\", \"A00002\", \"A00002\", \"A00002\", \"A00002\", \"A00003\", \"A00002\", \"A00002\", \"A00002\", \"A00002\", \"A00002\", \"A00002\", \"A00003\", \"A00001\", \"A00002\", \"A00002\", \"A00003\", \"A00002\", \"A00005\", \"A00003\", \"A00003\", \"A00002\", \"A00002\", \"A00002\", \"A00002\", \"A00002\", \"A00001\", \"A00002\", \"A00002\", \"A00002\", \"A00002\", \"A00002\", \"A00002\", \"A00002\", \"A00002\", \"A00001\", \"A00003\", \"A00003\", \"A00003\", \"A00002\", \"A00002\", \"A00005\", \"A00002\", \"A00002\", \"A00002\", \"A00001\", \"A00002\", \"A00005\", \"A00002\", \"A00001\", \"A00005\", \"A00002\", \"A00003\", \"A00002\", \"A00001\", \"A00002\", \"A00002\", \"A00003\", \"A00002\", \"A00002\", \"A00002\", \"A00001\", \"A00002\", \"A00002\", \"A00002\", \"A00002\", \"A00003\", \"A00003\", \"A00003\", \"A00002\", \"A00003\", \"A00003\", \"A00002\", \"A00002\", \"A00002\", \"A00003\", \"A00002\", \"A00002\", \"A00003\", \"A00002\", \"A00001\", \"A00001\", \"A00006\", \"A00002\", \"A00008\", \"A00002\", \"A00003\", \"A00002\", \"A00002\", \"A00003\", \"A00002\", \"A00002\", \"A00002\", \"A00002\", \"A00002\", \"A00002\", \"A00003\", \"A00002\", \"A00002\", \"A00002\", \"A00003\", \"A00003\", \"A00002\", \"A00002\", \"A00002\", \"A00003\", \"A00002\", \"A00005\", \"A00003\", \"A00002\", \"A00002\", \"A00002\", \"A00002\", \"A00002\", \"A00002\", \"A00003\", \"A00002\", \"A00003\", \"A00001\", \"A00001\", \"A00002\", \"A00002\", \"A00002\", \"A00004\", \"A00002\", \"A00002\", \"A00003\", \"A00002\", \"A00002\", \"A00005\", \"A00002\", \"A00002\", \"A00002\", \"A00002\", \"A00002\", \"A00002\", \"A00003\", \"A00002\", \"A00002\", \"A00002\", \"A00003\", \"A00002\", \"A00002\", \"A00003\", \"A00003\", \"A00002\", \"A00002\", \"A00002\", \"A00003\", \"A00003\", \"A00002\", \"A00002\", \"A00002\", \"A00002\", \"A00002\", \"A00002\", \"A00002\", \"A00002\", \"A00003\", \"A00003\", \"A00002\", \"A00005\", \"A00003\", \"A00002\", \"A00002\", \"A00002\", \"A00003\", \"A00003\", \"A00003\", \"A00003\", \"A00003\", \"A00002\", \"A00002\", \"A00002\", \"A00003\", \"A00002\", \"A00002\", \"A00003\", \"A00002\", \"A00002\", \"A00011\", \"A00002\", \"A00002\", \"A00002\", \"A00003\", \"A00002\", \"A00002\", \"A00002\", \"A00002\", \"A00002\", \"A00003\", \"A00002\", \"A00002\", \"A00002\", \"A00002\", \"A00002\", \"A00002\", \"A00002\", \"A00001\", \"A00002\", \"A00002\", \"A00002\", \"A00002\", \"A00002\", \"A00003\", \"A00006\", \"A00002\", \"A00002\", \"A00002\", \"A00002\", \"A00002\", \"A00002\", \"A00003\", \"A00002\", \"A00002\", \"A00002\", \"A00002\", \"A00002\", \"A00002\", \"A00002\", \"A00003\", \"A00002\", \"A00002\", \"A00005\", \"A00002\", \"A00002\", \"A00002\", \"A00002\", \"A00002\", \"A00002\", \"A00001\", \"A00002\", \"A00002\", \"A00002\", \"A00002\", \"A00002\", \"A00005\", \"A00001\", \"A00003\", \"A00002\", \"A00002\", \"A00003\", \"A00003\", \"A00003\", \"A00001\", \"A00002\", \"A00003\", \"A00002\", \"A00002\", \"A00002\", \"A00002\", \"A00002\", \"A00004\", \"A00002\", \"A00002\", \"A00005\", \"A00002\", \"A00001\", \"A00005\", \"A00002\", \"A00002\", \"A00002\", \"A00002\", \"A00002\", \"A00002\", \"A00003\", \"A00002\", \"A00002\", \"A00002\", \"A00005\", \"A00002\", \"A00002\", \"A00002\", \"A00003\", \"A00003\", \"A00002\", \"A00002\", \"A00002\", \"A00002\", \"A00003\", \"A00002\", \"A00002\", \"A00006\", \"A00001\", \"A00002\", \"A00002\", \"A00002\", \"A00002\", \"A00002\", \"A00002\", \"A00002\", \"A00003\", \"A00002\", \"A00002\", \"A00003\", \"A00007\", \"A00003\", \"A00001\", \"A00002\", \"A00002\", \"A00002\", \"A00002\", \"A00002\", \"A00002\", \"A00004\", \"A00003\", \"A00002\", \"A00002\", \"A00003\", \"A00002\", \"A00002\", \"A00002\", \"A00002\", \"A00002\", \"A00002\", \"A00002\", \"A00002\", \"A00003\", \"A00002\", \"A00002\", \"A00002\", \"A00002\", \"A00002\", \"A00002\", \"A00002\", \"A00003\", \"A00002\", \"A00002\", \"A00002\", \"A00002\", \"A00002\", \"A00002\", \"A00002\", \"A00002\", \"A00002\", \"A00002\", \"A00002\", \"A00002\", \"A00002\", \"A00006\", \"A00002\", \"A00002\", \"A00002\", \"A00002\", \"A00003\", \"A00002\", \"A00002\", \"A00004\", \"A00001\", \"A00002\", \"A00003\", \"A00002\", \"A00002\", \"A00003\", \"A00002\", \"A00002\", \"A00001\", \"A00002\", \"A00002\", \"A00002\", \"A00003\", \"A00003\", \"A00006\", \"A00002\", \"A00003\", \"A00005\", \"A00003\", \"A00002\", \"A00003\", \"A00005\", \"A00003\", \"A00002\", \"A00002\", \"A00002\", \"A00002\", \"A00003\", \"A00005\", \"A00002\", \"A00002\", \"A00003\", \"A00002\", \"A00002\", \"A00005\", \"A00001\", \"A00002\", \"A00002\", \"A00002\", \"A00002\", \"A00001\", \"A00002\", \"A00002\", \"A00003\", \"A00002\", \"A00002\", \"A00002\", \"A00002\", \"A00002\", \"A00002\", \"A00002\", \"A00002\", \"A00002\", \"A00003\", \"A00001\", \"A00002\", \"A00002\", \"A00002\", \"A00002\", \"A00002\", \"A00002\", \"A00002\", \"A00003\", \"A00003\", \"A00003\", \"A00002\", \"A00002\", \"A00002\", \"A00002\", \"A00002\", \"A00002\", \"A00002\", \"A00003\", \"A00001\", \"A00002\", \"A00001\", \"A00002\", \"A00002\", \"A00002\", \"A00002\", \"A00003\", \"A00002\", \"A00002\", \"A00002\", \"A00003\", \"A00002\", \"A00003\", \"A00002\", \"A00003\", \"A00002\", \"A00002\", \"A00006\", \"A00002\", \"A00002\", \"A00002\", \"A00002\", \"A00002\", \"A00002\", \"A00002\", \"A00002\", \"A00002\", \"A00002\", \"A00003\", \"A00002\", \"A00002\", \"A00005\", \"A00002\", \"A00002\", \"A00003\", \"A00002\", \"A00002\", \"A00001\", \"A00002\", \"A00002\", \"A00001\", \"A00002\", \"A00002\", \"A00003\", \"A00002\", \"A00003\", \"A00002\", \"A00002\", \"A00003\", \"A00002\", \"A00003\", \"A00001\", \"A00002\", \"A00002\", \"A00002\", \"A00002\", \"A00002\", \"A00002\", \"A00002\", \"A00002\", \"A00001\", \"A00002\", \"A00002\", \"A00002\", \"A00003\", \"A00002\", \"A00003\", \"A00001\", \"A00007\", \"A00003\", \"A00002\", \"A00002\", \"A00003\", \"A00002\", \"A00002\", \"A00002\", \"A00002\", \"A00003\", \"A00003\", \"A00002\", \"A00004\", \"A00001\", \"A00002\", \"A00002\", \"A00003\", \"A00002\", \"A00003\", \"A00002\", \"A00002\", \"A00002\", \"A00002\", \"A00002\", \"A00002\", \"A00002\", \"A00003\", \"A00002\", \"A00003\", \"A00001\", \"A00002\", \"A00002\", \"A00003\", \"A00002\", \"A00002\", \"A00002\", \"A00002\", \"A00002\", \"A00002\", \"A00002\", \"A00002\", \"A00002\", \"A00002\", \"A00009\", \"A00002\", \"A00002\", \"A00001\", \"A00002\", \"A00002\", \"A00003\", \"A00002\", \"A00002\", \"A00002\", \"A00002\", \"A00005\", \"A00003\", \"A00002\", \"A00002\", \"A00002\", \"A00011\", \"A00002\", \"A00001\", \"A00002\", \"A00002\", \"A00003\", \"A00003\", \"A00002\", \"A00002\", \"A00001\", \"A00001\", \"A00002\", \"A00003\", \"A00002\", \"A00002\", \"A00001\", \"A00002\", \"A00002\", \"A00002\", \"A00003\", \"A00002\", \"A00001\", \"A00002\", \"A00003\", \"A00002\", \"A00002\", \"A00002\", \"A00002\", \"A00002\", \"A00005\", \"A00003\", \"A00002\", \"A00001\", \"A00005\", \"A00003\", \"A00002\", \"A00002\", \"A00003\", \"A00002\", \"A00002\", \"A00002\", \"A00002\", \"A00002\", \"A00002\", \"A00002\", \"A00002\", \"A00002\", \"A00002\", \"A00002\", \"A00003\", \"A00001\", \"A00002\", \"A00002\", \"A00002\", \"A00005\", \"A00006\", \"A00004\", \"A00002\", \"A00002\", \"A00003\", \"A00006\", \"A00001\", \"A00002\", \"A00002\", \"A00005\", \"A00002\", \"A00003\", \"A00002\", \"A00002\", \"A00002\", \"A00002\", \"A00002\", \"A00003\", \"A00002\", \"A00002\", \"A00002\", \"A00002\", \"A00003\", \"A00002\", \"A00002\", \"A00005\", \"A00003\", \"A00002\", \"A00002\", \"A00003\", \"A00002\", \"A00003\", \"A00002\", \"A00003\", \"A00002\", \"A00002\", \"A00003\", \"A00001\", \"A00002\", \"A00002\", \"A00002\", \"A00011\", \"A00002\", \"A00002\", \"A00009\", \"A00002\", \"A00002\", \"A00002\", \"A00002\", \"A00002\", \"A00002\", \"A00010\", \"A00009\", \"A00002\", \"A00002\", \"A00003\", \"A00002\", \"A00003\", \"A00002\", \"A00002\", \"A00003\", \"A00002\", \"A00002\", \"A00002\", \"A00002\", \"A00002\", \"A00003\", \"A00002\", \"A00003\", \"A00002\", \"A00002\", \"A00003\", \"A00002\", \"A00002\", \"A00002\", \"A00002\", \"A00003\", \"A00002\", \"A00006\", \"A00002\", \"A00002\", \"A00002\", \"A00002\", \"A00002\", \"A00003\", \"A00001\", \"A00002\", \"A00003\", \"A00002\", \"A00003\", \"A00005\", \"A00002\", \"A00002\", \"A00002\", \"A00002\", \"A00002\", \"A00002\", \"A00002\", \"A00002\", \"A00002\", \"A00002\", \"A00002\", \"A00002\", \"A00002\", \"A00002\", \"A00002\", \"A00002\", \"A00002\", \"A00002\", \"A00002\", \"A00002\", \"A00002\", \"A00002\", \"A00002\", \"A00002\", \"A00002\", \"A00002\", \"A00002\", \"A00002\", \"A00003\", \"A00002\", \"A00002\", \"A00003\", \"A00002\", \"A00002\", \"A00002\", \"A00002\", \"A00002\", \"A00003\", \"A00002\", \"A00001\", \"A00003\", \"A00002\", \"A00002\", \"A00002\", \"A00002\", \"A00003\", \"A00002\", \"A00011\", \"A00002\", \"A00005\", \"A00002\", \"A00002\", \"A00003\", \"A00002\", \"A00002\", \"A00005\", \"A00002\", \"A00003\", \"A00002\", \"A00002\", \"A00002\", \"A00002\", \"A00002\", \"A00002\", \"A00002\", \"A00002\", \"A00002\", \"A00002\", \"A00002\", \"A00003\", \"A00002\", \"A00003\", \"A00002\", \"A00002\", \"A00003\", \"A00002\", \"A00002\", \"A00002\", \"A00002\", \"A00002\", \"A00002\", \"A00002\", \"A00002\", \"A00002\", \"A00002\", \"A00002\", \"A00002\", \"A00002\", \"A00002\", \"A00002\", \"A00002\", \"A00003\", \"A00002\", \"A00002\", \"A00002\", \"A00003\", \"A00001\", \"A00002\", \"A00002\", \"A00011\", \"A00002\", \"A00002\", \"A00002\", \"A00002\", \"A00002\", \"A00002\", \"A00005\", \"A00002\", \"A00002\", \"A00002\", \"A00002\", \"A00002\", \"A00002\", \"A00010\", \"A00002\", \"A00003\", \"A00005\", \"A00003\", \"A00002\", \"A00003\", \"A00002\", \"A00002\", \"A00002\", \"A00003\", \"A00002\", \"A00002\", \"A00002\", \"A00006\", \"A00002\", \"A00002\", \"A00002\", \"A00002\", \"A00003\", \"A00002\", \"A00002\", \"A00002\", \"A00002\", \"A00002\", \"A00002\", \"A00002\", \"A00003\", \"A00001\", \"A00011\", \"A00002\", \"A00002\", \"A00003\", \"A00002\", \"A00005\", \"A00002\", \"A00002\", \"A00002\", \"A00002\", \"A00002\", \"A00003\", \"A00002\", \"A00002\", \"A00001\", \"A00002\", \"A00002\", \"A00002\", \"A00002\", \"A00002\", \"A00002\", \"A00003\", \"A00002\", \"A00003\", \"A00002\", \"A00002\", \"A00001\", \"A00002\", \"A00003\", \"A00003\", \"A00002\", \"A00002\", \"A00002\", \"A00002\", \"A00002\", \"A00002\", \"A00002\", \"A00002\", \"A00003\", \"A00003\", \"A00002\", \"A00002\", \"A00002\", \"A00002\", \"A00002\", \"A00002\", \"A00003\", \"A00007\", \"A00002\", \"A00002\", \"A00002\", \"A00002\", \"A00002\", \"A00002\", \"A00002\", \"A00003\", \"A00002\", \"A00001\", \"A00002\", \"A00002\", \"A00002\", \"A00002\", \"A00002\", \"A00002\", \"A00002\", \"A00002\", \"A00002\", \"A00003\", \"A00002\", \"A00002\", \"A00003\", \"A00003\", \"A00002\", \"A00005\", \"A00002\", \"A00003\", \"A00002\", \"A00003\", \"A00002\", \"A00002\", \"A00002\", \"A00003\", \"A00002\", \"A00005\", \"A00003\", \"A00003\", \"A00002\", \"A00002\", \"A00003\", \"A00002\", \"A00002\", \"A00002\", \"A00002\", \"A00006\", \"A00002\", \"A00002\", \"A00002\", \"A00002\", \"A00002\", \"A00002\", \"A00002\", \"A00002\", \"A00003\", \"A00002\", \"A00003\", \"A00005\", \"A00003\", \"A00002\", \"A00002\", \"A00001\", \"A00002\", \"A00002\", \"A00002\", \"A00002\", \"A00001\", \"A00002\", \"A00002\", \"A00002\", \"A00002\", \"A00003\", \"A00002\", \"A00002\", \"A00002\", \"A00002\", \"A00002\", \"A00002\", \"A00002\", \"A00005\", \"A00003\", \"A00002\", \"A00001\", \"A00002\", \"A00002\", \"A00002\", \"A00003\", \"A00002\", \"A00003\", \"A00002\", \"A00006\", \"A00005\", \"A00002\", \"A00002\", \"A00002\", \"A00002\", \"A00002\", \"A00003\", \"A00002\", \"A00002\", \"A00002\", \"A00002\", \"A00002\", \"A00001\", \"A00003\", \"A00001\", \"A00002\", \"A00011\", \"A00002\", \"A00006\", \"A00002\", \"A00002\", \"A00003\", \"A00002\", \"A00002\", \"A00002\", \"A00002\", \"A00002\", \"A00002\", \"A00002\", \"A00002\", \"A00002\", \"A00002\", \"A00002\", \"A00002\", \"A00002\", \"A00002\", \"A00002\", \"A00002\", \"A00002\", \"A00003\", \"A00002\", \"A00002\", \"A00002\", \"A00002\", \"A00002\", \"A00002\", \"A00002\", \"A00002\", \"A00002\", \"A00002\", \"A00002\", \"A00003\", \"A00002\", \"A00002\", \"A00002\", \"A00002\", \"A00002\", \"A00002\", \"A00002\", \"A00003\", \"A00002\", \"A00002\", \"A00003\", \"A00002\", \"A00002\", \"A00002\", \"A00002\", \"A00002\", \"A00003\", \"A00003\", \"A00002\", \"A00002\", \"A00002\", \"A00002\", \"A00002\", \"A00003\", \"A00002\", \"A00002\", \"A00003\", \"A00002\", \"A00002\", \"A00001\", \"A00002\", \"A00002\", \"A00002\", \"A00002\", \"A00002\", \"A00002\", \"A00002\", \"A00005\", \"A00004\", \"A00003\", \"A00002\", \"A00002\", \"A00005\", \"A00002\", \"A00002\", \"A00001\", \"A00002\", \"A00002\", \"A00002\", \"A00005\", \"A00001\", \"A00002\", \"A00002\", \"A00002\", \"A00003\", \"A00002\", \"A00002\", \"A00002\", \"A00002\", \"A00002\", \"A00002\", \"A00002\", \"A00002\", \"A00002\", \"A00002\", \"A00002\", \"A00002\", \"A00002\", \"A00002\", \"A00002\", \"A00002\", \"A00001\", \"A00003\", \"A00002\", \"A00002\", \"A00002\", \"A00002\", \"A00002\", \"A00003\", \"A00003\", \"A00002\", \"A00002\", \"A00002\", \"A00002\", \"A00003\", \"A00001\", \"A00002\", \"A00002\", \"A00002\", \"A00002\", \"A00002\", \"A00002\", \"A00002\", \"A00002\", \"A00002\", \"A00003\", \"A00002\", \"A00002\", \"A00002\", \"A00002\", \"A00002\", \"A00002\", \"A00002\", \"A00002\", \"A00002\", \"A00002\", \"A00002\", \"A00002\", \"A00003\", \"A00002\", \"A00002\", \"A00002\", \"A00002\", \"A00002\", \"A00002\", \"A00002\", \"A00003\", \"A00003\", \"A00001\", \"A00003\", \"A00003\", \"A00002\", \"A00002\", \"A00002\", \"A00002\", \"A00002\", \"A00002\", \"A00002\", \"A00002\", \"A00002\", \"A00006\", \"A00002\", \"A00002\", \"A00005\", \"A00003\", \"A00002\", \"A00002\", \"A00002\", \"A00002\", \"A00002\", \"A00002\", \"A00002\", \"A00002\", \"A00002\", \"A00002\", \"A00002\", \"A00005\", \"A00002\", \"A00003\", \"A00002\", \"A00002\", \"A00002\", \"A00002\", \"A00003\", \"A00002\", \"A00002\", \"A00003\", \"A00002\", \"A00003\", \"A00002\", \"A00002\", \"A00003\", \"A00002\", \"A00002\", \"A00002\", \"A00002\", \"A00002\", \"A00002\", \"A00002\", \"A00001\", \"A00002\", \"A00002\", \"A00002\", \"A00003\", \"A00002\", \"A00003\", \"A00002\", \"A00006\", \"A00002\", \"A00002\", \"A00002\", \"A00001\", \"A00002\", \"A00002\", \"A00002\", \"A00002\", \"A00002\", \"A00003\", \"A00002\", \"A00002\", \"A00002\", \"A00002\", \"A00002\", \"A00003\", \"A00002\", \"A00002\", \"A00002\", \"A00002\", \"A00002\", \"A00010\", \"A00002\", \"A00002\", \"A00001\", \"A00001\", \"A00002\", \"A00003\", \"A00002\", \"A00003\", \"A00003\", \"A00002\", \"A00002\", \"A00002\", \"A00002\", \"A00002\", \"A00002\", \"A00002\", \"A00002\", \"A00002\", \"A00002\", \"A00003\", \"A00002\", \"A00002\", \"A00002\", \"A00002\", \"A00002\", \"A00002\", \"A00003\", \"A00002\", \"A00002\", \"A00002\", \"A00002\", \"A00002\", \"A00003\", \"A00002\", \"A00002\", \"A00002\", \"A00002\", \"A00002\", \"A00002\", \"A00002\", \"A00002\", \"A00002\", \"A00002\", \"A00002\", \"A00002\", \"A00002\", \"A00002\", \"A00004\", \"A00002\", \"A00003\", \"A00002\", \"A00002\", \"A00002\", \"A00003\", \"A00003\", \"A00002\", \"A00002\", \"A00002\", \"A00002\", \"A00002\", \"A00002\", \"A00002\", \"A00002\", \"A00002\", \"A00002\", \"A00002\", \"A00002\", \"A00002\", \"A00002\", \"A00002\", \"A00002\", \"A00002\", \"A00002\", \"A00002\", \"A00002\", \"A00001\", \"A00002\", \"A00002\", \"A00002\", \"A00002\", \"A00002\", \"A00002\", \"A00002\", \"A00002\", \"A00002\", \"A00002\", \"A00002\", \"A00002\", \"A00002\", \"A00003\", \"A00002\", \"A00002\", \"A00002\", \"A00002\", \"A00002\", \"A00002\", \"A00002\", \"A00002\", \"A00002\", \"A00002\", \"A00002\", \"A00002\", \"A00002\", \"A00003\", \"A00007\", \"A00002\", \"A00003\", \"A00002\", \"A00002\", \"A00005\", \"A00003\", \"A00002\", \"A00002\", \"A00002\", \"A00005\", \"A00003\", \"A00002\", \"A00002\", \"A00002\", \"A00003\", \"A00001\", \"A00003\", \"A00002\", \"A00002\", \"A00010\", \"A00002\", \"A00003\", \"A00002\", \"A00002\", \"A00002\", \"A00002\", \"A00002\", \"A00003\", \"A00002\", \"A00002\", \"A00002\", \"A00002\", \"A00002\", \"A00002\", \"A00003\", \"A00002\", \"A00002\", \"A00005\", \"A00002\", \"A00002\", \"A00002\", \"A00002\", \"A00002\", \"A00002\", \"A00002\", \"A00002\", \"A00002\", \"A00003\", \"A00002\", \"A00003\", \"A00006\", \"A00003\", \"A00003\", \"A00002\", \"A00003\", \"A00002\", \"A00003\", \"A00002\", \"A00002\", \"A00002\", \"A00002\", \"A00002\", \"A00003\", \"A00002\", \"A00011\", \"A00002\", \"A00002\", \"A00002\", \"A00003\", \"A00003\", \"A00002\", \"A00002\", \"A00003\", \"A00002\", \"A00002\", \"A00003\", \"A00002\", \"A00002\", \"A00002\", \"A00002\", \"A00002\", \"A00005\", \"A00003\", \"A00002\", \"A00002\", \"A00002\", \"A00002\", \"A00002\", \"A00002\", \"A00002\", \"A00003\", \"A00002\", \"A00002\", \"A00002\", \"A00004\", \"A00001\", \"A00002\", \"A00002\", \"A00002\", \"A00002\", \"A00002\", \"A00002\", \"A00002\", \"A00002\", \"A00003\", \"A00002\", \"A00001\", \"A00001\", \"A00003\", \"A00002\", \"A00002\", \"A00005\", \"A00002\", \"A00002\", \"A00002\", \"A00003\", \"A00005\", \"A00002\", \"A00002\", \"A00002\", \"A00002\", \"A00005\", \"A00002\", \"A00002\", \"A00002\", \"A00002\", \"A00002\", \"A00002\", \"A00002\", \"A00002\", \"A00002\", \"A00002\", \"A00002\", \"A00002\", \"A00003\", \"A00002\", \"A00002\", \"A00002\", \"A00002\", \"A00002\", \"A00002\", \"A00002\", \"A00002\", \"A00002\", \"A00005\", \"A00002\", \"A00003\", \"A00002\", \"A00002\", \"A00002\", \"A00003\", \"A00002\", \"A00002\", \"A00005\", \"A00003\", \"A00011\", \"A00002\", \"A00002\", \"A00008\", \"A00003\", \"A00003\", \"A00002\", \"A00002\", \"A00002\", \"A00002\", \"A00002\", \"A00004\", \"A00002\", \"A00002\", \"A00002\", \"A00002\", \"A00003\", \"A00002\", \"A00002\", \"A00002\", \"A00002\", \"A00002\", \"A00002\", \"A00002\", \"A00003\", \"A00001\", \"A00002\", \"A00002\", \"A00003\", \"A00002\", \"A00002\", \"A00002\", \"A00002\", \"A00002\", \"A00002\", \"A00005\", \"A00001\", \"A00002\", \"A00002\", \"A00002\", \"A00002\", \"A00002\", \"A00002\", \"A00002\", \"A00002\", \"A00002\", \"A00002\", \"A00002\", \"A00002\", \"A00002\", \"A00002\", \"A00003\", \"A00003\", \"A00002\", \"A00002\", \"A00002\", \"A00002\", \"A00002\", \"A00002\", \"A00002\", \"A00002\", \"A00002\", \"A00002\", \"A00002\", \"A00002\", \"A00002\", \"A00002\", \"A00002\", \"A00002\", \"A00002\", \"A00010\", \"A00002\", \"A00002\", \"A00002\", \"A00002\", \"A00003\", \"A00002\", \"A00005\", \"A00003\", \"A00002\", \"A00002\", \"A00002\", \"A00002\", \"A00002\", \"A00002\", \"A00002\", \"A00002\", \"A00002\", \"A00001\", \"A00003\", \"A00001\", \"A00001\", \"A00002\", \"A00002\", \"A00001\", \"A00003\", \"A00002\", \"A00002\", \"A00002\", \"A00002\", \"A00002\", \"A00002\", \"A00002\", \"A00002\", \"A00003\", \"A00003\", \"A00003\", \"A00002\", \"A00002\", \"A00002\", \"A00002\", \"A00002\", \"A00001\", \"A00002\", \"A00002\", \"A00002\", \"A00002\", \"A00002\", \"A00002\", \"A00002\", \"A00002\", \"A00002\", \"A00002\", \"A00002\", \"A00002\", \"A00002\", \"A00002\", \"A00003\", \"A00002\", \"A00002\", \"A00002\", \"A00002\", \"A00002\", \"A00002\", \"A00002\", \"A00002\", \"A00002\", \"A00002\", \"A00002\", \"A00001\", \"A00002\", \"A00002\", \"A00002\", \"A00002\", \"A00002\", \"A00002\", \"A00003\", \"A00002\", \"A00002\", \"A00002\", \"A00002\", \"A00002\", \"A00003\", \"A00001\", \"A00002\", \"A00002\", \"A00002\", \"A00002\", \"A00002\", \"A00006\", \"A00002\", \"A00002\", \"A00002\", \"A00003\", \"A00002\", \"A00002\", \"A00003\", \"A00002\", \"A00002\", \"A00003\", \"A00002\", \"A00002\", \"A00002\", \"A00002\", \"A00003\", \"A00002\", \"A00002\", \"A00003\", \"A00003\", \"A00002\", \"A00001\", \"A00002\", \"A00002\", \"A00002\", \"A00002\", \"A00003\", \"A00002\", \"A00002\", \"A00002\", \"A00002\", \"A00002\", \"A00002\", \"A00002\", \"A00002\", \"A00002\", \"A00006\", \"A00002\", \"A00006\", \"A00002\", \"A00002\", \"A00002\", \"A00002\", \"A00002\", \"A00002\", \"A00002\", \"A00002\", \"A00003\", \"A00003\", \"A00002\", \"A00002\", \"A00002\", \"A00002\", \"A00002\", \"A00002\", \"A00002\", \"A00002\", \"A00002\", \"A00002\", \"A00002\", \"A00002\", \"A00002\", \"A00002\", \"A00002\", \"A00002\", \"A00003\", \"A00009\", \"A00002\", \"A00002\", \"A00003\", \"A00002\", \"A00002\", \"A00002\", \"A00002\", \"A00003\", \"A00004\", \"A00002\", \"A00002\", \"A00002\", \"A00002\", \"A00002\", \"A00005\", \"A00002\", \"A00004\", \"A00002\", \"A00002\", \"A00003\", \"A00002\", \"A00002\", \"A00002\", \"A00003\", \"A00003\", \"A00002\", \"A00002\", \"A00002\", \"A00002\", \"A00002\", \"A00002\", \"A00002\", \"A00002\", \"A00002\", \"A00002\", \"A00003\", \"A00002\", \"A00002\", \"A00002\", \"A00003\", \"A00002\", \"A00002\", \"A00002\", \"A00002\", \"A00002\", \"A00003\", \"A00003\", \"A00002\", \"A00002\", \"A00003\", \"A00002\", \"A00002\", \"A00002\", \"A00002\", \"A00001\", \"A00003\", \"A00002\", \"A00003\", \"A00002\", \"A00002\", \"A00003\", \"A00003\", \"A00003\", \"A00002\", \"A00002\", \"A00002\", \"A00002\", \"A00002\", \"A00002\", \"A00002\", \"A00002\", \"A00003\", \"A00002\", \"A00003\", \"A00004\", \"A00002\", \"A00003\", \"A00002\", \"A00002\", \"A00002\", \"A00002\", \"A00002\", \"A00002\", \"A00003\", \"A00002\", \"A00002\", \"A00002\", \"A00002\", \"A00002\", \"A00003\", \"A00002\", \"A00002\", \"A00002\", \"A00002\", \"A00003\", \"A00002\", \"A00002\", \"A00011\", \"A00002\", \"A00002\", \"A00002\", \"A00002\", \"A00003\", \"A00001\", \"A00002\", \"A00002\", \"A00005\", \"A00002\", \"A00002\", \"A00001\", \"A00003\", \"A00003\", \"A00002\", \"A00002\", \"A00002\", \"A00002\", \"A00003\", \"A00002\", \"A00002\", \"A00002\", \"A00002\", \"A00002\", \"A00002\", \"A00002\", \"A00002\", \"A00003\", \"A00002\", \"A00002\", \"A00002\", \"A00002\", \"A00003\", \"A00002\", \"A00003\", \"A00002\", \"A00002\", \"A00002\", \"A00002\", \"A00002\", \"A00003\", \"A00005\", \"A00003\", \"A00003\", \"A00002\", \"A00002\", \"A00002\", \"A00003\", \"A00002\", \"A00002\", \"A00002\", \"A00002\", \"A00002\", \"A00003\", \"A00002\", \"A00002\", \"A00002\", \"A00002\", \"A00006\", \"A00001\", \"A00002\", \"A00002\", \"A00005\", \"A00002\", \"A00002\", \"A00002\", \"A00003\", \"A00002\", \"A00002\", \"A00002\", \"A00002\", \"A00002\", \"A00002\", \"A00002\", \"A00002\", \"A00002\", \"A00002\", \"A00003\", \"A00002\", \"A00002\", \"A00002\", \"A00003\", \"A00002\", \"A00002\", \"A00002\", \"A00002\", \"A00002\", \"A00002\", \"A00002\", \"A00002\", \"A00002\", \"A00002\", \"A00002\", \"A00001\", \"A00002\", \"A00002\", \"A00002\", \"A00002\", \"A00002\", \"A00002\", \"A00003\", \"A00002\", \"A00002\", \"A00002\", \"A00001\", \"A00005\", \"A00001\", \"A00002\", \"A00002\", \"A00002\", \"A00002\", \"A00002\", \"A00003\", \"A00002\", \"A00001\", \"A00003\", \"A00002\", \"A00002\", \"A00002\", \"A00002\", \"A00003\", \"A00003\", \"A00002\", \"A00002\", \"A00003\", \"A00002\", \"A00002\", \"A00010\", \"A00003\", \"A00005\", \"A00001\", \"A00002\", \"A00002\", \"A00002\", \"A00003\", \"A00002\", \"A00002\", \"A00002\", \"A00002\", \"A00002\", \"A00001\", \"A00002\", \"A00002\", \"A00002\", \"A00002\", \"A00002\", \"A00002\", \"A00002\", \"A00002\", \"A00002\", \"A00003\", \"A00003\", \"A00002\", \"A00002\", \"A00002\", \"A00005\", \"A00002\", \"A00002\", \"A00002\", \"A00002\", \"A00003\", \"A00003\", \"A00002\", \"A00002\", \"A00002\", \"A00001\", \"A00002\", \"A00002\", \"A00002\", \"A00006\", \"A00003\", \"A00002\", \"A00001\", \"A00002\", \"A00002\", \"A00003\", \"A00002\", \"A00002\", \"A00001\", \"A00002\", \"A00002\", \"A00002\", \"A00002\", \"A00002\", \"A00002\", \"A00002\", \"A00002\", \"A00002\", \"A00002\", \"A00002\", \"A00002\", \"A00002\", \"A00002\", \"A00001\", \"A00002\", \"A00003\", \"A00002\", \"A00002\", \"A00002\", \"A00002\", \"A00002\", \"A00002\", \"A00002\", \"A00002\", \"A00002\", \"A00001\", \"A00002\", \"A00002\", \"A00002\", \"A00002\", \"A00001\", \"A00001\", \"A00003\", \"A00003\", \"A00002\", \"A00005\", \"A00002\", \"A00003\", \"A00002\", \"A00003\", \"A00002\", \"A00002\", \"A00002\", \"A00006\", \"A00002\", \"A00002\", \"A00003\", \"A00002\", \"A00002\", \"A00002\", \"A00002\", \"A00002\", \"A00002\", \"A00002\", \"A00002\", \"A00002\", \"A00002\", \"A00003\", \"A00002\", \"A00002\", \"A00002\", \"A00002\", \"A00002\", \"A00002\", \"A00002\", \"A00003\", \"A00002\", \"A00002\", \"A00002\", \"A00003\", \"A00002\", \"A00002\", \"A00002\", \"A00002\", \"A00005\", \"A00002\", \"A00002\", \"A00002\", \"A00002\", \"A00002\", \"A00002\", \"A00002\", \"A00002\", \"A00002\", \"A00002\", \"A00002\", \"A00002\", \"A00002\", \"A00002\", \"A00001\", \"A00002\", \"A00002\", \"A00002\", \"A00002\", \"A00002\", \"A00002\", \"A00002\", \"A00002\", \"A00001\", \"A00002\", \"A00003\", \"A00002\", \"A00002\", \"A00002\", \"A00002\", \"A00002\", \"A00003\", \"A00002\", \"A00003\", \"A00001\", \"A00002\", \"A00003\", \"A00003\", \"A00003\", \"A00010\", \"A00002\", \"A00002\", \"A00003\", \"A00002\", \"A00002\", \"A00003\", \"A00002\", \"A00002\", \"A00002\", \"A00002\", \"A00002\", \"A00002\", \"A00002\", \"A00002\", \"A00002\", \"A00002\", \"A00003\", \"A00003\", \"A00003\", \"A00002\", \"A00002\", \"A00002\", \"A00002\", \"A00002\", \"A00003\", \"A00002\", \"A00005\", \"A00002\", \"A00002\", \"A00002\", \"A00002\", \"A00002\", \"A00002\", \"A00003\", \"A00002\", \"A00002\", \"A00002\", \"A00002\", \"A00002\", \"A00003\", \"A00002\", \"A00003\", \"A00003\", \"A00002\", \"A00011\", \"A00002\", \"A00001\", \"A00002\", \"A00002\", \"A00002\", \"A00001\", \"A00002\", \"A00002\", \"A00002\", \"A00003\", \"A00003\", \"A00003\", \"A00002\", \"A00006\", \"A00005\", \"A00003\", \"A00002\", \"A00002\", \"A00002\", \"A00002\", \"A00002\", \"A00002\", \"A00002\", \"A00002\", \"A00002\", \"A00002\", \"A00003\", \"A00002\", \"A00003\", \"A00002\", \"A00002\", \"A00003\", \"A00001\", \"A00002\", \"A00002\", \"A00003\", \"A00001\", \"A00002\", \"A00002\", \"A00003\", \"A00002\", \"A00002\", \"A00002\", \"A00002\", \"A00003\", \"A00002\", \"A00002\", \"A00002\", \"A00002\", \"A00002\", \"A00002\", \"A00002\", \"A00002\", \"A00002\", \"A00002\", \"A00002\", \"A00002\", \"A00002\", \"A00002\", \"A00011\", \"A00002\", \"A00002\", \"A00003\", \"A00002\", \"A00002\", \"A00002\", \"A00002\", \"A00002\", \"A00003\", \"A00003\", \"A00002\", \"A00002\", \"A00001\", \"A00001\", \"A00002\", \"A00002\", \"A00005\", \"A00001\", \"A00003\", \"A00002\", \"A00002\", \"A00002\", \"A00002\", \"A00002\", \"A00003\", \"A00002\", \"A00003\", \"A00001\", \"A00002\", \"A00002\", \"A00002\", \"A00002\", \"A00002\", \"A00002\", \"A00002\", \"A00002\", \"A00002\", \"A00003\", \"A00001\", \"A00002\", \"A00002\", \"A00002\", \"A00002\", \"A00002\", \"A00002\", \"A00003\", \"A00002\", \"A00002\", \"A00002\", \"A00002\", \"A00003\", \"A00002\", \"A00002\", \"A00001\", \"A00002\", \"A00002\", \"A00002\", \"A00002\", \"A00002\", \"A00002\", \"A00002\", \"A00002\", \"A00002\", \"A00002\", \"A00002\", \"A00002\", \"A00002\", \"A00005\", \"A00002\", \"A00002\", \"A00002\", \"A00002\", \"A00002\", \"A00002\", \"A00002\", \"A00002\", \"A00003\", \"A00002\", \"A00002\", \"A00001\", \"A00002\", \"A00002\", \"A00002\", \"A00003\", \"A00002\", \"A00003\", \"A00002\", \"A00002\", \"A00003\", \"A00002\", \"A00002\", \"A00002\", \"A00002\", \"A00002\", \"A00002\", \"A00002\", \"A00007\", \"A00002\", \"A00002\", \"A00002\", \"A00002\", \"A00002\", \"A00002\", \"A00002\", \"A00002\", \"A00003\", \"A00002\", \"A00002\", \"A00002\", \"A00002\", \"A00002\", \"A00001\", \"A00002\", \"A00002\", \"A00003\", \"A00002\", \"A00002\", \"A00002\", \"A00002\", \"A00002\", \"A00002\", \"A00003\", \"A00002\", \"A00003\", \"A00002\", \"A00002\", \"A00002\", \"A00003\", \"A00002\", \"A00002\", \"A00002\", \"A00002\", \"A00002\", \"A00001\", \"A00002\", \"A00002\", \"A00002\", \"A00002\", \"A00002\", \"A00002\", \"A00002\", \"A00002\", \"A00003\", \"A00002\", \"A00002\", \"A00002\", \"A00002\", \"A00005\", \"A00002\", \"A00003\", \"A00006\", \"A00002\", \"A00002\", \"A00003\", \"A00002\", \"A00002\", \"A00002\", \"A00002\", \"A00003\", \"A00003\", \"A00002\", \"A00002\", \"A00002\", \"A00002\", \"A00002\", \"A00002\", \"A00002\", \"A00002\", \"A00002\", \"A00002\", \"A00003\", \"A00002\", \"A00003\", \"A00002\", \"A00002\", \"A00002\", \"A00002\", \"A00002\", \"A00002\", \"A00003\", \"A00002\", \"A00002\", \"A00002\", \"A00002\", \"A00006\", \"A00002\", \"A00003\", \"A00002\", \"A00002\", \"A00002\", \"A00003\", \"A00003\", \"A00002\", \"A00002\", \"A00002\", \"A00002\", \"A00002\", \"A00003\", \"A00002\", \"A00002\", \"A00003\", \"A00003\", \"A00001\", \"A00001\", \"A00002\", \"A00002\", \"A00003\", \"A00002\", \"A00003\", \"A00003\", \"A00002\", \"A00002\", \"A00003\", \"A00002\", \"A00002\", \"A00002\", \"A00002\", \"A00002\", \"A00002\", \"A00002\", \"A00002\", \"A00002\", \"A00002\", \"A00002\", \"A00002\", \"A00003\", \"A00002\", \"A00002\", \"A00002\", \"A00002\", \"A00003\", \"A00002\", \"A00002\", \"A00003\", \"A00003\", \"A00002\", \"A00002\", \"A00002\", \"A00002\", \"A00005\", \"A00002\", \"A00002\", \"A00003\", \"A00002\", \"A00002\", \"A00001\", \"A00002\", \"A00002\", \"A00002\", \"A00003\", \"A00003\", \"A00002\", \"A00002\", \"A00002\", \"A00003\", \"A00002\", \"A00002\", \"A00003\", \"A00002\", \"A00002\", \"A00002\", \"A00002\", \"A00002\", \"A00002\", \"A00002\", \"A00003\", \"A00002\", \"A00002\", \"A00002\", \"A00002\", \"A00002\", \"A00003\", \"A00002\", \"A00002\", \"A00002\", \"A00003\", \"A00002\", \"A00003\", \"A00002\", \"A00011\", \"A00003\", \"A00003\", \"A00005\", \"A00002\", \"A00003\", \"A00003\", \"A00003\", \"A00002\", \"A00002\", \"A00002\", \"A00002\", \"A00003\", \"A00002\", \"A00003\", \"A00002\", \"A00006\", \"A00003\", \"A00010\", \"A00002\", \"A00002\", \"A00002\", \"A00002\", \"A00003\", \"A00003\", \"A00003\", \"A00002\", \"A00002\", \"A00003\", \"A00002\", \"A00002\", \"A00002\", \"A00002\", \"A00002\", \"A00002\", \"A00003\", \"A00002\", \"A00002\", \"A00002\", \"A00002\", \"A00011\", \"A00003\", \"A00002\", \"A00002\", \"A00003\", \"A00002\", \"A00002\", \"A00002\", \"A00002\", \"A00001\", \"A00002\", \"A00002\", \"A00002\", \"A00002\", \"A00002\", \"A00001\", \"A00003\", \"A00002\", \"A00002\", \"A00002\", \"A00003\", \"A00003\", \"A00001\", \"A00002\", \"A00002\", \"A00002\", \"A00005\", \"A00002\", \"A00002\", \"A00002\", \"A00003\", \"A00002\", \"A00003\", \"A00002\", \"A00003\", \"A00002\", \"A00003\", \"A00002\", \"A00002\", \"A00001\", \"A00003\", \"A00002\", \"A00002\", \"A00003\", \"A00002\", \"A00003\", \"A00002\", \"A00002\", \"A00003\", \"A00003\", \"A00002\", \"A00002\", \"A00002\", \"A00001\", \"A00002\", \"A00003\", \"A00002\", \"A00002\", \"A00002\", \"A00011\", \"A00002\", \"A00001\", \"A00002\", \"A00002\", \"A00002\", \"A00003\", \"A00002\", \"A00003\", \"A00002\", \"A00002\", \"A00002\", \"A00002\", \"A00002\", \"A00002\", \"A00002\", \"A00002\", \"A00002\", \"A00002\", \"A00002\", \"A00002\", \"A00003\", \"A00003\", \"A00002\", \"A00001\", \"A00002\", \"A00002\", \"A00002\", \"A00003\", \"A00002\", \"A00001\", \"A00002\", \"A00002\", \"A00003\", \"A00002\", \"A00002\", \"A00002\", \"A00002\", \"A00001\", \"A00002\", \"A00002\", \"A00002\", \"A00003\", \"A00003\", \"A00002\", \"A00002\", \"A00002\", \"A00002\", \"A00003\", \"A00003\", \"A00002\", \"A00002\", \"A00002\", \"A00002\", \"A00002\", \"A00002\", \"A00002\", \"A00002\", \"A00005\", \"A00003\", \"A00003\", \"A00002\", \"A00002\", \"A00002\", \"A00002\", \"A00006\", \"A00002\", \"A00003\", \"A00002\"], \"xaxis\": \"x\", \"yaxis\": \"y\"}, {\"alignmentgroup\": \"True\", \"bingroup\": \"x\", \"hoverlabel\": {\"namelength\": 0}, \"hovertemplate\": \"gender=male<br>Dominant_A=%{x}<br>count=%{y}\", \"legendgroup\": \"gender=male\", \"marker\": {\"color\": \"#EF553B\"}, \"name\": \"gender=male\", \"offsetgroup\": \"gender=male\", \"orientation\": \"v\", \"showlegend\": true, \"type\": \"histogram\", \"x\": [\"A00001\", \"A00001\", \"A00002\", \"A00002\", \"A00001\", \"A00004\", \"A00002\", \"A00001\", \"A00001\", \"A00001\", \"A00001\", \"A00002\", \"A00001\", \"A00002\", \"A00001\", \"A00001\", \"A00001\", \"A00001\", \"A00003\", \"A00001\", \"A00003\", \"A00003\", \"A00002\", \"A00001\", \"A00001\", \"A00002\", \"A00004\", \"A00002\", \"A00001\", \"A00001\", \"A00001\", \"A00002\", \"A00001\", \"A00001\", \"A00001\", \"A00001\", \"A00002\", \"A00002\", \"A00001\", \"A00002\", \"A00001\", \"A00001\", \"A00001\", \"A00001\", \"A00001\", \"A00004\", \"A00001\", \"A00005\", \"A00002\", \"A00001\", \"A00001\", \"A00001\", \"A00001\", \"A00001\", \"A00002\", \"A00002\", \"A00001\", \"A00002\", \"A00001\", \"A00002\", \"A00001\", \"A00002\", \"A00001\", \"A00004\", \"A00001\", \"A00001\", \"A00001\", \"A00002\", \"A00001\", \"A00002\", \"A00001\", \"A00002\", \"A00001\", \"A00002\", \"A00004\", \"A00001\", \"A00002\", \"A00001\", \"A00001\", \"A00004\", \"A00002\", \"A00003\", \"A00002\", \"A00002\", \"A00001\", \"A00003\", \"A00001\", \"A00001\", \"A00001\", \"A00001\", \"A00001\", \"A00004\", \"A00002\", \"A00002\", \"A00001\", \"A00001\", \"A00001\", \"A00010\", \"A00001\", \"A00001\", \"A00001\", \"A00001\", \"A00001\", \"A00002\", \"A00002\", \"A00001\", \"A00002\", \"A00001\", \"A00002\", \"A00001\", \"A00002\", \"A00004\", \"A00002\", \"A00002\", \"A00001\", \"A00001\", \"A00001\", \"A00001\", \"A00001\", \"A00001\", \"A00001\", \"A00001\", \"A00003\", \"A00001\", \"A00001\", \"A00002\", \"A00001\", \"A00002\", \"A00001\", \"A00001\", \"A00002\", \"A00001\", \"A00001\", \"A00002\", \"A00001\", \"A00001\", \"A00001\", \"A00001\", \"A00001\", \"A00002\", \"A00002\", \"A00001\", \"A00010\", \"A00003\", \"A00003\", \"A00001\", \"A00002\", \"A00001\", \"A00002\", \"A00001\", \"A00002\", \"A00001\", \"A00002\", \"A00001\", \"A00002\", \"A00001\", \"A00001\", \"A00001\", \"A00001\", \"A00001\", \"A00002\", \"A00002\", \"A00001\", \"A00003\", \"A00001\", \"A00002\", \"A00001\", \"A00002\", \"A00001\", \"A00001\", \"A00002\", \"A00002\", \"A00004\", \"A00001\", \"A00005\", \"A00001\", \"A00002\", \"A00001\", \"A00002\", \"A00001\", \"A00001\", \"A00001\", \"A00002\", \"A00001\", \"A00002\", \"A00003\", \"A00001\", \"A00001\", \"A00001\", \"A00002\", \"A00002\", \"A00001\", \"A00001\", \"A00001\", \"A00001\", \"A00001\", \"A00001\", \"A00003\", \"A00001\", \"A00002\", \"A00001\", \"A00002\", \"A00001\", \"A00002\", \"A00001\", \"A00003\", \"A00001\", \"A00001\", \"A00002\", \"A00001\", \"A00001\", \"A00001\", \"A00001\", \"A00001\", \"A00002\", \"A00001\", \"A00004\", \"A00001\", \"A00002\", \"A00001\", \"A00001\", \"A00001\", \"A00002\", \"A00002\", \"A00001\", \"A00001\", \"A00004\", \"A00001\", \"A00002\", \"A00001\", \"A00001\", \"A00004\", \"A00001\", \"A00006\", \"A00002\", \"A00001\", \"A00001\", \"A00002\", \"A00001\", \"A00001\", \"A00002\", \"A00001\", \"A00001\", \"A00001\", \"A00003\", \"A00001\", \"A00003\", \"A00002\", \"A00001\", \"A00001\", \"A00002\", \"A00002\", \"A00001\", \"A00003\", \"A00001\", \"A00001\", \"A00001\", \"A00001\", \"A00002\", \"A00002\", \"A00002\", \"A00002\", \"A00001\", \"A00003\", \"A00001\", \"A00001\", \"A00001\", \"A00002\", \"A00003\", \"A00002\", \"A00001\", \"A00002\", \"A00001\", \"A00002\", \"A00001\", \"A00002\", \"A00002\", \"A00002\", \"A00001\", \"A00001\", \"A00002\", \"A00002\", \"A00001\", \"A00001\", \"A00001\", \"A00001\", \"A00001\", \"A00001\", \"A00001\", \"A00001\", \"A00002\", \"A00001\", \"A00001\", \"A00001\", \"A00001\", \"A00001\", \"A00001\", \"A00001\", \"A00004\", \"A00002\", \"A00004\", \"A00004\", \"A00001\", \"A00001\", \"A00002\", \"A00001\", \"A00001\", \"A00001\", \"A00002\", \"A00001\", \"A00002\", \"A00002\", \"A00002\", \"A00002\", \"A00002\", \"A00001\", \"A00001\", \"A00003\", \"A00001\", \"A00001\", \"A00001\", \"A00001\", \"A00001\", \"A00001\", \"A00002\", \"A00001\", \"A00002\", \"A00002\", \"A00001\", \"A00001\", \"A00002\", \"A00001\", \"A00001\", \"A00010\", \"A00001\", \"A00002\", \"A00002\", \"A00001\", \"A00002\", \"A00001\", \"A00001\", \"A00001\", \"A00003\", \"A00001\", \"A00003\", \"A00001\", \"A00001\", \"A00001\", \"A00004\", \"A00001\", \"A00002\", \"A00003\", \"A00001\", \"A00001\", \"A00001\", \"A00001\", \"A00002\", \"A00001\", \"A00003\", \"A00001\", \"A00001\", \"A00002\", \"A00010\", \"A00002\", \"A00001\", \"A00004\", \"A00002\", \"A00001\", \"A00002\", \"A00001\", \"A00001\", \"A00002\", \"A00001\", \"A00002\", \"A00002\", \"A00009\", \"A00001\", \"A00007\", \"A00001\", \"A00004\", \"A00003\", \"A00001\", \"A00002\", \"A00002\", \"A00011\", \"A00002\", \"A00002\", \"A00002\", \"A00001\", \"A00001\", \"A00002\", \"A00001\", \"A00004\", \"A00001\", \"A00001\", \"A00001\", \"A00002\", \"A00002\", \"A00003\", \"A00001\", \"A00004\", \"A00001\", \"A00001\", \"A00001\", \"A00002\", \"A00001\", \"A00004\", \"A00011\", \"A00001\", \"A00001\", \"A00001\", \"A00002\", \"A00001\", \"A00003\", \"A00002\", \"A00001\", \"A00002\", \"A00001\", \"A00002\", \"A00002\", \"A00001\", \"A00001\", \"A00002\", \"A00001\", \"A00002\", \"A00001\", \"A00003\", \"A00001\", \"A00001\", \"A00002\", \"A00002\", \"A00001\", \"A00001\", \"A00002\", \"A00001\", \"A00001\", \"A00004\", \"A00002\", \"A00001\", \"A00001\", \"A00001\", \"A00003\", \"A00005\", \"A00003\", \"A00003\", \"A00002\", \"A00001\", \"A00001\", \"A00003\", \"A00002\", \"A00002\", \"A00001\", \"A00002\", \"A00001\", \"A00001\", \"A00002\", \"A00001\", \"A00001\", \"A00001\", \"A00004\", \"A00001\", \"A00001\", \"A00002\", \"A00001\", \"A00002\", \"A00001\", \"A00002\", \"A00001\", \"A00003\", \"A00001\", \"A00002\", \"A00001\", \"A00001\", \"A00002\", \"A00001\", \"A00002\", \"A00002\", \"A00010\", \"A00005\", \"A00004\", \"A00002\", \"A00001\", \"A00001\", \"A00001\", \"A00001\", \"A00002\", \"A00004\", \"A00002\", \"A00002\", \"A00001\", \"A00003\", \"A00001\", \"A00001\", \"A00001\", \"A00001\", \"A00001\", \"A00001\", \"A00001\", \"A00002\", \"A00003\", \"A00001\", \"A00002\", \"A00002\", \"A00001\", \"A00001\", \"A00001\", \"A00003\", \"A00001\", \"A00001\", \"A00001\", \"A00005\", \"A00001\", \"A00002\", \"A00003\", \"A00002\", \"A00001\", \"A00001\", \"A00001\", \"A00002\", \"A00001\", \"A00003\", \"A00001\", \"A00001\", \"A00005\", \"A00001\", \"A00001\", \"A00001\", \"A00001\", \"A00002\", \"A00001\", \"A00002\", \"A00002\", \"A00002\", \"A00003\", \"A00002\", \"A00001\", \"A00001\", \"A00001\", \"A00002\", \"A00001\", \"A00001\", \"A00010\", \"A00010\", \"A00001\", \"A00001\", \"A00003\", \"A00004\", \"A00001\", \"A00004\", \"A00011\", \"A00001\", \"A00001\", \"A00001\", \"A00002\", \"A00002\", \"A00002\", \"A00002\", \"A00001\", \"A00002\", \"A00001\", \"A00001\", \"A00002\", \"A00001\", \"A00001\", \"A00001\", \"A00002\", \"A00002\", \"A00005\", \"A00001\", \"A00001\", \"A00002\", \"A00002\", \"A00002\", \"A00001\", \"A00001\", \"A00003\", \"A00001\", \"A00002\", \"A00001\", \"A00002\", \"A00001\", \"A00001\", \"A00004\", \"A00003\", \"A00001\", \"A00003\", \"A00001\", \"A00011\", \"A00009\", \"A00001\", \"A00010\", \"A00001\", \"A00001\", \"A00001\", \"A00002\", \"A00001\", \"A00001\", \"A00002\", \"A00001\", \"A00002\", \"A00001\", \"A00001\", \"A00006\", \"A00001\", \"A00001\", \"A00003\", \"A00001\", \"A00002\", \"A00001\", \"A00002\", \"A00002\", \"A00011\", \"A00005\", \"A00001\", \"A00001\", \"A00002\", \"A00001\", \"A00001\", \"A00004\", \"A00005\", \"A00002\", \"A00003\", \"A00001\", \"A00002\", \"A00010\", \"A00002\", \"A00002\", \"A00002\", \"A00001\", \"A00001\", \"A00001\", \"A00001\", \"A00002\", \"A00011\", \"A00001\", \"A00002\", \"A00003\", \"A00002\", \"A00002\", \"A00001\", \"A00002\", \"A00001\", \"A00002\", \"A00001\", \"A00001\", \"A00003\", \"A00001\", \"A00001\", \"A00002\", \"A00005\", \"A00001\", \"A00002\", \"A00001\", \"A00005\", \"A00002\", \"A00001\", \"A00005\", \"A00001\", \"A00001\", \"A00001\", \"A00001\", \"A00001\", \"A00001\", \"A00004\", \"A00001\", \"A00001\", \"A00001\", \"A00001\", \"A00002\", \"A00001\", \"A00002\", \"A00001\", \"A00002\", \"A00001\", \"A00002\", \"A00001\", \"A00001\", \"A00002\", \"A00002\", \"A00001\", \"A00002\", \"A00004\", \"A00001\", \"A00002\", \"A00002\", \"A00002\", \"A00001\", \"A00002\", \"A00002\", \"A00001\", \"A00001\", \"A00002\", \"A00002\", \"A00001\", \"A00001\", \"A00002\", \"A00003\", \"A00001\", \"A00001\", \"A00001\", \"A00001\", \"A00001\", \"A00001\", \"A00001\", \"A00001\", \"A00002\", \"A00001\", \"A00002\", \"A00001\", \"A00002\", \"A00001\", \"A00010\", \"A00001\", \"A00001\", \"A00001\", \"A00001\", \"A00001\", \"A00001\", \"A00002\", \"A00002\", \"A00001\", \"A00010\", \"A00002\", \"A00002\", \"A00002\", \"A00003\", \"A00001\", \"A00002\", \"A00002\", \"A00002\", \"A00005\", \"A00001\", \"A00003\", \"A00001\", \"A00001\", \"A00004\", \"A00002\", \"A00004\", \"A00002\", \"A00005\", \"A00002\", \"A00001\", \"A00002\", \"A00001\", \"A00002\", \"A00002\", \"A00002\", \"A00002\", \"A00001\", \"A00002\", \"A00001\", \"A00002\", \"A00002\", \"A00001\", \"A00001\", \"A00004\", \"A00002\", \"A00001\", \"A00001\", \"A00002\", \"A00001\", \"A00002\", \"A00004\", \"A00001\", \"A00010\", \"A00002\", \"A00002\", \"A00001\", \"A00002\", \"A00001\", \"A00001\", \"A00001\", \"A00002\", \"A00002\", \"A00008\", \"A00001\", \"A00001\", \"A00001\", \"A00003\", \"A00001\", \"A00002\", \"A00002\", \"A00001\", \"A00002\", \"A00002\", \"A00002\", \"A00001\", \"A00001\", \"A00002\", \"A00004\", \"A00002\", \"A00001\", \"A00001\", \"A00003\", \"A00003\", \"A00001\", \"A00003\", \"A00001\", \"A00002\", \"A00001\", \"A00001\", \"A00006\", \"A00002\", \"A00001\", \"A00002\", \"A00001\", \"A00001\", \"A00001\", \"A00002\", \"A00002\", \"A00002\", \"A00002\", \"A00001\", \"A00001\", \"A00001\", \"A00001\", \"A00001\", \"A00002\", \"A00004\", \"A00004\", \"A00002\", \"A00001\", \"A00001\", \"A00002\", \"A00002\", \"A00001\", \"A00001\", \"A00001\", \"A00002\", \"A00001\", \"A00001\", \"A00002\", \"A00002\", \"A00002\", \"A00002\", \"A00006\", \"A00001\", \"A00001\", \"A00002\", \"A00002\", \"A00002\", \"A00001\", \"A00001\", \"A00001\", \"A00001\", \"A00003\", \"A00001\", \"A00001\", \"A00010\", \"A00002\", \"A00005\", \"A00003\", \"A00002\", \"A00004\", \"A00001\", \"A00002\", \"A00001\", \"A00001\", \"A00002\", \"A00001\", \"A00009\", \"A00002\", \"A00001\", \"A00003\", \"A00001\", \"A00002\", \"A00004\", \"A00002\", \"A00002\", \"A00001\", \"A00001\", \"A00001\", \"A00001\", \"A00001\", \"A00001\", \"A00002\", \"A00001\", \"A00002\", \"A00002\", \"A00001\", \"A00002\", \"A00002\", \"A00002\", \"A00001\", \"A00003\", \"A00002\", \"A00002\", \"A00001\", \"A00001\", \"A00002\", \"A00001\", \"A00001\", \"A00001\", \"A00002\", \"A00003\", \"A00002\", \"A00001\", \"A00001\", \"A00001\", \"A00010\", \"A00001\", \"A00001\", \"A00001\", \"A00002\", \"A00001\", \"A00001\", \"A00006\", \"A00001\", \"A00001\", \"A00002\", \"A00001\", \"A00002\", \"A00001\", \"A00002\", \"A00002\", \"A00003\", \"A00001\", \"A00008\", \"A00001\", \"A00001\", \"A00001\", \"A00001\", \"A00011\", \"A00002\", \"A00002\", \"A00001\", \"A00002\", \"A00001\", \"A00002\", \"A00001\", \"A00002\", \"A00002\", \"A00001\", \"A00001\", \"A00001\", \"A00001\", \"A00001\", \"A00002\", \"A00002\", \"A00001\", \"A00001\", \"A00001\", \"A00001\", \"A00001\", \"A00001\", \"A00001\", \"A00001\", \"A00001\", \"A00004\", \"A00001\", \"A00002\", \"A00006\", \"A00001\", \"A00003\", \"A00002\", \"A00001\", \"A00001\", \"A00004\", \"A00002\", \"A00003\", \"A00001\", \"A00001\", \"A00002\", \"A00002\", \"A00004\", \"A00001\", \"A00002\", \"A00002\", \"A00001\", \"A00010\", \"A00001\", \"A00003\", \"A00002\", \"A00002\", \"A00002\", \"A00001\", \"A00005\", \"A00001\", \"A00001\", \"A00001\", \"A00004\", \"A00002\", \"A00001\", \"A00001\", \"A00001\", \"A00007\", \"A00001\", \"A00001\", \"A00003\", \"A00001\", \"A00001\", \"A00001\", \"A00001\", \"A00001\", \"A00002\", \"A00001\", \"A00001\", \"A00002\", \"A00001\", \"A00001\", \"A00002\", \"A00002\", \"A00001\", \"A00001\", \"A00001\", \"A00004\", \"A00002\", \"A00001\", \"A00005\", \"A00001\", \"A00011\", \"A00001\", \"A00001\", \"A00002\", \"A00002\", \"A00001\", \"A00002\", \"A00005\", \"A00002\", \"A00001\", \"A00002\", \"A00002\", \"A00001\", \"A00001\", \"A00001\", \"A00002\", \"A00001\", \"A00004\", \"A00001\", \"A00001\", \"A00001\", \"A00002\", \"A00001\", \"A00001\", \"A00002\", \"A00001\", \"A00001\", \"A00001\", \"A00001\", \"A00001\", \"A00004\", \"A00001\", \"A00007\", \"A00001\", \"A00002\", \"A00002\", \"A00001\", \"A00004\", \"A00003\", \"A00002\", \"A00010\", \"A00006\", \"A00001\", \"A00001\", \"A00001\", \"A00001\", \"A00001\", \"A00002\", \"A00002\", \"A00001\", \"A00002\", \"A00002\", \"A00001\", \"A00002\", \"A00001\", \"A00002\", \"A00001\", \"A00002\", \"A00002\", \"A00001\", \"A00002\", \"A00001\", \"A00001\", \"A00001\", \"A00001\", \"A00001\", \"A00002\", \"A00004\", \"A00002\", \"A00003\", \"A00002\", \"A00001\", \"A00002\", \"A00002\", \"A00001\", \"A00002\", \"A00001\", \"A00002\", \"A00002\", \"A00001\", \"A00001\", \"A00002\", \"A00001\", \"A00001\", \"A00006\", \"A00002\", \"A00002\", \"A00001\", \"A00001\", \"A00002\", \"A00001\", \"A00002\", \"A00001\", \"A00003\", \"A00001\", \"A00002\", \"A00002\", \"A00001\", \"A00002\", \"A00001\", \"A00002\", \"A00003\", \"A00001\", \"A00001\", \"A00002\", \"A00002\", \"A00001\", \"A00001\", \"A00008\", \"A00001\", \"A00001\", \"A00010\", \"A00011\", \"A00002\", \"A00001\", \"A00001\", \"A00004\", \"A00002\", \"A00001\", \"A00001\", \"A00001\", \"A00003\", \"A00001\", \"A00001\", \"A00001\", \"A00001\", \"A00003\", \"A00001\", \"A00002\", \"A00001\", \"A00002\", \"A00001\", \"A00001\", \"A00001\", \"A00006\", \"A00002\", \"A00004\", \"A00001\", \"A00007\", \"A00001\", \"A00001\", \"A00001\", \"A00001\", \"A00001\", \"A00001\", \"A00001\", \"A00001\", \"A00002\", \"A00001\", \"A00002\", \"A00001\", \"A00001\", \"A00001\", \"A00002\", \"A00002\", \"A00001\", \"A00001\", \"A00001\", \"A00002\", \"A00002\", \"A00001\", \"A00002\", \"A00001\", \"A00001\", \"A00001\", \"A00002\", \"A00001\", \"A00002\", \"A00001\", \"A00001\", \"A00001\", \"A00001\", \"A00002\", \"A00002\", \"A00001\", \"A00003\", \"A00002\", \"A00001\", \"A00002\", \"A00003\", \"A00003\", \"A00001\", \"A00001\", \"A00001\", \"A00001\", \"A00002\", \"A00001\", \"A00002\", \"A00006\", \"A00003\", \"A00001\", \"A00001\", \"A00002\", \"A00002\", \"A00002\", \"A00003\", \"A00001\", \"A00001\", \"A00010\", \"A00001\", \"A00002\", \"A00001\", \"A00005\", \"A00001\", \"A00002\", \"A00001\", \"A00002\", \"A00003\", \"A00002\", \"A00001\", \"A00002\", \"A00001\", \"A00002\", \"A00002\", \"A00002\", \"A00001\", \"A00002\", \"A00001\", \"A00001\", \"A00002\", \"A00001\", \"A00001\", \"A00002\", \"A00004\", \"A00001\", \"A00004\", \"A00001\", \"A00001\", \"A00003\", \"A00002\", \"A00002\", \"A00001\", \"A00001\", \"A00003\", \"A00001\", \"A00002\", \"A00001\", \"A00009\", \"A00001\", \"A00004\", \"A00001\", \"A00001\", \"A00001\", \"A00002\", \"A00002\", \"A00001\", \"A00001\", \"A00002\", \"A00001\", \"A00001\", \"A00002\", \"A00001\", \"A00002\", \"A00001\", \"A00002\", \"A00001\", \"A00002\", \"A00002\", \"A00001\", \"A00001\", \"A00002\", \"A00002\", \"A00001\", \"A00002\", \"A00001\", \"A00002\", \"A00009\", \"A00002\", \"A00002\", \"A00001\", \"A00002\", \"A00002\", \"A00001\", \"A00002\", \"A00001\", \"A00010\", \"A00001\", \"A00001\", \"A00001\", \"A00001\", \"A00001\", \"A00001\", \"A00003\", \"A00001\", \"A00001\", \"A00001\", \"A00010\", \"A00002\", \"A00001\", \"A00001\", \"A00001\", \"A00004\", \"A00001\", \"A00002\", \"A00002\", \"A00001\", \"A00001\", \"A00002\", \"A00002\", \"A00002\", \"A00002\", \"A00001\", \"A00001\", \"A00003\", \"A00002\", \"A00001\", \"A00001\", \"A00002\", \"A00002\", \"A00002\", \"A00008\", \"A00001\", \"A00002\", \"A00002\", \"A00003\", \"A00002\", \"A00002\", \"A00002\", \"A00001\", \"A00002\", \"A00001\", \"A00003\", \"A00002\", \"A00001\", \"A00002\", \"A00001\", \"A00002\", \"A00002\", \"A00001\", \"A00006\", \"A00002\", \"A00002\", \"A00009\", \"A00001\", \"A00001\", \"A00002\", \"A00002\", \"A00001\", \"A00001\", \"A00002\", \"A00002\", \"A00001\", \"A00006\", \"A00002\", \"A00002\", \"A00002\", \"A00001\", \"A00001\", \"A00002\", \"A00001\", \"A00001\", \"A00001\", \"A00002\", \"A00001\", \"A00002\", \"A00001\", \"A00002\", \"A00001\", \"A00001\", \"A00004\", \"A00001\", \"A00002\", \"A00001\", \"A00001\", \"A00001\", \"A00001\", \"A00001\", \"A00001\", \"A00002\", \"A00001\", \"A00001\", \"A00001\", \"A00003\", \"A00001\", \"A00001\", \"A00001\", \"A00002\", \"A00001\", \"A00001\", \"A00001\", \"A00001\", \"A00002\", \"A00009\", \"A00001\", \"A00001\", \"A00001\", \"A00001\", \"A00001\", \"A00004\", \"A00004\", \"A00002\", \"A00001\", \"A00002\", \"A00003\", \"A00002\", \"A00002\", \"A00001\", \"A00002\", \"A00002\", \"A00002\", \"A00001\", \"A00001\", \"A00001\", \"A00001\", \"A00001\", \"A00001\", \"A00002\", \"A00001\", \"A00004\", \"A00001\", \"A00002\", \"A00002\", \"A00002\", \"A00001\", \"A00001\", \"A00002\", \"A00001\", \"A00002\", \"A00002\", \"A00003\", \"A00002\", \"A00002\", \"A00002\", \"A00001\", \"A00001\", \"A00001\", \"A00001\", \"A00002\", \"A00002\", \"A00002\", \"A00001\", \"A00004\", \"A00002\", \"A00001\", \"A00001\", \"A00001\", \"A00002\", \"A00003\", \"A00001\", \"A00001\", \"A00002\", \"A00005\", \"A00001\", \"A00001\", \"A00001\", \"A00002\", \"A00003\", \"A00001\", \"A00003\", \"A00003\", \"A00001\", \"A00001\", \"A00001\", \"A00001\", \"A00001\", \"A00001\", \"A00001\", \"A00004\", \"A00001\", \"A00001\", \"A00002\", \"A00001\", \"A00002\", \"A00001\", \"A00001\", \"A00001\", \"A00002\", \"A00001\", \"A00001\", \"A00001\", \"A00003\", \"A00001\", \"A00004\", \"A00002\", \"A00002\", \"A00002\", \"A00001\", \"A00010\", \"A00001\", \"A00001\", \"A00001\", \"A00002\", \"A00001\", \"A00001\", \"A00001\", \"A00001\", \"A00003\", \"A00002\", \"A00002\", \"A00010\", \"A00002\", \"A00002\", \"A00001\", \"A00001\", \"A00002\", \"A00002\", \"A00001\", \"A00004\", \"A00001\", \"A00001\", \"A00001\", \"A00004\", \"A00001\", \"A00001\", \"A00002\", \"A00002\", \"A00001\", \"A00002\", \"A00003\", \"A00002\", \"A00001\", \"A00002\", \"A00001\", \"A00001\", \"A00002\", \"A00002\", \"A00002\", \"A00004\", \"A00002\", \"A00002\", \"A00006\", \"A00001\", \"A00002\", \"A00001\", \"A00004\", \"A00001\", \"A00002\", \"A00002\", \"A00001\", \"A00002\", \"A00001\", \"A00002\", \"A00006\", \"A00002\", \"A00002\", \"A00001\", \"A00003\", \"A00001\", \"A00001\", \"A00001\", \"A00002\", \"A00001\", \"A00001\", \"A00001\", \"A00002\", \"A00001\", \"A00002\", \"A00001\", \"A00005\", \"A00001\", \"A00001\", \"A00002\", \"A00001\", \"A00001\", \"A00001\", \"A00002\", \"A00001\", \"A00001\", \"A00002\", \"A00001\", \"A00001\", \"A00001\", \"A00001\", \"A00003\", \"A00001\", \"A00004\", \"A00001\", \"A00001\", \"A00001\", \"A00001\", \"A00001\", \"A00001\", \"A00001\", \"A00003\", \"A00001\", \"A00002\", \"A00001\", \"A00002\", \"A00001\", \"A00001\", \"A00002\", \"A00002\", \"A00002\", \"A00002\", \"A00001\", \"A00001\", \"A00001\", \"A00001\", \"A00004\", \"A00002\", \"A00001\", \"A00003\", \"A00003\", \"A00001\", \"A00002\", \"A00002\", \"A00001\", \"A00002\", \"A00011\", \"A00002\", \"A00001\", \"A00002\", \"A00001\", \"A00004\", \"A00002\", \"A00001\", \"A00002\", \"A00001\", \"A00004\", \"A00002\", \"A00002\", \"A00001\", \"A00002\", \"A00002\", \"A00001\", \"A00002\", \"A00004\", \"A00001\", \"A00003\", \"A00001\", \"A00003\", \"A00003\", \"A00001\", \"A00002\", \"A00001\", \"A00001\", \"A00001\", \"A00001\", \"A00001\", \"A00003\", \"A00001\", \"A00002\", \"A00001\", \"A00004\", \"A00002\", \"A00007\", \"A00002\", \"A00005\", \"A00001\", \"A00002\", \"A00001\", \"A00003\", \"A00003\", \"A00001\", \"A00002\", \"A00001\", \"A00005\", \"A00002\", \"A00001\", \"A00007\", \"A00001\", \"A00001\", \"A00001\", \"A00001\", \"A00002\", \"A00002\", \"A00001\", \"A00003\", \"A00001\", \"A00001\", \"A00001\", \"A00001\", \"A00001\", \"A00002\", \"A00001\", \"A00001\", \"A00003\", \"A00002\", \"A00001\", \"A00002\", \"A00001\", \"A00001\", \"A00001\", \"A00001\", \"A00003\", \"A00002\", \"A00001\", \"A00002\", \"A00001\", \"A00001\", \"A00002\", \"A00001\", \"A00001\", \"A00001\", \"A00002\", \"A00001\", \"A00002\", \"A00002\", \"A00001\", \"A00001\", \"A00001\", \"A00003\", \"A00001\", \"A00003\", \"A00001\", \"A00001\", \"A00001\", \"A00002\", \"A00002\", \"A00002\", \"A00010\", \"A00001\", \"A00001\", \"A00001\", \"A00002\", \"A00001\", \"A00002\", \"A00001\", \"A00001\", \"A00002\", \"A00002\", \"A00001\", \"A00002\", \"A00001\", \"A00003\", \"A00002\", \"A00001\", \"A00002\", \"A00002\", \"A00002\", \"A00001\", \"A00005\", \"A00002\", \"A00003\", \"A00001\", \"A00001\", \"A00001\", \"A00002\", \"A00002\", \"A00002\", \"A00002\", \"A00002\", \"A00001\", \"A00002\", \"A00001\", \"A00001\", \"A00001\", \"A00002\", \"A00011\", \"A00001\", \"A00001\", \"A00003\", \"A00002\", \"A00001\", \"A00002\", \"A00001\", \"A00002\", \"A00003\", \"A00001\", \"A00004\", \"A00002\", \"A00001\", \"A00002\", \"A00004\", \"A00002\", \"A00002\", \"A00001\", \"A00001\", \"A00001\", \"A00001\", \"A00002\", \"A00001\", \"A00001\", \"A00001\", \"A00003\", \"A00001\", \"A00001\", \"A00008\", \"A00001\", \"A00001\", \"A00001\", \"A00002\", \"A00001\", \"A00008\", \"A00001\", \"A00005\", \"A00001\", \"A00001\", \"A00002\", \"A00001\", \"A00002\", \"A00002\", \"A00001\", \"A00001\", \"A00001\", \"A00001\", \"A00009\", \"A00001\", \"A00001\", \"A00002\", \"A00001\", \"A00002\", \"A00001\", \"A00008\", \"A00009\", \"A00001\", \"A00001\", \"A00001\", \"A00001\", \"A00001\", \"A00001\", \"A00002\", \"A00002\", \"A00001\", \"A00002\", \"A00001\", \"A00002\", \"A00002\", \"A00001\", \"A00001\", \"A00001\", \"A00001\", \"A00003\", \"A00003\", \"A00001\", \"A00001\", \"A00001\", \"A00002\", \"A00001\", \"A00001\", \"A00002\", \"A00002\", \"A00003\", \"A00002\", \"A00001\", \"A00001\", \"A00005\", \"A00001\", \"A00001\", \"A00001\", \"A00001\", \"A00002\", \"A00004\", \"A00002\", \"A00001\", \"A00001\", \"A00003\", \"A00003\", \"A00001\", \"A00001\", \"A00001\", \"A00002\", \"A00001\", \"A00001\", \"A00002\", \"A00004\", \"A00001\", \"A00004\", \"A00002\", \"A00003\", \"A00002\", \"A00001\", \"A00001\", \"A00001\", \"A00001\", \"A00002\", \"A00001\", \"A00003\", \"A00001\", \"A00004\", \"A00002\", \"A00002\", \"A00001\", \"A00002\", \"A00002\", \"A00002\", \"A00001\", \"A00001\", \"A00002\", \"A00001\", \"A00001\", \"A00002\", \"A00001\", \"A00001\", \"A00001\", \"A00001\", \"A00002\", \"A00004\", \"A00002\", \"A00001\", \"A00002\", \"A00001\", \"A00001\", \"A00005\", \"A00001\", \"A00001\", \"A00004\", \"A00002\", \"A00006\", \"A00001\", \"A00002\", \"A00002\", \"A00002\", \"A00001\", \"A00002\", \"A00001\", \"A00001\", \"A00001\", \"A00001\", \"A00001\", \"A00001\", \"A00002\", \"A00001\", \"A00001\", \"A00001\", \"A00001\", \"A00001\", \"A00001\", \"A00002\", \"A00002\", \"A00004\", \"A00002\", \"A00001\", \"A00010\", \"A00005\", \"A00011\", \"A00002\", \"A00002\", \"A00004\", \"A00001\", \"A00001\", \"A00001\", \"A00001\", \"A00005\", \"A00003\", \"A00001\", \"A00004\", \"A00003\", \"A00002\", \"A00010\", \"A00002\", \"A00001\", \"A00002\", \"A00002\", \"A00001\", \"A00002\", \"A00002\", \"A00001\", \"A00001\", \"A00001\", \"A00001\", \"A00001\", \"A00001\", \"A00001\", \"A00001\", \"A00002\", \"A00001\", \"A00001\", \"A00001\", \"A00001\", \"A00001\", \"A00002\", \"A00001\", \"A00001\", \"A00001\", \"A00010\", \"A00010\", \"A00002\", \"A00001\", \"A00002\", \"A00001\", \"A00001\", \"A00001\", \"A00001\", \"A00003\", \"A00002\", \"A00002\", \"A00002\", \"A00001\", \"A00001\", \"A00001\", \"A00001\", \"A00002\", \"A00003\", \"A00001\", \"A00002\", \"A00004\", \"A00002\", \"A00004\", \"A00001\", \"A00001\", \"A00001\", \"A00001\", \"A00001\", \"A00001\", \"A00002\", \"A00002\", \"A00001\", \"A00002\", \"A00004\", \"A00001\", \"A00003\", \"A00001\", \"A00001\", \"A00002\", \"A00001\", \"A00001\", \"A00002\", \"A00002\", \"A00001\", \"A00002\", \"A00007\", \"A00001\", \"A00001\", \"A00001\", \"A00002\", \"A00001\", \"A00001\", \"A00001\", \"A00001\", \"A00001\", \"A00001\", \"A00002\", \"A00001\", \"A00001\", \"A00002\", \"A00011\", \"A00001\", \"A00002\", \"A00001\", \"A00001\", \"A00005\", \"A00001\", \"A00001\", \"A00001\", \"A00002\", \"A00002\", \"A00001\", \"A00004\", \"A00001\", \"A00001\", \"A00002\", \"A00002\", \"A00006\", \"A00001\", \"A00001\", \"A00001\", \"A00001\", \"A00001\", \"A00001\", \"A00001\", \"A00001\", \"A00001\", \"A00001\", \"A00003\", \"A00001\", \"A00002\", \"A00001\", \"A00008\", \"A00001\", \"A00001\", \"A00001\", \"A00001\", \"A00011\", \"A00002\", \"A00001\", \"A00006\", \"A00001\", \"A00001\", \"A00001\", \"A00004\", \"A00001\", \"A00002\", \"A00002\", \"A00010\", \"A00002\", \"A00001\", \"A00001\", \"A00001\", \"A00001\", \"A00001\", \"A00001\", \"A00001\", \"A00001\", \"A00002\", \"A00002\", \"A00001\", \"A00007\", \"A00002\", \"A00001\", \"A00001\", \"A00003\", \"A00001\", \"A00001\", \"A00008\", \"A00002\", \"A00001\", \"A00001\", \"A00001\", \"A00001\", \"A00002\", \"A00001\", \"A00001\", \"A00001\", \"A00002\", \"A00001\", \"A00001\", \"A00001\", \"A00002\", \"A00001\", \"A00001\", \"A00003\", \"A00001\", \"A00002\", \"A00002\", \"A00001\", \"A00005\", \"A00001\", \"A00001\", \"A00001\", \"A00001\", \"A00002\", \"A00002\", \"A00001\", \"A00002\", \"A00001\", \"A00002\", \"A00001\", \"A00002\", \"A00003\", \"A00001\", \"A00001\", \"A00002\", \"A00002\", \"A00007\", \"A00001\", \"A00006\", \"A00001\", \"A00002\", \"A00001\", \"A00001\", \"A00001\", \"A00001\", \"A00001\", \"A00003\", \"A00002\", \"A00001\", \"A00001\", \"A00001\", \"A00001\", \"A00002\", \"A00002\", \"A00002\", \"A00001\", \"A00001\", \"A00001\", \"A00002\", \"A00001\", \"A00001\", \"A00001\", \"A00001\", \"A00003\", \"A00003\", \"A00002\", \"A00001\", \"A00001\", \"A00001\", \"A00001\", \"A00001\", \"A00004\", \"A00001\", \"A00002\", \"A00002\", \"A00001\", \"A00001\", \"A00002\", \"A00004\", \"A00001\", \"A00001\", \"A00002\", \"A00002\", \"A00001\", \"A00001\", \"A00001\", \"A00005\", \"A00001\", \"A00009\", \"A00002\", \"A00001\", \"A00001\", \"A00001\", \"A00002\", \"A00001\", \"A00002\", \"A00001\", \"A00003\", \"A00002\", \"A00001\", \"A00002\", \"A00008\", \"A00001\", \"A00003\", \"A00001\", \"A00004\", \"A00001\", \"A00002\", \"A00002\", \"A00003\", \"A00001\", \"A00001\", \"A00002\", \"A00003\", \"A00001\", \"A00002\", \"A00001\", \"A00001\", \"A00003\", \"A00001\", \"A00001\", \"A00001\", \"A00001\", \"A00004\", \"A00002\", \"A00001\", \"A00003\", \"A00001\", \"A00001\", \"A00001\", \"A00001\", \"A00001\", \"A00002\", \"A00003\", \"A00001\", \"A00002\", \"A00002\", \"A00002\", \"A00002\", \"A00002\", \"A00002\", \"A00005\", \"A00003\", \"A00001\", \"A00001\", \"A00001\", \"A00001\", \"A00002\", \"A00001\", \"A00001\", \"A00001\", \"A00001\", \"A00001\", \"A00002\", \"A00001\", \"A00002\", \"A00001\", \"A00002\", \"A00003\", \"A00001\", \"A00002\", \"A00002\", \"A00003\", \"A00001\", \"A00001\", \"A00001\", \"A00002\", \"A00004\", \"A00001\", \"A00001\", \"A00001\", \"A00002\", \"A00003\", \"A00004\", \"A00001\", \"A00002\", \"A00002\", \"A00001\", \"A00003\", \"A00001\", \"A00002\", \"A00001\", \"A00002\", \"A00003\", \"A00001\", \"A00001\", \"A00002\", \"A00001\", \"A00002\", \"A00001\", \"A00001\", \"A00001\", \"A00002\", \"A00001\", \"A00002\", \"A00002\", \"A00001\", \"A00001\", \"A00002\", \"A00002\", \"A00002\", \"A00002\", \"A00002\", \"A00002\", \"A00002\", \"A00002\", \"A00001\", \"A00001\", \"A00001\", \"A00001\"], \"xaxis\": \"x\", \"yaxis\": \"y\"}],\n",
              "                        {\"barmode\": \"relative\", \"legend\": {\"tracegroupgap\": 0}, \"margin\": {\"t\": 60}, \"template\": {\"data\": {\"bar\": [{\"error_x\": {\"color\": \"#f2f5fa\"}, \"error_y\": {\"color\": \"#f2f5fa\"}, \"marker\": {\"line\": {\"color\": \"rgb(17,17,17)\", \"width\": 0.5}}, \"type\": \"bar\"}], \"barpolar\": [{\"marker\": {\"line\": {\"color\": \"rgb(17,17,17)\", \"width\": 0.5}}, \"type\": \"barpolar\"}], \"carpet\": [{\"aaxis\": {\"endlinecolor\": \"#A2B1C6\", \"gridcolor\": \"#506784\", \"linecolor\": \"#506784\", \"minorgridcolor\": \"#506784\", \"startlinecolor\": \"#A2B1C6\"}, \"baxis\": {\"endlinecolor\": \"#A2B1C6\", \"gridcolor\": \"#506784\", \"linecolor\": \"#506784\", \"minorgridcolor\": \"#506784\", \"startlinecolor\": \"#A2B1C6\"}, \"type\": \"carpet\"}], \"choropleth\": [{\"colorbar\": {\"outlinewidth\": 0, \"ticks\": \"\"}, \"type\": \"choropleth\"}], \"contour\": [{\"colorbar\": {\"outlinewidth\": 0, \"ticks\": \"\"}, \"colorscale\": [[0.0, \"#0d0887\"], [0.1111111111111111, \"#46039f\"], [0.2222222222222222, \"#7201a8\"], [0.3333333333333333, \"#9c179e\"], [0.4444444444444444, \"#bd3786\"], [0.5555555555555556, \"#d8576b\"], [0.6666666666666666, \"#ed7953\"], [0.7777777777777778, \"#fb9f3a\"], [0.8888888888888888, \"#fdca26\"], [1.0, \"#f0f921\"]], \"type\": \"contour\"}], \"contourcarpet\": [{\"colorbar\": {\"outlinewidth\": 0, \"ticks\": \"\"}, \"type\": \"contourcarpet\"}], \"heatmap\": [{\"colorbar\": {\"outlinewidth\": 0, \"ticks\": \"\"}, \"colorscale\": [[0.0, \"#0d0887\"], [0.1111111111111111, \"#46039f\"], [0.2222222222222222, \"#7201a8\"], [0.3333333333333333, \"#9c179e\"], [0.4444444444444444, \"#bd3786\"], [0.5555555555555556, \"#d8576b\"], [0.6666666666666666, \"#ed7953\"], [0.7777777777777778, \"#fb9f3a\"], [0.8888888888888888, \"#fdca26\"], [1.0, \"#f0f921\"]], \"type\": \"heatmap\"}], \"heatmapgl\": [{\"colorbar\": {\"outlinewidth\": 0, \"ticks\": \"\"}, \"colorscale\": [[0.0, \"#0d0887\"], [0.1111111111111111, \"#46039f\"], [0.2222222222222222, \"#7201a8\"], [0.3333333333333333, \"#9c179e\"], [0.4444444444444444, \"#bd3786\"], [0.5555555555555556, \"#d8576b\"], [0.6666666666666666, \"#ed7953\"], [0.7777777777777778, \"#fb9f3a\"], [0.8888888888888888, \"#fdca26\"], [1.0, \"#f0f921\"]], \"type\": \"heatmapgl\"}], \"histogram\": [{\"marker\": {\"colorbar\": {\"outlinewidth\": 0, \"ticks\": \"\"}}, \"type\": \"histogram\"}], \"histogram2d\": [{\"colorbar\": {\"outlinewidth\": 0, \"ticks\": \"\"}, \"colorscale\": [[0.0, \"#0d0887\"], [0.1111111111111111, \"#46039f\"], [0.2222222222222222, \"#7201a8\"], [0.3333333333333333, \"#9c179e\"], [0.4444444444444444, \"#bd3786\"], [0.5555555555555556, \"#d8576b\"], [0.6666666666666666, \"#ed7953\"], [0.7777777777777778, \"#fb9f3a\"], [0.8888888888888888, \"#fdca26\"], [1.0, \"#f0f921\"]], \"type\": \"histogram2d\"}], \"histogram2dcontour\": [{\"colorbar\": {\"outlinewidth\": 0, \"ticks\": \"\"}, \"colorscale\": [[0.0, \"#0d0887\"], [0.1111111111111111, \"#46039f\"], [0.2222222222222222, \"#7201a8\"], [0.3333333333333333, \"#9c179e\"], [0.4444444444444444, \"#bd3786\"], [0.5555555555555556, \"#d8576b\"], [0.6666666666666666, \"#ed7953\"], [0.7777777777777778, \"#fb9f3a\"], [0.8888888888888888, \"#fdca26\"], [1.0, \"#f0f921\"]], \"type\": \"histogram2dcontour\"}], \"mesh3d\": [{\"colorbar\": {\"outlinewidth\": 0, \"ticks\": \"\"}, \"type\": \"mesh3d\"}], \"parcoords\": [{\"line\": {\"colorbar\": {\"outlinewidth\": 0, \"ticks\": \"\"}}, \"type\": \"parcoords\"}], \"pie\": [{\"automargin\": true, \"type\": \"pie\"}], \"scatter\": [{\"marker\": {\"line\": {\"color\": \"#283442\"}}, \"type\": \"scatter\"}], \"scatter3d\": [{\"line\": {\"colorbar\": {\"outlinewidth\": 0, \"ticks\": \"\"}}, \"marker\": {\"colorbar\": {\"outlinewidth\": 0, \"ticks\": \"\"}}, \"type\": \"scatter3d\"}], \"scattercarpet\": [{\"marker\": {\"colorbar\": {\"outlinewidth\": 0, \"ticks\": \"\"}}, \"type\": \"scattercarpet\"}], \"scattergeo\": [{\"marker\": {\"colorbar\": {\"outlinewidth\": 0, \"ticks\": \"\"}}, \"type\": \"scattergeo\"}], \"scattergl\": [{\"marker\": {\"line\": {\"color\": \"#283442\"}}, \"type\": \"scattergl\"}], \"scattermapbox\": [{\"marker\": {\"colorbar\": {\"outlinewidth\": 0, \"ticks\": \"\"}}, \"type\": \"scattermapbox\"}], \"scatterpolar\": [{\"marker\": {\"colorbar\": {\"outlinewidth\": 0, \"ticks\": \"\"}}, \"type\": \"scatterpolar\"}], \"scatterpolargl\": [{\"marker\": {\"colorbar\": {\"outlinewidth\": 0, \"ticks\": \"\"}}, \"type\": \"scatterpolargl\"}], \"scatterternary\": [{\"marker\": {\"colorbar\": {\"outlinewidth\": 0, \"ticks\": \"\"}}, \"type\": \"scatterternary\"}], \"surface\": [{\"colorbar\": {\"outlinewidth\": 0, \"ticks\": \"\"}, \"colorscale\": [[0.0, \"#0d0887\"], [0.1111111111111111, \"#46039f\"], [0.2222222222222222, \"#7201a8\"], [0.3333333333333333, \"#9c179e\"], [0.4444444444444444, \"#bd3786\"], [0.5555555555555556, \"#d8576b\"], [0.6666666666666666, \"#ed7953\"], [0.7777777777777778, \"#fb9f3a\"], [0.8888888888888888, \"#fdca26\"], [1.0, \"#f0f921\"]], \"type\": \"surface\"}], \"table\": [{\"cells\": {\"fill\": {\"color\": \"#506784\"}, \"line\": {\"color\": \"rgb(17,17,17)\"}}, \"header\": {\"fill\": {\"color\": \"#2a3f5f\"}, \"line\": {\"color\": \"rgb(17,17,17)\"}}, \"type\": \"table\"}]}, \"layout\": {\"annotationdefaults\": {\"arrowcolor\": \"#f2f5fa\", \"arrowhead\": 0, \"arrowwidth\": 1}, \"coloraxis\": {\"colorbar\": {\"outlinewidth\": 0, \"ticks\": \"\"}}, \"colorscale\": {\"diverging\": [[0, \"#8e0152\"], [0.1, \"#c51b7d\"], [0.2, \"#de77ae\"], [0.3, \"#f1b6da\"], [0.4, \"#fde0ef\"], [0.5, \"#f7f7f7\"], [0.6, \"#e6f5d0\"], [0.7, \"#b8e186\"], [0.8, \"#7fbc41\"], [0.9, \"#4d9221\"], [1, \"#276419\"]], \"sequential\": [[0.0, \"#0d0887\"], [0.1111111111111111, \"#46039f\"], [0.2222222222222222, \"#7201a8\"], [0.3333333333333333, \"#9c179e\"], [0.4444444444444444, \"#bd3786\"], [0.5555555555555556, \"#d8576b\"], [0.6666666666666666, \"#ed7953\"], [0.7777777777777778, \"#fb9f3a\"], [0.8888888888888888, \"#fdca26\"], [1.0, \"#f0f921\"]], \"sequentialminus\": [[0.0, \"#0d0887\"], [0.1111111111111111, \"#46039f\"], [0.2222222222222222, \"#7201a8\"], [0.3333333333333333, \"#9c179e\"], [0.4444444444444444, \"#bd3786\"], [0.5555555555555556, \"#d8576b\"], [0.6666666666666666, \"#ed7953\"], [0.7777777777777778, \"#fb9f3a\"], [0.8888888888888888, \"#fdca26\"], [1.0, \"#f0f921\"]]}, \"colorway\": [\"#636efa\", \"#EF553B\", \"#00cc96\", \"#ab63fa\", \"#FFA15A\", \"#19d3f3\", \"#FF6692\", \"#B6E880\", \"#FF97FF\", \"#FECB52\"], \"font\": {\"color\": \"#f2f5fa\"}, \"geo\": {\"bgcolor\": \"rgb(17,17,17)\", \"lakecolor\": \"rgb(17,17,17)\", \"landcolor\": \"rgb(17,17,17)\", \"showlakes\": true, \"showland\": true, \"subunitcolor\": \"#506784\"}, \"hoverlabel\": {\"align\": \"left\"}, \"hovermode\": \"closest\", \"mapbox\": {\"style\": \"dark\"}, \"paper_bgcolor\": \"rgb(17,17,17)\", \"plot_bgcolor\": \"rgb(17,17,17)\", \"polar\": {\"angularaxis\": {\"gridcolor\": \"#506784\", \"linecolor\": \"#506784\", \"ticks\": \"\"}, \"bgcolor\": \"rgb(17,17,17)\", \"radialaxis\": {\"gridcolor\": \"#506784\", \"linecolor\": \"#506784\", \"ticks\": \"\"}}, \"scene\": {\"xaxis\": {\"backgroundcolor\": \"rgb(17,17,17)\", \"gridcolor\": \"#506784\", \"gridwidth\": 2, \"linecolor\": \"#506784\", \"showbackground\": true, \"ticks\": \"\", \"zerolinecolor\": \"#C8D4E3\"}, \"yaxis\": {\"backgroundcolor\": \"rgb(17,17,17)\", \"gridcolor\": \"#506784\", \"gridwidth\": 2, \"linecolor\": \"#506784\", \"showbackground\": true, \"ticks\": \"\", \"zerolinecolor\": \"#C8D4E3\"}, \"zaxis\": {\"backgroundcolor\": \"rgb(17,17,17)\", \"gridcolor\": \"#506784\", \"gridwidth\": 2, \"linecolor\": \"#506784\", \"showbackground\": true, \"ticks\": \"\", \"zerolinecolor\": \"#C8D4E3\"}}, \"shapedefaults\": {\"line\": {\"color\": \"#f2f5fa\"}}, \"sliderdefaults\": {\"bgcolor\": \"#C8D4E3\", \"bordercolor\": \"rgb(17,17,17)\", \"borderwidth\": 1, \"tickwidth\": 0}, \"ternary\": {\"aaxis\": {\"gridcolor\": \"#506784\", \"linecolor\": \"#506784\", \"ticks\": \"\"}, \"baxis\": {\"gridcolor\": \"#506784\", \"linecolor\": \"#506784\", \"ticks\": \"\"}, \"bgcolor\": \"rgb(17,17,17)\", \"caxis\": {\"gridcolor\": \"#506784\", \"linecolor\": \"#506784\", \"ticks\": \"\"}}, \"title\": {\"x\": 0.05}, \"updatemenudefaults\": {\"bgcolor\": \"#506784\", \"borderwidth\": 0}, \"xaxis\": {\"automargin\": true, \"gridcolor\": \"#283442\", \"linecolor\": \"#506784\", \"ticks\": \"\", \"title\": {\"standoff\": 15}, \"zerolinecolor\": \"#283442\", \"zerolinewidth\": 2}, \"yaxis\": {\"automargin\": true, \"gridcolor\": \"#283442\", \"linecolor\": \"#506784\", \"ticks\": \"\", \"title\": {\"standoff\": 15}, \"zerolinecolor\": \"#283442\", \"zerolinewidth\": 2}}}, \"xaxis\": {\"anchor\": \"y\", \"domain\": [0.0, 1.0], \"title\": {\"text\": \"Dominant_A\"}}, \"yaxis\": {\"anchor\": \"x\", \"domain\": [0.0, 1.0], \"title\": {\"text\": \"count\"}}},\n",
              "                        {\"responsive\": true}\n",
              "                    ).then(function(){\n",
              "                            \n",
              "var gd = document.getElementById('3eea0730-cbc5-488f-b879-5a93c75392fc');\n",
              "var x = new MutationObserver(function (mutations, observer) {{\n",
              "        var display = window.getComputedStyle(gd).display;\n",
              "        if (!display || display === 'none') {{\n",
              "            console.log([gd, 'removed!']);\n",
              "            Plotly.purge(gd);\n",
              "            observer.disconnect();\n",
              "        }}\n",
              "}});\n",
              "\n",
              "// Listen for the removal of the full notebook cells\n",
              "var notebookContainer = gd.closest('#notebook-container');\n",
              "if (notebookContainer) {{\n",
              "    x.observe(notebookContainer, {childList: true});\n",
              "}}\n",
              "\n",
              "// Listen for the clearing of the current output cell\n",
              "var outputEl = gd.closest('.output');\n",
              "if (outputEl) {{\n",
              "    x.observe(outputEl, {childList: true});\n",
              "}}\n",
              "\n",
              "                        })\n",
              "                };\n",
              "                \n",
              "            </script>\n",
              "        </div>\n",
              "</body>\n",
              "</html>"
            ]
          },
          "metadata": {
            "tags": []
          }
        }
      ]
    },
    {
      "cell_type": "code",
      "metadata": {
        "id": "miCV8RibvmBr",
        "colab_type": "code",
        "outputId": "534934d5-4ae7-4af9-b476-1e9de4a371e6",
        "colab": {
          "base_uri": "https://localhost:8080/",
          "height": 542
        }
      },
      "source": [
        "fig = px.histogram(concat_ml[concat_ml['gender'].notnull()], x=\"Num_Prod\",color='gender')\n",
        "fig.show()"
      ],
      "execution_count": 0,
      "outputs": [
        {
          "output_type": "display_data",
          "data": {
            "text/html": [
              "<html>\n",
              "<head><meta charset=\"utf-8\" /></head>\n",
              "<body>\n",
              "    <div>\n",
              "            <script src=\"https://cdnjs.cloudflare.com/ajax/libs/mathjax/2.7.5/MathJax.js?config=TeX-AMS-MML_SVG\"></script><script type=\"text/javascript\">if (window.MathJax) {MathJax.Hub.Config({SVG: {font: \"STIX-Web\"}});}</script>\n",
              "                <script type=\"text/javascript\">window.PlotlyConfig = {MathJaxConfig: 'local'};</script>\n",
              "        <script src=\"https://cdn.plot.ly/plotly-latest.min.js\"></script>    \n",
              "            <div id=\"24f4b786-647d-4ddc-a542-8e341f4605b4\" class=\"plotly-graph-div\" style=\"height:525px; width:100%;\"></div>\n",
              "            <script type=\"text/javascript\">\n",
              "                \n",
              "                    window.PLOTLYENV=window.PLOTLYENV || {};\n",
              "                    \n",
              "                if (document.getElementById(\"24f4b786-647d-4ddc-a542-8e341f4605b4\")) {\n",
              "                    Plotly.newPlot(\n",
              "                        '24f4b786-647d-4ddc-a542-8e341f4605b4',\n",
              "                        [{\"alignmentgroup\": \"True\", \"bingroup\": \"x\", \"hoverlabel\": {\"namelength\": 0}, \"hovertemplate\": \"gender=female<br>Num_Prod=%{x}<br>count=%{y}\", \"legendgroup\": \"gender=female\", \"marker\": {\"color\": \"#636efa\"}, \"name\": \"gender=female\", \"offsetgroup\": \"gender=female\", \"orientation\": \"v\", \"showlegend\": true, \"type\": \"histogram\", \"x\": [4, 1, 3, 1, 2, 2, 1, 1, 6, 2, 14, 1, 2, 1, 2, 1, 1, 1, 3, 1, 1, 1, 1, 1, 1, 1, 1, 1, 5, 1, 1, 1, 2, 2, 3, 1, 2, 3, 1, 3, 7, 1, 1, 2, 5, 2, 1, 2, 1, 1, 1, 1, 1, 1, 1, 1, 1, 1, 2, 3, 1, 1, 2, 2, 2, 1, 2, 4, 1, 1, 2, 2, 1, 3, 2, 3, 1, 1, 5, 1, 1, 4, 3, 1, 1, 1, 1, 1, 1, 4, 3, 2, 3, 1, 1, 2, 2, 1, 1, 1, 1, 1, 1, 1, 1, 2, 2, 1, 1, 2, 1, 2, 1, 4, 1, 2, 1, 2, 1, 1, 1, 3, 1, 1, 1, 1, 4, 2, 1, 1, 1, 4, 5, 2, 2, 2, 1, 1, 1, 1, 1, 1, 2, 1, 1, 1, 4, 2, 2, 1, 1, 1, 1, 2, 6, 1, 1, 2, 3, 10, 5, 3, 2, 1, 1, 1, 3, 2, 1, 2, 4, 2, 1, 3, 1, 1, 1, 2, 2, 4, 1, 1, 2, 1, 2, 5, 1, 1, 2, 1, 1, 1, 1, 4, 2, 3, 1, 1, 3, 4, 2, 2, 1, 1, 1, 2, 2, 1, 27, 2, 1, 2, 1, 1, 11, 1, 2, 3, 2, 1, 1, 1, 2, 2, 2, 2, 3, 3, 1, 1, 4, 3, 2, 1, 5, 3, 1, 2, 1, 2, 1, 1, 1, 1, 6, 2, 1, 3, 1, 2, 1, 1, 1, 4, 1, 2, 1, 2, 1, 1, 1, 1, 1, 3, 1, 2, 1, 2, 1, 2, 1, 3, 9, 1, 5, 1, 1, 2, 7, 3, 1, 1, 4, 1, 1, 1, 1, 2, 7, 10, 1, 6, 1, 1, 3, 1, 3, 1, 1, 11, 1, 6, 1, 6, 1, 3, 1, 1, 3, 1, 1, 2, 2, 1, 1, 1, 1, 1, 1, 1, 1, 1, 1, 1, 1, 9, 2, 1, 2, 1, 1, 1, 2, 4, 2, 1, 1, 1, 1, 5, 5, 1, 1, 4, 1, 1, 4, 1, 1, 2, 2, 1, 1, 1, 3, 2, 2, 2, 2, 1, 2, 2, 1, 3, 1, 14, 1, 3, 2, 1, 1, 2, 1, 4, 1, 1, 1, 6, 1, 1, 1, 1, 1, 2, 1, 1, 1, 1, 4, 1, 1, 6, 1, 1, 1, 1, 1, 3, 19, 1, 1, 1, 2, 1, 1, 4, 2, 1, 2, 1, 1, 5, 1, 1, 4, 11, 2, 2, 2, 2, 3, 2, 2, 1, 3, 1, 1, 1, 1, 1, 1, 1, 3, 3, 2, 10, 2, 1, 2, 1, 1, 2, 1, 4, 1, 5, 2, 1, 1, 6, 1, 1, 4, 2, 1, 2, 1, 2, 10, 1, 1, 1, 4, 1, 1, 1, 1, 1, 4, 1, 7, 4, 11, 1, 1, 3, 1, 1, 4, 1, 1, 1, 4, 1, 1, 4, 1, 2, 1, 1, 1, 1, 2, 1, 1, 1, 4, 2, 1, 13, 7, 2, 1, 1, 2, 3, 7, 2, 2, 2, 2, 1, 2, 2, 2, 2, 1, 1, 8, 1, 1, 3, 1, 1, 1, 1, 5, 1, 1, 1, 1, 1, 3, 3, 1, 1, 2, 3, 1, 2, 2, 1, 1, 1, 1, 2, 3, 3, 1, 1, 7, 1, 3, 1, 3, 8, 2, 1, 4, 1, 1, 1, 3, 1, 1, 1, 5, 1, 3, 3, 1, 1, 1, 10, 1, 3, 5, 2, 2, 1, 5, 1, 1, 1, 2, 2, 1, 1, 4, 1, 2, 1, 3, 5, 2, 1, 1, 1, 1, 7, 1, 1, 2, 1, 1, 1, 1, 2, 1, 2, 1, 1, 4, 1, 1, 2, 1, 2, 2, 1, 3, 1, 1, 1, 1, 2, 1, 1, 1, 4, 1, 1, 1, 1, 6, 1, 10, 4, 3, 8, 3, 2, 2, 1, 1, 2, 1, 1, 1, 1, 2, 2, 6, 2, 1, 1, 2, 3, 2, 1, 1, 4, 1, 1, 1, 5, 1, 3, 3, 1, 2, 3, 1, 1, 1, 2, 1, 3, 3, 1, 1, 7, 4, 2, 1, 5, 1, 1, 15, 2, 1, 1, 1, 2, 10, 1, 2, 1, 5, 1, 4, 1, 2, 1, 3, 1, 2, 1, 2, 1, 2, 2, 1, 2, 1, 1, 2, 12, 2, 2, 1, 1, 1, 1, 1, 7, 2, 6, 1, 6, 1, 1, 3, 3, 2, 1, 3, 2, 1, 1, 1, 3, 2, 2, 1, 3, 3, 4, 1, 1, 1, 8, 1, 2, 2, 1, 1, 2, 1, 1, 1, 1, 2, 2, 2, 3, 11, 1, 1, 2, 1, 2, 1, 1, 2, 2, 3, 1, 1, 1, 2, 2, 1, 1, 3, 2, 1, 2, 1, 1, 1, 1, 1, 1, 1, 1, 1, 1, 1, 1, 4, 6, 1, 3, 2, 1, 1, 1, 2, 1, 4, 1, 2, 1, 2, 1, 1, 1, 8, 1, 5, 2, 1, 2, 1, 3, 1, 1, 3, 1, 1, 1, 3, 1, 4, 3, 2, 1, 1, 2, 2, 1, 1, 1, 1, 1, 2, 1, 1, 2, 1, 1, 4, 4, 2, 1, 1, 2, 1, 1, 6, 2, 2, 1, 4, 1, 2, 1, 1, 1, 2, 4, 3, 1, 1, 1, 1, 1, 3, 2, 1, 1, 7, 1, 1, 6, 1, 1, 1, 1, 6, 1, 2, 1, 1, 2, 1, 1, 2, 3, 1, 1, 2, 8, 6, 1, 1, 1, 4, 1, 2, 1, 1, 1, 2, 1, 1, 2, 1, 6, 1, 1, 2, 1, 2, 1, 2, 1, 1, 1, 1, 1, 2, 2, 1, 1, 1, 1, 1, 1, 11, 2, 2, 1, 1, 2, 1, 1, 2, 1, 5, 2, 2, 2, 1, 1, 1, 2, 2, 1, 1, 15, 3, 1, 2, 2, 1, 4, 1, 1, 1, 2, 1, 1, 1, 2, 2, 8, 1, 3, 8, 1, 3, 10, 1, 2, 1, 1, 5, 1, 6, 3, 6, 2, 2, 8, 2, 2, 2, 2, 1, 3, 1, 4, 1, 4, 1, 2, 3, 1, 5, 1, 2, 6, 1, 1, 1, 1, 2, 1, 1, 1, 2, 1, 5, 1, 1, 1, 2, 1, 1, 6, 3, 1, 2, 3, 3, 1, 2, 3, 1, 1, 2, 1, 1, 9, 1, 2, 1, 1, 1, 2, 1, 7, 1, 1, 1, 1, 6, 1, 1, 3, 2, 11, 2, 1, 3, 1, 1, 2, 2, 1, 1, 2, 1, 1, 2, 2, 2, 2, 1, 1, 1, 1, 1, 1, 7, 3, 1, 1, 2, 1, 1, 2, 4, 1, 1, 1, 3, 2, 1, 1, 11, 1, 14, 1, 1, 3, 1, 1, 2, 4, 3, 2, 1, 1, 9, 4, 1, 1, 1, 1, 2, 2, 1, 2, 24, 3, 2, 1, 2, 1, 3, 8, 4, 1, 2, 2, 1, 1, 1, 2, 3, 1, 2, 3, 1, 1, 2, 1, 2, 1, 1, 9, 2, 1, 1, 1, 3, 1, 1, 1, 5, 1, 2, 3, 1, 5, 4, 1, 1, 3, 1, 1, 6, 1, 1, 1, 1, 1, 1, 2, 1, 2, 3, 1, 1, 3, 1, 1, 7, 1, 5, 1, 1, 2, 2, 10, 3, 3, 1, 1, 2, 3, 1, 2, 1, 1, 1, 1, 1, 3, 1, 2, 1, 1, 1, 1, 2, 2, 1, 1, 1, 2, 3, 1, 1, 1, 5, 2, 1, 3, 17, 2, 2, 1, 1, 1, 2, 2, 1, 2, 7, 1, 1, 1, 1, 2, 1, 1, 2, 3, 3, 1, 1, 1, 1, 2, 1, 3, 2, 12, 10, 1, 7, 1, 1, 1, 6, 1, 1, 1, 2, 2, 1, 1, 2, 1, 1, 4, 4, 1, 3, 1, 1, 4, 8, 2, 1, 3, 3, 1, 2, 2, 1, 1, 1, 1, 1, 5, 1, 1, 2, 4, 2, 1, 5, 1, 1, 1, 1, 1, 7, 1, 1, 1, 1, 1, 3, 3, 2, 4, 1, 1, 1, 1, 6, 14, 1, 1, 3, 1, 4, 1, 1, 2, 1, 1, 1, 5, 1, 1, 1, 1, 3, 1, 5, 2, 1, 4, 1, 1, 2, 5, 1, 1, 8, 4, 3, 5, 2, 1, 3, 1, 1, 1, 1, 1, 2, 1, 1, 7, 1, 2, 1, 1, 1, 7, 4, 4, 2, 1, 1, 1, 1, 2, 1, 1, 3, 1, 3, 1, 1, 4, 3, 2, 1, 2, 1, 1, 6, 1, 1, 1, 1, 1, 1, 2, 1, 2, 1, 3, 1, 2, 2, 1, 1, 1, 4, 1, 2, 1, 7, 1, 2, 2, 7, 2, 2, 3, 3, 3, 4, 6, 1, 1, 1, 1, 3, 3, 3, 1, 3, 9, 1, 12, 2, 1, 3, 3, 2, 1, 1, 1, 3, 1, 1, 3, 2, 1, 1, 2, 1, 1, 1, 3, 1, 1, 1, 2, 1, 1, 2, 1, 2, 3, 1, 1, 1, 1, 1, 7, 1, 1, 5, 3, 1, 5, 4, 1, 3, 1, 3, 1, 1, 7, 2, 25, 1, 1, 3, 2, 1, 2, 2, 1, 6, 1, 1, 2, 1, 1, 4, 2, 12, 1, 2, 1, 3, 3, 1, 3, 1, 2, 4, 2, 1, 1, 2, 5, 3, 1, 1, 2, 3, 1, 1, 1, 2, 2, 1, 1, 6, 1, 2, 1, 1, 2, 4, 1, 3, 1, 8, 2, 1, 1, 1, 2, 4, 1, 1, 4, 1, 1, 1, 3, 1, 1, 1, 1, 1, 1, 5, 1, 3, 1, 1, 1, 1, 1, 4, 2, 3, 1, 1, 4, 1, 1, 2, 2, 2, 6, 1, 1, 4, 1, 1, 1, 1, 1, 2, 2, 2, 1, 1, 3, 2, 2, 1, 1, 1, 1, 3, 5, 2, 1, 1, 4, 2, 4, 3, 2, 4, 4, 1, 1, 1, 1, 2, 1, 1, 1, 3, 1, 3, 6, 1, 1, 1, 1, 2, 1, 3, 1, 2, 2, 2, 2, 1, 1, 6, 1, 2, 2, 2, 1, 7, 1, 1, 2, 3, 1, 1, 8, 1, 2, 2, 1, 2, 1, 1, 1, 1, 3, 5, 3, 2, 2, 1, 2, 1, 1, 3, 3, 1, 2, 1, 4, 1, 1, 5, 4, 2, 1, 1, 1, 3, 1, 1, 1, 1, 1, 2, 6, 2, 3, 1, 1, 1, 1, 3, 2, 1, 1, 6, 7, 3, 5, 2, 1, 2, 1, 6, 1, 3, 1, 16, 2, 1, 2, 6, 2, 2, 4, 1, 2, 1, 1, 1, 1, 2, 3, 1, 2, 1, 1, 2, 1, 1, 1, 1, 1, 1, 1, 4, 1, 1, 1, 1, 1, 1, 3, 1, 1, 2, 5, 1, 3, 2, 1, 1, 1, 1, 2, 3, 7, 1, 1, 2, 1, 1, 1, 4, 1, 2, 2, 2, 2, 1, 1, 6, 12, 4, 1, 11, 1, 5, 3, 2, 1, 1, 1, 3, 3, 2, 2, 2, 1, 1, 4, 1, 7, 10, 7, 6, 1, 2, 1, 1, 2, 5, 11, 3, 5, 1, 1, 1, 1, 2, 3, 3, 2, 3, 3, 2, 1, 1, 1, 1, 2, 1, 1, 1, 1, 1, 1, 1, 13, 2, 1, 4, 1, 1, 2, 1, 2, 7, 1, 1, 11, 8, 1, 3, 1, 2, 1, 2, 1, 1, 1, 9, 1, 1, 1, 2, 1, 5, 1, 4, 2, 1, 1, 1, 3, 1, 1, 1, 2, 1, 1, 4, 1, 2, 4, 9, 1, 1, 2, 3, 1, 4, 2, 2, 2, 3, 1, 1, 1, 1, 1, 3, 1, 1, 2, 1, 5, 6, 1, 1, 2, 1, 2, 36, 1, 2, 1, 1, 1, 1, 5, 3, 1, 1, 1, 1, 2, 1, 2, 2, 3, 4, 1, 1, 4, 2, 1, 2, 3, 2, 1, 3, 1, 1, 1, 1, 2, 2, 3, 3, 1, 1, 1, 2, 1, 1, 1, 3, 1, 3, 2, 2, 1, 1, 1, 1, 1, 1, 6, 1, 3, 5, 1, 3, 1, 1, 5, 3, 1, 3, 2, 1, 2, 1, 1, 2, 18, 7, 4, 2, 1, 2, 2, 1, 2, 2, 1, 2, 1, 5, 1, 7, 2, 2, 5, 1, 1, 1, 1, 2, 1, 2, 1, 1, 2, 2, 1, 1, 1, 1, 1, 2, 2, 2, 1, 1, 2, 1, 1, 1, 1, 1, 1, 1, 2, 1, 1, 1, 1, 2, 1, 1, 1, 1, 1, 1, 2, 2, 1, 1, 1, 1, 1, 1, 2, 1, 3, 2, 1, 1, 5, 8, 2, 2, 1, 2, 2, 1, 1, 1, 2, 9, 1, 6, 4, 1, 1, 1, 2, 1, 3, 2, 1, 2, 2, 3, 5, 3, 1, 4, 1, 1, 1, 1, 1, 3, 5, 2, 2, 4, 2, 1, 1, 2, 5, 1, 3, 1, 3, 2, 3, 1, 3, 1, 2, 2, 1, 5, 2, 1, 4, 1, 1, 2, 3, 3, 1, 3, 1, 2, 8, 1, 9, 1, 2, 3, 1, 2, 2, 1, 2, 1, 2, 2, 1, 1, 1, 3, 1, 2, 1, 2, 3, 2, 3, 6, 1, 1, 6, 2, 1, 1, 3, 1, 3, 2, 1, 2, 2, 4, 1, 1, 4, 2, 6, 1, 1, 1, 1, 1, 1, 2, 1, 1, 17, 4, 7, 2, 2, 2, 2, 3, 1, 1, 2, 3, 3, 1, 1, 2, 2, 1, 1, 1, 2, 3, 4, 1, 3, 1, 1, 5, 1, 1, 1, 2, 2, 1, 2, 2, 3, 2, 1, 1, 1, 1, 1, 3, 1, 1, 1, 3, 1, 2, 7, 1, 1, 1, 2, 1, 1, 1, 4, 1, 1, 1, 2, 1, 1, 1, 1, 20, 2, 1, 1, 5, 1, 7, 4, 1, 4, 1, 1, 1, 1, 9, 1, 1, 1, 3, 4, 1, 3, 4, 1, 1, 1, 3, 1, 1, 2, 2, 1, 1, 2, 3, 1, 1, 2, 2, 1, 2, 3, 1, 1, 3, 2, 2, 2, 3, 1, 2, 5, 1, 1, 2, 1, 1, 1, 1, 2, 1, 1, 1, 1, 1, 1, 1, 4, 1, 2, 6, 2, 3, 2, 1, 1, 1, 3, 2, 4, 2, 2, 1, 1, 2, 1, 1, 3, 2, 2, 2, 3, 1, 2, 1, 3, 1, 2, 1, 1, 1, 3, 1, 1, 1, 1, 3, 4, 1, 1, 1, 7, 1, 4, 1, 1, 1, 4, 1, 1, 1, 4, 2, 1, 3, 2, 1, 1, 2, 1, 1, 2, 1, 1, 1, 8, 2, 1, 1, 1, 4, 2, 1, 1, 2, 1, 2, 4, 2, 1, 5, 1, 3, 1, 2, 2, 2, 1, 4, 5, 1, 2, 7, 1, 1, 1, 3, 1, 4, 1, 4, 3, 1, 5, 2, 1, 10, 2, 12, 3, 27, 2, 2, 1, 1, 6, 3, 2, 1, 2, 2, 1, 1, 5, 1, 1, 2, 3, 1, 10, 29, 1, 1, 1, 3, 1, 1, 3, 5, 1, 5, 1, 1, 1, 1, 1, 1, 1, 2, 1, 3, 1, 1, 1, 3, 1, 3, 1, 2, 1, 2, 2, 2, 1, 1, 1, 1, 4, 1, 1, 1, 2, 3, 3, 1, 3, 1, 2, 1, 1, 2, 1, 1, 1, 1, 1, 2, 1, 1, 1, 2, 1, 1, 1, 1, 1, 1, 2, 1, 6, 1, 1, 1, 1, 1, 1, 2, 1, 5, 1, 2, 3, 2, 3, 12, 3, 1, 2, 1, 4, 2, 1, 1, 1, 2, 1, 1, 1, 1, 1, 3, 1, 1, 1, 2, 4, 3, 4, 2, 2, 2, 1, 2, 5, 5, 2, 5, 4, 5, 1, 9, 7, 5, 1, 1, 1, 3, 1, 3, 9, 1, 1, 1, 2, 2, 18, 1, 1, 1, 1, 4, 1, 1, 1, 1, 6, 1, 1, 1, 1, 1, 3, 1, 3, 1, 4, 1, 3, 1, 2, 1, 5, 6, 1, 6, 2, 4, 2, 11, 1, 1, 4, 2, 1, 2, 2, 1, 1, 1, 1, 1, 1, 4, 6, 6, 1, 1, 2, 2, 1, 1, 2, 1, 1, 2, 2, 1, 3, 1, 1, 1, 1, 3, 1, 4, 4, 1, 1, 9, 6, 3, 1, 1, 3, 1, 1, 3, 1, 2, 1, 1, 1, 2, 1, 1, 2, 1, 1, 1, 2, 1, 1, 1, 2, 1, 1, 1, 9, 1, 2, 1, 1, 2, 5, 1, 1, 3, 1, 1, 1, 3, 1, 1, 4, 2, 3, 1, 1, 3, 2, 2, 1, 3, 1, 1, 1, 1, 1, 2, 1, 1, 8, 1, 2, 2, 1, 2, 3, 1, 1, 1, 2, 1, 1, 5, 10, 1, 8, 1, 1, 1, 1, 1, 8, 2, 1, 4, 2, 1, 2, 1, 1, 15, 1, 1, 1, 1, 1, 1, 1, 2, 2, 2, 3, 2, 2, 6, 2, 3, 3, 2, 1, 1, 1, 1, 1, 8, 1, 2, 1, 2, 1, 1, 1, 2, 1, 1, 1, 1, 2, 1, 1, 1, 1, 1, 2, 1, 4, 1, 1, 1, 1, 5, 1, 2, 3, 1, 1, 1, 3, 2, 3, 1, 1, 3, 3, 3, 1, 1, 3, 1, 1, 1, 2, 3, 1, 4, 1, 1, 3, 1, 1, 3, 1, 2, 1, 5, 1, 1, 2, 2, 1, 1, 1, 1, 1, 3, 1, 1, 1, 1, 1, 1, 2, 2, 2, 1, 2, 2, 1, 1, 2, 7, 1, 3, 2, 1, 2, 10, 1, 1, 2, 2, 4, 6, 2, 2, 1, 1, 1, 2, 2, 1, 1, 2, 1, 2, 1, 2, 1, 1, 6, 1, 2, 1, 1, 1, 1, 2, 13, 1, 2, 2, 3, 1, 1, 2, 1, 3, 5, 1, 3, 1, 2, 1, 1, 2, 3, 1, 3, 1, 5, 1, 3, 2, 4, 1, 2, 1, 3, 2, 2, 7, 2, 1, 2, 1, 1, 2, 4, 1, 1, 4, 1, 1, 1, 2, 1, 1, 1, 12, 2, 3, 2, 1, 1, 2, 1, 1, 1, 3, 4, 1, 2, 1, 5, 1, 6, 1, 3, 1, 2, 2, 3, 1, 2, 1, 3, 5, 11, 3, 2, 1, 1, 1, 3, 3, 5, 6, 1, 2, 1, 1, 3, 2, 1, 2, 1, 1, 1, 2, 3, 1, 1, 1, 1, 2, 1, 2, 3, 2, 1, 1, 1, 1, 6, 1, 1, 3, 1, 1, 1, 1, 1, 1, 1, 1, 1, 2, 3, 1, 3, 1, 2, 1, 2, 1, 3, 2, 3, 2, 2, 3, 2, 7, 2, 1, 1, 1, 1, 3, 1, 1, 1, 2, 1, 1, 1, 1, 1, 1, 1, 1, 3, 2, 1, 1, 1, 4, 2, 3, 1, 1, 6, 5, 2, 1, 4, 1, 1, 8, 1, 1, 1, 9, 1, 3, 3, 1, 1, 1, 1, 3, 1, 1, 1, 3, 3, 3, 4, 1, 2, 1, 3, 3, 1, 5, 1, 4, 2, 3, 1, 1, 1, 2, 1, 5, 1, 1, 1, 1, 1, 2, 1, 1, 7, 1, 6, 2, 1, 1, 1, 1, 2, 2, 1, 2, 1, 1, 1, 1, 5, 1, 1, 2, 1, 1, 2, 2, 4, 1, 1, 2, 2, 1, 1, 2, 4, 1, 2, 1, 1, 1, 3, 1, 5, 2, 2, 2, 1, 1, 2, 1, 6, 2, 2, 1, 6, 1, 1, 1, 1, 6, 1, 4, 3, 7, 6, 1, 1, 5, 2, 2, 1, 1, 1, 1, 3, 3, 1, 1, 1, 8, 1, 1, 1, 3, 1, 6, 3, 1, 1, 1, 1, 1, 5, 1, 4, 2, 2, 1, 1, 2, 1, 3, 2, 2, 1, 1, 4, 6, 1, 1, 1, 2, 1, 14, 1, 3, 1, 1, 2, 1, 1, 1, 1, 1, 2, 2, 1, 2, 1, 7, 1, 2, 3, 1, 4, 1, 1, 2, 3, 1, 4, 2, 1, 2, 1, 1, 1, 2, 1, 7, 9, 2, 2, 1, 1, 5, 1, 4, 1, 1, 5, 1, 2, 3, 4, 2, 2, 2, 1, 2, 1, 2, 4, 1, 1, 1, 3, 1, 7, 2, 1, 1, 4, 2, 1, 15, 7, 1, 1, 1, 2, 4, 2, 2, 2, 2, 1, 6, 1, 3, 2, 3, 2, 1, 2, 2, 4, 1, 1, 2, 1, 1, 12, 8, 3, 1, 1, 1, 2, 1, 2, 1, 1, 1, 1, 1, 7, 2, 1, 4, 5, 2, 5, 1, 1, 2, 3, 4, 2, 4, 1, 3, 1, 3, 1, 1, 1, 12, 1, 4, 1, 2, 2, 1, 1, 1, 1, 1, 4, 1, 2, 1, 6, 1, 1, 1, 1, 3, 1, 9, 2, 1, 1, 15, 4, 2, 5, 2, 1, 1, 2, 1, 1, 1, 1, 2, 1, 2, 2, 4, 4, 1, 2, 1, 4, 2, 1, 3, 1, 1, 1, 2, 1, 4, 1, 2, 2, 2, 2, 1, 3, 2, 2, 1, 1, 1, 5, 2, 1, 1, 2, 2, 3, 1, 1, 11, 1, 2, 1, 1, 1, 1, 2, 9, 1, 3, 2, 1, 5, 2, 2, 7, 6, 2, 1, 1, 2, 1, 2, 1, 1, 1, 1, 5, 2, 8, 1, 3, 1, 1, 1, 6, 6, 5, 2, 2, 9, 5, 2, 1, 1, 1, 2, 4, 1, 2, 7, 1, 2, 1, 1, 2, 1, 2, 1, 1, 1, 3, 1, 2, 1, 2, 1, 1, 1, 2, 3, 1, 3, 5, 3, 4, 1, 1, 3, 1, 9, 1, 1, 2, 1, 1, 2, 4, 9, 1, 1, 1, 2, 1, 1, 1, 1, 1, 3, 3, 1, 2, 2, 1, 1, 1, 4, 1, 1, 1, 2, 1, 1, 1, 2, 2, 1, 1, 6, 1, 1, 2, 2, 8, 1, 1, 3, 2, 2, 2, 1, 1, 1, 3, 1, 2, 1, 2, 9, 1, 1, 1, 2, 1, 1, 2, 3, 5, 1, 1, 6, 2, 1, 1, 6, 2, 6, 1, 1, 1, 2, 2, 1, 7, 30, 2, 1, 1, 1, 1, 1, 1, 4, 1, 1, 1, 1, 1, 3, 1, 2, 2, 5, 3, 1, 2, 1, 1, 4, 1, 3, 10, 1, 6, 1, 2, 1, 9, 3, 1, 11, 2, 1, 4, 1, 2, 5, 1, 5, 1, 2, 1, 2, 2, 4, 1, 1, 1, 5, 3, 1, 7, 2, 1, 1, 1, 1, 1, 2, 5, 1, 8, 1, 4, 1, 1, 3, 3, 1, 2, 1, 5, 1, 1, 1, 1, 1, 1, 2, 1, 1, 2, 1, 2, 2, 1, 3, 2, 1, 2, 1, 11, 4, 3, 1, 1, 2, 1, 3, 2, 1, 5, 1, 1, 1, 2, 5, 2, 4, 1, 3, 2, 2, 2, 2, 4, 4, 1, 2, 1, 2, 2, 1, 1, 1, 1, 1, 1, 1, 2, 1, 4, 1, 1, 1, 5, 3, 1, 5, 1, 1, 1, 1, 7, 3, 1, 3, 3, 1, 4, 1, 3, 1, 2, 1, 3, 2, 5, 1, 2, 1, 8, 3, 2, 1, 1, 12, 1, 1, 1, 1, 3, 1, 1, 2, 1, 2, 1, 1, 1, 1, 2, 3, 1, 2, 1, 1, 2, 3, 6, 5, 1, 1, 1, 6, 1, 1, 1, 3, 1, 2, 3, 2, 1, 1, 3, 1, 2, 1, 2, 2, 3, 1, 1, 5, 1, 3, 13, 3, 2, 3, 2, 1, 1, 17, 1, 1, 1, 2, 1, 2, 5, 1, 1, 2, 2, 2, 1, 2, 1, 1, 1, 2, 1, 1, 2, 1, 3, 1, 1, 1, 2, 1, 1, 1, 1, 3, 1, 1, 4, 2, 3, 1, 5, 1, 4, 3, 2, 3, 3, 2, 1, 2, 4, 1, 1, 1, 4, 2, 2, 2, 3, 2, 1, 2, 8, 2, 2, 1, 8, 4, 3, 1, 1, 3, 3, 1, 1, 3, 2, 2, 6, 2, 3, 1, 2, 2, 1, 3, 1, 1, 8, 4, 2, 5, 3, 2, 4, 1, 1, 1, 2, 5, 2, 10, 1, 1, 2, 3, 2, 1, 2, 1, 3, 2, 2, 5, 1, 1, 1, 1, 1, 1, 4, 3, 1, 2, 1, 3, 1, 1, 1, 1, 1, 12, 2, 1, 2, 1, 6, 1, 3, 4, 1, 2, 2, 3, 4, 2, 4, 1, 3, 1, 1, 1, 1, 2, 1, 3, 1, 1, 1, 8, 1, 2, 2, 1, 1, 1, 2, 1, 1, 1, 15, 1, 2, 3, 1, 1, 1, 2, 1, 1, 1, 1, 3, 1, 2, 1, 1, 1, 1, 3, 1, 2, 3, 7, 4, 1, 1, 1, 1, 1, 2, 2, 1, 3, 1, 1, 6, 5, 1, 1, 2, 2, 1, 1, 1, 2, 8, 3, 5, 4, 1, 1, 1, 9, 2, 1, 1, 4, 3, 1, 3, 1, 2, 1, 1, 1, 1, 2, 1, 6, 1, 2, 4, 1, 2, 1, 2, 1, 1, 3, 3, 3, 2, 1, 8, 1, 1, 3, 4, 1, 2, 2, 1, 1, 3, 1, 1, 4, 4, 6, 2, 3, 1, 1, 1, 1, 6, 1, 3, 1, 1, 3, 1, 2, 2, 2, 1, 1, 1, 1, 9, 2, 1, 3, 1, 3, 3, 2, 2, 1, 2, 1, 2, 1, 1, 1, 3, 5, 2, 9, 5, 1, 1, 1, 2, 3, 6, 3, 1, 2, 1, 2, 2, 1, 1, 1, 2, 3, 3, 4, 1, 1, 2, 3, 8, 1, 2, 6, 1, 9, 6, 1, 2, 7, 4, 2, 1, 2, 1, 2, 1, 2, 1, 2, 4, 3, 2, 1, 1, 3, 4, 2, 1, 2, 4, 3, 9, 1, 2, 2, 5, 1, 1, 3, 5, 1, 2, 1, 6, 1, 11, 1, 2, 1, 1, 1, 2, 1, 2, 1, 3, 1, 11, 2, 1, 6, 1, 1, 4, 4, 1, 1, 3, 3, 2, 1, 5, 1, 1, 3, 1, 1, 1, 1, 4, 1, 11, 1, 2, 2, 1, 1, 3, 6, 1, 3, 2, 2, 1, 2, 1, 2, 3, 1, 1, 3, 1, 2, 3, 1, 8, 2, 2, 1, 1, 1, 1, 2, 3, 10, 3, 1, 1, 4, 3, 1, 1, 3, 2, 1, 2, 1, 1, 9, 1, 2, 8, 1, 1, 2, 3, 2, 2, 1, 1, 2, 1, 1, 2, 2, 3, 1, 2, 3, 1, 1, 1, 1, 1, 5, 2, 5, 2, 1, 1, 1, 2, 1, 3, 1, 1, 1, 9, 1, 9, 2, 1, 1, 3, 5, 9, 1, 4, 1, 1, 1, 1, 1, 1, 1, 4, 2, 1, 3, 1, 5, 2, 1, 2, 2, 1, 5, 1, 2, 1, 2, 1, 1, 2, 1, 2, 16, 1, 6, 1, 6, 1, 1, 1, 1, 1, 1, 1, 1, 1, 1, 4, 1, 1, 1, 1, 3, 2, 1, 13, 2, 4, 2, 1, 2, 1, 1, 1, 1, 1, 1, 2, 2, 2, 1, 2, 2, 1, 1, 1, 7, 1, 2, 4, 2, 3, 1, 1, 5, 25, 3, 1, 5, 1, 1, 2, 2, 4, 1, 1, 1, 3, 1, 1, 1, 1, 1, 1, 2, 3, 2, 2, 2, 2, 18, 9, 1, 2, 8, 1, 1, 1, 13, 2, 1, 1, 2, 2, 1, 1, 2, 3, 1, 1, 2, 11, 6, 2, 2, 1, 1, 1, 4, 2, 3, 1, 1, 1, 4, 1, 4, 1, 1, 3, 1, 1, 1, 1, 1, 1, 2, 1, 4, 4, 3, 1, 1, 1, 3, 1, 2, 1, 1, 3, 1, 2, 2, 4, 2, 1, 1, 1, 1, 5, 1, 1, 4, 2, 1, 15, 1, 1, 1, 6, 1, 1, 1, 2, 1, 4, 1, 6, 4, 2, 4, 3, 1, 1, 3, 1, 1, 1, 4, 2, 3, 1, 2, 21, 2, 1, 2, 2, 2, 2, 1, 3, 5, 1, 1, 1, 7, 1, 8, 5, 1, 1, 1, 1, 1, 2, 1, 3, 1, 1, 2, 2, 6, 2, 1, 1, 1, 2, 2, 1, 4, 1, 1, 2, 2, 5, 1, 1, 5, 4, 1, 2, 1, 4, 1, 1, 1, 1, 6, 3, 1, 2, 3, 5, 2, 1, 2, 8, 2, 6, 1, 1, 1, 2, 1, 2, 3, 5, 1, 6, 1, 3, 2, 1, 2, 4, 1, 1, 1, 3, 9, 4, 2, 3, 2, 2, 3, 2, 1, 1, 6, 1, 1, 2, 1, 2, 1, 1, 2, 1, 1, 1, 3, 3, 3, 2, 2, 1, 2, 1, 1, 1, 3, 1, 1, 1, 2, 3, 2, 4, 2, 1, 2, 1, 3, 1, 1, 4, 1, 1, 2, 5, 1, 1, 1, 1, 2, 1, 2, 2, 1, 1, 2, 1, 19, 2, 1, 1, 7, 1, 2, 4, 4, 1, 1, 2, 1, 5, 3, 2, 3, 1, 2, 4, 2, 1, 27, 2, 2, 1, 2, 4, 2, 1, 1, 1, 2, 2, 1, 1, 1, 1, 1, 1, 3, 2, 1, 2, 1, 1, 2, 1, 2, 1, 1, 1, 1, 2, 3, 3, 12, 1, 1, 1, 7, 2, 2, 5, 1, 6, 3, 2, 1, 1, 2, 2, 3, 2, 2, 1, 6, 4, 1, 1, 1, 3, 1, 2, 1, 4, 4, 1, 1, 1, 1, 1, 1, 1, 4, 1, 1, 1, 4, 1, 2, 2, 2, 4, 3, 1, 3, 1, 5, 1, 1, 1, 5, 1, 1, 3, 3, 3, 1, 1, 2, 1, 5, 2, 8, 2, 3, 1, 1, 3, 1, 1, 6, 1, 2, 1, 1, 3, 1, 1, 2, 1, 3, 3, 1, 1, 1, 1, 2, 2, 1, 6, 1, 2, 2, 1, 1, 1, 2, 2, 2, 2, 1, 1, 1, 1, 1, 2, 5, 7, 1, 3, 1, 1, 1, 1, 1, 2, 6, 2, 1, 6, 1, 1, 5, 7, 5, 1, 1, 5, 1, 1, 6, 1, 1, 1, 4, 1, 3, 2, 1, 1, 1, 1, 1, 3, 5, 1, 3, 1, 1, 2, 1, 1, 1, 1, 1, 1, 2, 11, 1, 3, 8, 2, 6, 1, 1, 2, 1, 1, 1, 1, 1, 1, 1, 1, 1, 4, 2, 2, 1, 1, 2, 2, 1, 3, 2, 1, 4, 1, 11, 2, 2, 1, 3, 3, 4, 1, 3, 2, 4, 1, 2, 5, 2, 2, 6, 2, 2, 2, 1, 2, 2, 2, 1, 2, 3, 1, 2, 5, 1, 7, 3, 1, 1, 1, 1, 1, 1, 1, 1, 1, 1, 1, 3, 1, 3, 18, 1, 16, 1, 2, 6, 1, 1, 2, 3, 1, 2, 1, 1, 7, 1, 1, 7, 2, 1, 1, 1, 1, 3, 3, 2, 1, 1, 2, 1, 2, 1, 4, 2, 2, 3, 2, 3, 2, 1, 6, 1, 1, 2, 3, 6, 1, 1, 1, 1, 3, 1, 3, 2, 2, 1, 2, 6, 5, 1, 1, 1, 1, 3, 4, 3, 1, 2, 1, 2, 1, 3, 2, 1, 1, 2, 1, 2, 5, 4, 1, 5, 2, 1, 5, 3, 3, 1, 2, 2, 11, 1, 1, 3, 3, 1, 1, 2, 4, 2, 2, 3, 1, 2, 1, 1, 1, 1, 2, 1, 1, 1, 1, 1, 1, 1, 1, 1, 1, 1, 1, 1, 1, 1, 1, 1, 2, 1, 1, 3, 2, 1, 1, 1, 1, 2, 1, 1, 1, 1, 1, 2, 4, 1, 1, 1, 1, 1, 1, 1, 1, 5, 1, 2, 8, 1, 5, 3, 2, 3, 1, 2, 1, 3, 2, 1, 1, 1, 2, 1, 1, 2, 3, 1, 1, 3, 1, 1, 12, 1, 5, 1, 1, 1, 2, 1, 1, 6, 1, 14, 1, 1, 1, 3, 2, 1, 1, 2, 1, 1, 2, 6, 1, 2, 1, 1, 3, 3, 2, 2, 2, 1, 1, 1, 3, 1, 9, 2, 2, 1, 8, 1, 1, 1, 1, 1, 7, 2, 1, 2, 2, 1, 1, 1, 2, 1, 1, 4, 2, 3, 1, 4, 1, 1, 1, 1, 1, 2, 1, 1, 11, 4, 1, 11, 1, 1, 9, 3, 1, 2, 1, 3, 1, 2, 1, 4, 2, 1, 1, 1, 1, 1, 1, 1, 8, 5, 1, 1, 4, 20, 3, 2, 1, 11, 1, 1, 1, 1, 1, 9, 9, 2, 12, 1, 5, 3, 1, 1, 2, 1, 1, 1, 3, 1, 1, 1, 1, 1, 1, 1, 1, 1, 1, 3, 1, 2, 13, 1, 1, 1, 1, 2, 1, 2, 1, 6, 3, 1, 2, 2, 1, 3, 1, 1, 4, 1, 1, 4, 2, 1, 2, 1, 1, 2, 1, 1, 3, 1, 1, 2, 1, 1, 2, 1, 2, 1, 1, 2, 1, 1, 1, 5, 4, 2, 2, 1, 12, 7, 3, 4, 1, 1, 1, 1, 2, 2, 2, 2, 1, 1, 2, 2, 2, 2, 1, 1, 2, 1, 2, 1, 1, 3, 1, 1, 10, 1, 1, 3, 1, 1, 1, 3, 1, 1, 4, 1, 1, 4, 2, 1, 5, 2, 1, 1, 1, 3, 1, 1, 1, 1, 1, 2, 1, 2, 1, 3, 1, 2, 1, 1, 2, 1, 2, 3, 1, 4, 1, 3, 1, 1, 2, 1, 3, 1, 2, 1, 3, 1, 2, 1, 3, 6, 3, 2, 1, 1, 2, 2, 2, 1, 5, 1, 1, 1, 1, 2, 1, 3, 9, 2, 1, 1, 1, 1, 2, 1, 1, 1, 1, 1, 12, 3, 2, 5, 5, 1, 1, 1, 1, 2, 2, 3, 2, 3, 1, 2, 5, 1, 2, 3, 4, 1, 1, 4, 2, 16, 1, 3, 1, 7, 2, 1, 1, 6, 1, 1, 2, 2, 3, 1, 5, 2, 1, 1, 1, 2, 4, 8, 1, 4, 1, 1, 2, 1, 3, 2, 1, 1, 1, 1, 4, 1, 1, 1, 1, 1, 3, 1, 2, 1, 2, 1, 2, 3, 1, 1, 2, 2, 1, 1, 4, 1, 1, 1, 1, 1, 1, 2, 1, 2, 3, 1, 1, 2, 3, 1, 6, 3, 1, 1, 1, 2, 1, 1, 1, 2, 3, 2, 2, 2, 1, 1, 1, 2, 1, 1, 1, 1, 1, 1, 2, 1, 1, 13, 6, 8, 1, 1, 1, 3, 1, 3, 1, 6, 2, 2, 1, 3, 1, 1, 1, 4, 3, 5, 1, 1, 14, 5, 4, 1, 1, 3, 2, 2, 1, 1, 2, 1, 2, 1, 1, 20, 1, 1, 2, 1, 2, 1, 4, 4, 1, 2, 1, 6, 3, 1, 2, 1, 1, 2, 1, 1, 2, 5, 1, 3, 1, 2, 3, 2, 7, 4, 3, 2, 5, 15, 1, 1, 1, 4, 1, 1, 1, 1, 4, 1, 2, 1, 3, 3, 1, 1, 1, 1, 2, 2, 1, 3, 1, 2, 1, 3, 3, 1, 4, 1, 1, 1, 4, 1, 1, 1, 2, 3, 2, 1, 1, 7, 2, 1, 3, 1, 3, 3, 2, 1, 1, 1, 1, 4, 1, 6, 2, 1, 2, 1, 3, 1, 5, 2, 1, 1, 6, 1, 3, 1, 1, 2, 3, 1, 1, 1, 1, 1, 3, 2, 1, 9, 2, 1, 3, 2, 1, 1, 2, 9, 1, 4, 1, 1, 1, 2, 1, 2, 1, 1, 1, 3, 1, 2, 3, 1, 1, 1, 2, 1, 1, 2, 2, 1, 1, 1, 1, 1, 1, 1, 1, 5, 1, 4, 1, 2, 1, 5, 1, 1, 2, 1, 1, 4, 5, 2, 4, 2, 3, 1, 21, 3, 4, 4, 3, 1, 2, 2, 1, 8, 1, 3, 1, 11, 2, 3, 1, 1, 1, 1, 1, 2, 1, 2, 2, 4, 1, 2, 1, 2, 1, 2, 2, 1, 1, 1, 2, 4, 5, 10, 3, 7, 5, 4, 2, 5, 1, 1, 1, 1, 3, 1, 1, 1, 3, 1, 2, 1, 1, 1, 1, 2, 2, 1, 1, 3, 4, 1, 1, 2, 1, 8, 2, 2, 2, 1, 1, 1, 1, 3, 2, 1, 1, 1, 1, 1, 1, 4, 3, 1, 1, 13, 2, 2, 2, 2, 2, 1, 1, 1, 1, 1, 1, 2, 2, 2, 1, 1, 1, 1, 1, 7, 1, 1, 6, 1, 1, 3, 2, 2, 2, 2, 3, 1, 4, 1, 2, 2, 1, 2, 4, 1, 1, 4, 2, 2, 1, 3, 1, 2, 8, 2, 1, 1, 2, 5, 1, 2, 2, 2, 1, 1, 5, 3, 1, 1, 1, 2, 1, 1, 1, 2, 3, 1, 1, 1, 4, 5, 2, 1, 1, 1, 1, 1, 1, 1, 1, 2, 1, 2, 1, 1, 2, 6, 1, 1, 2, 1, 1, 1, 2, 1, 1, 1, 6, 2, 1, 1, 1, 2, 1, 1, 2, 3, 1, 1, 2, 5, 5, 1, 1, 1, 2, 1, 1, 1, 5, 1, 3, 1, 15, 2, 1, 1, 1, 1, 2, 2, 4, 3, 1, 1, 2, 2, 1, 2, 1, 1, 8, 7, 2, 2, 2, 2, 1, 2, 1, 1, 1, 5, 1, 5, 1, 2, 1, 1, 1, 1, 1, 1, 2, 1, 1, 1, 1, 1, 3, 2, 1, 1, 2, 1, 3, 13, 1, 1, 2, 1, 3, 1, 1, 1, 6, 1, 2, 2, 1, 1, 2, 2, 3, 2, 1, 1, 1, 3, 1, 1, 1, 4, 1, 2, 4, 3, 1, 1, 2, 2, 1, 1, 2, 2, 2, 1, 29, 1, 1, 1, 4, 1, 5, 1, 1, 2, 7, 1, 1, 1, 1, 1, 2, 1, 1, 1, 1, 1, 2, 1, 1, 1, 4, 3, 3, 3, 1, 8, 1, 14, 3, 2, 1, 1, 1, 2, 3, 3, 1, 1, 2, 2, 1, 1, 3, 1, 5, 5, 4, 3, 1, 2, 2, 6, 2, 1, 2, 4, 4, 2, 1, 1, 1, 1, 1, 1, 3, 3, 2, 1, 1, 4, 1, 2, 1, 2, 1, 1, 1, 3, 3, 2, 1, 1, 1, 2, 3, 1, 1, 1, 1, 1, 1, 1, 1, 7, 1, 5, 2, 2, 6, 1, 2, 1, 3, 5, 2, 2, 1, 1, 1, 1, 2, 4, 1, 27, 3, 3, 1, 1, 2, 1, 1, 1, 3, 1, 1, 2, 5, 1, 1, 8, 1, 1, 3, 2, 1, 3, 1, 2, 1, 1, 4, 1, 1, 1, 3, 2, 7, 1, 2, 1, 10, 2, 1, 1, 1, 5, 8, 5, 6, 1, 1, 12, 3, 2, 3, 2, 1, 2, 2, 1, 1, 1, 2, 1, 1, 1, 3, 1, 2, 4, 4, 1, 2, 2, 1, 1, 1, 1, 1, 1, 3, 4, 1, 2, 1, 1, 1, 2, 3, 1, 2, 1, 1, 1, 3, 2, 1, 3, 9, 1, 1, 1, 3, 1, 7, 3, 4, 1, 2, 1, 1, 7, 1, 1, 1, 2, 1, 4, 1, 1, 2, 1, 2, 1, 9, 10, 1, 15, 1, 1, 3, 4, 1, 9, 4, 2, 1, 2, 1, 1, 2, 4, 1, 1, 1, 1, 3, 1, 1, 1, 2, 4, 3, 8, 5, 1, 4, 4, 1, 1, 1, 1, 1, 2, 1, 1, 2, 1, 4, 4, 3, 1, 2, 1, 1, 1, 1, 1, 2, 1, 1, 1, 2, 1, 2, 3, 3, 4, 1, 1, 7, 2, 1, 1, 1, 1, 2, 1, 5, 2, 2, 2, 1, 1, 2, 1, 1, 1, 1, 2, 2, 1, 4, 2, 1, 1, 1, 1, 1, 2, 1, 1, 1, 4, 2, 2, 1, 2, 1, 2, 3, 5, 1, 4, 1, 1, 1, 1, 11, 2, 2, 1, 1, 3, 1, 2, 1, 3, 1, 4, 2, 1, 1, 1, 1, 1, 3, 1, 1, 1, 1, 3, 1, 1, 2, 1, 1, 4, 3, 2, 1, 1, 4, 1, 1, 2, 3, 3, 1, 1, 1, 1, 4, 1, 1, 7, 2, 1, 1, 1, 2, 4, 2, 3, 1, 1, 1, 4, 2, 1, 2, 1, 1, 1, 1, 2, 1, 4, 3, 1, 2, 1, 1, 3, 4, 4, 3, 1, 1, 1, 1, 1, 1, 3, 1, 1, 1, 1, 1, 1, 1, 2, 3, 3, 2, 1, 1, 2, 1, 2, 1, 1, 1, 2, 2, 2, 2, 1, 1, 5, 1, 5, 2, 1, 3, 2, 1, 2, 1, 1, 3, 3, 7, 1, 2, 2, 1, 2, 2, 8, 1, 1, 2, 2, 1, 2, 1, 1, 1, 1, 4, 1, 1, 1, 1, 1, 1, 1, 2, 1, 8, 1, 2, 2, 3, 1, 2, 2, 2, 2, 2, 5, 1, 1, 2, 5, 1, 1, 2, 1, 2, 1, 3, 1, 8, 1, 2, 5, 4, 1, 1, 1, 2, 1, 4, 2, 1, 1, 3, 4, 1, 1, 6, 1, 1, 2, 1, 1, 1, 1, 3, 1, 1, 10, 1, 2, 1, 3, 35, 2, 1, 8, 4, 2, 6, 1, 2, 2, 1, 1, 1, 3, 3, 2, 2, 2, 2, 1, 1, 4, 1, 4, 1, 1, 1, 1, 1, 2, 3, 2, 1, 2, 1, 11, 1, 1, 3, 1, 1, 1, 1, 1, 1, 1, 1, 1, 1, 1, 1, 1, 1, 1, 2, 3, 1, 1, 6, 4, 1, 5, 1, 1, 3, 1, 1, 2, 2, 2, 2, 8, 3, 2, 3, 2, 6, 1, 6, 2, 1, 2, 1, 4, 2, 3, 2, 1, 1, 4, 1, 1, 2, 1, 4, 1, 1, 1, 1, 3, 1, 4, 2, 1, 6, 1, 1, 1, 4, 1, 2, 1, 2, 1, 1, 3, 1, 6, 1, 1, 1, 1, 1, 7, 7, 1, 1, 1, 1, 3, 2, 4, 3, 1, 2, 1, 1, 1, 8, 2, 1, 3, 1, 1, 1, 1, 1, 1, 9, 2, 1, 4, 1, 1, 3, 3, 1, 1, 1, 4, 2, 2, 1, 4, 1, 1, 1, 1, 3, 3, 1, 4, 1, 1, 1, 1, 1, 3, 1, 1, 3, 1, 1, 1, 2, 1, 4, 2, 2, 1, 1, 1, 1, 2, 3, 4, 6, 2, 3, 5, 5, 2, 3, 1, 3, 1, 1, 4, 1, 2, 3, 2, 4, 3, 1, 1, 1, 1, 1, 2, 1, 1, 2, 2, 2, 2, 1, 2, 1, 4, 2, 2, 1, 1, 2, 2, 3, 2, 6, 1, 1, 1, 1, 2, 2, 1, 5, 16, 1, 5, 9, 2, 1, 2, 1, 4, 2, 1, 3, 15, 4, 2, 1, 2, 1, 2, 1, 1, 1, 5, 2, 2, 10, 1, 1, 5, 3, 1, 3, 1, 1, 1, 1, 4, 2, 1, 1, 1, 2, 1, 2, 9, 6, 1, 1, 1, 1, 1, 2, 2, 3, 3, 1, 1, 2, 3, 2, 4, 1, 1, 4, 2, 1, 3, 3, 4, 3, 1, 5, 2, 1, 1, 7, 2, 2, 1, 2, 1, 1, 1, 3, 3, 3, 1, 1, 3, 1, 1, 4, 4, 1, 3, 1, 1, 3, 1, 2, 1, 1, 1, 2, 1, 1, 1, 1, 1, 1, 3, 1, 1, 3, 2, 3, 2, 1, 2, 1, 1, 1, 4, 1, 2, 2, 13, 1, 1, 2, 1, 1, 1, 3, 9, 3, 6, 1, 2, 1, 1, 1, 1, 1, 6, 1, 1, 1, 1, 1, 4, 1, 1, 4, 2, 1, 1, 4, 1, 2, 1, 2, 10, 1, 3, 1, 3, 1, 3, 1, 4, 1, 6, 3, 2, 2, 2, 7, 1, 1, 1, 1, 1, 1, 1, 1, 1, 2, 1, 1, 5, 7, 1, 1, 1, 2, 3, 2, 1, 2, 1, 2, 2, 1, 1, 1, 13, 1, 1, 1, 1, 4, 1, 1, 2, 3, 3, 3, 1, 2, 1, 2, 1, 1, 1, 1, 1, 10, 3, 3, 1, 1, 1, 2, 4, 1, 1, 3, 3, 6, 3, 4, 2, 1, 1, 1, 3, 8, 1, 1, 2, 5, 4, 4, 2, 1, 3, 8, 1, 1, 3, 1, 1, 2, 1, 1, 1, 1, 2, 1, 1, 5, 3, 1, 1, 2, 2, 1, 2, 1, 2, 1, 1, 2, 3, 4, 2, 1, 2, 1, 3, 4, 1, 2, 1, 2, 4, 2, 1, 1, 1, 1, 2, 1, 2, 2, 1, 4, 1, 1, 2, 7, 7, 1, 2, 2, 2, 2, 1, 2, 1, 1, 3, 2, 1, 1, 1, 2, 1, 6, 1, 1, 1, 1, 3, 3, 2, 1, 2, 5, 1, 11, 3, 3, 1, 1, 1, 2, 1, 1, 1, 1, 1, 2, 3, 1, 2, 1, 1, 1, 1, 13, 3, 1, 1, 1, 1, 2, 1, 1, 1, 4, 2, 2, 1, 1, 3, 3, 2, 1, 1, 1, 2, 2, 4, 5, 1, 1, 4, 6, 5, 2, 1, 5, 1, 1, 2, 1, 1, 1, 2, 3, 5, 1, 1, 1, 3, 2, 7, 2, 1, 1, 1, 1, 2, 2, 1, 1, 1, 3, 1, 2, 1, 1, 3, 3, 1, 2, 2, 1, 1, 1, 2, 4, 5, 11, 2, 3, 1, 1, 3, 1, 4, 1, 3, 2, 7, 2, 1, 1, 1, 1, 1, 3, 1, 1, 1, 1, 1, 4, 1, 3, 2, 2, 1, 1, 1, 2, 1, 1, 1, 1, 1, 1, 1, 4, 1, 1, 2, 36, 1, 2, 1, 1, 1, 1, 1, 2, 1, 2, 6, 1, 2, 2, 2, 2, 1, 1, 1, 1, 6, 1, 1, 1, 2, 2, 3, 1, 3, 3, 2, 1, 1, 2, 2, 3, 4, 1, 6, 1, 4, 3, 1, 3, 3, 2, 2, 1, 1, 1, 1, 1, 5, 1, 1, 1, 3, 1, 2, 1, 1, 1, 2, 1, 1, 7, 1, 1, 4, 1, 3, 2, 3, 1, 1, 3, 1, 2, 2, 2, 1, 1, 1, 2, 2, 9, 1, 1, 1, 3, 1, 3, 1, 5, 1, 2, 2, 4, 1, 2, 1, 1, 2, 1, 1, 2, 1, 1, 2, 3, 2, 1, 1, 2, 1, 2, 1, 1, 1, 1, 1, 1, 2, 1, 4, 1, 1, 1, 2, 1, 2, 2, 1, 3, 2, 1, 4, 5, 4, 2, 1, 4, 1, 2, 3, 3, 4, 3, 4, 2, 1, 2, 2, 1, 4, 3, 2, 1, 2, 1, 2, 1, 1, 1, 5, 1, 1, 3, 3, 5, 2, 2, 3, 2, 2, 2, 7, 1, 4, 2, 1, 2, 6, 3, 1, 2, 12, 1, 1, 1, 4, 4, 1, 1, 3, 1, 1, 1, 1, 4, 1, 1, 1, 1, 3, 1, 2, 2, 1, 1, 1, 1, 4, 4, 1, 1, 2, 3, 1, 2, 3, 3, 5, 4, 1, 1, 4, 2, 2, 2, 4, 1, 1, 1, 1, 6, 1, 3, 5, 1, 2, 9, 5, 4, 3, 3, 1, 2, 1, 6, 1, 1, 1, 3, 12, 1, 4, 2, 1, 1, 4, 1, 6, 2, 1, 1, 1, 4, 4, 1, 3, 5, 2, 1, 1, 1, 1, 5, 1, 1, 1, 2, 1, 2, 1, 1, 1, 1, 1, 1, 1, 1, 3, 2, 2, 2, 8, 1, 4, 1, 1, 1, 3, 4, 1, 2, 10, 2, 1, 1, 3, 4, 2, 8, 2, 1, 1, 1, 1, 4, 18, 6, 3, 1, 1, 1, 1, 2, 2, 1, 1, 1, 1, 3, 3, 1, 3, 3, 1, 1, 1, 1, 1, 1, 7, 2, 1, 2, 1, 1, 1, 1, 1, 2, 1, 1, 1, 6, 1, 4, 2, 1, 1, 1, 1, 1, 5, 2, 1, 1, 1, 2, 1, 3, 2, 2, 2, 3, 3, 2, 2, 3, 1, 1, 7, 1, 1, 1, 3, 15, 3, 1, 2, 1, 1, 3, 1, 2, 1, 3, 1, 1, 1, 1, 2, 7, 2, 1, 2, 1, 1, 1, 1, 1, 1, 1, 3, 1, 1, 3, 3, 2, 4, 3, 2, 1, 7, 1, 10, 2, 2, 1, 1, 1, 5, 1, 2, 3, 1, 1, 2, 3, 1, 1, 1, 1, 2, 1, 4, 4, 2, 2, 2, 2, 1, 1, 3, 1, 1, 3, 1, 2, 9, 1, 1, 1, 2, 11, 1, 1, 1, 2, 1, 4, 3, 1, 1, 2, 1, 1, 1, 3, 1, 4, 1, 2, 8, 2, 1, 18, 2, 4, 8, 1, 1, 3, 2, 1, 2, 1, 7, 1, 3, 2, 1, 2, 2, 1, 1, 3, 4, 1, 4, 15, 7, 21, 3, 1, 3, 1, 8, 3, 1, 1, 1, 1, 3, 1, 1, 2, 1, 2, 5, 2, 1, 1, 5, 2, 1, 1, 5, 2, 1, 1, 2, 1, 2, 1, 1, 1, 1, 2, 1, 1, 2, 2, 2, 1, 13, 1, 1, 2, 1, 2, 2, 1, 1, 2, 1, 2, 1, 1, 1, 1, 1, 1, 5, 2, 3, 1, 1, 2, 1, 1, 1, 4, 7, 2, 2, 1, 1, 1, 1, 1, 1, 3, 3, 1, 2, 3, 1, 3, 1, 1, 1, 4, 1, 4, 2, 1, 3, 1, 8, 4, 2, 1, 1, 1, 2, 18, 7, 7, 2, 3, 5, 4, 7, 1, 1, 1, 1, 1, 3, 1, 3, 11, 3, 1, 2, 1, 2, 2, 1, 1, 4, 14, 3, 1, 3, 1, 2, 3, 2, 1, 1, 1, 1, 3, 1, 1, 1, 2, 2, 1, 1, 1, 5, 2, 4, 4, 1, 6, 1, 2, 2, 7, 3, 1, 3, 1, 2, 1, 2, 2, 2, 7, 1, 1, 4, 1, 4, 3, 4, 2, 2, 5, 1, 2, 1, 2, 3, 2, 1, 4, 2, 3, 3, 6, 3, 2, 1, 1, 2, 1, 1, 2, 2, 4, 1, 5, 1, 5, 4, 16, 1, 1, 1, 5, 3, 2, 8, 1, 4, 1, 2, 1, 1, 1, 1, 1, 1, 2, 1, 1, 2, 1, 1, 2, 4], \"xaxis\": \"x\", \"yaxis\": \"y\"}, {\"alignmentgroup\": \"True\", \"bingroup\": \"x\", \"hoverlabel\": {\"namelength\": 0}, \"hovertemplate\": \"gender=male<br>Num_Prod=%{x}<br>count=%{y}\", \"legendgroup\": \"gender=male\", \"marker\": {\"color\": \"#EF553B\"}, \"name\": \"gender=male\", \"offsetgroup\": \"gender=male\", \"orientation\": \"v\", \"showlegend\": true, \"type\": \"histogram\", \"x\": [7, 2, 3, 1, 2, 1, 2, 1, 1, 5, 3, 1, 1, 3, 2, 1, 1, 1, 1, 2, 1, 9, 1, 5, 1, 1, 1, 2, 1, 7, 1, 1, 1, 2, 1, 7, 11, 1, 3, 1, 2, 2, 1, 4, 2, 1, 1, 1, 2, 2, 1, 2, 2, 1, 4, 1, 2, 1, 1, 3, 1, 1, 1, 1, 1, 1, 2, 1, 2, 1, 1, 1, 1, 1, 1, 2, 1, 1, 1, 4, 1, 1, 1, 1, 3, 10, 1, 2, 5, 1, 1, 2, 1, 1, 2, 1, 1, 1, 2, 1, 2, 3, 1, 1, 1, 1, 3, 1, 1, 1, 1, 5, 5, 1, 1, 1, 8, 1, 2, 3, 1, 1, 8, 3, 11, 1, 1, 8, 3, 3, 1, 1, 2, 1, 2, 1, 8, 2, 4, 1, 1, 5, 1, 3, 1, 4, 1, 1, 1, 2, 1, 1, 2, 1, 1, 5, 5, 1, 2, 1, 1, 2, 1, 9, 1, 4, 1, 1, 2, 5, 1, 6, 1, 2, 1, 1, 2, 1, 1, 1, 3, 1, 1, 3, 1, 1, 1, 3, 2, 10, 1, 1, 2, 1, 1, 1, 1, 1, 2, 1, 1, 1, 1, 3, 9, 1, 1, 2, 1, 1, 1, 4, 1, 4, 5, 1, 1, 3, 1, 1, 1, 1, 1, 1, 1, 1, 3, 4, 1, 1, 1, 1, 1, 1, 1, 1, 15, 1, 1, 1, 3, 2, 3, 5, 3, 5, 7, 1, 1, 1, 1, 6, 1, 1, 2, 2, 1, 4, 1, 6, 1, 1, 1, 1, 3, 1, 1, 1, 1, 1, 1, 1, 2, 2, 4, 1, 1, 1, 1, 1, 4, 1, 6, 1, 3, 1, 1, 1, 5, 3, 1, 2, 1, 1, 1, 2, 1, 1, 5, 1, 1, 1, 9, 2, 1, 1, 3, 1, 1, 1, 1, 1, 5, 29, 2, 1, 1, 1, 1, 1, 3, 2, 1, 8, 1, 8, 2, 1, 4, 7, 1, 1, 2, 1, 1, 3, 1, 2, 1, 1, 3, 1, 1, 1, 2, 2, 1, 1, 2, 2, 1, 1, 1, 7, 2, 3, 1, 1, 3, 2, 1, 5, 1, 3, 1, 1, 1, 1, 1, 1, 2, 1, 1, 1, 8, 2, 1, 6, 1, 2, 2, 2, 1, 1, 1, 1, 6, 4, 2, 2, 1, 2, 3, 2, 1, 11, 1, 2, 2, 1, 1, 1, 2, 2, 1, 1, 3, 1, 1, 1, 4, 1, 1, 1, 4, 2, 1, 1, 2, 1, 1, 1, 3, 2, 1, 1, 1, 1, 3, 10, 1, 7, 1, 1, 3, 2, 2, 3, 1, 1, 2, 1, 1, 1, 3, 8, 3, 3, 2, 6, 1, 3, 1, 2, 1, 3, 1, 3, 1, 2, 3, 2, 1, 2, 3, 1, 1, 2, 1, 4, 1, 3, 3, 3, 1, 1, 2, 1, 1, 1, 1, 1, 3, 1, 3, 4, 1, 6, 3, 2, 2, 1, 1, 1, 1, 4, 1, 10, 4, 1, 4, 4, 1, 2, 5, 1, 1, 1, 1, 1, 1, 1, 1, 1, 2, 1, 4, 1, 2, 3, 2, 3, 7, 2, 4, 1, 1, 2, 3, 1, 1, 1, 4, 1, 2, 6, 2, 1, 2, 4, 3, 1, 5, 1, 2, 2, 2, 3, 3, 1, 2, 2, 4, 2, 1, 1, 1, 2, 1, 1, 1, 4, 11, 2, 1, 1, 1, 1, 3, 4, 1, 1, 2, 8, 1, 4, 1, 1, 13, 1, 1, 2, 1, 1, 2, 1, 1, 8, 2, 4, 1, 2, 1, 1, 1, 1, 1, 1, 1, 3, 1, 1, 2, 2, 3, 2, 1, 1, 3, 1, 3, 1, 6, 1, 1, 2, 1, 1, 2, 12, 1, 1, 1, 1, 1, 1, 1, 1, 4, 1, 1, 1, 2, 1, 2, 2, 1, 1, 2, 2, 2, 2, 1, 1, 1, 2, 1, 2, 2, 1, 1, 1, 2, 4, 1, 4, 2, 2, 5, 1, 4, 1, 1, 3, 8, 1, 16, 1, 1, 1, 2, 5, 1, 1, 1, 1, 3, 1, 1, 1, 1, 1, 3, 6, 1, 1, 1, 2, 1, 1, 1, 1, 1, 2, 1, 1, 1, 1, 3, 4, 1, 1, 1, 1, 2, 4, 2, 2, 1, 4, 5, 2, 5, 1, 2, 5, 3, 1, 2, 1, 1, 1, 3, 1, 1, 2, 6, 5, 1, 1, 3, 2, 1, 1, 2, 8, 3, 1, 1, 1, 2, 1, 1, 1, 2, 1, 1, 1, 2, 1, 1, 1, 5, 1, 1, 4, 1, 2, 2, 1, 2, 5, 2, 1, 1, 1, 2, 1, 2, 1, 4, 1, 1, 1, 1, 3, 5, 9, 1, 1, 3, 1, 1, 2, 1, 2, 10, 1, 1, 1, 2, 5, 1, 1, 2, 1, 1, 1, 1, 3, 2, 1, 9, 3, 1, 4, 1, 1, 1, 3, 3, 1, 5, 4, 2, 2, 1, 2, 1, 2, 1, 18, 1, 3, 1, 2, 5, 1, 3, 1, 3, 1, 1, 1, 2, 3, 3, 1, 1, 1, 3, 4, 2, 1, 2, 1, 1, 1, 1, 2, 1, 1, 1, 1, 1, 1, 1, 1, 1, 1, 2, 2, 4, 2, 1, 1, 1, 3, 2, 5, 1, 1, 13, 2, 3, 2, 1, 1, 2, 1, 1, 14, 1, 3, 1, 1, 1, 1, 4, 1, 1, 2, 3, 1, 1, 1, 2, 1, 1, 1, 1, 2, 1, 1, 1, 3, 1, 1, 2, 2, 1, 1, 4, 1, 8, 1, 1, 1, 3, 1, 7, 3, 1, 1, 3, 2, 1, 1, 1, 2, 8, 10, 2, 2, 2, 1, 4, 1, 1, 1, 1, 1, 1, 1, 1, 1, 1, 1, 3, 1, 1, 2, 7, 3, 3, 1, 1, 6, 1, 2, 1, 1, 1, 1, 1, 1, 1, 2, 1, 1, 1, 1, 2, 1, 1, 5, 1, 1, 1, 1, 2, 2, 1, 3, 1, 1, 1, 1, 2, 1, 2, 1, 13, 2, 3, 1, 1, 4, 1, 1, 1, 2, 1, 2, 5, 5, 1, 1, 2, 2, 2, 1, 1, 1, 1, 3, 1, 4, 1, 2, 5, 3, 2, 1, 1, 3, 1, 1, 2, 1, 5, 1, 2, 3, 2, 4, 3, 2, 1, 1, 2, 2, 1, 1, 2, 2, 1, 1, 2, 1, 1, 3, 1, 1, 1, 3, 2, 2, 2, 1, 2, 1, 1, 2, 6, 1, 2, 1, 2, 1, 2, 2, 1, 2, 1, 3, 1, 1, 4, 2, 2, 4, 2, 6, 5, 1, 1, 3, 1, 1, 3, 5, 1, 1, 1, 1, 1, 1, 5, 2, 1, 1, 2, 2, 1, 1, 1, 6, 1, 1, 3, 3, 3, 2, 4, 4, 4, 5, 2, 2, 1, 1, 1, 2, 2, 1, 1, 1, 2, 2, 1, 2, 1, 1, 1, 2, 7, 2, 4, 1, 3, 2, 2, 1, 1, 1, 2, 1, 1, 1, 3, 2, 1, 1, 1, 1, 1, 1, 1, 1, 2, 1, 2, 2, 1, 1, 6, 3, 1, 1, 5, 1, 2, 3, 6, 1, 8, 5, 3, 1, 4, 1, 1, 1, 1, 1, 2, 3, 1, 1, 1, 1, 4, 2, 1, 2, 2, 1, 1, 1, 2, 1, 1, 3, 1, 1, 6, 1, 1, 1, 1, 2, 2, 1, 2, 3, 1, 15, 4, 1, 1, 3, 1, 2, 2, 1, 1, 2, 2, 8, 1, 1, 2, 2, 1, 1, 5, 1, 1, 2, 1, 2, 1, 1, 1, 1, 1, 1, 2, 1, 3, 4, 1, 2, 9, 1, 1, 1, 1, 1, 2, 4, 2, 2, 3, 5, 1, 1, 1, 1, 1, 1, 1, 2, 1, 1, 2, 1, 1, 3, 4, 1, 1, 1, 1, 4, 1, 1, 2, 7, 5, 3, 1, 1, 2, 1, 1, 1, 2, 9, 4, 1, 1, 2, 3, 4, 2, 1, 1, 1, 1, 2, 21, 1, 2, 1, 1, 1, 1, 1, 1, 1, 1, 1, 1, 1, 1, 1, 3, 2, 2, 1, 2, 3, 1, 3, 1, 4, 22, 8, 1, 2, 1, 2, 1, 3, 2, 1, 1, 2, 1, 3, 1, 1, 1, 1, 1, 1, 7, 2, 2, 2, 1, 2, 4, 2, 1, 1, 3, 5, 2, 1, 3, 3, 1, 1, 2, 1, 2, 1, 1, 1, 2, 2, 7, 1, 1, 3, 1, 4, 1, 1, 1, 6, 1, 2, 1, 1, 2, 1, 1, 1, 1, 1, 7, 1, 1, 1, 1, 2, 1, 1, 1, 2, 1, 1, 1, 2, 1, 1, 1, 1, 1, 2, 1, 4, 3, 5, 1, 2, 6, 2, 1, 2, 1, 2, 1, 1, 2, 5, 1, 1, 1, 1, 1, 5, 1, 1, 1, 1, 1, 1, 5, 1, 1, 2, 1, 1, 1, 1, 1, 1, 1, 1, 1, 1, 2, 1, 1, 5, 3, 2, 1, 4, 1, 2, 2, 5, 1, 3, 5, 7, 1, 2, 8, 1, 7, 1, 2, 1, 1, 1, 1, 6, 7, 2, 1, 1, 1, 1, 1, 1, 1, 1, 8, 1, 1, 3, 1, 1, 2, 4, 1, 1, 4, 1, 1, 3, 1, 3, 1, 2, 2, 1, 1, 2, 1, 2, 1, 1, 2, 1, 3, 2, 4, 3, 1, 2, 1, 2, 1, 4, 3, 1, 1, 1, 1, 2, 3, 1, 1, 5, 8, 4, 2, 2, 1, 2, 1, 1, 1, 1, 2, 1, 3, 1, 1, 1, 1, 2, 1, 5, 6, 1, 2, 1, 1, 6, 2, 2, 1, 6, 3, 2, 1, 4, 1, 1, 1, 1, 1, 2, 6, 1, 1, 1, 6, 1, 2, 1, 2, 2, 6, 1, 1, 2, 1, 1, 7, 1, 2, 1, 5, 1, 1, 2, 1, 1, 1, 1, 1, 1, 2, 1, 1, 2, 1, 1, 1, 1, 1, 1, 1, 1, 1, 1, 2, 1, 1, 4, 1, 1, 1, 3, 1, 2, 1, 1, 1, 1, 1, 2, 1, 4, 1, 1, 2, 1, 3, 2, 1, 3, 1, 2, 1, 1, 1, 1, 1, 4, 3, 4, 2, 1, 1, 1, 3, 1, 1, 5, 1, 4, 1, 5, 11, 5, 1, 2, 1, 1, 1, 1, 1, 1, 1, 2, 4, 1, 4, 1, 1, 1, 2, 3, 1, 2, 1, 1, 1, 1, 2, 1, 2, 2, 1, 1, 2, 1, 1, 6, 1, 1, 1, 1, 2, 3, 2, 1, 1, 1, 1, 1, 3, 1, 8, 1, 2, 1, 1, 2, 1, 4, 1, 5, 1, 2, 1, 4, 1, 1, 2, 1, 1, 2, 2, 2, 2, 1, 9, 1, 2, 3, 2, 4, 1, 2, 4, 1, 1, 3, 1, 1, 1, 3, 1, 1, 2, 2, 2, 2, 1, 1, 1, 3, 3, 9, 1, 1, 1, 7, 1, 11, 2, 2, 1, 6, 2, 5, 4, 2, 5, 1, 4, 3, 1, 2, 2, 1, 1, 1, 4, 1, 2, 1, 2, 1, 1, 3, 1, 1, 1, 1, 3, 2, 2, 1, 2, 1, 1, 1, 3, 2, 3, 11, 2, 1, 1, 3, 1, 2, 3, 1, 1, 1, 1, 8, 2, 2, 2, 2, 3, 2, 9, 1, 1, 2, 3, 1, 2, 1, 1, 2, 3, 1, 3, 1, 4, 1, 2, 2, 1, 1, 1, 1, 1, 11, 1, 7, 1, 2, 2, 1, 1, 1, 4, 1, 4, 1, 2, 3, 1, 3, 1, 3, 1, 1, 1, 1, 1, 2, 1, 1, 6, 1, 2, 4, 2, 1, 1, 5, 9, 5, 2, 2, 1, 4, 1, 1, 5, 3, 1, 4, 1, 1, 2, 4, 2, 2, 2, 4, 14, 1, 2, 3, 3, 3, 1, 3, 1, 1, 1, 2, 1, 2, 1, 1, 1, 1, 1, 2, 2, 1, 2, 1, 2, 2, 8, 1, 4, 2, 2, 3, 2, 6, 2, 3, 4, 1, 1, 4, 1, 1, 6, 1, 1, 3, 1, 3, 1, 2, 1, 1, 1, 2, 3, 1, 1, 2, 2, 1, 2, 2, 2, 1, 5, 1, 2, 2, 2, 2, 2, 5, 3, 4, 1, 1, 2, 1, 1, 1, 1, 1, 2, 3, 4, 1, 1, 6, 1, 1, 1, 1, 1, 3, 1, 1, 1, 4, 4, 1, 2, 4, 1, 5, 4, 1, 1, 2, 1, 1, 1, 2, 1, 1, 2, 2, 3, 1, 3, 2, 1, 3, 1, 3, 2, 4, 3, 3, 4, 2, 1, 2, 3, 1, 2, 1, 2, 1, 1, 2, 2, 1, 1, 1, 1, 1, 1, 2, 1, 5, 1, 1, 1, 5, 2, 1, 3, 2, 1, 1, 2, 3, 2, 1, 4, 2, 1, 1, 1, 1, 3, 1, 1, 2, 1, 3, 2, 3, 2, 2, 5, 7, 1, 1, 3, 1, 3, 2, 1, 1, 3, 1, 1, 1, 7, 2, 1, 3, 1, 7, 1, 6, 1, 1, 2, 1, 1, 2, 1, 1, 4, 2, 3, 2, 2, 1, 1, 2, 1, 3, 1, 5, 1, 2, 1, 2, 1, 1, 3, 1, 3, 1, 1, 2, 1, 1, 1, 1, 3, 2, 2, 2, 1, 2, 1, 1, 1, 1, 1, 1, 1, 1, 2, 1, 1, 1, 1, 1, 1, 1, 3, 3, 1, 1, 1, 2, 1, 1, 2, 1, 1, 1, 2, 1, 1, 2, 4, 9, 1, 12, 7, 1, 1, 1, 1, 1, 6, 1, 1, 3, 1, 2, 3, 12, 1, 1, 4, 2, 2, 1, 2, 1, 1, 4, 2, 1, 3, 1, 1, 1, 1, 2, 1, 1, 1, 2, 1, 1, 1, 2, 1, 8, 2, 3, 1, 1, 4, 2, 2, 1, 2, 5, 2, 4, 1, 1, 1, 2, 2, 1, 2, 2, 1, 9, 1, 2, 1, 1, 4, 4, 1, 1, 3, 1, 1, 1, 3, 2, 2, 1, 1, 1, 1, 2, 3, 1, 1, 1, 1, 1, 1, 1, 1, 2, 1, 2, 2, 1], \"xaxis\": \"x\", \"yaxis\": \"y\"}],\n",
              "                        {\"barmode\": \"relative\", \"legend\": {\"tracegroupgap\": 0}, \"margin\": {\"t\": 60}, \"template\": {\"data\": {\"bar\": [{\"error_x\": {\"color\": \"#f2f5fa\"}, \"error_y\": {\"color\": \"#f2f5fa\"}, \"marker\": {\"line\": {\"color\": \"rgb(17,17,17)\", \"width\": 0.5}}, \"type\": \"bar\"}], \"barpolar\": [{\"marker\": {\"line\": {\"color\": \"rgb(17,17,17)\", \"width\": 0.5}}, \"type\": \"barpolar\"}], \"carpet\": [{\"aaxis\": {\"endlinecolor\": \"#A2B1C6\", \"gridcolor\": \"#506784\", \"linecolor\": \"#506784\", \"minorgridcolor\": \"#506784\", \"startlinecolor\": \"#A2B1C6\"}, \"baxis\": {\"endlinecolor\": \"#A2B1C6\", \"gridcolor\": \"#506784\", \"linecolor\": \"#506784\", \"minorgridcolor\": \"#506784\", \"startlinecolor\": \"#A2B1C6\"}, \"type\": \"carpet\"}], \"choropleth\": [{\"colorbar\": {\"outlinewidth\": 0, \"ticks\": \"\"}, \"type\": \"choropleth\"}], \"contour\": [{\"colorbar\": {\"outlinewidth\": 0, \"ticks\": \"\"}, \"colorscale\": [[0.0, \"#0d0887\"], [0.1111111111111111, \"#46039f\"], [0.2222222222222222, \"#7201a8\"], [0.3333333333333333, \"#9c179e\"], [0.4444444444444444, \"#bd3786\"], [0.5555555555555556, \"#d8576b\"], [0.6666666666666666, \"#ed7953\"], [0.7777777777777778, \"#fb9f3a\"], [0.8888888888888888, \"#fdca26\"], [1.0, \"#f0f921\"]], \"type\": \"contour\"}], \"contourcarpet\": [{\"colorbar\": {\"outlinewidth\": 0, \"ticks\": \"\"}, \"type\": \"contourcarpet\"}], \"heatmap\": [{\"colorbar\": {\"outlinewidth\": 0, \"ticks\": \"\"}, \"colorscale\": [[0.0, \"#0d0887\"], [0.1111111111111111, \"#46039f\"], [0.2222222222222222, \"#7201a8\"], [0.3333333333333333, \"#9c179e\"], [0.4444444444444444, \"#bd3786\"], [0.5555555555555556, \"#d8576b\"], [0.6666666666666666, \"#ed7953\"], [0.7777777777777778, \"#fb9f3a\"], [0.8888888888888888, \"#fdca26\"], [1.0, \"#f0f921\"]], \"type\": \"heatmap\"}], \"heatmapgl\": [{\"colorbar\": {\"outlinewidth\": 0, \"ticks\": \"\"}, \"colorscale\": [[0.0, \"#0d0887\"], [0.1111111111111111, \"#46039f\"], [0.2222222222222222, \"#7201a8\"], [0.3333333333333333, \"#9c179e\"], [0.4444444444444444, \"#bd3786\"], [0.5555555555555556, \"#d8576b\"], [0.6666666666666666, \"#ed7953\"], [0.7777777777777778, \"#fb9f3a\"], [0.8888888888888888, \"#fdca26\"], [1.0, \"#f0f921\"]], \"type\": \"heatmapgl\"}], \"histogram\": [{\"marker\": {\"colorbar\": {\"outlinewidth\": 0, \"ticks\": \"\"}}, \"type\": \"histogram\"}], \"histogram2d\": [{\"colorbar\": {\"outlinewidth\": 0, \"ticks\": \"\"}, \"colorscale\": [[0.0, \"#0d0887\"], [0.1111111111111111, \"#46039f\"], [0.2222222222222222, \"#7201a8\"], [0.3333333333333333, \"#9c179e\"], [0.4444444444444444, \"#bd3786\"], [0.5555555555555556, \"#d8576b\"], [0.6666666666666666, \"#ed7953\"], [0.7777777777777778, \"#fb9f3a\"], [0.8888888888888888, \"#fdca26\"], [1.0, \"#f0f921\"]], \"type\": \"histogram2d\"}], \"histogram2dcontour\": [{\"colorbar\": {\"outlinewidth\": 0, \"ticks\": \"\"}, \"colorscale\": [[0.0, \"#0d0887\"], [0.1111111111111111, \"#46039f\"], [0.2222222222222222, \"#7201a8\"], [0.3333333333333333, \"#9c179e\"], [0.4444444444444444, \"#bd3786\"], [0.5555555555555556, \"#d8576b\"], [0.6666666666666666, \"#ed7953\"], [0.7777777777777778, \"#fb9f3a\"], [0.8888888888888888, \"#fdca26\"], [1.0, \"#f0f921\"]], \"type\": \"histogram2dcontour\"}], \"mesh3d\": [{\"colorbar\": {\"outlinewidth\": 0, \"ticks\": \"\"}, \"type\": \"mesh3d\"}], \"parcoords\": [{\"line\": {\"colorbar\": {\"outlinewidth\": 0, \"ticks\": \"\"}}, \"type\": \"parcoords\"}], \"pie\": [{\"automargin\": true, \"type\": \"pie\"}], \"scatter\": [{\"marker\": {\"line\": {\"color\": \"#283442\"}}, \"type\": \"scatter\"}], \"scatter3d\": [{\"line\": {\"colorbar\": {\"outlinewidth\": 0, \"ticks\": \"\"}}, \"marker\": {\"colorbar\": {\"outlinewidth\": 0, \"ticks\": \"\"}}, \"type\": \"scatter3d\"}], \"scattercarpet\": [{\"marker\": {\"colorbar\": {\"outlinewidth\": 0, \"ticks\": \"\"}}, \"type\": \"scattercarpet\"}], \"scattergeo\": [{\"marker\": {\"colorbar\": {\"outlinewidth\": 0, \"ticks\": \"\"}}, \"type\": \"scattergeo\"}], \"scattergl\": [{\"marker\": {\"line\": {\"color\": \"#283442\"}}, \"type\": \"scattergl\"}], \"scattermapbox\": [{\"marker\": {\"colorbar\": {\"outlinewidth\": 0, \"ticks\": \"\"}}, \"type\": \"scattermapbox\"}], \"scatterpolar\": [{\"marker\": {\"colorbar\": {\"outlinewidth\": 0, \"ticks\": \"\"}}, \"type\": \"scatterpolar\"}], \"scatterpolargl\": [{\"marker\": {\"colorbar\": {\"outlinewidth\": 0, \"ticks\": \"\"}}, \"type\": \"scatterpolargl\"}], \"scatterternary\": [{\"marker\": {\"colorbar\": {\"outlinewidth\": 0, \"ticks\": \"\"}}, \"type\": \"scatterternary\"}], \"surface\": [{\"colorbar\": {\"outlinewidth\": 0, \"ticks\": \"\"}, \"colorscale\": [[0.0, \"#0d0887\"], [0.1111111111111111, \"#46039f\"], [0.2222222222222222, \"#7201a8\"], [0.3333333333333333, \"#9c179e\"], [0.4444444444444444, \"#bd3786\"], [0.5555555555555556, \"#d8576b\"], [0.6666666666666666, \"#ed7953\"], [0.7777777777777778, \"#fb9f3a\"], [0.8888888888888888, \"#fdca26\"], [1.0, \"#f0f921\"]], \"type\": \"surface\"}], \"table\": [{\"cells\": {\"fill\": {\"color\": \"#506784\"}, \"line\": {\"color\": \"rgb(17,17,17)\"}}, \"header\": {\"fill\": {\"color\": \"#2a3f5f\"}, \"line\": {\"color\": \"rgb(17,17,17)\"}}, \"type\": \"table\"}]}, \"layout\": {\"annotationdefaults\": {\"arrowcolor\": \"#f2f5fa\", \"arrowhead\": 0, \"arrowwidth\": 1}, \"coloraxis\": {\"colorbar\": {\"outlinewidth\": 0, \"ticks\": \"\"}}, \"colorscale\": {\"diverging\": [[0, \"#8e0152\"], [0.1, \"#c51b7d\"], [0.2, \"#de77ae\"], [0.3, \"#f1b6da\"], [0.4, \"#fde0ef\"], [0.5, \"#f7f7f7\"], [0.6, \"#e6f5d0\"], [0.7, \"#b8e186\"], [0.8, \"#7fbc41\"], [0.9, \"#4d9221\"], [1, \"#276419\"]], \"sequential\": [[0.0, \"#0d0887\"], [0.1111111111111111, \"#46039f\"], [0.2222222222222222, \"#7201a8\"], [0.3333333333333333, \"#9c179e\"], [0.4444444444444444, \"#bd3786\"], [0.5555555555555556, \"#d8576b\"], [0.6666666666666666, \"#ed7953\"], [0.7777777777777778, \"#fb9f3a\"], [0.8888888888888888, \"#fdca26\"], [1.0, \"#f0f921\"]], \"sequentialminus\": [[0.0, \"#0d0887\"], [0.1111111111111111, \"#46039f\"], [0.2222222222222222, \"#7201a8\"], [0.3333333333333333, \"#9c179e\"], [0.4444444444444444, \"#bd3786\"], [0.5555555555555556, \"#d8576b\"], [0.6666666666666666, \"#ed7953\"], [0.7777777777777778, \"#fb9f3a\"], [0.8888888888888888, \"#fdca26\"], [1.0, \"#f0f921\"]]}, \"colorway\": [\"#636efa\", \"#EF553B\", \"#00cc96\", \"#ab63fa\", \"#FFA15A\", \"#19d3f3\", \"#FF6692\", \"#B6E880\", \"#FF97FF\", \"#FECB52\"], \"font\": {\"color\": \"#f2f5fa\"}, \"geo\": {\"bgcolor\": \"rgb(17,17,17)\", \"lakecolor\": \"rgb(17,17,17)\", \"landcolor\": \"rgb(17,17,17)\", \"showlakes\": true, \"showland\": true, \"subunitcolor\": \"#506784\"}, \"hoverlabel\": {\"align\": \"left\"}, \"hovermode\": \"closest\", \"mapbox\": {\"style\": \"dark\"}, \"paper_bgcolor\": \"rgb(17,17,17)\", \"plot_bgcolor\": \"rgb(17,17,17)\", \"polar\": {\"angularaxis\": {\"gridcolor\": \"#506784\", \"linecolor\": \"#506784\", \"ticks\": \"\"}, \"bgcolor\": \"rgb(17,17,17)\", \"radialaxis\": {\"gridcolor\": \"#506784\", \"linecolor\": \"#506784\", \"ticks\": \"\"}}, \"scene\": {\"xaxis\": {\"backgroundcolor\": \"rgb(17,17,17)\", \"gridcolor\": \"#506784\", \"gridwidth\": 2, \"linecolor\": \"#506784\", \"showbackground\": true, \"ticks\": \"\", \"zerolinecolor\": \"#C8D4E3\"}, \"yaxis\": {\"backgroundcolor\": \"rgb(17,17,17)\", \"gridcolor\": \"#506784\", \"gridwidth\": 2, \"linecolor\": \"#506784\", \"showbackground\": true, \"ticks\": \"\", \"zerolinecolor\": \"#C8D4E3\"}, \"zaxis\": {\"backgroundcolor\": \"rgb(17,17,17)\", \"gridcolor\": \"#506784\", \"gridwidth\": 2, \"linecolor\": \"#506784\", \"showbackground\": true, \"ticks\": \"\", \"zerolinecolor\": \"#C8D4E3\"}}, \"shapedefaults\": {\"line\": {\"color\": \"#f2f5fa\"}}, \"sliderdefaults\": {\"bgcolor\": \"#C8D4E3\", \"bordercolor\": \"rgb(17,17,17)\", \"borderwidth\": 1, \"tickwidth\": 0}, \"ternary\": {\"aaxis\": {\"gridcolor\": \"#506784\", \"linecolor\": \"#506784\", \"ticks\": \"\"}, \"baxis\": {\"gridcolor\": \"#506784\", \"linecolor\": \"#506784\", \"ticks\": \"\"}, \"bgcolor\": \"rgb(17,17,17)\", \"caxis\": {\"gridcolor\": \"#506784\", \"linecolor\": \"#506784\", \"ticks\": \"\"}}, \"title\": {\"x\": 0.05}, \"updatemenudefaults\": {\"bgcolor\": \"#506784\", \"borderwidth\": 0}, \"xaxis\": {\"automargin\": true, \"gridcolor\": \"#283442\", \"linecolor\": \"#506784\", \"ticks\": \"\", \"title\": {\"standoff\": 15}, \"zerolinecolor\": \"#283442\", \"zerolinewidth\": 2}, \"yaxis\": {\"automargin\": true, \"gridcolor\": \"#283442\", \"linecolor\": \"#506784\", \"ticks\": \"\", \"title\": {\"standoff\": 15}, \"zerolinecolor\": \"#283442\", \"zerolinewidth\": 2}}}, \"xaxis\": {\"anchor\": \"y\", \"domain\": [0.0, 1.0], \"title\": {\"text\": \"Num_Prod\"}}, \"yaxis\": {\"anchor\": \"x\", \"domain\": [0.0, 1.0], \"title\": {\"text\": \"count\"}}},\n",
              "                        {\"responsive\": true}\n",
              "                    ).then(function(){\n",
              "                            \n",
              "var gd = document.getElementById('24f4b786-647d-4ddc-a542-8e341f4605b4');\n",
              "var x = new MutationObserver(function (mutations, observer) {{\n",
              "        var display = window.getComputedStyle(gd).display;\n",
              "        if (!display || display === 'none') {{\n",
              "            console.log([gd, 'removed!']);\n",
              "            Plotly.purge(gd);\n",
              "            observer.disconnect();\n",
              "        }}\n",
              "}});\n",
              "\n",
              "// Listen for the removal of the full notebook cells\n",
              "var notebookContainer = gd.closest('#notebook-container');\n",
              "if (notebookContainer) {{\n",
              "    x.observe(notebookContainer, {childList: true});\n",
              "}}\n",
              "\n",
              "// Listen for the clearing of the current output cell\n",
              "var outputEl = gd.closest('.output');\n",
              "if (outputEl) {{\n",
              "    x.observe(outputEl, {childList: true});\n",
              "}}\n",
              "\n",
              "                        })\n",
              "                };\n",
              "                \n",
              "            </script>\n",
              "        </div>\n",
              "</body>\n",
              "</html>"
            ]
          },
          "metadata": {
            "tags": []
          }
        }
      ]
    },
    {
      "cell_type": "code",
      "metadata": {
        "id": "aYe8je-wv235",
        "colab_type": "code",
        "outputId": "e079c6df-4681-429b-86e5-60cae9162c30",
        "colab": {
          "base_uri": "https://localhost:8080/",
          "height": 542
        }
      },
      "source": [
        "fig = px.scatter(concat_ml[concat_ml['gender'].notnull()], y=\"duration\",color='gender')\n",
        "fig.show()"
      ],
      "execution_count": 0,
      "outputs": [
        {
          "output_type": "display_data",
          "data": {
            "text/html": [
              "<html>\n",
              "<head><meta charset=\"utf-8\" /></head>\n",
              "<body>\n",
              "    <div>\n",
              "            <script src=\"https://cdnjs.cloudflare.com/ajax/libs/mathjax/2.7.5/MathJax.js?config=TeX-AMS-MML_SVG\"></script><script type=\"text/javascript\">if (window.MathJax) {MathJax.Hub.Config({SVG: {font: \"STIX-Web\"}});}</script>\n",
              "                <script type=\"text/javascript\">window.PlotlyConfig = {MathJaxConfig: 'local'};</script>\n",
              "        <script src=\"https://cdn.plot.ly/plotly-latest.min.js\"></script>    \n",
              "            <div id=\"754f1c68-fe72-4484-9450-c016a67ff40c\" class=\"plotly-graph-div\" style=\"height:525px; width:100%;\"></div>\n",
              "            <script type=\"text/javascript\">\n",
              "                \n",
              "                    window.PLOTLYENV=window.PLOTLYENV || {};\n",
              "                    \n",
              "                if (document.getElementById(\"754f1c68-fe72-4484-9450-c016a67ff40c\")) {\n",
              "                    Plotly.newPlot(\n",
              "                        '754f1c68-fe72-4484-9450-c016a67ff40c',\n",
              "                        [{\"hoverlabel\": {\"namelength\": 0}, \"hovertemplate\": \"gender=female<br>duration=%{y}\", \"legendgroup\": \"gender=female\", \"marker\": {\"color\": \"#636efa\", \"symbol\": \"circle\"}, \"mode\": \"markers\", \"name\": \"gender=female\", \"showlegend\": true, \"type\": \"scattergl\", \"xaxis\": \"x\", \"y\": [1.0, 0.0, 3.0, 0.0, 1.0, 1.0, 0.0, 0.0, 10.0, 0.0, 7.0, 0.0, 1.0, 0.0, 1.0, 1.0, 0.0, 1.0, 2.0, 0.0, 0.0, 0.0, 0.0, 0.0, 0.0, 0.0, 1.0, 0.0, 4.0, 0.0, 1.0, 0.0, 1.0, 2.0, 3.0, 0.0, 2.0, 5463.0, 0.0, 4.0, 7.0, 0.0, 0.0, 8446.0, 12.0, 4624.0, 0.0, 2.0, 1.0, 0.0, 0.0, 0.0, 0.0, 0.0, 0.0, 0.0, 0.0, 0.0, 1.0, 2.0, 0.0, 0.0, 2.0, 1.0, 2.0, 0.0, 1.0, 3.0, 0.0, 0.0, 1.0, 3.0, 0.0, 3.0, 1.0, 2.0, 0.0, 0.0, 5.0, 0.0, 0.0, 4.0, 2.0, 0.0, 0.0, 0.0, 0.0, 0.0, 0.0, 5.0, 2.0, 2.0, 0.0, 0.0, 0.0, 0.0, 1.0, 0.0, 0.0, 0.0, 0.0, 0.0, 0.0, 0.0, 0.0, 2.0, 2.0, 0.0, 0.0, 1.0, 0.0, 0.0, 0.0, 2.0, 0.0, 2.0, 0.0, 1.0, 1.0, 0.0, 0.0, 22.0, 0.0, 0.0, 0.0, 0.0, 4.0, 2.0, 0.0, 0.0, 0.0, 4.0, 9.0, 1.0, 2.0, 0.0, 0.0, 0.0, 0.0, 0.0, 0.0, 0.0, 116.0, 0.0, 0.0, 0.0, 3.0, 0.0, 2.0, 0.0, 0.0, 0.0, 0.0, 2.0, 8.0, 0.0, 0.0, 1.0, 4.0, 11.0, 7.0, 2.0, 0.0, 0.0, 0.0, 0.0, 1.0, 3.0, 0.0, 2.0, 7.0, 0.0, 0.0, 2.0, 0.0, 0.0, 0.0, 1.0, 1.0, 4.0, 0.0, 0.0, 4.0, 1.0, 2.0, 5.0, 1.0, 0.0, 2.0, 0.0, 0.0, 0.0, 0.0, 3.0, 17.0, 3.0, 0.0, 0.0, 42061.0, 3.0, 20.0, 6.0, 0.0, 0.0, 0.0, 2.0, 2.0, 0.0, 17.0, 1.0, 0.0, 1.0, 0.0, 1.0, 10.0, 0.0, 1.0, 1.0, 0.0, 0.0, 0.0, 0.0, 2.0, 1.0, 0.0, 1.0, 2.0, 4.0, 0.0, 0.0, 1.0, 2.0, 1.0, 0.0, 3.0, 3.0, 0.0, 0.0, 0.0, 2.0, 0.0, 0.0, 0.0, 0.0, 7.0, 1.0, 0.0, 2.0, 0.0, 0.0, 0.0, 0.0, 0.0, 1.0, 0.0, 2.0, 1.0, 3.0, 0.0, 0.0, 0.0, 0.0, 0.0, 1.0, 0.0, 1.0, 0.0, 1.0, 0.0, 2.0, 0.0, 2.0, 4.0, 0.0, 2.0, 0.0, 0.0, 1.0, 4.0, 13178.0, 0.0, 0.0, 1.0, 0.0, 0.0, 0.0, 0.0, 13.0, 5.0, 5.0, 0.0, 8.0, 0.0, 0.0, 5.0, 0.0, 2.0, 0.0, 0.0, 6.0, 0.0, 5.0, 1.0, 6.0, 0.0, 3.0, 0.0, 0.0, 4.0, 0.0, 0.0, 0.0, 3.0, 0.0, 0.0, 0.0, 0.0, 0.0, 0.0, 0.0, 0.0, 0.0, 0.0, 0.0, 0.0, 6.0, 1.0, 0.0, 0.0, 0.0, 0.0, 0.0, 1.0, 4.0, 2.0, 0.0, 0.0, 0.0, 0.0, 9.0, 3.0, 0.0, 0.0, 7.0, 0.0, 0.0, 4.0, 0.0, 0.0, 0.0, 3.0, 0.0, 0.0, 0.0, 2.0, 0.0, 1.0, 2.0, 1.0, 0.0, 2.0, 1.0, 0.0, 1.0, 0.0, 9.0, 0.0, 3.0, 2.0, 0.0, 1.0, 1.0, 0.0, 5.0, 0.0, 0.0, 0.0, 7.0, 0.0, 0.0, 0.0, 0.0, 0.0, 1.0, 0.0, 0.0, 1.0, 0.0, 1.0, 0.0, 0.0, 7.0, 0.0, 0.0, 0.0, 0.0, 0.0, 7.0, 24.0, 0.0, 0.0, 0.0, 1.0, 0.0, 0.0, 3.0, 1.0, 0.0, 1.0, 0.0, 0.0, 6.0, 0.0, 0.0, 22.0, 3.0, 0.0, 3.0, 1.0, 2.0, 1.0, 2.0, 33902.0, 0.0, 4.0, 0.0, 0.0, 0.0, 0.0, 0.0, 1.0, 0.0, 2.0, 2.0, 1.0, 13.0, 1.0, 0.0, 1.0, 0.0, 0.0, 1.0, 0.0, 10.0, 0.0, 8.0, 2.0, 0.0, 0.0, 7.0, 0.0, 0.0, 3.0, 4636.0, 0.0, 2.0, 0.0, 2.0, 18.0, 0.0, 0.0, 0.0, 4.0, 0.0, 1.0, 1.0, 0.0, 0.0, 4.0, 0.0, 7.0, 2.0, 10.0, 0.0, 0.0, 4.0, 0.0, 0.0, 4.0, 0.0, 0.0, 0.0, 4.0, 0.0, 0.0, 4.0, 0.0, 1.0, 0.0, 0.0, 0.0, 0.0, 1.0, 0.0, 0.0, 0.0, 4.0, 1.0, 0.0, 16.0, 8.0, 3.0, 0.0, 0.0, 1.0, 2.0, 9.0, 3.0, 2.0, 1.0, 1.0, 0.0, 1.0, 0.0, 2.0, 1.0, 0.0, 0.0, 9.0, 0.0, 0.0, 1.0, 0.0, 0.0, 0.0, 0.0, 6.0, 0.0, 0.0, 0.0, 0.0, 0.0, 3.0, 4.0, 0.0, 0.0, 2.0, 3.0, 0.0, 0.0, 0.0, 0.0, 0.0, 0.0, 0.0, 2.0, 0.0, 2.0, 0.0, 0.0, 5.0, 0.0, 4.0, 0.0, 4.0, 6.0, 0.0, 0.0, 3.0, 0.0, 0.0, 0.0, 3.0, 0.0, 1.0, 0.0, 6.0, 0.0, 4.0, 2.0, 0.0, 0.0, 0.0, 11.0, 0.0, 2.0, 6.0, 1.0, 1.0, 0.0, 3.0, 0.0, 0.0, 0.0, 2.0, 3.0, 0.0, 0.0, 4.0, 1.0, 16.0, 1.0, 4.0, 5.0, 1.0, 0.0, 0.0, 0.0, 0.0, 8.0, 0.0, 0.0, 3.0, 0.0, 0.0, 0.0, 0.0, 1.0, 0.0, 17130.0, 0.0, 0.0, 1.0, 0.0, 0.0, 0.0, 0.0, 2.0, 1.0, 1.0, 2.0, 0.0, 0.0, 0.0, 0.0, 1.0, 0.0, 0.0, 0.0, 4.0, 0.0, 0.0, 0.0, 0.0, 5.0, 0.0, 8.0, 4.0, 1.0, 7.0, 24.0, 2.0, 1.0, 0.0, 0.0, 1.0, 0.0, 0.0, 0.0, 0.0, 0.0, 1.0, 1.0, 0.0, 0.0, 0.0, 0.0, 2.0, 2.0, 0.0, 0.0, 4.0, 0.0, 0.0, 1.0, 3.0, 0.0, 1.0, 3.0, 0.0, 1.0, 4.0, 1.0, 0.0, 1.0, 1.0, 0.0, 2.0, 4.0, 0.0, 0.0, 8.0, 3.0, 1.0, 0.0, 5.0, 0.0, 0.0, 12.0, 1.0, 0.0, 1.0, 0.0, 1.0, 12.0, 1.0, 2.0, 0.0, 2.0, 0.0, 2.0, 0.0, 1.0, 1.0, 1.0, 0.0, 5.0, 0.0, 1586.0, 0.0, 2.0, 1.0, 0.0, 1.0, 0.0, 0.0, 1.0, 13.0, 6.0, 2.0, 0.0, 0.0, 1.0, 0.0, 0.0, 9.0, 1.0, 6.0, 0.0, 3.0, 0.0, 0.0, 2.0, 1.0, 2.0, 0.0, 2.0, 3.0, 0.0, 0.0, 0.0, 4.0, 1.0, 1.0, 0.0, 4.0, 2.0, 5.0, 0.0, 1.0, 0.0, 49.0, 0.0, 10017.0, 3.0, 0.0, 0.0, 0.0, 0.0, 0.0, 0.0, 0.0, 1.0, 1.0, 3.0, 4.0, 7.0, 0.0, 0.0, 2.0, 0.0, 1.0, 0.0, 0.0, 1.0, 2.0, 2.0, 0.0, 1.0, 0.0, 2.0, 0.0, 0.0, 0.0, 4.0, 2.0, 1.0, 1.0, 1.0, 0.0, 0.0, 0.0, 1.0, 0.0, 0.0, 0.0, 0.0, 0.0, 0.0, 0.0, 5.0, 8.0, 0.0, 3.0, 1.0, 0.0, 0.0, 1.0, 0.0, 0.0, 2.0, 0.0, 0.0, 0.0, 2.0, 0.0, 0.0, 0.0, 12.0, 0.0, 2.0, 0.0, 0.0, 0.0, 0.0, 2.0, 0.0, 0.0, 2.0, 0.0, 0.0, 0.0, 1.0, 0.0, 4.0, 2.0, 2.0, 0.0, 0.0, 1.0, 0.0, 0.0, 0.0, 0.0, 0.0, 0.0, 1418.0, 0.0, 0.0, 1.0, 0.0, 0.0, 6.0, 2.0, 1.0, 0.0, 1.0, 10.0, 0.0, 0.0, 7.0, 1.0, 1.0, 0.0, 4.0, 0.0, 2.0, 0.0, 0.0, 0.0, 1.0, 3.0, 1.0, 0.0, 0.0, 0.0, 0.0, 0.0, 1.0, 0.0, 0.0, 0.0, 9.0, 0.0, 0.0, 7.0, 0.0, 0.0, 0.0, 1.0, 1.0, 0.0, 2.0, 0.0, 0.0, 3.0, 0.0, 0.0, 1.0, 3.0, 0.0, 0.0, 1.0, 5.0, 2.0, 0.0, 0.0, 0.0, 1.0, 0.0, 1.0, 0.0, 0.0, 0.0, 1.0, 0.0, 0.0, 0.0, 0.0, 4.0, 0.0, 0.0, 1.0, 0.0, 2.0, 0.0, 2.0, 0.0, 0.0, 1.0, 0.0, 0.0, 1.0, 2.0, 0.0, 0.0, 0.0, 0.0, 0.0, 0.0, 8.0, 1.0, 1.0, 0.0, 0.0, 364.0, 0.0, 0.0, 1.0, 0.0, 6.0, 1.0, 2.0, 2.0, 0.0, 0.0, 0.0, 1.0, 2.0, 0.0, 0.0, 11.0, 1.0, 0.0, 0.0, 0.0, 0.0, 3.0, 0.0, 1.0, 0.0, 1.0, 0.0, 0.0, 0.0, 1.0, 1.0, 6.0, 0.0, 5.0, 8.0, 0.0, 2.0, 7.0, 1.0, 1.0, 0.0, 0.0, 5.0, 0.0, 9.0, 4.0, 5.0, 1.0, 1.0, 9.0, 3.0, 0.0, 1.0, 0.0, 0.0, 3.0, 1.0, 4.0, 0.0, 2.0, 0.0, 1.0, 2.0, 0.0, 7.0, 0.0, 3.0, 9.0, 0.0, 0.0, 0.0, 1.0, 2.0, 0.0, 0.0, 0.0, 1.0, 0.0, 12.0, 0.0, 0.0, 0.0, 2.0, 0.0, 0.0, 7.0, 24.0, 0.0, 2.0, 2.0, 4.0, 0.0, 0.0, 3.0, 0.0, 1.0, 2.0, 0.0, 0.0, 8.0, 1.0, 1.0, 0.0, 0.0, 0.0, 2.0, 0.0, 2.0, 1.0, 0.0, 0.0, 0.0, 4.0, 0.0, 0.0, 1.0, 1.0, 13.0, 2.0, 0.0, 26.0, 1.0, 0.0, 1.0, 3.0, 0.0, 0.0, 0.0, 0.0, 0.0, 1.0, 0.0, 7353.0, 1.0, 0.0, 0.0, 0.0, 0.0, 0.0, 0.0, 10.0, 2.0, 0.0, 0.0, 2.0, 0.0, 0.0, 2.0, 15.0, 0.0, 1.0, 0.0, 3.0, 4.0, 0.0, 0.0, 5.0, 0.0, 17.0, 0.0, 0.0, 2.0, 0.0, 0.0, 1.0, 3.0, 2.0, 1.0, 0.0, 0.0, 1.0, 2.0, 0.0, 0.0, 0.0, 0.0, 2.0, 0.0, 0.0, 1.0, 27.0, 4.0, 1.0, 0.0, 0.0, 0.0, 3.0, 6.0, 5.0, 0.0, 2.0, 18.0, 0.0, 0.0, 0.0, 2.0, 172.0, 0.0, 2.0, 2.0, 0.0, 1.0, 1.0, 1.0, 2.0, 0.0, 0.0, 12.0, 0.0, 0.0, 1.0, 0.0, 3.0, 0.0, 0.0, 0.0, 5.0, 0.0, 2.0, 0.0, 0.0, 6.0, 4.0, 1.0, 0.0, 3.0, 0.0, 0.0, 10.0, 1.0, 0.0, 0.0, 0.0, 0.0, 0.0, 1.0, 1.0, 2.0, 3.0, 0.0, 0.0, 0.0, 0.0, 0.0, 21.0, 0.0, 4.0, 0.0, 0.0, 1.0, 3.0, 11.0, 4.0, 111.0, 0.0, 0.0, 0.0, 3.0, 0.0, 2.0, 0.0, 0.0, 0.0, 0.0, 0.0, 1.0, 0.0, 1.0, 0.0, 0.0, 0.0, 0.0, 1.0, 1.0, 0.0, 1.0, 0.0, 47456.0, 3.0, 0.0, 0.0, 0.0, 3.0, 1.0, 0.0, 2.0, 5.0, 1.0, 1.0, 0.0, 0.0, 0.0, 1.0, 0.0, 0.0, 1.0, 4.0, 0.0, 0.0, 0.0, 0.0, 1.0, 0.0, 0.0, 1.0, 2.0, 3.0, 1.0, 0.0, 0.0, 0.0, 3.0, 0.0, 0.0, 2.0, 9.0, 15.0, 0.0, 8.0, 0.0, 0.0, 0.0, 5.0, 0.0, 0.0, 1.0, 0.0, 1.0, 0.0, 0.0, 1.0, 0.0, 0.0, 4.0, 6.0, 0.0, 5.0, 0.0, 0.0, 2.0, 9.0, 3.0, 0.0, 16.0, 4.0, 0.0, 2.0, 0.0, 0.0, 0.0, 0.0, 0.0, 1.0, 4.0, 1.0, 0.0, 2.0, 2.0, 0.0, 0.0, 4.0, 0.0, 1.0, 0.0, 0.0, 0.0, 10.0, 0.0, 0.0, 0.0, 0.0, 0.0, 21.0, 1.0, 8.0, 4.0, 0.0, 0.0, 0.0, 1.0, 3.0, 6.0, 0.0, 0.0, 0.0, 0.0, 12.0, 0.0, 0.0, 2.0, 0.0, 0.0, 0.0, 1.0, 0.0, 0.0, 0.0, 0.0, 3.0, 0.0, 1.0, 1.0, 1.0, 7.0, 0.0, 0.0, 2.0, 7.0, 0.0, 0.0, 8.0, 5.0, 2.0, 4.0, 1.0, 0.0, 1.0, 0.0, 0.0, 0.0, 0.0, 0.0, 302.0, 0.0, 0.0, 7.0, 1.0, 2.0, 0.0, 0.0, 1.0, 6.0, 3.0, 4.0, 1.0, 0.0, 0.0, 0.0, 1.0, 25.0, 0.0, 0.0, 4.0, 0.0, 3.0, 0.0, 0.0, 5.0, 5.0, 3.0, 1.0, 1.0, 0.0, 0.0, 2.0, 0.0, 0.0, 0.0, 0.0, 0.0, 0.0, 1.0, 0.0, 0.0, 0.0, 2.0, 0.0, 2.0, 2.0, 0.0, 0.0, 0.0, 3.0, 0.0, 2.0, 0.0, 8.0, 0.0, 0.0, 1.0, 3.0, 1.0, 1.0, 5.0, 2.0, 2.0, 5.0, 4.0, 0.0, 0.0, 0.0, 0.0, 3.0, 2.0, 2.0, 0.0, 5.0, 11.0, 1.0, 14.0, 0.0, 0.0, 2.0, 2.0, 0.0, 0.0, 0.0, 0.0, 3.0, 0.0, 0.0, 1.0, 0.0, 0.0, 0.0, 0.0, 0.0, 0.0, 0.0, 2.0, 0.0, 0.0, 0.0, 1.0, 1.0, 0.0, 3.0, 0.0, 0.0, 1.0, 0.0, 0.0, 0.0, 0.0, 1.0, 11.0, 1.0, 1.0, 0.0, 2.0, 0.0, 5.0, 6.0, 0.0, 2.0, 0.0, 3.0, 0.0, 0.0, 5.0, 3.0, 16.0, 0.0, 0.0, 3.0, 1.0, 0.0, 1.0, 3.0, 0.0, 3.0, 0.0, 0.0, 0.0, 0.0, 0.0, 0.0, 36.0, 7.0, 0.0, 1.0, 0.0, 3.0, 5.0, 0.0, 2.0, 0.0, 1.0, 5.0, 2.0, 0.0, 0.0, 1.0, 6.0, 5.0, 0.0, 0.0, 1.0, 1.0, 0.0, 0.0, 0.0, 2.0, 2.0, 0.0, 0.0, 8.0, 0.0, 2.0, 0.0, 0.0, 1.0, 2.0, 0.0, 3.0, 0.0, 7.0, 1.0, 0.0, 0.0, 0.0, 1.0, 12.0, 0.0, 0.0, 13.0, 0.0, 0.0, 0.0, 3.0, 0.0, 0.0, 0.0, 1.0, 1.0, 0.0, 2.0, 0.0, 5.0, 1.0, 0.0, 0.0, 0.0, 0.0, 4.0, 1.0, 11.0, 0.0, 0.0, 6.0, 0.0, 0.0, 0.0, 10318.0, 2.0, 7.0, 1.0, 0.0, 3.0, 0.0, 0.0, 0.0, 0.0, 0.0, 1.0, 1.0, 1.0, 0.0, 0.0, 2.0, 0.0, 3.0, 0.0, 0.0, 0.0, 0.0, 1.0, 6.0, 1.0, 0.0, 0.0, 2.0, 1.0, 3.0, 3.0, 3.0, 5.0, 2.0, 0.0, 0.0, 0.0, 0.0, 1.0, 0.0, 0.0, 0.0, 1.0, 0.0, 2.0, 5.0, 0.0, 0.0, 0.0, 0.0, 1.0, 1.0, 2.0, 0.0, 1.0, 3.0, 1.0, 1.0, 0.0, 0.0, 9.0, 0.0, 2.0, 2.0, 0.0, 0.0, 7.0, 0.0, 0.0, 1.0, 0.0, 1.0, 0.0, 8.0, 0.0, 1.0, 2.0, 0.0, 2.0, 1.0, 1.0, 0.0, 0.0, 1.0, 4.0, 1.0, 3.0, 1.0, 0.0, 1.0, 0.0, 0.0, 1.0, 5.0, 0.0, 0.0, 0.0, 6.0, 1.0, 0.0, 6.0, 8.0, 1.0, 0.0, 1.0, 0.0, 2.0, 1.0, 0.0, 0.0, 0.0, 0.0, 0.0, 3.0, 0.0, 1.0, 0.0, 0.0, 0.0, 1.0, 2.0, 1.0, 0.0, 0.0, 5.0, 8.0, 2.0, 1.0, 3.0, 0.0, 1.0, 0.0, 3.0, 0.0, 1.0, 1.0, 18.0, 0.0, 1.0, 3.0, 8.0, 0.0, 0.0, 2.0, 0.0, 1.0, 0.0, 0.0, 0.0, 0.0, 2.0, 1.0, 0.0, 0.0, 0.0, 0.0, 2.0, 0.0, 0.0, 0.0, 0.0, 1.0, 0.0, 0.0, 4.0, 0.0, 0.0, 0.0, 1.0, 0.0, 0.0, 2.0, 1.0, 0.0, 1.0, 2.0, 0.0, 4.0, 1.0, 0.0, 0.0, 1.0, 0.0, 0.0, 1.0, 8.0, 1.0, 0.0, 1.0, 0.0, 0.0, 0.0, 18.0, 0.0, 2.0, 2.0, 2.0, 1.0, 0.0, 0.0, 5.0, 11.0, 3.0, 0.0, 7.0, 0.0, 2.0, 3.0, 3217.0, 1.0, 0.0, 0.0, 5.0, 4.0, 18.0, 1.0, 0.0, 0.0, 0.0, 16.0, 0.0, 3.0, 9.0, 6.0, 5.0, 0.0, 1.0, 0.0, 0.0, 0.0, 6.0, 17.0, 62.0, 4.0, 0.0, 0.0, 0.0, 0.0, 2.0, 3.0, 2.0, 1.0, 4.0, 3.0, 1.0, 0.0, 0.0, 0.0, 0.0, 2.0, 0.0, 0.0, 0.0, 1.0, 0.0, 0.0, 0.0, 11.0, 2.0, 0.0, 5.0, 0.0, 0.0, 1.0, 0.0, 2.0, 1.0, 0.0, 0.0, 5.0, 7.0, 0.0, 6.0, 0.0, 3.0, 0.0, 3.0, 0.0, 0.0, 0.0, 9.0, 0.0, 1.0, 1.0, 2.0, 0.0, 7.0, 0.0, 3.0, 0.0, 1.0, 0.0, 0.0, 3.0, 0.0, 0.0, 0.0, 1.0, 0.0, 0.0, 6.0, 0.0, 0.0, 3.0, 3.0, 0.0, 0.0, 2.0, 0.0, 0.0, 2.0, 1.0, 3.0, 0.0, 2.0, 0.0, 0.0, 0.0, 0.0, 0.0, 1.0, 0.0, 1.0, 3.0, 0.0, 6.0, 5.0, 0.0, 1.0, 1.0, 0.0, 2.0, 10.0, 0.0, 0.0, 0.0, 0.0, 1.0, 0.0, 5.0, 2.0, 0.0, 0.0, 0.0, 0.0, 1.0, 0.0, 0.0, 2.0, 4.0, 3.0, 0.0, 0.0, 3.0, 2.0, 0.0, 2.0, 1.0, 0.0, 0.0, 4.0, 0.0, 0.0, 0.0, 0.0, 2.0, 3.0, 3.0, 1.0, 0.0, 0.0, 0.0, 2.0, 0.0, 0.0, 0.0, 3.0, 0.0, 5.0, 2.0, 1.0, 1.0, 0.0, 0.0, 1.0, 0.0, 0.0, 6.0, 0.0, 41836.0, 5.0, 0.0, 2.0, 0.0, 0.0, 4.0, 2.0, 0.0, 38.0, 1.0, 0.0, 2.0, 0.0, 0.0, 0.0, 13.0, 1.0, 7.0, 3.0, 0.0, 0.0, 2.0, 0.0, 1.0, 0.0, 0.0, 1.0, 0.0, 4.0, 0.0, 6.0, 0.0, 1.0, 5.0, 0.0, 0.0, 0.0, 0.0, 1.0, 0.0, 1.0, 0.0, 0.0, 1.0, 1.0, 0.0, 0.0, 0.0, 0.0, 0.0, 1.0, 1.0, 0.0, 0.0, 0.0, 2.0, 0.0, 0.0, 0.0, 0.0, 0.0, 0.0, 0.0, 2.0, 0.0, 0.0, 0.0, 0.0, 1.0, 1.0, 0.0, 0.0, 0.0, 0.0, 0.0, 2.0, 1.0, 0.0, 0.0, 1.0, 0.0, 0.0, 1.0, 1.0, 0.0, 1.0, 3.0, 0.0, 0.0, 4.0, 14.0, 0.0, 3.0, 0.0, 1.0, 1.0, 0.0, 0.0, 0.0, 1.0, 10.0, 0.0, 5.0, 7.0, 0.0, 0.0, 0.0, 1.0, 0.0, 12.0, 3.0, 0.0, 1.0, 0.0, 4.0, 3.0, 2.0, 0.0, 6.0, 0.0, 0.0, 0.0, 0.0, 0.0, 2.0, 6.0, 1.0, 2.0, 4.0, 0.0, 0.0, 0.0, 3.0, 6.0, 0.0, 4.0, 0.0, 2.0, 4.0, 4.0, 0.0, 3.0, 0.0, 3.0, 1.0, 0.0, 2.0, 0.0, 0.0, 3.0, 0.0, 0.0, 122.0, 4.0, 4.0, 0.0, 3.0, 0.0, 18.0, 4.0, 0.0, 6.0, 0.0, 0.0, 3.0, 0.0, 1.0, 1.0, 0.0, 2.0, 0.0, 1.0, 1.0, 1.0, 0.0, 0.0, 245.0, 1.0, 2.0, 0.0, 0.0, 1.0, 2.0, 6.0, 2.0, 0.0, 0.0, 8.0, 1.0, 0.0, 0.0, 2.0, 0.0, 1.0, 3.0, 0.0, 1.0, 0.0, 2.0, 0.0, 0.0, 5.0, 1.0, 8.0, 0.0, 0.0, 0.0, 1.0, 0.0, 0.0, 2.0, 0.0, 0.0, 12.0, 5.0, 10.0, 301.0, 13.0, 2.0, 12.0, 3.0, 0.0, 0.0, 2.0, 3.0, 1.0, 0.0, 0.0, 2.0, 57.0, 0.0, 0.0, 0.0, 1.0, 3.0, 4.0, 0.0, 1.0, 0.0, 0.0, 8.0, 0.0, 0.0, 0.0, 3.0, 7138.0, 0.0, 5.0, 0.0, 1.0, 1.0, 0.0, 0.0, 0.0, 0.0, 0.0, 1.0, 0.0, 0.0, 0.0, 2.0, 0.0, 1.0, 7.0, 0.0, 0.0, 0.0, 21.0, 1.0, 0.0, 0.0, 2.0, 0.0, 0.0, 0.0, 3.0, 0.0, 0.0, 0.0, 0.0, 15.0, 0.0, 0.0, 0.0, 4.0, 0.0, 136.0, 7.0, 0.0, 5.0, 0.0, 0.0, 0.0, 0.0, 7.0, 0.0, 0.0, 0.0, 4.0, 4.0, 0.0, 3.0, 3.0, 0.0, 0.0, 0.0, 1.0, 0.0, 0.0, 5.0, 2.0, 0.0, 1.0, 1.0, 3.0, 0.0, 0.0, 0.0, 2.0, 0.0, 2.0, 2.0, 0.0, 1.0, 4.0, 2.0, 3.0, 2.0, 1.0, 0.0, 5.0, 7.0, 0.0, 1.0, 0.0, 0.0, 0.0, 0.0, 0.0, 2.0, 0.0, 0.0, 0.0, 0.0, 0.0, 1.0, 1.0, 5.0, 1.0, 1.0, 3.0, 0.0, 3.0, 2.0, 0.0, 0.0, 0.0, 2.0, 3.0, 3.0, 1.0, 3.0, 0.0, 1.0, 2.0, 0.0, 0.0, 2.0, 3.0, 2.0, 2.0, 5.0, 0.0, 0.0, 0.0, 3.0, 0.0, 1.0, 0.0, 0.0, 1.0, 1.0, 0.0, 1.0, 0.0, 0.0, 4.0, 3.0, 0.0, 0.0, 0.0, 7.0, 0.0, 3.0, 0.0, 1.0, 0.0, 3.0, 0.0, 0.0, 0.0, 4.0, 1.0, 0.0, 4.0, 2.0, 0.0, 0.0, 0.0, 0.0, 0.0, 1.0, 0.0, 0.0, 0.0, 4.0, 0.0, 0.0, 0.0, 0.0, 1.0, 3.0, 0.0, 0.0, 1.0, 0.0, 1.0, 4.0, 3.0, 0.0, 5.0, 0.0, 3.0, 1.0, 1.0, 2.0, 10.0, 0.0, 3.0, 7.0, 0.0, 2.0, 22.0, 1.0, 0.0, 0.0, 2.0, 0.0, 5.0, 0.0, 2.0, 4.0, 0.0, 5.0, 1.0, 0.0, 12.0, 3.0, 19.0, 2.0, 26.0, 1.0, 1.0, 0.0, 0.0, 4.0, 2.0, 1.0, 0.0, 2.0, 0.0, 0.0, 0.0, 4.0, 0.0, 0.0, 1.0, 3.0, 0.0, 12.0, 16.0, 0.0, 0.0, 0.0, 1.0, 1.0, 0.0, 3.0, 5.0, 0.0, 2.0, 0.0, 0.0, 0.0, 0.0, 0.0, 0.0, 1.0, 1.0, 0.0, 2.0, 0.0, 0.0, 0.0, 2.0, 0.0, 2.0, 0.0, 1.0, 1.0, 1.0, 0.0, 0.0, 0.0, 0.0, 0.0, 0.0, 6.0, 0.0, 0.0, 0.0, 0.0, 3.0, 2.0, 0.0, 1.0, 0.0, 12.0, 0.0, 0.0, 14541.0, 0.0, 0.0, 1.0, 0.0, 1.0, 1.0, 0.0, 1.0, 0.0, 3.0, 0.0, 0.0, 0.0, 0.0, 0.0, 0.0, 2.0, 0.0, 8.0, 0.0, 0.0, 0.0, 0.0, 0.0, 0.0, 1.0, 0.0, 3.0, 0.0, 1.0, 2.0, 2.0, 3.0, 16.0, 3.0, 1.0, 1.0, 0.0, 2.0, 1.0, 0.0, 0.0, 0.0, 1.0, 0.0, 0.0, 0.0, 0.0, 1.0, 1.0, 0.0, 0.0, 0.0, 0.0, 6.0, 1.0, 13303.0, 2.0, 1.0, 1.0, 0.0, 2.0, 4.0, 54.0, 226.0, 4.0, 19.0, 5.0, 0.0, 10.0, 2.0, 4.0, 0.0, 0.0, 0.0, 2.0, 0.0, 0.0, 9.0, 0.0, 0.0, 0.0, 1.0, 1.0, 12.0, 0.0, 1.0, 0.0, 1.0, 13.0, 0.0, 0.0, 0.0, 0.0, 5.0, 0.0, 0.0, 0.0, 0.0, 0.0, 2.0, 1.0, 2.0, 0.0, 1.0, 1.0, 4.0, 1.0, 3.0, 0.0, 6.0, 5.0, 0.0, 7.0, 2.0, 8.0, 1.0, 17.0, 0.0, 0.0, 2.0, 3.0, 0.0, 0.0, 0.0, 0.0, 0.0, 1.0, 0.0, 0.0, 0.0, 3.0, 6.0, 8.0, 0.0, 0.0, 1.0, 2.0, 0.0, 0.0, 0.0, 0.0, 0.0, 1.0, 0.0, 0.0, 2.0, 0.0, 0.0, 0.0, 0.0, 3.0, 0.0, 5.0, 4.0, 0.0, 0.0, 7.0, 81.0, 2.0, 1.0, 0.0, 3.0, 1.0, 0.0, 8.0, 0.0, 0.0, 0.0, 0.0, 0.0, 2.0, 0.0, 0.0, 0.0, 0.0, 0.0, 0.0, 1.0, 1.0, 0.0, 0.0, 1.0, 0.0, 0.0, 0.0, 5.0, 1.0, 1.0, 0.0, 0.0, 0.0, 4.0, 0.0, 0.0, 3.0, 0.0, 0.0, 0.0, 2.0, 0.0, 0.0, 7.0, 2.0, 4.0, 0.0, 0.0, 1.0, 2.0, 2.0, 0.0, 9.0, 0.0, 0.0, 0.0, 0.0, 0.0, 2.0, 0.0, 0.0, 8.0, 1.0, 0.0, 3.0, 0.0, 1.0, 2.0, 0.0, 0.0, 0.0, 0.0, 0.0, 0.0, 6.0, 8.0, 0.0, 9.0, 1.0, 1.0, 0.0, 0.0, 0.0, 5.0, 1.0, 0.0, 4.0, 0.0, 0.0, 1.0, 0.0, 0.0, 9.0, 0.0, 1.0, 0.0, 1.0, 0.0, 0.0, 0.0, 1.0, 3.0, 1.0, 3.0, 3.0, 3.0, 8.0, 2.0, 4.0, 3.0, 2.0, 0.0, 0.0, 0.0, 1.0, 0.0, 8.0, 0.0, 1.0, 1.0, 0.0, 0.0, 0.0, 0.0, 1.0, 0.0, 0.0, 0.0, 0.0, 2.0, 1.0, 0.0, 0.0, 0.0, 0.0, 1.0, 0.0, 5.0, 0.0, 0.0, 0.0, 1.0, 4.0, 0.0, 3.0, 5.0, 0.0, 0.0, 0.0, 2.0, 2.0, 2.0, 0.0, 0.0, 1.0, 2.0, 2.0, 0.0, 0.0, 1.0, 0.0, 0.0, 0.0, 1.0, 1.0, 0.0, 3.0, 0.0, 0.0, 1.0, 0.0, 0.0, 3.0, 0.0, 0.0, 0.0, 6.0, 0.0, 0.0, 0.0, 2.0, 0.0, 1.0, 0.0, 0.0, 0.0, 2.0, 0.0, 0.0, 0.0, 0.0, 1.0, 0.0, 2.0, 0.0, 0.0, 0.0, 1.0, 0.0, 0.0, 0.0, 3.0, 7.0, 0.0, 43178.0, 1.0, 0.0, 1.0, 13.0, 0.0, 0.0, 0.0, 2.0, 3.0, 10.0, 0.0, 0.0, 0.0, 0.0, 0.0, 1.0, 1.0, 0.0, 0.0, 2.0, 0.0, 0.0, 0.0, 1.0, 0.0, 0.0, 7.0, 0.0, 1.0, 0.0, 0.0, 0.0, 1.0, 3.0, 16.0, 0.0, 1.0, 3.0, 1.0, 0.0, 0.0, 0.0, 0.0, 2.0, 6.0, 0.0, 3.0, 0.0, 2.0, 0.0, 1.0, 2.0, 2.0, 0.0, 5.0, 0.0, 3.0, 0.0, 1.0, 0.0, 3.0, 0.0, 3.0, 0.0, 2.0, 2.0, 1.0, 2.0, 2.0, 0.0, 2.0, 0.0, 1.0, 4.0, 2.0, 0.0, 0.0, 5.0, 1.0, 1.0, 0.0, 2.0, 0.0, 0.0, 0.0, 12.0, 2.0, 4.0, 2.0, 0.0, 0.0, 1.0, 0.0, 0.0, 0.0, 2.0, 5.0, 0.0, 2.0, 0.0, 3.0, 0.0, 3.0, 0.0, 4.0, 0.0, 1.0, 0.0, 2.0, 0.0, 1.0, 0.0, 0.0, 8.0, 6.0, 1.0, 2.0, 0.0, 0.0, 0.0, 3.0, 0.0, 6.0, 116.0, 0.0, 1.0, 0.0, 1.0, 3.0, 1.0, 0.0, 1.0, 0.0, 0.0, 1.0, 1.0, 4.0, 0.0, 0.0, 0.0, 0.0, 2.0, 0.0, 0.0, 5.0, 1.0, 0.0, 0.0, 0.0, 0.0, 5.0, 0.0, 1.0, 4.0, 0.0, 0.0, 0.0, 0.0, 0.0, 0.0, 0.0, 0.0, 0.0, 1.0, 1.0, 0.0, 1.0, 0.0, 1.0, 0.0, 1.0, 0.0, 4.0, 2.0, 2.0, 2785.0, 2.0, 4.0, 2.0, 4.0, 0.0, 0.0, 1.0, 0.0, 0.0, 3.0, 0.0, 0.0, 0.0, 0.0, 0.0, 0.0, 0.0, 0.0, 0.0, 0.0, 0.0, 1.0, 3.0, 3.0, 0.0, 0.0, 0.0, 6.0, 1.0, 2.0, 0.0, 0.0, 2.0, 7.0, 2.0, 0.0, 2.0, 1.0, 0.0, 6.0, 0.0, 0.0, 0.0, 10.0, 0.0, 3.0, 3.0, 0.0, 0.0, 0.0, 1.0, 2.0, 0.0, 0.0, 0.0, 2.0, 3.0, 3.0, 2.0, 0.0, 4.0, 0.0, 3.0, 3.0, 0.0, 6.0, 0.0, 4.0, 0.0, 2.0, 1.0, 1.0, 0.0, 0.0, 0.0, 3.0, 0.0, 0.0, 0.0, 1.0, 0.0, 2.0, 0.0, 0.0, 9.0, 0.0, 5.0, 0.0, 0.0, 0.0, 1.0, 0.0, 1.0, 0.0, 0.0, 2.0, 1.0, 0.0, 0.0, 0.0, 4.0, 0.0, 0.0, 2.0, 0.0, 0.0, 2.0, 1.0, 8.0, 0.0, 0.0, 0.0, 1.0, 0.0, 0.0, 1.0, 4.0, 1.0, 3.0, 1.0, 0.0, 0.0, 1.0, 0.0, 4.0, 2.0, 3.0, 0.0, 0.0, 0.0, 3.0, 0.0, 2.0, 0.0, 1.0, 0.0, 8.0, 0.0, 0.0, 0.0, 1.0, 4.0, 0.0, 2.0, 2.0, 8.0, 3.0, 0.0, 0.0, 156.0, 3.0, 1.0, 0.0, 0.0, 0.0, 0.0, 3.0, 4.0, 0.0, 0.0, 1.0, 10.0, 0.0, 0.0, 0.0, 2.0, 0.0, 1.0, 4.0, 0.0, 0.0, 0.0, 0.0, 0.0, 4.0, 0.0, 4.0, 2.0, 2.0, 0.0, 0.0, 1.0, 0.0, 3.0, 1.0, 1.0, 0.0, 0.0, 2.0, 8.0, 0.0, 0.0, 0.0, 3.0, 0.0, 16.0, 0.0, 2.0, 0.0, 0.0, 1.0, 0.0, 0.0, 0.0, 0.0, 0.0, 2.0, 1.0, 1.0, 1.0, 0.0, 4.0, 0.0, 4.0, 4.0, 0.0, 5.0, 0.0, 0.0, 2.0, 2.0, 0.0, 4.0, 1.0, 0.0, 0.0, 1.0, 0.0, 0.0, 2.0, 0.0, 8.0, 6.0, 3.0, 2.0, 0.0, 0.0, 4.0, 0.0, 2.0, 0.0, 0.0, 2.0, 0.0, 6.0, 4.0, 4.0, 2.0, 2.0, 2.0, 0.0, 1545.0, 0.0, 0.0, 3.0, 0.0, 0.0, 0.0, 3.0, 0.0, 5.0, 1.0, 0.0, 0.0, 6.0, 1.0, 0.0, 9.0, 5.0, 0.0, 0.0, 0.0, 0.0, 5.0, 1.0, 5.0, 0.0, 3.0, 0.0, 5.0, 1.0, 2.0, 0.0, 1.0, 1.0, 0.0, 2.0, 1.0, 0.0, 0.0, 0.0, 0.0, 0.0, 0.0, 7.0, 9.0, 3.0, 0.0, 0.0, 0.0, 1.0, 0.0, 2.0, 0.0, 0.0, 0.0, 0.0, 0.0, 33.0, 1.0, 0.0, 4.0, 5.0, 2.0, 4.0, 1.0, 0.0, 0.0, 2.0, 4.0, 0.0, 4.0, 0.0, 4.0, 0.0, 0.0, 0.0, 0.0, 0.0, 8.0, 0.0, 3.0, 0.0, 1.0, 1.0, 0.0, 0.0, 0.0, 0.0, 1.0, 2.0, 0.0, 0.0, 0.0, 4.0, 0.0, 0.0, 0.0, 0.0, 3.0, 0.0, 8.0, 1713.0, 1.0, 0.0, 17.0, 6.0, 1.0, 6.0, 0.0, 0.0, 0.0, 0.0, 0.0, 0.0, 0.0, 0.0, 1.0, 0.0, 0.0, 1.0, 5.0, 2.0, 0.0, 1.0, 0.0, 4.0, 0.0, 0.0, 1.0, 0.0, 0.0, 0.0, 1.0, 0.0, 5.0, 0.0, 3.0, 2.0, 2.0, 1.0, 0.0, 3.0, 1.0, 2.0, 0.0, 0.0, 0.0, 2.0, 0.0, 0.0, 0.0, 25301.0, 2.0, 3.0, 0.0, 0.0, 10.0, 1.0, 0.0, 0.0, 0.0, 0.0, 0.0, 3.0, 8.0, 0.0, 3.0, 0.0, 0.0, 5.0, 0.0, 2.0, 5.0, 5.0, 3.0, 0.0, 1.0, 0.0, 0.0, 2.0, 0.0, 1.0, 0.0, 0.0, 4.0, 1.0, 6.0, 0.0, 4.0, 0.0, 0.0, 0.0, 6.0, 5.0, 5.0, 161.0, 1.0, 445.0, 6.0, 2.0, 0.0, 0.0, 0.0, 0.0, 1.0, 0.0, 0.0, 7.0, 0.0, 0.0, 0.0, 0.0, 2.0, 0.0, 0.0, 0.0, 0.0, 0.0, 4.0, 0.0, 1.0, 0.0, 1.0, 0.0, 0.0, 0.0, 1.0, 3.0, 0.0, 1.0, 6.0, 7.0, 4.0, 0.0, 0.0, 11.0, 0.0, 4.0, 0.0, 1.0, 2.0, 0.0, 0.0, 27.0, 1.0, 5.0, 0.0, 0.0, 0.0, 1.0, 0.0, 0.0, 0.0, 0.0, 0.0, 10.0, 4.0, 0.0, 1.0, 3.0, 0.0, 0.0, 0.0, 3.0, 0.0, 0.0, 0.0, 1.0, 0.0, 0.0, 0.0, 0.0, 3.0, 1.0, 0.0, 6.0, 0.0, 0.0, 0.0, 2.0, 7.0, 0.0, 1.0, 2.0, 1.0, 1.0, 2.0, 0.0, 0.0, 0.0, 3.0, 1.0, 3.0, 0.0, 3.0, 10.0, 0.0, 0.0, 0.0, 1.0, 0.0, 0.0, 2.0, 2.0, 2.0, 0.0, 0.0, 8.0, 4.0, 0.0, 0.0, 6.0, 0.0, 7.0, 0.0, 0.0, 0.0, 1.0, 1.0, 0.0, 3.0, 16.0, 0.0, 0.0, 0.0, 0.0, 0.0, 0.0, 0.0, 2.0, 0.0, 0.0, 1.0, 0.0, 0.0, 3.0, 0.0, 0.0, 1.0, 4.0, 5.0, 0.0, 1.0, 0.0, 0.0, 5.0, 0.0, 36022.0, 4.0, 1.0, 8.0, 0.0, 0.0, 0.0, 10.0, 6.0, 0.0, 10.0, 2.0, 0.0, 2.0, 0.0, 2.0, 4.0, 0.0, 6.0, 0.0, 2.0, 0.0, 2.0, 1.0, 12.0, 0.0, 0.0, 0.0, 3.0, 5.0, 0.0, 5.0, 3.0, 0.0, 0.0, 0.0, 0.0, 0.0, 3.0, 5.0, 0.0, 14.0, 0.0, 3.0, 0.0, 0.0, 3.0, 2.0, 0.0, 0.0, 0.0, 4.0, 0.0, 0.0, 0.0, 0.0, 0.0, 0.0, 0.0, 0.0, 0.0, 1.0, 0.0, 1.0, 8555.0, 0.0, 4.0, 5.0, 0.0, 3.0, 0.0, 7.0, 3.0, 4.0, 0.0, 0.0, 1.0, 0.0, 0.0, 0.0, 0.0, 7.0, 0.0, 0.0, 0.0, 1.0, 6.0, 3.0, 5.0, 0.0, 2.0, 2.0, 1.0, 0.0, 16.0, 7.0, 2.0, 0.0, 1.0, 0.0, 2.0, 2.0, 1.0, 0.0, 1.0, 1.0, 0.0, 0.0, 0.0, 1.0, 0.0, 1.0, 0.0, 0.0, 0.0, 5.0, 3.0, 0.0, 6.0, 0.0, 0.0, 0.0, 0.0, 8.0, 3.0, 0.0, 2.0, 2.0, 0.0, 2.0, 0.0, 4.0, 0.0, 1.0, 0.0, 1.0, 2.0, 5.0, 0.0, 1.0, 0.0, 9.0, 1.0, 1.0, 0.0, 0.0, 8.0, 0.0, 0.0, 0.0, 0.0, 2.0, 0.0, 1.0, 2.0, 0.0, 2.0, 0.0, 0.0, 0.0, 0.0, 2.0, 3.0, 0.0, 2.0, 0.0, 0.0, 2.0, 16.0, 3.0, 4.0, 0.0, 0.0, 0.0, 7.0, 0.0, 0.0, 0.0, 1.0, 0.0, 1.0, 4.0, 1.0, 0.0, 0.0, 1.0, 0.0, 2.0, 1.0, 3.0, 1.0, 1.0, 0.0, 0.0, 5.0, 0.0, 3.0, 15.0, 3.0, 0.0, 4.0, 1.0, 0.0, 0.0, 14.0, 0.0, 0.0, 0.0, 2.0, 0.0, 2.0, 5.0, 0.0, 0.0, 0.0, 1.0, 0.0, 0.0, 1.0, 0.0, 0.0, 0.0, 2.0, 0.0, 0.0, 1.0, 0.0, 3.0, 0.0, 0.0, 0.0, 1.0, 0.0, 0.0, 0.0, 0.0, 5.0, 0.0, 0.0, 2.0, 0.0, 2.0, 0.0, 1.0, 0.0, 1.0, 3.0, 11.0, 165.0, 0.0, 1.0, 0.0, 0.0, 5.0, 0.0, 0.0, 0.0, 4.0, 1.0, 0.0, 1.0, 2.0, 2.0, 0.0, 2.0, 9.0, 1.0, 2.0, 0.0, 7.0, 6.0, 1.0, 0.0, 0.0, 3.0, 3.0, 0.0, 0.0, 1.0, 0.0, 2.0, 4.0, 1268.0, 3.0, 0.0, 0.0, 2.0, 0.0, 3.0, 0.0, 0.0, 2.0, 2.0, 1.0, 4.0, 2.0, 1.0, 2.0, 0.0, 0.0, 1.0, 1.0, 1.0, 2.0, 12.0, 0.0, 0.0, 2.0, 1.0, 1.0, 0.0, 1.0, 0.0, 2.0, 1.0, 1.0, 3.0, 0.0, 0.0, 0.0, 0.0, 1.0, 0.0, 4.0, 1.0, 0.0, 1.0, 0.0, 2.0, 0.0, 0.0, 0.0, 0.0, 0.0, 6.0, 0.0, 0.0, 10100.0, 0.0, 2.0, 0.0, 2.0, 6.0, 0.0, 0.0, 0.0, 2.0, 3.0, 2.0, 4.0, 0.0, 3.0, 0.0, 0.0, 0.0, 0.0, 1.0, 0.0, 2.0, 0.0, 0.0, 0.0, 5.0, 0.0, 1.0, 1.0, 0.0, 1.0, 0.0, 1.0, 1.0, 0.0, 0.0, 14.0, 0.0, 2.0, 2.0, 0.0, 0.0, 0.0, 2.0, 0.0, 0.0, 0.0, 0.0, 25.0, 0.0, 1.0, 0.0, 0.0, 0.0, 0.0, 2.0, 0.0, 1.0, 4.0, 9.0, 1.0, 0.0, 0.0, 0.0, 0.0, 0.0, 0.0, 3.0, 0.0, 2.0, 0.0, 0.0, 6.0, 4.0, 0.0, 0.0, 2.0, 1.0, 0.0, 0.0, 1.0, 3.0, 6.0, 2.0, 4.0, 2.0, 0.0, 0.0, 0.0, 12.0, 0.0, 0.0, 0.0, 6.0, 1.0, 0.0, 4.0, 0.0, 3.0, 0.0, 0.0, 0.0, 0.0, 1.0, 0.0, 6.0, 0.0, 2.0, 1.0, 0.0, 3.0, 0.0, 3.0, 0.0, 0.0, 3.0, 2.0, 1.0, 1.0, 0.0, 9.0, 0.0, 0.0, 1.0, 3.0, 1.0, 0.0, 1.0, 0.0, 0.0, 3.0, 0.0, 0.0, 2.0, 0.0, 11.0, 1.0, 3.0, 0.0, 0.0, 0.0, 0.0, 8.0, 0.0, 7.0, 0.0, 0.0, 1.0, 0.0, 22.0, 1.0, 2.0, 0.0, 0.0, 0.0, 0.0, 7.0, 3.0, 0.0, 4.0, 0.0, 2.0, 2.0, 0.0, 0.0, 0.0, 2.0, 0.0, 1.0, 0.0, 0.0, 0.0, 1.0, 1.0, 2.0, 4.0, 6.0, 0.0, 0.0, 0.0, 1.0, 3.0, 2.0, 2.0, 0.0, 1.0, 1.0, 0.0, 1.0, 0.0, 0.0, 0.0, 1.0, 1.0, 3.0, 3.0, 0.0, 0.0, 1.0, 2.0, 6.0, 0.0, 2.0, 7.0, 0.0, 7.0, 7.0, 0.0, 2.0, 7.0, 5.0, 2.0, 0.0, 1.0, 1.0, 2.0, 0.0, 1.0, 0.0, 2.0, 0.0, 2.0, 2.0, 0.0, 0.0, 3.0, 4.0, 1.0, 0.0, 2.0, 4.0, 4.0, 9.0, 0.0, 2.0, 3.0, 2.0, 0.0, 0.0, 3.0, 5.0, 0.0, 3.0, 0.0, 8.0, 0.0, 12.0, 1.0, 1.0, 0.0, 0.0, 0.0, 1.0, 0.0, 1.0, 0.0, 2.0, 0.0, 10.0, 1.0, 0.0, 7.0, 0.0, 0.0, 4.0, 4.0, 0.0, 1.0, 1.0, 2.0, 3.0, 1.0, 3.0, 1.0, 0.0, 0.0, 0.0, 0.0, 0.0, 0.0, 3.0, 0.0, 13.0, 0.0, 0.0, 0.0, 0.0, 1.0, 2.0, 4.0, 0.0, 3.0, 2.0, 1.0, 0.0, 1.0, 1.0, 1.0, 2.0, 0.0, 0.0, 6.0, 0.0, 0.0, 2.0, 0.0, 8.0, 3.0, 1.0, 0.0, 0.0, 0.0, 0.0, 0.0, 4.0, 7.0, 4.0, 0.0, 0.0, 5.0, 1.0, 0.0, 0.0, 0.0, 3.0, 0.0, 1.0, 0.0, 0.0, 10.0, 1.0, 0.0, 8.0, 0.0, 0.0, 2.0, 1.0, 1.0, 1.0, 0.0, 0.0, 1.0, 0.0, 0.0, 0.0, 1.0, 6.0, 0.0, 1.0, 11.0, 0.0, 1.0, 0.0, 0.0, 0.0, 4.0, 0.0, 1.0, 1.0, 0.0, 0.0, 0.0, 1.0, 0.0, 2.0, 0.0, 1.0, 0.0, 7.0, 0.0, 6.0, 21160.0, 0.0, 0.0, 2.0, 4.0, 6.0, 0.0, 5.0, 0.0, 1.0, 0.0, 0.0, 0.0, 1.0, 0.0, 4.0, 1.0, 0.0, 1.0, 0.0, 4.0, 1.0, 0.0, 0.0, 3.0, 1.0, 2.0, 0.0, 110.0, 0.0, 0.0, 0.0, 0.0, 1.0, 0.0, 1.0, 7.0, 0.0, 4.0, 0.0, 6.0, 0.0, 0.0, 0.0, 0.0, 1.0, 0.0, 0.0, 1.0, 0.0, 0.0, 4.0, 0.0, 0.0, 0.0, 0.0, 4.0, 1.0, 0.0, 12.0, 2.0, 2.0, 1.0, 0.0, 1.0, 0.0, 0.0, 0.0, 0.0, 0.0, 0.0, 1.0, 1.0, 2.0, 1.0, 1.0, 1.0, 0.0, 0.0, 1.0, 5.0, 0.0, 0.0, 19.0, 2.0, 36.0, 0.0, 0.0, 10.0, 25.0, 5.0, 0.0, 6.0, 0.0, 1.0, 2.0, 1.0, 2.0, 0.0, 0.0, 0.0, 4.0, 0.0, 0.0, 0.0, 0.0, 0.0, 0.0, 1.0, 2.0, 2.0, 1.0, 3.0, 1.0, 7.0, 7.0, 0.0, 2.0, 7.0, 0.0, 0.0, 0.0, 11.0, 1.0, 0.0, 0.0, 0.0, 1.0, 0.0, 0.0, 21565.0, 4.0, 0.0, 0.0, 1.0, 13.0, 6.0, 2.0, 0.0, 0.0, 0.0, 0.0, 1.0, 1.0, 2.0, 0.0, 0.0, 0.0, 5.0, 0.0, 1.0, 0.0, 1.0, 2.0, 0.0, 1.0, 0.0, 0.0, 0.0, 0.0, 0.0, 0.0, 3.0, 2.0, 2.0, 0.0, 0.0, 0.0, 1.0, 0.0, 1.0, 0.0, 1.0, 2.0, 0.0, 0.0, 1.0, 3.0, 2.0, 1.0, 1.0, 0.0, 0.0, 3.0, 0.0, 0.0, 13.0, 0.0, 0.0, 15.0, 1.0, 0.0, 0.0, 5.0, 1.0, 0.0, 0.0, 2.0, 0.0, 5.0, 0.0, 7.0, 1.0, 3.0, 5.0, 3.0, 0.0, 0.0, 2.0, 0.0, 0.0, 1.0, 4.0, 2.0, 6.0, 0.0, 1.0, 11.0, 2.0, 0.0, 1.0, 1.0, 0.0, 0.0, 0.0, 3.0, 5.0, 0.0, 0.0, 0.0, 7.0, 0.0, 11.0, 3.0, 0.0, 0.0, 0.0, 1.0, 0.0, 2.0, 0.0, 4.0, 0.0, 0.0, 0.0, 100.0, 3.0, 0.0, 0.0, 0.0, 0.0, 2.0, 1.0, 0.0, 5.0, 0.0, 0.0, 1.0, 3.0, 5.0, 0.0, 0.0, 5.0, 3.0, 0.0, 0.0, 0.0, 4.0, 0.0, 0.0, 1.0, 0.0, 1.0, 3.0, 0.0, 8.0, 7.0, 2.0, 3.0, 0.0, 0.0, 9.0, 2.0, 10.0, 1.0, 0.0, 0.0, 3.0, 0.0, 12.0, 2.0, 3.0, 0.0, 5.0, 0.0, 0.0, 2.0, 0.0, 2.0, 14.0, 0.0, 0.0, 0.0, 2.0, 25.0, 3.0, 1.0, 2.0, 0.0, 2.0, 1.0, 2.0, 0.0, 0.0, 4.0, 0.0, 0.0, 3.0, 0.0, 2.0, 0.0, 0.0, 1.0, 0.0, 0.0, 0.0, 3.0, 5.0, 1.0, 1.0, 4.0, 1.0, 142.0, 0.0, 0.0, 0.0, 3.0, 0.0, 0.0, 0.0, 2.0, 3.0, 1.0, 3.0, 2.0, 0.0, 2.0, 0.0, 0.0, 0.0, 0.0, 3.0, 0.0, 0.0, 2.0, 6.0, 0.0, 0.0, 0.0, 0.0, 2.0, 0.0, 14.0, 3.0, 0.0, 0.0, 2.0, 0.0, 15.0, 2577.0, 0.0, 1.0, 4.0, 0.0, 0.0, 1.0, 3.0, 0.0, 0.0, 2.0, 0.0, 6.0, 3.0, 1.0, 1.0, 0.0, 2.0, 5.0, 1.0, 0.0, 17.0, 41671.0, 2.0, 0.0, 0.0, 2.0, 1.0, 0.0, 0.0, 0.0, 2.0, 5273.0, 0.0, 0.0, 0.0, 0.0, 0.0, 0.0, 1.0, 2.0, 0.0, 0.0, 0.0, 0.0, 1.0, 0.0, 12593.0, 0.0, 0.0, 0.0, 0.0, 0.0, 3.0, 2.0, 7.0, 0.0, 0.0, 0.0, 8.0, 1.0, 3.0, 5.0, 0.0, 10.0, 3.0, 27.0, 1.0, 0.0, 1.0, 4.0, 4.0, 1.0, 2.0, 0.0, 6.0, 3.0, 1.0, 1.0, 1.0, 2.0, 0.0, 1.0, 0.0, 4.0, 1.0, 0.0, 0.0, 0.0, 0.0, 1.0, 0.0, 0.0, 3.0, 0.0, 1.0, 0.0, 7.0, 0.0, 4.0, 1.0, 0.0, 1.0, 4.0, 0.0, 3.0, 0.0, 3.0, 0.0, 1.0, 0.0, 6.0, 0.0, 0.0, 3.0, 4.0, 1.0, 0.0, 0.0, 3.0, 0.0, 11.0, 0.0, 5.0, 3.0, 2.0, 0.0, 0.0, 2.0, 0.0, 0.0, 6.0, 0.0, 2.0, 0.0, 0.0, 2.0, 0.0, 0.0, 1.0, 0.0, 4.0, 1.0, 0.0, 1.0, 0.0, 0.0, 0.0, 23991.0, 0.0, 5.0, 0.0, 0.0, 0.0, 0.0, 0.0, 0.0, 1.0, 3.0, 1.0, 2.0, 0.0, 0.0, 0.0, 0.0, 0.0, 2.0, 8.0, 7.0, 0.0, 2.0, 0.0, 0.0, 0.0, 0.0, 0.0, 1.0, 5.0, 0.0, 0.0, 5.0, 0.0, 0.0, 6.0, 41.0, 9.0, 0.0, 0.0, 3.0, 0.0, 0.0, 3.0, 0.0, 0.0, 0.0, 26.0, 0.0, 1.0, 1.0, 0.0, 0.0, 0.0, 0.0, 0.0, 2.0, 5.0, 0.0, 2.0, 0.0, 0.0, 2.0, 0.0, 0.0, 0.0, 0.0, 0.0, 0.0, 1.0, 5.0, 0.0, 3.0, 11.0, 0.0, 5.0, 0.0, 0.0, 3.0, 0.0, 1.0, 0.0, 0.0, 1.0, 0.0, 0.0, 0.0, 0.0, 5.0, 3.0, 2.0, 0.0, 1.0, 1.0, 3.0, 0.0, 2.0, 2.0, 0.0, 4.0, 1.0, 10.0, 1.0, 1.0, 0.0, 2.0, 3.0, 0.0, 0.0, 3.0, 9.0, 4.0, 0.0, 1.0, 5.0, 2.0, 1.0, 4.0, 2.0, 1.0, 1.0, 0.0, 0.0, 4.0, 2.0, 0.0, 0.0, 4.0, 0.0, 0.0, 8.0, 0.0, 7.0, 2.0, 1.0, 1.0, 1.0, 0.0, 0.0, 1.0, 0.0, 0.0, 0.0, 0.0, 0.0, 4.0, 0.0, 3.0, 7.0, 0.0, 11.0, 1.0, 0.0, 9.0, 0.0, 1.0, 2.0, 2.0, 0.0, 2.0, 0.0, 0.0, 3.0, 0.0, 0.0, 11.0, 4.0, 1.0, 0.0, 0.0, 0.0, 4.0, 67.0, 3158.0, 0.0, 0.0, 2.0, 0.0, 2.0, 1.0, 6.0, 1.0, 1.0, 2.0, 1.0, 2.0, 0.0, 0.0, 7.0, 0.0, 0.0, 2.0, 2.0, 2.0, 0.0, 0.0, 0.0, 1.0, 4.0, 0.0, 4.0, 0.0, 1.0, 0.0, 2.0, 2.0, 5.0, 0.0, 0.0, 0.0, 0.0, 4.0, 3.0, 3.0, 0.0, 2.0, 0.0, 1.0, 0.0, 4.0, 2.0, 0.0, 0.0, 0.0, 0.0, 2.0, 5.0, 3.0, 0.0, 5.0, 2.0, 0.0, 5.0, 2.0, 1.0, 0.0, 2.0, 3.0, 6.0, 1.0, 0.0, 1.0, 2.0, 0.0, 0.0, 2.0, 1.0, 1.0, 1.0, 2.0, 0.0, 1.0, 0.0, 0.0, 0.0, 0.0, 1.0, 1.0, 0.0, 0.0, 1.0, 0.0, 0.0, 0.0, 0.0, 0.0, 0.0, 0.0, 0.0, 0.0, 0.0, 0.0, 1.0, 0.0, 8.0, 0.0, 0.0, 4.0, 1.0, 0.0, 0.0, 0.0, 0.0, 0.0, 1.0, 0.0, 0.0, 0.0, 1.0, 3.0, 2.0, 0.0, 0.0, 0.0, 0.0, 0.0, 0.0, 0.0, 0.0, 3.0, 0.0, 3.0, 8.0, 0.0, 2.0, 3.0, 2.0, 2.0, 1.0, 1.0, 0.0, 2.0, 1.0, 0.0, 0.0, 0.0, 3.0, 1.0, 0.0, 1.0, 3.0, 0.0, 0.0, 1.0, 1.0, 0.0, 10.0, 0.0, 6.0, 0.0, 0.0, 0.0, 3205.0, 0.0, 0.0, 6.0, 0.0, 7.0, 0.0, 0.0, 0.0, 7.0, 1.0, 0.0, 0.0, 0.0, 0.0, 0.0, 2.0, 9.0, 0.0, 2.0, 0.0, 0.0, 2.0, 4.0, 1.0, 1.0, 2.0, 1.0, 0.0, 0.0, 2.0, 0.0, 10.0, 1.0, 0.0, 0.0, 7.0, 0.0, 0.0, 0.0, 0.0, 0.0, 5.0, 2.0, 0.0, 1.0, 1.0, 0.0, 0.0, 1.0, 1.0, 0.0, 1.0, 1.0, 0.0, 2.0, 1.0, 3.0, 0.0, 0.0, 0.0, 0.0, 0.0, 1.0, 0.0, 0.0, 14.0, 4.0, 0.0, 69.0, 1.0, 0.0, 5.0, 1.0, 0.0, 3344.0, 0.0, 5.0, 0.0, 8.0, 0.0, 7.0, 1.0, 0.0, 0.0, 0.0, 0.0, 0.0, 0.0, 0.0, 6.0, 9.0, 1.0, 0.0, 8.0, 12.0, 4.0, 1.0, 0.0, 11.0, 0.0, 0.0, 0.0, 0.0, 0.0, 8.0, 9.0, 0.0, 7.0, 0.0, 4.0, 1.0, 0.0, 0.0, 3.0, 0.0, 0.0, 0.0, 3.0, 0.0, 0.0, 0.0, 0.0, 0.0, 0.0, 1.0, 0.0, 0.0, 0.0, 3.0, 0.0, 36.0, 13.0, 0.0, 0.0, 0.0, 0.0, 2.0, 1.0, 1.0, 0.0, 6.0, 3.0, 0.0, 0.0, 3.0, 0.0, 3.0, 0.0, 0.0, 104.0, 0.0, 0.0, 3.0, 1.0, 0.0, 1.0, 0.0, 0.0, 1.0, 0.0, 0.0, 2.0, 0.0, 1.0, 0.0, 1.0, 0.0, 1.0, 0.0, 5250.0, 0.0, 0.0, 1.0, 0.0, 0.0, 0.0, 5.0, 3.0, 3.0, 1.0, 1.0, 9.0, 5.0, 4.0, 5.0, 0.0, 0.0, 0.0, 0.0, 1.0, 0.0, 2.0, 1.0, 0.0, 0.0, 1199.0, 2.0, 1.0, 24465.0, 0.0, 0.0, 4.0, 0.0, 0.0, 0.0, 0.0, 4.0, 0.0, 0.0, 10.0, 0.0, 0.0, 1.0, 0.0, 0.0, 0.0, 2.0, 0.0, 1.0, 3.0, 0.0, 0.0, 6.0, 3.0, 0.0, 4.0, 0.0, 0.0, 0.0, 0.0, 2.0, 0.0, 1.0, 0.0, 0.0, 0.0, 2.0, 0.0, 8.0, 0.0, 1.0, 0.0, 1.0, 0.0, 0.0, 0.0, 0.0, 0.0, 22.0, 0.0, 5.0, 0.0, 3.0, 0.0, 0.0, 1.0, 0.0, 2.0, 0.0, 0.0, 0.0, 6.0, 0.0, 0.0, 0.0, 5.0, 3.0, 2.0, 2.0, 0.0, 0.0, 2.0, 1.0, 1.0, 0.0, 4.0, 0.0, 0.0, 0.0, 0.0, 0.0, 1.0, 2.0, 5.0, 3.0, 0.0, 0.0, 0.0, 0.0, 2.0, 0.0, 0.0, 0.0, 0.0, 0.0, 14.0, 1.0, 3.0, 2.0, 6.0, 0.0, 0.0, 0.0, 0.0, 0.0, 3.0, 4.0, 14876.0, 4.0, 0.0, 0.0, 7.0, 0.0, 1.0, 4.0, 35.0, 0.0, 1.0, 3.0, 3.0, 12.0, 0.0, 3.0, 0.0, 5.0, 4.0, 0.0, 0.0, 9.0, 0.0, 0.0, 1.0, 1.0, 0.0, 0.0, 6.0, 0.0, 0.0, 0.0, 0.0, 1.0, 2.0, 6.0, 0.0, 4.0, 0.0, 0.0, 5.0, 0.0, 3.0, 0.0, 0.0, 0.0, 0.0, 0.0, 4.0, 0.0, 0.0, 0.0, 0.0, 0.0, 1.0, 0.0, 2.0, 0.0, 1.0, 0.0, 2.0, 2.0, 1.0, 0.0, 1.0, 8.0, 0.0, 0.0, 4.0, 0.0, 0.0, 0.0, 0.0, 0.0, 0.0, 1.0, 1.0, 1.0, 0.0, 0.0, 0.0, 0.0, 1.0, 0.0, 4.0, 3.0, 0.0, 0.0, 0.0, 1.0, 0.0, 0.0, 1.0, 1.0, 1.0, 1.0, 3.0, 6.0, 0.0, 0.0, 0.0, 1.0, 0.0, 0.0, 0.0, 0.0, 0.0, 0.0, 2.0, 0.0, 0.0, 36.0, 5.0, 58.0, 0.0, 0.0, 0.0, 2.0, 0.0, 4.0, 0.0, 4.0, 0.0, 0.0, 0.0, 3.0, 1.0, 0.0, 0.0, 2.0, 0.0, 5.0, 0.0, 0.0, 7.0, 4.0, 6.0, 0.0, 0.0, 5.0, 2.0, 0.0, 0.0, 0.0, 0.0, 0.0, 3.0, 1.0, 0.0, 21.0, 0.0, 0.0, 1.0, 0.0, 1.0, 0.0, 1.0, 5.0, 0.0, 1.0, 1.0, 2.0, 4.0, 0.0, 1.0, 0.0, 0.0, 1.0, 0.0, 0.0, 1.0, 5.0, 0.0, 2.0, 0.0, 2.0, 4.0, 0.0, 6.0, 1.0, 4.0, 1.0, 6.0, 12.0, 0.0, 0.0, 0.0, 5.0, 0.0, 0.0, 0.0, 0.0, 4.0, 0.0, 1.0, 0.0, 7.0, 3.0, 0.0, 0.0, 0.0, 0.0, 0.0, 1.0, 0.0, 2.0, 0.0, 1.0, 0.0, 4.0, 1.0, 0.0, 4.0, 0.0, 0.0, 0.0, 1.0, 0.0, 1.0, 0.0, 0.0, 41366.0, 1.0, 0.0, 0.0, 6.0, 0.0, 0.0, 1.0, 0.0, 3.0, 24.0, 1.0, 1.0, 0.0, 0.0, 0.0, 7.0, 0.0, 7.0, 1.0, 0.0, 1.0, 0.0, 3.0, 0.0, 8.0, 3.0, 1.0, 0.0, 8.0, 0.0, 5.0, 0.0, 1.0, 43873.0, 2.0, 0.0, 0.0, 0.0, 0.0, 1.0, 4.0, 2.0, 0.0, 7.0, 1.0, 0.0, 1.0, 0.0, 0.0, 0.0, 1.0, 10.0, 0.0, 5.0, 0.0, 0.0, 0.0, 1.0, 0.0, 2.0, 0.0, 0.0, 0.0, 0.0, 0.0, 1.0, 4.0, 0.0, 0.0, 0.0, 1.0, 0.0, 1.0, 1.0, 0.0, 0.0, 0.0, 0.0, 1.0, 0.0, 0.0, 0.0, 0.0, 5.0, 0.0, 3.0, 0.0, 3.0, 0.0, 5.0, 0.0, 0.0, 0.0, 0.0, 0.0, 13.0, 6.0, 18543.0, 2.0, 2.0, 1.0, 0.0, 32.0, 2.0, 1.0, 6.0, 1.0, 0.0, 2.0, 2.0, 0.0, 5.0, 0.0, 2.0, 1.0, 9.0, 2.0, 4.0, 0.0, 0.0, 0.0, 0.0, 0.0, 2.0, 0.0, 3.0, 1.0, 3.0, 0.0, 0.0, 0.0, 1.0, 0.0, 2.0, 1.0, 0.0, 0.0, 0.0, 0.0, 6.0, 5.0, 11.0, 2.0, 4.0, 2.0, 2.0, 2.0, 7.0, 0.0, 0.0, 1.0, 0.0, 3.0, 0.0, 0.0, 0.0, 4.0, 0.0, 2.0, 0.0, 0.0, 0.0, 1.0, 1.0, 0.0, 0.0, 0.0, 4.0, 5.0, 0.0, 0.0, 5.0, 0.0, 19.0, 346.0, 2.0, 3.0, 0.0, 0.0, 0.0, 0.0, 0.0, 2.0, 0.0, 0.0, 0.0, 0.0, 0.0, 0.0, 5.0, 2.0, 0.0, 0.0, 4.0, 1.0, 2.0, 1.0, 0.0, 1.0, 0.0, 1.0, 1.0, 0.0, 0.0, 0.0, 1.0, 0.0, 38.0, 0.0, 0.0, 0.0, 1.0, 0.0, 4.0, 0.0, 0.0, 8.0, 1.0, 0.0, 1.0, 0.0, 1.0, 2.0, 2.0, 3.0, 0.0, 3.0, 0.0, 2.0, 1.0, 0.0, 1.0, 7.0, 0.0, 0.0, 4.0, 1.0, 1.0, 0.0, 5.0, 0.0, 1.0, 7.0, 0.0, 0.0, 0.0, 2.0, 6.0, 0.0, 1.0, 0.0, 1.0, 0.0, 0.0, 4.0, 1.0, 0.0, 0.0, 0.0, 0.0, 0.0, 0.0, 1.0, 0.0, 2.0, 1.0, 1.0, 0.0, 7.0, 4.0, 2.0, 0.0, 0.0, 1.0, 0.0, 0.0, 0.0, 0.0, 1.0, 1.0, 1.0, 9.0, 1.0, 0.0, 2.0, 14.0, 0.0, 0.0, 1.0, 1.0, 0.0, 0.0, 2.0, 0.0, 0.0, 0.0, 7.0, 1.0, 0.0, 0.0, 0.0, 1.0, 0.0, 0.0, 1.0, 2.0, 0.0, 0.0, 2.0, 3.0, 6.0, 0.0, 0.0, 1.0, 0.0, 0.0, 0.0, 0.0, 2.0, 0.0, 63.0, 0.0, 10.0, 3.0, 0.0, 0.0, 0.0, 0.0, 2.0, 2.0, 4.0, 2.0, 0.0, 0.0, 1.0, 1.0, 0.0, 1.0, 0.0, 0.0, 8.0, 9.0, 0.0, 2.0, 2.0, 2.0, 0.0, 0.0, 0.0, 0.0, 0.0, 3.0, 0.0, 7.0, 0.0, 0.0, 0.0, 0.0, 0.0, 0.0, 0.0, 0.0, 1.0, 0.0, 0.0, 1.0, 0.0, 1.0, 2.0, 1.0, 0.0, 0.0, 5.0, 0.0, 4.0, 15.0, 0.0, 0.0, 0.0, 0.0, 2.0, 0.0, 0.0, 1.0, 9.0, 0.0, 2.0, 0.0, 0.0, 0.0, 3.0, 3.0, 5.0, 3.0, 0.0, 0.0, 0.0, 3.0, 0.0, 0.0, 0.0, 4.0, 0.0, 2.0, 4.0, 2.0, 0.0, 0.0, 2.0, 4.0, 0.0, 0.0, 0.0, 2.0, 2.0, 0.0, 20.0, 0.0, 1.0, 0.0, 8.0, 0.0, 3.0, 0.0, 0.0, 0.0, 9.0, 0.0, 0.0, 0.0, 0.0, 1.0, 1.0, 0.0, 1.0, 0.0, 0.0, 0.0, 2.0, 0.0, 0.0, 0.0, 4.0, 2.0, 1.0, 2.0, 0.0, 7.0, 0.0, 11.0, 1.0, 1.0, 0.0, 0.0, 0.0, 0.0, 1.0, 1.0, 0.0, 0.0, 2.0, 0.0, 0.0, 0.0, 3.0, 0.0, 3.0, 3.0, 3.0, 2.0, 0.0, 1.0, 5622.0, 4.0, 3.0, 1.0, 2.0, 3.0, 4.0, 2.0, 0.0, 1.0, 0.0, 0.0, 1.0, 0.0, 2.0, 1.0, 1.0, 0.0, 1.0, 4.0, 0.0, 8.0, 0.0, 1.0, 0.0, 0.0, 0.0, 12.0, 2.0, 2.0, 0.0, 0.0, 0.0, 20426.0, 1.0, 0.0, 0.0, 0.0, 0.0, 0.0, 0.0, 0.0, 0.0, 4.0, 0.0, 4.0, 1.0, 3.0, 2.0, 0.0, 1.0, 1.0, 42477.0, 6.0, 1.0, 26.0, 0.0, 0.0, 0.0, 0.0, 1.0, 153.0, 0.0, 35.0, 4.0, 7.0, 0.0, 0.0, 1.0, 0.0, 0.0, 0.0, 3.0, 0.0, 0.0, 1.0, 6.0, 0.0, 0.0, 9.0, 0.0, 0.0, 3.0, 1.0, 0.0, 3.0, 0.0, 82.0, 0.0, 0.0, 10.0, 0.0, 0.0, 0.0, 5.0, 1.0, 7.0, 0.0, 1.0, 1.0, 7.0, 1.0, 0.0, 0.0, 0.0, 1.0, 10.0, 5.0, 3.0, 0.0, 0.0, 5.0, 1.0, 0.0, 4.0, 2.0, 0.0, 2.0, 2.0, 0.0, 0.0, 0.0, 1.0, 0.0, 0.0, 0.0, 2.0, 0.0, 0.0, 2.0, 5.0, 0.0, 14.0, 1.0, 0.0, 1.0, 0.0, 0.0, 0.0, 0.0, 2.0, 3.0, 0.0, 2.0, 0.0, 0.0, 0.0, 2.0, 2.0, 0.0, 0.0, 1.0, 0.0, 0.0, 0.0, 3.0, 0.0, 2.0, 14.0, 0.0, 0.0, 0.0, 1.0, 1.0, 5.0, 3.0, 3.0, 1.0, 2.0, 0.0, 0.0, 7.0, 0.0, 0.0, 1.0, 1.0, 0.0, 4.0, 0.0, 0.0, 1.0, 0.0, 1.0, 0.0, 7.0, 11.0, 0.0, 12.0, 0.0, 0.0, 2.0, 2.0, 0.0, 1.0, 4.0, 1.0, 0.0, 2.0, 0.0, 0.0, 3.0, 4.0, 0.0, 0.0, 0.0, 0.0, 1.0, 0.0, 0.0, 0.0, 3.0, 4.0, 1.0, 9.0, 79.0, 0.0, 4.0, 4.0, 0.0, 0.0, 0.0, 0.0, 0.0, 1.0, 0.0, 0.0, 1.0, 0.0, 3.0, 3.0, 3.0, 0.0, 1.0, 0.0, 0.0, 0.0, 0.0, 1.0, 0.0, 0.0, 0.0, 1.0, 10.0, 0.0, 1.0, 3.0, 3.0, 3.0, 0.0, 0.0, 6.0, 2.0, 0.0, 0.0, 0.0, 0.0, 0.0, 0.0, 14.0, 2.0, 2.0, 1.0, 0.0, 0.0, 163.0, 0.0, 0.0, 0.0, 0.0, 0.0, 1.0, 0.0, 2.0, 1.0, 0.0, 0.0, 0.0, 0.0, 0.0, 0.0, 0.0, 0.0, 0.0, 5.0, 1.0, 1.0, 0.0, 2.0, 0.0, 1.0, 2.0, 8.0, 0.0, 1.0, 0.0, 1.0, 0.0, 0.0, 7.0, 1.0, 1.0, 0.0, 0.0, 3.0, 1.0, 1.0, 0.0, 1.0, 0.0, 5.0, 0.0, 0.0, 0.0, 0.0, 0.0, 0.0, 1.0, 0.0, 0.0, 0.0, 0.0, 2.0, 0.0, 1.0, 0.0, 0.0, 1.0, 3.0, 3.0, 1.0, 0.0, 0.0, 4.0, 0.0, 0.0, 2.0, 1.0, 2.0, 0.0, 0.0, 0.0, 0.0, 3.0, 0.0, 0.0, 7.0, 0.0, 0.0, 0.0, 0.0, 1.0, 5.0, 1.0, 2.0, 0.0, 0.0, 0.0, 4.0, 2.0, 0.0, 27.0, 0.0, 0.0, 0.0, 0.0, 4.0, 1.0, 8.0, 2.0, 0.0, 1.0, 0.0, 0.0, 0.0, 5.0, 3.0, 4.0, 0.0, 0.0, 0.0, 0.0, 1.0, 0.0, 1.0, 0.0, 0.0, 0.0, 0.0, 0.0, 1.0, 0.0, 0.0, 2.0, 6.0, 2.0, 0.0, 0.0, 0.0, 0.0, 2.0, 0.0, 0.0, 0.0, 1.0, 1.0, 3.0, 1.0, 0.0, 0.0, 6.0, 0.0, 5.0, 2.0, 0.0, 2.0, 1.0, 0.0, 2.0, 0.0, 0.0, 2.0, 2.0, 5.0, 0.0, 0.0, 1.0, 0.0, 2.0, 2.0, 127.0, 0.0, 0.0, 2.0, 1.0, 0.0, 2.0, 0.0, 0.0, 0.0, 0.0, 3.0, 0.0, 1.0, 1.0, 0.0, 0.0, 0.0, 1.0, 0.0, 0.0, 8.0, 0.0, 5.0, 2.0, 2.0, 0.0, 1.0, 1.0, 2.0, 3.0, 0.0, 3.0, 0.0, 0.0, 1.0, 5.0, 0.0, 1.0, 1.0, 1.0, 1.0, 0.0, 1.0, 0.0, 10.0, 0.0, 2.0, 6.0, 5.0, 0.0, 0.0, 0.0, 9.0, 0.0, 2.0, 1.0, 0.0, 0.0, 4.0, 5.0, 0.0, 1.0, 7.0, 0.0, 0.0, 3.0, 0.0, 0.0, 0.0, 0.0, 3.0, 0.0, 0.0, 10.0, 0.0, 1.0, 0.0, 2.0, 27.0, 0.0, 0.0, 7.0, 5.0, 3.0, 7.0, 0.0, 1.0, 0.0, 1.0, 0.0, 0.0, 1.0, 3.0, 8.0, 1.0, 1.0, 0.0, 1.0, 0.0, 2.0, 0.0, 4.0, 0.0, 0.0, 0.0, 1.0, 0.0, 2.0, 1.0, 0.0, 0.0, 1.0, 0.0, 6.0, 0.0, 1.0, 4.0, 0.0, 0.0, 0.0, 0.0, 0.0, 0.0, 0.0, 0.0, 0.0, 0.0, 0.0, 0.0, 0.0, 0.0, 0.0, 1.0, 5.0, 0.0, 0.0, 7.0, 3.0, 0.0, 4.0, 0.0, 0.0, 2.0, 0.0, 0.0, 1.0, 4.0, 0.0, 1.0, 10.0, 1.0, 0.0, 8.0, 0.0, 3.0, 0.0, 4.0, 3.0, 0.0, 2.0, 1.0, 4.0, 1.0, 4.0, 1.0, 0.0, 0.0, 5.0, 0.0, 0.0, 3.0, 0.0, 1.0, 0.0, 0.0, 0.0, 0.0, 2.0, 0.0, 4.0, 25.0, 0.0, 43.0, 0.0, 0.0, 0.0, 4.0, 1.0, 1.0, 0.0, 2.0, 0.0, 0.0, 2.0, 0.0, 4.0, 0.0, 0.0, 0.0, 0.0, 0.0, 6.0, 3.0, 1.0, 0.0, 1.0, 0.0, 4.0, 2.0, 3.0, 0.0, 0.0, 1.0, 0.0, 0.0, 0.0, 8.0, 2.0, 0.0, 0.0, 0.0, 0.0, 0.0, 0.0, 0.0, 0.0, 11.0, 2.0, 0.0, 3.0, 0.0, 0.0, 49.0, 1.0, 0.0, 0.0, 0.0, 4.0, 3.0, 12.0, 0.0, 5.0, 0.0, 1.0, 0.0, 0.0, 2.0, 2.0, 0.0, 3.0, 0.0, 0.0, 0.0, 0.0, 0.0, 2.0, 0.0, 0.0, 2.0, 0.0, 0.0, 0.0, 1.0, 0.0, 2.0, 1.0, 2.0, 0.0, 0.0, 0.0, 0.0, 5891.0, 1.0, 1.0, 3.0, 0.0, 0.0, 5.0, 5.0, 1.0, 4.0, 0.0, 3.0, 0.0, 0.0, 2.0, 0.0, 1.0, 1.0, 1.0, 3.0, 2.0, 0.0, 0.0, 0.0, 0.0, 0.0, 2.0, 0.0, 0.0, 3.0, 2.0, 1.0, 1.0, 0.0, 1.0, 0.0, 2.0, 3.0, 24.0, 0.0, 0.0, 1.0, 1.0, 3.0, 1.0, 5.0, 0.0, 0.0, 0.0, 0.0, 0.0, 1.0, 0.0, 1.0, 13.0, 0.0, 3.0, 2.0, 0.0, 0.0, 1.0, 0.0, 1.0, 2.0, 0.0, 3.0, 11.0, 0.0, 1.0, 0.0, 1.0, 0.0, 0.0, 0.0, 0.0, 0.0, 2.0, 1.0, 0.0, 7.0, 0.0, 0.0, 4.0, 1.0, 0.0, 2.0, 0.0, 1.0, 0.0, 0.0, 7.0, 3.0, 1.0, 0.0, 0.0, 2.0, 0.0, 2.0, 5.0, 8.0, 0.0, 0.0, 0.0, 0.0, 1.0, 1.0, 9667.0, 3.0, 1.0, 0.0, 0.0, 2.0, 7375.0, 0.0, 4.0, 0.0, 0.0, 4.0, 1.0, 0.0, 1.0, 1.0, 2.0, 2.0, 0.0, 4.0, 0.0, 0.0, 0.0, 6.0, 2.0, 3.0, 0.0, 10.0, 0.0, 0.0, 0.0, 4.0, 4.0, 6.0, 0.0, 0.0, 2.0, 0.0, 0.0, 4.0, 2.0, 0.0, 3.0, 1.0, 0.0, 3.0, 0.0, 1.0, 0.0, 0.0, 0.0, 0.0, 0.0, 0.0, 0.0, 0.0, 1.0, 1.0, 2.0, 0.0, 0.0, 3.0, 1.0, 4.0, 1.0, 0.0, 2.0, 0.0, 1.0, 1.0, 4.0, 1.0, 1.0, 0.0, 10.0, 0.0, 0.0, 1.0, 1.0, 0.0, 0.0, 1.0, 5.0, 2.0, 4.0, 0.0, 0.0, 0.0, 0.0, 0.0, 1.0, 0.0, 8.0, 0.0, 0.0, 0.0, 0.0, 0.0, 5.0, 0.0, 0.0, 4.0, 3.0, 0.0, 0.0, 2.0, 0.0, 100.0, 0.0, 2.0, 6.0, 0.0, 1.0, 0.0, 2.0, 1.0, 3.0, 0.0, 3.0, 0.0, 5.0, 0.0, 2.0, 1.0, 1.0, 3.0, 0.0, 0.0, 0.0, 0.0, 0.0, 0.0, 0.0, 0.0, 0.0, 1.0, 0.0, 0.0, 4.0, 9.0, 0.0, 0.0, 0.0, 1.0, 2.0, 2.0, 0.0, 9.0, 0.0, 1.0, 3.0, 1.0, 0.0, 0.0, 8.0, 0.0, 0.0, 0.0, 0.0, 5.0, 0.0, 0.0, 2.0, 4.0, 0.0, 1.0, 0.0, 25.0, 0.0, 2.0, 0.0, 0.0, 0.0, 0.0, 1.0, 10.0, 2.0, 20.0, 0.0, 0.0, 0.0, 361.0, 4.0, 0.0, 0.0, 2.0, 2.0, 6.0, 2.0, 6.0, 0.0, 0.0, 0.0, 0.0, 3.0, 10.0, 0.0, 0.0, 2.0, 4.0, 8.0, 2.0, 1.0, 0.0, 2.0, 9.0, 0.0, 0.0, 3.0, 0.0, 0.0, 1.0, 0.0, 0.0, 0.0, 0.0, 0.0, 0.0, 0.0, 6.0, 65.0, 0.0, 0.0, 2.0, 20441.0, 1.0, 0.0, 0.0, 2.0, 0.0, 0.0, 3.0, 2.0, 2.0, 3.0, 0.0, 0.0, 0.0, 1.0, 2.0, 0.0, 2.0, 0.0, 0.0, 8.0, 2.0, 1.0, 0.0, 0.0, 0.0, 2.0, 0.0, 1.0, 1.0, 0.0, 2.0, 0.0, 0.0, 2.0, 2.0, 6.0, 0.0, 1.0, 2.0, 2.0, 2.0, 0.0, 0.0, 0.0, 0.0, 1.0, 2.0, 0.0, 0.0, 1.0, 2.0, 0.0, 4.0, 0.0, 0.0, 0.0, 0.0, 1693.0, 2.0, 2.0, 0.0, 1.0, 7.0, 0.0, 10.0, 2.0, 4.0, 0.0, 0.0, 0.0, 1.0, 0.0, 0.0, 0.0, 0.0, 0.0, 1.0, 0.0, 0.0, 1.0, 0.0, 0.0, 0.0, 0.0, 14.0, 2.0, 0.0, 1.0, 0.0, 0.0, 1.0, 0.0, 0.0, 0.0, 4.0, 2.0, 1.0, 0.0, 0.0, 2.0, 3.0, 17261.0, 0.0, 0.0, 0.0, 3.0, 1.0, 2.0, 6.0, 0.0, 0.0, 4.0, 5.0, 7.0, 0.0, 0.0, 3.0, 0.0, 0.0, 1.0, 0.0, 0.0, 0.0, 2.0, 5.0, 3.0, 0.0, 1.0, 0.0, 4.0, 0.0, 5.0, 1.0, 0.0, 0.0, 0.0, 0.0, 1.0, 3.0, 0.0, 0.0, 0.0, 3.0, 0.0, 0.0, 0.0, 0.0, 2.0, 3.0, 0.0, 1.0, 1.0, 1.0, 0.0, 0.0, 1.0, 5.0, 4.0, 9.0, 1.0, 3.0, 0.0, 0.0, 5.0, 0.0, 5.0, 0.0, 2.0, 2.0, 8.0, 0.0, 0.0, 0.0, 0.0, 0.0, 0.0, 4.0, 0.0, 0.0, 0.0, 0.0, 0.0, 5.0, 0.0, 2.0, 2.0, 3.0, 0.0, 0.0, 0.0, 2.0, 0.0, 0.0, 0.0, 0.0, 0.0, 0.0, 0.0, 3.0, 0.0, 0.0, 1.0, 28.0, 0.0, 2.0, 0.0, 0.0, 0.0, 0.0, 0.0, 1.0, 0.0, 1.0, 5.0, 0.0, 2.0, 3.0, 1.0, 3.0, 0.0, 0.0, 0.0, 0.0, 7.0, 0.0, 0.0, 0.0, 1.0, 1.0, 4.0, 0.0, 4.0, 1.0, 1.0, 0.0, 0.0, 52.0, 0.0, 3.0, 3.0, 0.0, 6.0, 0.0, 5.0, 13.0, 0.0, 3.0, 2.0, 0.0, 1.0, 0.0, 0.0, 0.0, 0.0, 0.0, 4.0, 0.0, 1.0, 1.0, 1.0, 1.0, 1.0, 0.0, 0.0, 1.0, 3.0, 0.0, 0.0, 9.0, 0.0, 0.0, 6.0, 0.0, 1.0, 1.0, 3.0, 0.0, 0.0, 1.0, 0.0, 1.0, 2.0, 1.0, 0.0, 0.0, 0.0, 1.0, 3.0, 3.0, 0.0, 0.0, 0.0, 3.0, 0.0, 8.0, 0.0, 1.0, 0.0, 0.0, 3.0, 7.0, 0.0, 1.0, 0.0, 0.0, 351.0, 0.0, 0.0, 1.0, 0.0, 0.0, 0.0, 5.0, 1.0, 0.0, 1.0, 2.0, 0.0, 1.0, 0.0, 0.0, 0.0, 0.0, 0.0, 0.0, 0.0, 0.0, 2.0, 0.0, 1.0, 0.0, 2.0, 0.0, 1.0, 1.0, 0.0, 1.0, 28.0, 0.0, 3.0, 6.0, 1.0, 1.0, 0.0, 6.0, 0.0, 2.0, 1.0, 2.0, 6.0, 1.0, 2.0, 1.0, 0.0, 3.0, 0.0, 0.0, 4.0, 4.0, 2.0, 0.0, 2.0, 1.0, 1.0, 0.0, 0.0, 0.0, 5.0, 0.0, 1.0, 4.0, 3.0, 28.0, 0.0, 0.0, 0.0, 20547.0, 1.0, 1.0, 7.0, 1.0, 4.0, 0.0, 0.0, 0.0, 10.0, 2.0, 0.0, 1.0, 10.0, 0.0, 0.0, 0.0, 3.0, 5.0, 0.0, 0.0, 6.0, 0.0, 0.0, 0.0, 0.0, 8.0, 0.0, 0.0, 0.0, 0.0, 1.0, 0.0, 0.0, 1.0, 1.0, 0.0, 0.0, 0.0, 6.0, 4.0, 0.0, 0.0, 2.0, 2.0, 0.0, 1.0, 1.0, 2.0, 6.0, 1.0, 0.0, 0.0, 41.0, 1.0, 1.0, 1.0, 3.0, 0.0, 0.0, 0.0, 0.0, 3.0, 0.0, 1.0, 3.0, 0.0, 1.0, 157.0, 1.0, 2.0, 4.0, 20.0, 0.0, 1.0, 0.0, 6.0, 0.0, 0.0, 0.0, 3.0, 6.0, 0.0, 5.0, 2.0, 0.0, 0.0, 4.0, 0.0, 1.0, 0.0, 0.0, 0.0, 1.0, 4.0, 3.0, 0.0, 3.0, 5.0, 2.0, 0.0, 0.0, 0.0, 0.0, 2.0, 0.0, 0.0, 0.0, 0.0, 0.0, 1.0, 0.0, 0.0, 0.0, 0.0, 0.0, 0.0, 0.0, 1.0, 1.0, 3.0, 1.0, 3.0, 3.0, 0.0, 3.0, 0.0, 0.0, 0.0, 2.0, 3.0, 0.0, 2.0, 13.0, 0.0, 0.0, 0.0, 2.0, 5.0, 0.0, 5.0, 1.0, 0.0, 0.0, 0.0, 0.0, 1.0, 24.0, 3.0, 2.0, 0.0, 0.0, 0.0, 0.0, 1.0, 3.0, 0.0, 1.0, 0.0, 0.0, 5.0, 1.0, 0.0, 49269.0, 1.0, 0.0, 0.0, 0.0, 0.0, 0.0, 0.0, 6.0, 1.0, 1.0, 2.0, 0.0, 0.0, 0.0, 0.0, 0.0, 1.0, 1.0, 0.0, 0.0, 6.0, 0.0, 3.0, 0.0, 0.0, 0.0, 0.0, 0.0, 0.0, 7.0, 1.0, 1.0, 1.0, 0.0, 1.0, 0.0, 1.0, 6949.0, 2.0, 2.0, 2.0, 4.0, 2.0, 1.0, 3.0, 0.0, 0.0, 9.0, 0.0, 0.0, 0.0, 3.0, 15.0, 3.0, 0.0, 1.0, 0.0, 0.0, 71.0, 0.0, 2.0, 0.0, 3.0, 0.0, 0.0, 0.0, 0.0, 1.0, 7.0, 3.0, 0.0, 1.0, 0.0, 0.0, 0.0, 1.0, 0.0, 0.0, 0.0, 0.0, 0.0, 0.0, 3.0, 3.0, 1.0, 7.0, 0.0, 3.0, 0.0, 10.0, 1.0, 2.0, 1.0, 2.0, 0.0, 0.0, 0.0, 6.0, 0.0, 1.0, 3.0, 0.0, 0.0, 2.0, 1.0, 1.0, 0.0, 0.0, 0.0, 0.0, 1.0, 2.0, 5.0, 1.0, 1.0, 1.0, 1.0, 0.0, 0.0, 2.0, 0.0, 0.0, 1.0, 1.0, 2.0, 6.0, 0.0, 0.0, 0.0, 0.0, 9.0, 0.0, 0.0, 0.0, 34252.0, 0.0, 1.0, 2.0, 1.0, 0.0, 0.0, 0.0, 0.0, 0.0, 2.0, 0.0, 5.0, 0.0, 1.0, 12.0, 2.0, 0.0, 14.0, 1.0, 6.0, 9.0, 0.0, 0.0, 5.0, 2.0, 0.0, 1.0, 0.0, 5.0, 0.0, 3.0, 1.0, 0.0, 2.0, 2847.0, 0.0, 0.0, 2.0, 1.0, 0.0, 0.0, 10.0, 3.0, 17.0, 2.0, 1.0, 4.0, 0.0, 5.0, 1.0, 1.0, 0.0, 0.0, 0.0, 2.0, 0.0, 0.0, 2.0, 0.0, 1.0, 7.0, 2.0, 0.0, 0.0, 2.0, 2.0, 0.0, 0.0, 4.0, 0.0, 1.0, 0.0, 2.0, 1.0, 0.0, 0.0, 0.0, 0.0, 0.0, 1.0, 0.0, 0.0, 2.0, 1.0, 1.0, 0.0, 15.0, 0.0, 0.0, 1.0, 0.0, 2.0, 1.0, 1.0, 0.0, 0.0, 0.0, 1.0, 0.0, 0.0, 0.0, 0.0, 0.0, 0.0, 3.0, 1.0, 3.0, 0.0, 0.0, 1.0, 0.0, 0.0, 0.0, 4.0, 10.0, 2.0, 1.0, 0.0, 0.0, 0.0, 0.0, 0.0, 1.0, 4.0, 4.0, 0.0, 4.0, 6.0, 0.0, 3.0, 0.0, 0.0, 0.0, 5.0, 0.0, 4.0, 4.0, 0.0, 2.0, 0.0, 10.0, 4.0, 1.0, 0.0, 0.0, 0.0, 0.0, 20.0, 7.0, 5.0, 2.0, 3.0, 7.0, 2.0, 3.0, 0.0, 0.0, 0.0, 0.0, 0.0, 4.0, 0.0, 3.0, 10.0, 2.0, 0.0, 2.0, 0.0, 0.0, 3.0, 0.0, 0.0, 2.0, 7.0, 5.0, 0.0, 5.0, 0.0, 1.0, 4.0, 3.0, 0.0, 0.0, 0.0, 0.0, 6.0, 0.0, 1.0, 0.0, 1.0, 2.0, 0.0, 0.0, 0.0, 5.0, 2.0, 5.0, 4.0, 0.0, 6.0, 0.0, 0.0, 0.0, 4.0, 0.0, 0.0, 3.0, 0.0, 3.0, 0.0, 2.0, 3.0, 0.0, 6.0, 0.0, 0.0, 3.0, 0.0, 5.0, 1.0, 3.0, 1.0, 1.0, 3.0, 0.0, 1.0, 0.0, 1.0, 3.0, 0.0, 0.0, 1.0, 2.0, 2.0, 3.0, 5.0, 2.0, 1.0, 0.0, 0.0, 1.0, 0.0, 0.0, 1.0, 0.0, 3.0, 1.0, 3.0, 0.0, 44.0, 4.0, 4.0, 0.0, 0.0, 0.0, 1.0, 2.0, 1.0, 5.0, 0.0, 4.0, 1.0, 2.0, 0.0, 0.0, 0.0, 0.0, 0.0, 0.0, 0.0, 0.0, 0.0, 3.0, 0.0, 0.0, 0.0, 8.0], \"yaxis\": \"y\"}, {\"hoverlabel\": {\"namelength\": 0}, \"hovertemplate\": \"gender=male<br>duration=%{y}\", \"legendgroup\": \"gender=male\", \"marker\": {\"color\": \"#EF553B\", \"symbol\": \"circle\"}, \"mode\": \"markers\", \"name\": \"gender=male\", \"showlegend\": true, \"type\": \"scattergl\", \"xaxis\": \"x\", \"y\": [6.0, 2.0, 4.0, 0.0, 0.0, 0.0, 1.0, 0.0, 0.0, 7.0, 2.0, 0.0, 0.0, 2.0, 1.0, 0.0, 0.0, 0.0, 0.0, 23780.0, 0.0, 9.0, 0.0, 3.0, 0.0, 0.0, 0.0, 1.0, 0.0, 7.0, 0.0, 1.0, 0.0, 0.0, 0.0, 7.0, 14.0, 1.0, 2.0, 0.0, 0.0, 20.0, 0.0, 4.0, 1.0, 0.0, 0.0, 1.0, 2.0, 0.0, 0.0, 0.0, 4.0, 0.0, 3.0, 0.0, 1.0, 0.0, 0.0, 5.0, 0.0, 0.0, 0.0, 0.0, 0.0, 0.0, 1.0, 0.0, 2.0, 0.0, 0.0, 0.0, 0.0, 1.0, 0.0, 1.0, 0.0, 0.0, 0.0, 1.0, 0.0, 0.0, 0.0, 0.0, 2.0, 4.0, 0.0, 0.0, 2.0, 0.0, 0.0, 1.0, 0.0, 0.0, 1.0, 0.0, 0.0, 1.0, 2.0, 0.0, 2.0, 3.0, 0.0, 0.0, 0.0, 0.0, 5.0, 0.0, 0.0, 0.0, 0.0, 3.0, 2.0, 0.0, 0.0, 0.0, 12.0, 0.0, 1.0, 2.0, 0.0, 0.0, 5.0, 3.0, 14.0, 0.0, 0.0, 5.0, 2.0, 4.0, 0.0, 0.0, 0.0, 0.0, 1.0, 1.0, 8.0, 2.0, 14.0, 1.0, 0.0, 6.0, 0.0, 5.0, 0.0, 3.0, 0.0, 1.0, 0.0, 1.0, 0.0, 0.0, 13.0, 0.0, 0.0, 7.0, 13.0, 0.0, 0.0, 0.0, 0.0, 1.0, 0.0, 7.0, 0.0, 2.0, 0.0, 0.0, 3.0, 5.0, 0.0, 7.0, 0.0, 1.0, 0.0, 0.0, 2.0, 0.0, 1.0, 0.0, 2.0, 0.0, 0.0, 2.0, 1.0, 0.0, 0.0, 1.0, 0.0, 8.0, 0.0, 0.0, 1.0, 0.0, 1.0, 0.0, 0.0, 0.0, 1.0, 1.0, 0.0, 0.0, 0.0, 0.0, 6.0, 0.0, 0.0, 1.0, 0.0, 0.0, 0.0, 5.0, 0.0, 1.0, 3.0, 0.0, 0.0, 4.0, 0.0, 0.0, 0.0, 0.0, 0.0, 1.0, 0.0, 0.0, 3.0, 4.0, 0.0, 0.0, 0.0, 0.0, 0.0, 0.0, 0.0, 0.0, 11.0, 0.0, 0.0, 0.0, 2.0, 1.0, 3.0, 1.0, 2.0, 3.0, 9.0, 0.0, 0.0, 1.0, 0.0, 6.0, 0.0, 0.0, 1.0, 1.0, 0.0, 3.0, 0.0, 3.0, 0.0, 0.0, 0.0, 0.0, 2.0, 0.0, 0.0, 0.0, 0.0, 0.0, 0.0, 0.0, 0.0, 1.0, 15.0, 0.0, 0.0, 0.0, 0.0, 0.0, 2.0, 0.0, 8.0, 0.0, 2.0, 0.0, 1.0, 0.0, 5.0, 2.0, 0.0, 1.0, 0.0, 0.0, 0.0, 2.0, 0.0, 0.0, 1.0, 0.0, 1.0, 0.0, 9.0, 0.0, 0.0, 0.0, 40.0, 0.0, 0.0, 0.0, 0.0, 0.0, 7.0, 21.0, 2.0, 1.0, 0.0, 0.0, 0.0, 0.0, 2.0, 3.0, 0.0, 9.0, 0.0, 11.0, 2.0, 0.0, 6.0, 2.0, 0.0, 1.0, 17147.0, 0.0, 0.0, 2.0, 0.0, 2.0, 0.0, 1.0, 2.0, 0.0, 0.0, 0.0, 2.0, 1.0, 0.0, 0.0, 0.0, 1.0, 0.0, 0.0, 0.0, 6.0, 2.0, 2.0, 0.0, 0.0, 2.0, 0.0, 0.0, 5.0, 0.0, 5.0, 0.0, 0.0, 0.0, 0.0, 0.0, 0.0, 0.0, 0.0, 0.0, 0.0, 18.0, 0.0, 0.0, 11.0, 1.0, 4.0, 1.0, 6.0, 0.0, 0.0, 0.0, 1.0, 5.0, 1.0, 579.0, 0.0, 0.0, 1.0, 2.0, 2.0, 0.0, 10.0, 0.0, 0.0, 2.0, 0.0, 0.0, 1.0, 2.0, 1.0, 0.0, 0.0, 3.0, 0.0, 0.0, 0.0, 3.0, 0.0, 1.0, 1.0, 3.0, 1.0, 0.0, 1.0, 1.0, 0.0, 1.0, 1.0, 1.0, 2.0, 1.0, 0.0, 1.0, 0.0, 1.0, 10.0, 0.0, 10.0, 1.0, 0.0, 3.0, 1.0, 1.0, 2.0, 0.0, 0.0, 0.0, 0.0, 0.0, 0.0, 2.0, 3.0, 2.0, 0.0, 3.0, 3.0, 0.0, 1.0, 0.0, 1.0, 0.0, 3.0, 0.0, 2.0, 0.0, 0.0, 4.0, 2.0, 0.0, 1106.0, 2.0, 1.0, 0.0, 1.0, 0.0, 3.0, 0.0, 2.0, 0.0, 2.0, 0.0, 0.0, 2.0, 0.0, 0.0, 1.0, 0.0, 1.0, 1.0, 0.0, 3.0, 3.0, 0.0, 2.0, 9.0, 1.0, 3.0, 0.0, 0.0, 0.0, 1.0, 5.0, 0.0, 6.0, 4.0, 0.0, 5.0, 1.0, 0.0, 0.0, 8.0, 0.0, 0.0, 0.0, 0.0, 0.0, 1.0, 0.0, 0.0, 0.0, 4.0, 0.0, 1.0, 0.0, 0.0, 2.0, 1.0, 2.0, 4.0, 11169.0, 3.0, 0.0, 0.0, 6419.0, 1.0, 0.0, 0.0, 1.0, 4.0, 0.0, 2.0, 5.0, 1.0, 1.0, 1.0, 4.0, 0.0, 0.0, 6.0, 0.0, 0.0, 4.0, 13001.0, 4.0, 1.0, 0.0, 0.0, 1.0, 2.0, 2.0, 0.0, 0.0, 0.0, 0.0, 0.0, 0.0, 0.0, 3.0, 3.0, 1.0, 0.0, 0.0, 0.0, 0.0, 1.0, 4.0, 0.0, 0.0, 1.0, 5.0, 0.0, 4.0, 0.0, 1.0, 10.0, 0.0, 0.0, 2.0, 1.0, 0.0, 2.0, 0.0, 0.0, 6.0, 5.0, 5.0, 0.0, 0.0, 0.0, 0.0, 1.0, 0.0, 0.0, 0.0, 0.0, 3.0, 0.0, 0.0, 0.0, 3.0, 1.0, 1.0, 0.0, 0.0, 3.0, 0.0, 18.0, 1.0, 6.0, 0.0, 0.0, 1.0, 0.0, 1.0, 2.0, 9.0, 0.0, 0.0, 0.0, 0.0, 1.0, 0.0, 0.0, 0.0, 1.0, 0.0, 0.0, 0.0, 1.0, 0.0, 2.0, 2723.0, 0.0, 1.0, 1.0, 1.0, 2.0, 0.0, 0.0, 1.0, 0.0, 1.0, 0.0, 2.0, 2.0, 1.0, 0.0, 0.0, 1.0, 2.0, 0.0, 2.0, 2.0, 2.0, 5.0, 0.0, 5.0, 0.0, 0.0, 36982.0, 5.0, 0.0, 12.0, 0.0, 0.0, 0.0, 2.0, 5.0, 0.0, 0.0, 0.0, 1.0, 68.0, 0.0, 0.0, 0.0, 0.0, 0.0, 2.0, 5.0, 0.0, 0.0, 0.0, 2.0, 1.0, 0.0, 0.0, 0.0, 0.0, 2.0, 0.0, 0.0, 0.0, 0.0, 3.0, 3.0, 0.0, 0.0, 1.0, 0.0, 6.0, 3.0, 27244.0, 1.0, 0.0, 2.0, 6.0, 2.0, 4.0, 0.0, 0.0, 3.0, 3.0, 0.0, 2.0, 0.0, 0.0, 0.0, 3.0, 0.0, 1.0, 1.0, 5.0, 2.0, 0.0, 0.0, 1.0, 1.0, 0.0, 0.0, 3.0, 6.0, 1.0, 0.0, 0.0, 0.0, 1.0, 0.0, 0.0, 0.0, 1.0, 0.0, 0.0, 1.0, 0.0, 0.0, 1.0, 0.0, 4.0, 0.0, 0.0, 6.0, 0.0, 3.0, 2.0, 0.0, 45.0, 7.0, 0.0, 0.0, 0.0, 0.0, 1.0, 0.0, 1.0, 0.0, 2.0, 0.0, 0.0, 0.0, 0.0, 94.0, 4.0, 5.0, 1.0, 0.0, 2.0, 0.0, 0.0, 0.0, 0.0, 3.0, 4.0, 0.0, 0.0, 0.0, 1.0, 5.0, 0.0, 0.0, 2.0, 0.0, 0.0, 0.0, 0.0, 1.0, 1.0, 0.0, 5.0, 3.0, 0.0, 5.0, 1.0, 0.0, 0.0, 2.0, 3.0, 0.0, 2.0, 6.0, 1.0, 0.0, 0.0, 12836.0, 0.0, 1.0, 1.0, 12.0, 0.0, 1.0, 0.0, 1.0, 6.0, 0.0, 3.0, 0.0, 2.0, 0.0, 1.0, 0.0, 3.0, 2.0, 3.0, 0.0, 0.0, 0.0, 4.0, 3.0, 1.0, 0.0, 1.0, 0.0, 0.0, 0.0, 0.0, 1.0, 0.0, 0.0, 0.0, 0.0, 0.0, 0.0, 0.0, 0.0, 0.0, 0.0, 1.0, 1.0, 3.0, 1.0, 0.0, 0.0, 0.0, 3.0, 0.0, 3.0, 1.0, 0.0, 9.0, 9340.0, 6.0, 2.0, 0.0, 0.0, 0.0, 0.0, 0.0, 19.0, 0.0, 4.0, 0.0, 0.0, 0.0, 0.0, 4.0, 0.0, 0.0, 0.0, 3.0, 0.0, 0.0, 0.0, 2.0, 1.0, 0.0, 0.0, 0.0, 3.0, 0.0, 1.0, 0.0, 30431.0, 0.0, 0.0, 1.0, 1.0, 0.0, 0.0, 3.0, 0.0, 5.0, 0.0, 0.0, 0.0, 2.0, 0.0, 7.0, 2.0, 0.0, 0.0, 3.0, 1.0, 0.0, 0.0, 0.0, 2.0, 6.0, 6.0, 1.0, 0.0, 1.0, 1.0, 0.0, 0.0, 0.0, 1.0, 0.0, 0.0, 0.0, 0.0, 1.0, 0.0, 0.0, 0.0, 5.0, 0.0, 1.0, 1.0, 10.0, 2.0, 3.0, 0.0, 1.0, 4.0, 0.0, 1.0, 0.0, 1.0, 0.0, 1.0, 0.0, 0.0, 0.0, 1.0, 0.0, 0.0, 0.0, 0.0, 1.0, 0.0, 0.0, 5.0, 0.0, 0.0, 0.0, 0.0, 0.0, 0.0, 0.0, 2.0, 0.0, 0.0, 0.0, 0.0, 1.0, 0.0, 1.0, 0.0, 8.0, 3.0, 3.0, 0.0, 1.0, 3.0, 0.0, 0.0, 0.0, 1.0, 0.0, 15.0, 5.0, 4.0, 0.0, 0.0, 12717.0, 1.0, 9.0, 0.0, 0.0, 0.0, 0.0, 2.0, 0.0, 3.0, 0.0, 1.0, 2.0, 2.0, 1.0, 0.0, 0.0, 3.0, 0.0, 0.0, 2.0, 0.0, 5.0, 0.0, 3.0, 3.0, 2.0, 1.0, 3.0, 0.0, 0.0, 0.0, 1251.0, 2701.0, 0.0, 0.0, 3.0, 1.0, 0.0, 0.0, 1.0, 0.0, 1.0, 3.0, 0.0, 0.0, 1.0, 2.0, 1.0, 1.0, 1.0, 0.0, 2.0, 0.0, 1.0, 1.0, 7.0, 0.0, 1.0, 0.0, 0.0, 0.0, 10.0, 26.0, 0.0, 1.0, 0.0, 4.0, 0.0, 0.0, 3.0, 2.0, 1.0, 10.0, 94.0, 0.0, 7.0, 0.0, 0.0, 15.0, 0.0, 0.0, 1.0, 5.0, 1.0, 0.0, 0.0, 0.0, 0.0, 0.0, 5.0, 2.0, 0.0, 0.0, 2.0, 1051.0, 0.0, 1.0, 0.0, 5.0, 0.0, 1.0, 3.0, 3.0, 6.0, 1.0, 5.0, 1.0, 3.0, 3.0, 3.0, 3.0, 0.0, 0.0, 0.0, 0.0, 3.0, 0.0, 0.0, 0.0, 1.0, 3.0, 0.0, 2.0, 0.0, 0.0, 0.0, 0.0, 5.0, 2.0, 3.0, 0.0, 2.0, 7129.0, 1.0, 0.0, 0.0, 0.0, 3.0, 0.0, 0.0, 0.0, 13.0, 14.0, 0.0, 0.0, 0.0, 0.0, 0.0, 0.0, 0.0, 0.0, 1.0, 0.0, 0.0, 2.0, 0.0, 0.0, 4.0, 2.0, 0.0, 1.0, 8.0, 0.0, 0.0, 0.0, 4.0, 0.0, 9.0, 4.0, 0.0, 0.0, 3.0, 1.0, 0.0, 0.0, 0.0, 0.0, 2.0, 0.0, 0.0, 0.0, 0.0, 0.0, 7.0, 11.0, 0.0, 0.0, 5.0, 0.0, 0.0, 0.0, 1.0, 0.0, 0.0, 1.0, 1.0, 0.0, 4.0, 0.0, 0.0, 0.0, 0.0, 1.0, 1.0, 0.0, 8262.0, 1.0, 0.0, 15.0, 5.0, 0.0, 0.0, 2.0, 0.0, 1.0, 1.0, 0.0, 1.0, 0.0, 160.0, 9.0, 0.0, 0.0, 1.0, 2.0, 0.0, 0.0, 5.0, 0.0, 0.0, 75.0, 0.0, 2.0, 0.0, 0.0, 0.0, 0.0, 0.0, 0.0, 1.0, 0.0, 8.0, 5.0, 0.0, 1.0, 7.0, 0.0, 0.0, 0.0, 0.0, 0.0, 3.0, 31.0, 10.0, 3.0, 1.0, 6.0, 0.0, 0.0, 0.0, 0.0, 0.0, 0.0, 0.0, 1.0, 0.0, 1.0, 24.0, 0.0, 0.0, 1.0, 23.0, 0.0, 0.0, 0.0, 0.0, 2.0, 1.0, 0.0, 1.0, 8.0, 5.0, 5.0, 0.0, 0.0, 0.0, 0.0, 0.0, 0.0, 0.0, 8.0, 2.0, 0.0, 1.0, 1.0, 2.0, 2.0, 2.0, 0.0, 1.0, 0.0, 1.0, 4.0, 11.0, 1.0, 0.0, 0.0, 0.0, 0.0, 0.0, 0.0, 0.0, 0.0, 0.0, 0.0, 0.0, 0.0, 0.0, 0.0, 4.0, 1.0, 1.0, 0.0, 1.0, 3.0, 0.0, 3.0, 0.0, 2.0, 17.0, 68.0, 0.0, 1.0, 0.0, 1.0, 1.0, 0.0, 0.0, 0.0, 0.0, 3.0, 0.0, 3.0, 0.0, 0.0, 0.0, 0.0, 0.0, 1.0, 10.0, 1.0, 1.0, 0.0, 0.0, 1.0, 5.0, 1.0, 0.0, 0.0, 2.0, 3.0, 1.0, 0.0, 1.0, 5.0, 0.0, 0.0, 2.0, 0.0, 3.0, 0.0, 0.0, 0.0, 6.0, 0.0, 5.0, 0.0, 0.0, 10037.0, 0.0, 3.0, 0.0, 0.0, 0.0, 12.0, 0.0, 3.0, 0.0, 0.0, 1.0, 0.0, 0.0, 0.0, 0.0, 0.0, 4.0, 0.0, 1.0, 0.0, 0.0, 0.0, 0.0, 0.0, 0.0, 0.0, 0.0, 0.0, 0.0, 1.0, 0.0, 0.0, 0.0, 0.0, 0.0, 0.0, 0.0, 3.0, 1.0, 3.0, 0.0, 1.0, 6.0, 2.0, 0.0, 4.0, 0.0, 2.0, 0.0, 0.0, 1.0, 1.0, 0.0, 0.0, 0.0, 0.0, 0.0, 5.0, 0.0, 0.0, 0.0, 0.0, 0.0, 0.0, 5.0, 0.0, 0.0, 1.0, 1.0, 0.0, 0.0, 0.0, 0.0, 1.0, 0.0, 0.0, 0.0, 0.0, 3.0, 0.0, 0.0, 8.0, 3.0, 1.0, 0.0, 0.0, 0.0, 0.0, 0.0, 7.0, 0.0, 0.0, 4.0, 3.0, 0.0, 0.0, 4.0, 1.0, 5.0, 0.0, 1.0, 0.0, 0.0, 0.0, 0.0, 7.0, 6.0, 3.0, 0.0, 0.0, 0.0, 0.0, 0.0, 0.0, 0.0, 0.0, 10.0, 0.0, 0.0, 2.0, 0.0, 0.0, 1.0, 2.0, 0.0, 0.0, 5.0, 0.0, 0.0, 1.0, 0.0, 5.0, 0.0, 0.0, 0.0, 0.0, 0.0, 10227.0, 0.0, 3.0, 0.0, 0.0, 1.0, 0.0, 3.0, 1.0, 4.0, 50.0, 0.0, 1.0, 0.0, 1.0, 0.0, 1.0, 1.0, 0.0, 0.0, 0.0, 0.0, 2.0, 3.0, 0.0, 0.0, 4.0, 10.0, 4.0, 0.0, 0.0, 0.0, 1.0, 0.0, 0.0, 0.0, 0.0, 1.0, 0.0, 1.0, 0.0, 1.0, 0.0, 0.0, 3.0, 0.0, 7.0, 7.0, 0.0, 0.0, 0.0, 0.0, 4.0, 11.0, 12.0, 0.0, 7.0, 2.0, 1.0, 0.0, 3.0, 0.0, 0.0, 0.0, 0.0, 0.0, 0.0, 6.0, 0.0, 0.0, 0.0, 5.0, 0.0, 3.0, 0.0, 2.0, 1.0, 14515.0, 0.0, 1.0, 1.0, 0.0, 1.0, 7.0, 0.0, 1.0, 0.0, 3.0, 0.0, 0.0, 1.0, 0.0, 0.0, 0.0, 0.0, 0.0, 0.0, 0.0, 0.0, 0.0, 3.0, 0.0, 0.0, 0.0, 0.0, 0.0, 0.0, 0.0, 0.0, 0.0, 0.0, 0.0, 0.0, 0.0, 2.0, 0.0, 0.0, 0.0, 1.0, 0.0, 0.0, 1.0, 1.0, 0.0, 0.0, 0.0, 1.0, 0.0, 1.0, 0.0, 0.0, 34.0, 0.0, 1.0, 1.0, 0.0, 2.0, 0.0, 1.0, 0.0, 0.0, 0.0, 0.0, 0.0, 4.0, 3.0, 6.0, 1.0, 0.0, 0.0, 0.0, 4.0, 0.0, 0.0, 2.0, 0.0, 2.0, 0.0, 8.0, 8.0, 4.0, 0.0, 4.0, 1.0, 1.0, 0.0, 0.0, 0.0, 0.0, 0.0, 2.0, 4.0, 0.0, 3.0, 0.0, 0.0, 0.0, 1.0, 2.0, 0.0, 0.0, 0.0, 0.0, 0.0, 0.0, 1.0, 1.0, 3.0, 0.0, 0.0, 0.0, 1.0, 0.0, 0.0, 8.0, 0.0, 0.0, 0.0, 1.0, 2.0, 26.0, 3.0, 0.0, 0.0, 1.0, 0.0, 0.0, 6.0, 1.0, 9.0, 1.0, 1.0, 0.0, 0.0, 3.0, 0.0, 4.0, 0.0, 5.0, 0.0, 1.0, 0.0, 15.0, 0.0, 0.0, 1.0, 0.0, 1.0, 1.0, 1.0, 1.0, 1.0, 0.0, 10.0, 0.0, 0.0, 1.0, 2.0, 3.0, 0.0, 0.0, 4.0, 0.0, 0.0, 3.0, 0.0, 0.0, 0.0, 2.0, 1.0, 0.0, 1.0, 1.0, 1.0, 0.0, 0.0, 1.0, 0.0, 2.0, 3.0, 7.0, 0.0, 0.0, 0.0, 9.0, 0.0, 13.0, 757.0, 1.0, 0.0, 6.0, 0.0, 6.0, 1.0, 0.0, 2.0, 0.0, 5.0, 2.0, 0.0, 1.0, 1.0, 0.0, 0.0, 0.0, 0.0, 0.0, 0.0, 0.0, 0.0, 0.0, 0.0, 3.0, 0.0, 0.0, 0.0, 0.0, 1.0, 23.0, 0.0, 0.0, 1.0, 0.0, 0.0, 0.0, 1.0, 3.0, 5.0, 5.0, 0.0, 0.0, 0.0, 5.0, 0.0, 1.0, 31153.0, 0.0, 0.0, 0.0, 0.0, 9.0, 1.0, 5886.0, 4.0, 1.0, 0.0, 1.0, 8.0, 0.0, 0.0, 0.0, 4.0, 1.0, 0.0, 0.0, 0.0, 1.0, 10.0, 0.0, 1.0, 0.0, 3.0, 0.0, 1.0, 1.0, 0.0, 1.0, 0.0, 0.0, 0.0, 13.0, 0.0, 6.0, 1.0, 7.0, 2.0, 0.0, 0.0, 0.0, 4.0, 0.0, 4.0, 0.0, 1.0, 20.0, 0.0, 1.0, 0.0, 12.0, 0.0, 0.0, 0.0, 0.0, 0.0, 0.0, 0.0, 0.0, 6.0, 0.0, 0.0, 1.0, 12.0, 0.0, 0.0, 3.0, 8.0, 4.0, 0.0, 2.0, 0.0, 3.0, 0.0, 1.0, 6.0, 3.0, 0.0, 3.0, 1.0, 0.0, 4659.0, 3.0, 0.0, 0.0, 0.0, 2.0, 15.0, 0.0, 2.0, 3.0, 3.0, 1.0, 0.0, 13.0, 0.0, 0.0, 0.0, 1.0, 0.0, 2.0, 0.0, 0.0, 0.0, 0.0, 0.0, 1.0, 1.0, 1.0, 1.0, 0.0, 2.0, 0.0, 9.0, 0.0, 4.0, 0.0, 0.0, 9.0, 1.0, 7.0, 2.0, 2.0, 3.0, 0.0, 0.0, 3.0, 0.0, 0.0, 10.0, 0.0, 1.0, 2.0, 0.0, 4.0, 0.0, 1.0, 0.0, 0.0, 0.0, 1.0, 0.0, 0.0, 1.0, 2.0, 1.0, 0.0, 0.0, 1.0, 1.0, 0.0, 3.0, 0.0, 0.0, 2.0, 5.0, 2.0, 32.0, 3.0, 3.0, 2.0, 1.0, 1.0, 0.0, 0.0, 0.0, 1.0, 0.0, 0.0, 1.0, 2.0, 2.0, 0.0, 0.0, 5.0, 0.0, 0.0, 0.0, 0.0, 0.0, 2.0, 0.0, 0.0, 0.0, 3.0, 6.0, 0.0, 0.0, 3.0, 0.0, 1.0, 4.0, 0.0, 0.0, 0.0, 0.0, 0.0, 0.0, 1.0, 0.0, 0.0, 1.0, 3.0, 1.0, 0.0, 1.0, 1.0, 0.0, 6.0, 0.0, 4.0, 2.0, 1.0, 3.0, 2.0, 1.0, 2.0, 0.0, 0.0, 2.0, 0.0, 1.0, 0.0, 2.0, 0.0, 0.0, 1.0, 1.0, 0.0, 1.0, 0.0, 0.0, 0.0, 0.0, 1.0, 0.0, 5.0, 0.0, 0.0, 0.0, 3.0, 2.0, 0.0, 4.0, 1.0, 0.0, 0.0, 0.0, 3.0, 1.0, 0.0, 2.0, 3.0, 1.0, 0.0, 0.0, 0.0, 1.0, 1.0, 0.0, 3708.0, 0.0, 4.0, 0.0, 1.0, 2.0, 3.0, 4.0, 6.0, 0.0, 0.0, 5.0, 0.0, 3.0, 2.0, 0.0, 1.0, 4.0, 1.0, 0.0, 0.0, 5.0, 7240.0, 0.0, 1.0, 0.0, 6.0, 0.0, 6.0, 0.0, 0.0, 1.0, 1.0, 0.0, 1.0, 0.0, 0.0, 3.0, 0.0, 3.0, 1.0, 3.0, 0.0, 0.0, 3.0, 0.0, 2.0, 1.0, 9.0, 0.0, 0.0, 1.0, 1.0, 0.0, 0.0, 5.0, 0.0, 2.0, 0.0, 0.0, 1.0, 1.0, 0.0, 0.0, 0.0, 20.0, 0.0, 1.0, 0.0, 0.0, 2.0, 0.0, 0.0, 1.0, 0.0, 0.0, 0.0, 0.0, 0.0, 1.0, 0.0, 0.0, 0.0, 0.0, 0.0, 0.0, 0.0, 2.0, 1.0, 0.0, 0.0, 0.0, 1.0, 0.0, 0.0, 0.0, 0.0, 0.0, 0.0, 1.0, 0.0, 0.0, 7748.0, 2.0, 10.0, 0.0, 11.0, 6.0, 0.0, 0.0, 0.0, 0.0, 0.0, 7.0, 0.0, 0.0, 1.0, 0.0, 1.0, 3.0, 14.0, 0.0, 0.0, 5.0, 14.0, 1.0, 0.0, 0.0, 0.0, 0.0, 6.0, 1.0, 0.0, 2.0, 0.0, 0.0, 0.0, 0.0, 1.0, 1.0, 0.0, 0.0, 0.0, 0.0, 1.0, 0.0, 0.0, 0.0, 6.0, 1.0, 2.0, 0.0, 0.0, 3.0, 0.0, 0.0, 0.0, 1.0, 4.0, 1.0, 2.0, 0.0, 0.0, 1.0, 1.0, 1.0, 0.0, 1.0, 0.0, 0.0, 1.0, 0.0, 0.0, 0.0, 0.0, 2.0, 8.0, 1.0, 0.0, 2.0, 0.0, 1.0, 1.0, 2.0, 2.0, 13.0, 0.0, 0.0, 0.0, 0.0, 3.0, 4.0, 0.0, 0.0, 0.0, 0.0, 0.0, 0.0, 0.0, 0.0, 1.0, 0.0, 0.0, 1.0, 0.0], \"yaxis\": \"y\"}],\n",
              "                        {\"legend\": {\"tracegroupgap\": 0}, \"margin\": {\"t\": 60}, \"template\": {\"data\": {\"bar\": [{\"error_x\": {\"color\": \"#f2f5fa\"}, \"error_y\": {\"color\": \"#f2f5fa\"}, \"marker\": {\"line\": {\"color\": \"rgb(17,17,17)\", \"width\": 0.5}}, \"type\": \"bar\"}], \"barpolar\": [{\"marker\": {\"line\": {\"color\": \"rgb(17,17,17)\", \"width\": 0.5}}, \"type\": \"barpolar\"}], \"carpet\": [{\"aaxis\": {\"endlinecolor\": \"#A2B1C6\", \"gridcolor\": \"#506784\", \"linecolor\": \"#506784\", \"minorgridcolor\": \"#506784\", \"startlinecolor\": \"#A2B1C6\"}, \"baxis\": {\"endlinecolor\": \"#A2B1C6\", \"gridcolor\": \"#506784\", \"linecolor\": \"#506784\", \"minorgridcolor\": \"#506784\", \"startlinecolor\": \"#A2B1C6\"}, \"type\": \"carpet\"}], \"choropleth\": [{\"colorbar\": {\"outlinewidth\": 0, \"ticks\": \"\"}, \"type\": \"choropleth\"}], \"contour\": [{\"colorbar\": {\"outlinewidth\": 0, \"ticks\": \"\"}, \"colorscale\": [[0.0, \"#0d0887\"], [0.1111111111111111, \"#46039f\"], [0.2222222222222222, \"#7201a8\"], [0.3333333333333333, \"#9c179e\"], [0.4444444444444444, \"#bd3786\"], [0.5555555555555556, \"#d8576b\"], [0.6666666666666666, \"#ed7953\"], [0.7777777777777778, \"#fb9f3a\"], [0.8888888888888888, \"#fdca26\"], [1.0, \"#f0f921\"]], \"type\": \"contour\"}], \"contourcarpet\": [{\"colorbar\": {\"outlinewidth\": 0, \"ticks\": \"\"}, \"type\": \"contourcarpet\"}], \"heatmap\": [{\"colorbar\": {\"outlinewidth\": 0, \"ticks\": \"\"}, \"colorscale\": [[0.0, \"#0d0887\"], [0.1111111111111111, \"#46039f\"], [0.2222222222222222, \"#7201a8\"], [0.3333333333333333, \"#9c179e\"], [0.4444444444444444, \"#bd3786\"], [0.5555555555555556, \"#d8576b\"], [0.6666666666666666, \"#ed7953\"], [0.7777777777777778, \"#fb9f3a\"], [0.8888888888888888, \"#fdca26\"], [1.0, \"#f0f921\"]], \"type\": \"heatmap\"}], \"heatmapgl\": [{\"colorbar\": {\"outlinewidth\": 0, \"ticks\": \"\"}, \"colorscale\": [[0.0, \"#0d0887\"], [0.1111111111111111, \"#46039f\"], [0.2222222222222222, \"#7201a8\"], [0.3333333333333333, \"#9c179e\"], [0.4444444444444444, \"#bd3786\"], [0.5555555555555556, \"#d8576b\"], [0.6666666666666666, \"#ed7953\"], [0.7777777777777778, \"#fb9f3a\"], [0.8888888888888888, \"#fdca26\"], [1.0, \"#f0f921\"]], \"type\": \"heatmapgl\"}], \"histogram\": [{\"marker\": {\"colorbar\": {\"outlinewidth\": 0, \"ticks\": \"\"}}, \"type\": \"histogram\"}], \"histogram2d\": [{\"colorbar\": {\"outlinewidth\": 0, \"ticks\": \"\"}, \"colorscale\": [[0.0, \"#0d0887\"], [0.1111111111111111, \"#46039f\"], [0.2222222222222222, \"#7201a8\"], [0.3333333333333333, \"#9c179e\"], [0.4444444444444444, \"#bd3786\"], [0.5555555555555556, \"#d8576b\"], [0.6666666666666666, \"#ed7953\"], [0.7777777777777778, \"#fb9f3a\"], [0.8888888888888888, \"#fdca26\"], [1.0, \"#f0f921\"]], \"type\": \"histogram2d\"}], \"histogram2dcontour\": [{\"colorbar\": {\"outlinewidth\": 0, \"ticks\": \"\"}, \"colorscale\": [[0.0, \"#0d0887\"], [0.1111111111111111, \"#46039f\"], [0.2222222222222222, \"#7201a8\"], [0.3333333333333333, \"#9c179e\"], [0.4444444444444444, \"#bd3786\"], [0.5555555555555556, \"#d8576b\"], [0.6666666666666666, \"#ed7953\"], [0.7777777777777778, \"#fb9f3a\"], [0.8888888888888888, \"#fdca26\"], [1.0, \"#f0f921\"]], \"type\": \"histogram2dcontour\"}], \"mesh3d\": [{\"colorbar\": {\"outlinewidth\": 0, \"ticks\": \"\"}, \"type\": \"mesh3d\"}], \"parcoords\": [{\"line\": {\"colorbar\": {\"outlinewidth\": 0, \"ticks\": \"\"}}, \"type\": \"parcoords\"}], \"pie\": [{\"automargin\": true, \"type\": \"pie\"}], \"scatter\": [{\"marker\": {\"line\": {\"color\": \"#283442\"}}, \"type\": \"scatter\"}], \"scatter3d\": [{\"line\": {\"colorbar\": {\"outlinewidth\": 0, \"ticks\": \"\"}}, \"marker\": {\"colorbar\": {\"outlinewidth\": 0, \"ticks\": \"\"}}, \"type\": \"scatter3d\"}], \"scattercarpet\": [{\"marker\": {\"colorbar\": {\"outlinewidth\": 0, \"ticks\": \"\"}}, \"type\": \"scattercarpet\"}], \"scattergeo\": [{\"marker\": {\"colorbar\": {\"outlinewidth\": 0, \"ticks\": \"\"}}, \"type\": \"scattergeo\"}], \"scattergl\": [{\"marker\": {\"line\": {\"color\": \"#283442\"}}, \"type\": \"scattergl\"}], \"scattermapbox\": [{\"marker\": {\"colorbar\": {\"outlinewidth\": 0, \"ticks\": \"\"}}, \"type\": \"scattermapbox\"}], \"scatterpolar\": [{\"marker\": {\"colorbar\": {\"outlinewidth\": 0, \"ticks\": \"\"}}, \"type\": \"scatterpolar\"}], \"scatterpolargl\": [{\"marker\": {\"colorbar\": {\"outlinewidth\": 0, \"ticks\": \"\"}}, \"type\": \"scatterpolargl\"}], \"scatterternary\": [{\"marker\": {\"colorbar\": {\"outlinewidth\": 0, \"ticks\": \"\"}}, \"type\": \"scatterternary\"}], \"surface\": [{\"colorbar\": {\"outlinewidth\": 0, \"ticks\": \"\"}, \"colorscale\": [[0.0, \"#0d0887\"], [0.1111111111111111, \"#46039f\"], [0.2222222222222222, \"#7201a8\"], [0.3333333333333333, \"#9c179e\"], [0.4444444444444444, \"#bd3786\"], [0.5555555555555556, \"#d8576b\"], [0.6666666666666666, \"#ed7953\"], [0.7777777777777778, \"#fb9f3a\"], [0.8888888888888888, \"#fdca26\"], [1.0, \"#f0f921\"]], \"type\": \"surface\"}], \"table\": [{\"cells\": {\"fill\": {\"color\": \"#506784\"}, \"line\": {\"color\": \"rgb(17,17,17)\"}}, \"header\": {\"fill\": {\"color\": \"#2a3f5f\"}, \"line\": {\"color\": \"rgb(17,17,17)\"}}, \"type\": \"table\"}]}, \"layout\": {\"annotationdefaults\": {\"arrowcolor\": \"#f2f5fa\", \"arrowhead\": 0, \"arrowwidth\": 1}, \"coloraxis\": {\"colorbar\": {\"outlinewidth\": 0, \"ticks\": \"\"}}, \"colorscale\": {\"diverging\": [[0, \"#8e0152\"], [0.1, \"#c51b7d\"], [0.2, \"#de77ae\"], [0.3, \"#f1b6da\"], [0.4, \"#fde0ef\"], [0.5, \"#f7f7f7\"], [0.6, \"#e6f5d0\"], [0.7, \"#b8e186\"], [0.8, \"#7fbc41\"], [0.9, \"#4d9221\"], [1, \"#276419\"]], \"sequential\": [[0.0, \"#0d0887\"], [0.1111111111111111, \"#46039f\"], [0.2222222222222222, \"#7201a8\"], [0.3333333333333333, \"#9c179e\"], [0.4444444444444444, \"#bd3786\"], [0.5555555555555556, \"#d8576b\"], [0.6666666666666666, \"#ed7953\"], [0.7777777777777778, \"#fb9f3a\"], [0.8888888888888888, \"#fdca26\"], [1.0, \"#f0f921\"]], \"sequentialminus\": [[0.0, \"#0d0887\"], [0.1111111111111111, \"#46039f\"], [0.2222222222222222, \"#7201a8\"], [0.3333333333333333, \"#9c179e\"], [0.4444444444444444, \"#bd3786\"], [0.5555555555555556, \"#d8576b\"], [0.6666666666666666, \"#ed7953\"], [0.7777777777777778, \"#fb9f3a\"], [0.8888888888888888, \"#fdca26\"], [1.0, \"#f0f921\"]]}, \"colorway\": [\"#636efa\", \"#EF553B\", \"#00cc96\", \"#ab63fa\", \"#FFA15A\", \"#19d3f3\", \"#FF6692\", \"#B6E880\", \"#FF97FF\", \"#FECB52\"], \"font\": {\"color\": \"#f2f5fa\"}, \"geo\": {\"bgcolor\": \"rgb(17,17,17)\", \"lakecolor\": \"rgb(17,17,17)\", \"landcolor\": \"rgb(17,17,17)\", \"showlakes\": true, \"showland\": true, \"subunitcolor\": \"#506784\"}, \"hoverlabel\": {\"align\": \"left\"}, \"hovermode\": \"closest\", \"mapbox\": {\"style\": \"dark\"}, \"paper_bgcolor\": \"rgb(17,17,17)\", \"plot_bgcolor\": \"rgb(17,17,17)\", \"polar\": {\"angularaxis\": {\"gridcolor\": \"#506784\", \"linecolor\": \"#506784\", \"ticks\": \"\"}, \"bgcolor\": \"rgb(17,17,17)\", \"radialaxis\": {\"gridcolor\": \"#506784\", \"linecolor\": \"#506784\", \"ticks\": \"\"}}, \"scene\": {\"xaxis\": {\"backgroundcolor\": \"rgb(17,17,17)\", \"gridcolor\": \"#506784\", \"gridwidth\": 2, \"linecolor\": \"#506784\", \"showbackground\": true, \"ticks\": \"\", \"zerolinecolor\": \"#C8D4E3\"}, \"yaxis\": {\"backgroundcolor\": \"rgb(17,17,17)\", \"gridcolor\": \"#506784\", \"gridwidth\": 2, \"linecolor\": \"#506784\", \"showbackground\": true, \"ticks\": \"\", \"zerolinecolor\": \"#C8D4E3\"}, \"zaxis\": {\"backgroundcolor\": \"rgb(17,17,17)\", \"gridcolor\": \"#506784\", \"gridwidth\": 2, \"linecolor\": \"#506784\", \"showbackground\": true, \"ticks\": \"\", \"zerolinecolor\": \"#C8D4E3\"}}, \"shapedefaults\": {\"line\": {\"color\": \"#f2f5fa\"}}, \"sliderdefaults\": {\"bgcolor\": \"#C8D4E3\", \"bordercolor\": \"rgb(17,17,17)\", \"borderwidth\": 1, \"tickwidth\": 0}, \"ternary\": {\"aaxis\": {\"gridcolor\": \"#506784\", \"linecolor\": \"#506784\", \"ticks\": \"\"}, \"baxis\": {\"gridcolor\": \"#506784\", \"linecolor\": \"#506784\", \"ticks\": \"\"}, \"bgcolor\": \"rgb(17,17,17)\", \"caxis\": {\"gridcolor\": \"#506784\", \"linecolor\": \"#506784\", \"ticks\": \"\"}}, \"title\": {\"x\": 0.05}, \"updatemenudefaults\": {\"bgcolor\": \"#506784\", \"borderwidth\": 0}, \"xaxis\": {\"automargin\": true, \"gridcolor\": \"#283442\", \"linecolor\": \"#506784\", \"ticks\": \"\", \"title\": {\"standoff\": 15}, \"zerolinecolor\": \"#283442\", \"zerolinewidth\": 2}, \"yaxis\": {\"automargin\": true, \"gridcolor\": \"#283442\", \"linecolor\": \"#506784\", \"ticks\": \"\", \"title\": {\"standoff\": 15}, \"zerolinecolor\": \"#283442\", \"zerolinewidth\": 2}}}, \"xaxis\": {\"anchor\": \"y\", \"domain\": [0.0, 1.0]}, \"yaxis\": {\"anchor\": \"x\", \"domain\": [0.0, 1.0], \"title\": {\"text\": \"duration\"}}},\n",
              "                        {\"responsive\": true}\n",
              "                    ).then(function(){\n",
              "                            \n",
              "var gd = document.getElementById('754f1c68-fe72-4484-9450-c016a67ff40c');\n",
              "var x = new MutationObserver(function (mutations, observer) {{\n",
              "        var display = window.getComputedStyle(gd).display;\n",
              "        if (!display || display === 'none') {{\n",
              "            console.log([gd, 'removed!']);\n",
              "            Plotly.purge(gd);\n",
              "            observer.disconnect();\n",
              "        }}\n",
              "}});\n",
              "\n",
              "// Listen for the removal of the full notebook cells\n",
              "var notebookContainer = gd.closest('#notebook-container');\n",
              "if (notebookContainer) {{\n",
              "    x.observe(notebookContainer, {childList: true});\n",
              "}}\n",
              "\n",
              "// Listen for the clearing of the current output cell\n",
              "var outputEl = gd.closest('.output');\n",
              "if (outputEl) {{\n",
              "    x.observe(outputEl, {childList: true});\n",
              "}}\n",
              "\n",
              "                        })\n",
              "                };\n",
              "                \n",
              "            </script>\n",
              "        </div>\n",
              "</body>\n",
              "</html>"
            ]
          },
          "metadata": {
            "tags": []
          }
        }
      ]
    },
    {
      "cell_type": "code",
      "metadata": {
        "id": "Q_lsQvgPwkgY",
        "colab_type": "code",
        "outputId": "c69b7f64-90ea-42a2-a701-010cc22bf1b7",
        "colab": {
          "base_uri": "https://localhost:8080/",
          "height": 34
        }
      },
      "source": [
        "max(concat_ml['duration'])\n",
        "# Thats lot of time!"
      ],
      "execution_count": 0,
      "outputs": [
        {
          "output_type": "execute_result",
          "data": {
            "text/plain": [
              "50752.0"
            ]
          },
          "metadata": {
            "tags": []
          },
          "execution_count": 17
        }
      ]
    },
    {
      "cell_type": "code",
      "metadata": {
        "id": "oo4Ax7nZZvCW",
        "colab_type": "code",
        "colab": {}
      },
      "source": [
        "l_A=LabelEncoder()\n",
        "l_B=LabelEncoder()\n",
        "l_C=LabelEncoder()"
      ],
      "execution_count": 0,
      "outputs": []
    },
    {
      "cell_type": "code",
      "metadata": {
        "id": "rClfTWV_ZztQ",
        "colab_type": "code",
        "colab": {}
      },
      "source": [
        "concat_ml['Dominant_A']=l_A.fit_transform(concat_ml['Dominant_A'])\n",
        "concat_ml['Dominant_B']=l_A.fit_transform(concat_ml['Dominant_B'])\n",
        "concat_ml['Dominant_C']=l_A.fit_transform(concat_ml['Dominant_C'])"
      ],
      "execution_count": 0,
      "outputs": []
    },
    {
      "cell_type": "code",
      "metadata": {
        "id": "R3KOCWZraLKF",
        "colab_type": "code",
        "colab": {}
      },
      "source": [
        "train=concat_ml[concat_ml['gender'].notnull()]\n",
        "test=concat_ml[concat_ml['gender'].isna()]"
      ],
      "execution_count": 0,
      "outputs": []
    },
    {
      "cell_type": "code",
      "metadata": {
        "id": "AS2TZdQ2aaG2",
        "colab_type": "code",
        "colab": {}
      },
      "source": [
        "Dominant_As=concat_ml['Dominant_A'].unique()"
      ],
      "execution_count": 0,
      "outputs": []
    },
    {
      "cell_type": "code",
      "metadata": {
        "id": "9b-kMPYjacd4",
        "colab_type": "code",
        "colab": {}
      },
      "source": [
        "submission=pd.DataFrame(columns=['session_id','gender'])\n",
        "ensemble_ml=pd.DataFrame(columns=['session_id','predict_ml','prob_ml'])"
      ],
      "execution_count": 0,
      "outputs": []
    },
    {
      "cell_type": "code",
      "metadata": {
        "id": "r8-n8AYZaeuX",
        "colab_type": "code",
        "colab": {}
      },
      "source": [
        "for A in Dominant_As:\n",
        "  \n",
        "  train_A=train[train['Dominant_A']==A].copy()\n",
        "  \n",
        "  train_A.pop('session_id');\n",
        "  \n",
        "  train_Y = train_A.pop('gender').map({'female':1,'male':0})\n",
        "\n",
        "  rf_clf=RandomForestClassifier(n_estimators=300)\n",
        "  kn_clf=KNeighborsClassifier()\n",
        "  xg_clf=XGBClassifier(n_estimators=200)\n",
        "  lg_clf=LGBMClassifier(n_estimators=200)\n",
        "  mp_clf=MLPClassifier(hidden_layer_sizes=(32,16,8))\n",
        "  \n",
        "  clf=VotingClassifier(\n",
        "    estimators=[\n",
        "                ('rf',rf_clf),\n",
        "                ('kn',kn_clf),\n",
        "                ('xg',xg_clf),\n",
        "                ('lg',lg_clf),\n",
        "                ('mp',mp_clf)\n",
        "    ],\n",
        "    voting='soft'\n",
        "  )\n",
        "  clf.fit(train_A,train_Y)\n",
        "  \n",
        "  test_A=test[test['Dominant_A']==A].copy()\n",
        "  \n",
        "  test_ids=test_A.pop('session_id')\n",
        "  test_A.pop('gender')\n",
        "\n",
        "  test_Y=clf.predict(test_A)\n",
        "  predictions=pd.Series(test_Y)\n",
        "  predictions=predictions.map({1:'female',0:'male'})\n",
        "  predictions=predictions.to_list()\n",
        "\n",
        "  sub_A=pd.DataFrame(columns=['session_id','gender'])\n",
        "  sub_A['session_id']=test_ids\n",
        "  sub_A['gender']=predictions\n",
        "  submission=submission.append(sub_A)\n",
        "\n",
        "  probilities=clf.predict_proba(test_A)\n",
        "  ens_A=pd.DataFrame(columns=['session_id','predict_ml','prob_ml'])\n",
        "  ens_A['session_id']=test_ids\n",
        "  ens_A['predict_ml']=predictions\n",
        "  ens_A['prob_ml']=probilities\n",
        "  ensemble_ml=ensemble_ml.append(ens_A)"
      ],
      "execution_count": 0,
      "outputs": []
    },
    {
      "cell_type": "code",
      "metadata": {
        "id": "kvaCKQLBagwN",
        "colab_type": "code",
        "colab": {}
      },
      "source": [
        "ensemble_ml.to_csv('ensemble_ml.csv',index=False)\n",
        "submission.to_csv('submission_ml.csv',index=False)"
      ],
      "execution_count": 0,
      "outputs": []
    },
    {
      "cell_type": "markdown",
      "metadata": {
        "id": "X1BuTU1zd6fg",
        "colab_type": "text"
      },
      "source": [
        "We did not keep any validation data for above approach as we created a new model for each A category.\n",
        "![Screenshot from 2020-04-13 18-24-47](https://user-images.githubusercontent.com/30664477/79121995-44330100-7db4-11ea-8023-3b7182f60dac.png)\n",
        "\n",
        "\n",
        "Hower a simple around *91-93% validation accuracy* was achieved when a one model was used for entire data."
      ]
    },
    {
      "cell_type": "markdown",
      "metadata": {
        "id": "PYhjl27tuO8D",
        "colab_type": "text"
      },
      "source": [
        "### **Approach 2:** *ProductList as the Star Feature*\n",
        "\n",
        "\n",
        "Like mentioned earlier, we did come across some research papers, Khan et al.[1] in their work, used categories in `ProductList` as Bi-grams. This inspired us to assume `ProductList` as a sequence that describes the session of given user.\n",
        "\n",
        "\n",
        "There, as a naive approach, we used the entire `ProductList` string as feature for Recurrent Neural Net Variants.\n",
        "\n",
        "Upon experimenting, we found Bi-directional LSTMs to work the best.\n",
        "\n",
        "\n",
        "\n",
        "\n",
        "\n",
        "---\n",
        "\n",
        "\n",
        "---\n",
        "\n",
        "\n",
        "\n",
        "**References**  \n",
        "[2] Khan, M.M., Sohrab, M.G. & Yousuf, M.A. Customer gender prediction system on hierarchical E-commerce data. Beni-Suef Univ J Basic Appl Sci 9, 10 (2020). https://doi.org/10.1186/s43088-020-0035-7\n"
      ]
    },
    {
      "cell_type": "code",
      "metadata": {
        "id": "zowNdvHJx5wf",
        "colab_type": "code",
        "colab": {}
      },
      "source": [
        "concat_dl=concat.copy()"
      ],
      "execution_count": 0,
      "outputs": []
    },
    {
      "cell_type": "markdown",
      "metadata": {
        "id": "VxWqI92rx8Fz",
        "colab_type": "text"
      },
      "source": [
        "### Preprocessing and Fitting the models"
      ]
    },
    {
      "cell_type": "code",
      "metadata": {
        "id": "GfcRcyWwyADa",
        "colab_type": "code",
        "colab": {}
      },
      "source": [
        "product_list=concat_dl['ProductList'].values.tolist()"
      ],
      "execution_count": 0,
      "outputs": []
    },
    {
      "cell_type": "code",
      "metadata": {
        "id": "xASO0nIxyE3T",
        "colab_type": "code",
        "colab": {}
      },
      "source": [
        "tokenizer=Tokenizer(split='/',num_words=None,lower=False,oov_token='<OOV>')\n",
        "tokenizer.fit_on_texts(product_list)"
      ],
      "execution_count": 0,
      "outputs": []
    },
    {
      "cell_type": "code",
      "metadata": {
        "id": "usIru8ptyH-6",
        "colab_type": "code",
        "outputId": "aa2a8852-08a5-42af-c773-26c92f08aedc",
        "colab": {
          "base_uri": "https://localhost:8080/",
          "height": 34
        }
      },
      "source": [
        "sequences=tokenizer.texts_to_sequences(product_list)\n",
        "padded_sequences=pad_sequences(sequences=sequences,padding='post')\n",
        "padded_sequences.shape"
      ],
      "execution_count": 0,
      "outputs": [
        {
          "output_type": "execute_result",
          "data": {
            "text/plain": [
              "(15000, 172)"
            ]
          },
          "metadata": {
            "tags": []
          },
          "execution_count": 28
        }
      ]
    },
    {
      "cell_type": "code",
      "metadata": {
        "id": "n-Pa66JfyRTI",
        "colab_type": "code",
        "colab": {}
      },
      "source": [
        "model = Sequential()\n",
        "model.add(Embedding(len(tokenizer.word_index)+1,32))\n",
        "model.add(Bidirectional(LSTM(32,activation='relu',return_sequences=True,recurrent_dropout=0.3)))\n",
        "model.add(Bidirectional(LSTM(16,activation='relu',return_sequences=False),))\n",
        "model.add(BatchNormalization())\n",
        "model.add(Dense(16, activation='relu'))\n",
        "model.add(BatchNormalization())\n",
        "model.add(Dropout(0.25))\n",
        "model.add(Dense(16,  activation='relu'))\n",
        "model.add(BatchNormalization())\n",
        "model.add(Dropout(0.25))\n",
        "model.add(Dense(8, activation='relu'))\n",
        "model.add(BatchNormalization())\n",
        "model.add(Dense(8, activation='relu'))\n",
        "model.add(BatchNormalization())\n",
        "model.add(Dropout(0.25))\n",
        "model.add(Dense(4, activation='relu'))\n",
        "model.add(BatchNormalization())\n",
        "model.add(Dense(4, activation='relu'))\n",
        "# model.add(Dropout(0.25))\n",
        "model.add(BatchNormalization())\n",
        "\n",
        "model.add(Dense(1, activation='sigmoid'))\n",
        "\n",
        "\n",
        "# We struggled with this for almost a whole day, until we used the Embedding layer."
      ],
      "execution_count": 0,
      "outputs": []
    },
    {
      "cell_type": "code",
      "metadata": {
        "id": "bPQuUpd7hdqs",
        "colab_type": "code",
        "colab": {}
      },
      "source": [
        "encoder = LabelEncoder()"
      ],
      "execution_count": 0,
      "outputs": []
    },
    {
      "cell_type": "code",
      "metadata": {
        "id": "Y9iBgwRKxxo3",
        "colab_type": "code",
        "colab": {}
      },
      "source": [
        "# Run Again!\n",
        "train=pd.read_csv('/content/train.csv')\n",
        "test=pd.read_csv('/content/test.csv')"
      ],
      "execution_count": 0,
      "outputs": []
    },
    {
      "cell_type": "code",
      "metadata": {
        "id": "krM3A3qCgyaL",
        "colab_type": "code",
        "colab": {}
      },
      "source": [
        "model.compile(loss='binary_crossentropy', optimizer='adam', metrics=['accuracy'])"
      ],
      "execution_count": 0,
      "outputs": []
    },
    {
      "cell_type": "code",
      "metadata": {
        "id": "DqRGqCeiyk3T",
        "colab_type": "code",
        "colab": {}
      },
      "source": [
        "X=train['ProductList'].values.tolist()\n",
        "Y=train['gender'].values.tolist()\n",
        "train_X=tokenizer.texts_to_sequences(X)\n",
        "train_X=pad_sequences(sequences=train_X,padding='post',maxlen=172)\n",
        "train_Y=encoder.fit_transform(Y)"
      ],
      "execution_count": 0,
      "outputs": []
    },
    {
      "cell_type": "code",
      "metadata": {
        "id": "cytNKLbTEKpV",
        "colab_type": "code",
        "colab": {}
      },
      "source": [
        "X_train,X_val,Y_train,Y_val=train_test_split(train_X,train_Y,test_size=0.2)"
      ],
      "execution_count": 0,
      "outputs": []
    },
    {
      "cell_type": "code",
      "metadata": {
        "id": "Nvb7uxXIytwH",
        "colab_type": "code",
        "outputId": "fa06221c-8efe-47a3-dc29-207f44a0e285",
        "colab": {
          "base_uri": "https://localhost:8080/",
          "height": 170
        }
      },
      "source": [
        "model.fit(X_train,Y_train,epochs=4,batch_size=16,validation_data=(X_val, Y_val));"
      ],
      "execution_count": 0,
      "outputs": [
        {
          "output_type": "stream",
          "text": [
            "Train on 8400 samples, validate on 2100 samples\n",
            "Epoch 1/4\n",
            "8400/8400 [==============================] - 133s 16ms/step - loss: 0.1960 - accuracy: 0.9407 - val_loss: 0.2101 - val_accuracy: 0.9448\n",
            "Epoch 2/4\n",
            "8400/8400 [==============================] - 132s 16ms/step - loss: 0.1841 - accuracy: 0.9494 - val_loss: 0.1870 - val_accuracy: 0.9429\n",
            "Epoch 3/4\n",
            "8400/8400 [==============================] - 132s 16ms/step - loss: 0.1681 - accuracy: 0.9538 - val_loss: 0.1753 - val_accuracy: 0.9495\n",
            "Epoch 4/4\n",
            "8400/8400 [==============================] - 132s 16ms/step - loss: 0.1514 - accuracy: 0.9620 - val_loss: 0.1819 - val_accuracy: 0.9457\n"
          ],
          "name": "stdout"
        }
      ]
    },
    {
      "cell_type": "markdown",
      "metadata": {
        "id": "PtigxyWOIQNl",
        "colab_type": "text"
      },
      "source": [
        "We ran the above code cell multiple times along with pseudo labelled data, so exact `number of epochs` can vary, however total epochs were around 20+ with `batch_size` varying between 32 and 64."
      ]
    },
    {
      "cell_type": "markdown",
      "metadata": {
        "id": "F9Um_pqTHc8Q",
        "colab_type": "text"
      },
      "source": [
        "### Pseudo Labelling\n",
        "\n",
        "\n",
        "\n",
        "---\n",
        "\n",
        "\n",
        "\n",
        "---\n",
        "\n",
        "**References**  \n",
        "[3] Lee, Dong-Hyun. (2013). Pseudo-Label : The Simple and Efficient Semi-Supervised Learning Method for Deep Neural Networks. ICML 2013 Workshop : Challenges in Representation Learning (WREPL).   \n",
        "\n",
        "\n",
        "*Note: We could'nt trace the exact paper that first described the concept.*\n"
      ]
    },
    {
      "cell_type": "code",
      "metadata": {
        "id": "6fcOMZGQ25de",
        "colab_type": "code",
        "colab": {}
      },
      "source": [
        "pseudo_labels=pd.DataFrame(columns=train.columns)\n",
        "\n",
        "for index,row in test.iterrows():\n",
        "  x=[row['ProductList']]\n",
        "  x=tokenizer.texts_to_sequences(x)\n",
        "  x=pad_sequences(sequences=x,padding='post',maxlen=172)\n",
        "  probability=model.predict_proba(x)\n",
        "  prediction=model.predict_classes(x)\n",
        "  if probability[0]>0.6:\n",
        "    row['gender']=encoder.inverse_transform(prediction)[0]\n",
        "    pseudo_labels=pseudo_labels.append(row)\n",
        "    session_id=row['session_id']"
      ],
      "execution_count": 0,
      "outputs": []
    },
    {
      "cell_type": "code",
      "metadata": {
        "id": "vNcqCLKxConI",
        "colab_type": "code",
        "outputId": "4e49644b-239d-4a77-a849-d1dba65d4177",
        "colab": {
          "base_uri": "https://localhost:8080/",
          "height": 34
        }
      },
      "source": [
        "pseudo_labels.shape"
      ],
      "execution_count": 0,
      "outputs": [
        {
          "output_type": "execute_result",
          "data": {
            "text/plain": [
              "(1212, 5)"
            ]
          },
          "metadata": {
            "tags": []
          },
          "execution_count": 47
        }
      ]
    },
    {
      "cell_type": "code",
      "metadata": {
        "id": "WpliPajaSkU5",
        "colab_type": "code",
        "colab": {}
      },
      "source": [
        "pseudo_labels.to_csv('pseudo_labels.csv',index=False)"
      ],
      "execution_count": 0,
      "outputs": []
    },
    {
      "cell_type": "code",
      "metadata": {
        "id": "U6lC8lMzB03d",
        "colab_type": "code",
        "colab": {}
      },
      "source": [
        "train_dl=train.append(pseudo_labels)"
      ],
      "execution_count": 0,
      "outputs": []
    },
    {
      "cell_type": "code",
      "metadata": {
        "id": "5PBv7NvGSqvX",
        "colab_type": "code",
        "colab": {}
      },
      "source": [
        "X=train_dl['ProductList'].values.tolist()\n",
        "Y=train_dl['gender'].values.tolist()\n",
        "train_X=tokenizer.texts_to_sequences(X)\n",
        "train_X=pad_sequences(sequences=train_X,padding='post',maxlen=172)\n",
        "train_Y=encoder.transform(Y)"
      ],
      "execution_count": 0,
      "outputs": []
    },
    {
      "cell_type": "code",
      "metadata": {
        "id": "8TYjoftNA_O5",
        "colab_type": "code",
        "outputId": "883788f1-a9f7-45ae-c937-ab917e7b703a",
        "colab": {
          "base_uri": "https://localhost:8080/",
          "height": 34
        }
      },
      "source": [
        "train_dl.shape"
      ],
      "execution_count": 0,
      "outputs": [
        {
          "output_type": "execute_result",
          "data": {
            "text/plain": [
              "(11712, 5)"
            ]
          },
          "metadata": {
            "tags": []
          },
          "execution_count": 58
        }
      ]
    },
    {
      "cell_type": "code",
      "metadata": {
        "id": "owTFfByRSuLM",
        "colab_type": "code",
        "colab": {}
      },
      "source": [
        "X_train,X_val,Y_train,Y_val=train_test_split(train_X,train_Y,test_size=0.2)"
      ],
      "execution_count": 0,
      "outputs": []
    },
    {
      "cell_type": "code",
      "metadata": {
        "id": "K6CnNS6UBKdS",
        "colab_type": "code",
        "outputId": "6662f37c-126a-4320-e549-e2a2c951f731",
        "colab": {
          "base_uri": "https://localhost:8080/",
          "height": 170
        }
      },
      "source": [
        "model.fit(X_train,Y_train,epochs=4,batch_size=32,validation_data=(X_val, Y_val));"
      ],
      "execution_count": 0,
      "outputs": [
        {
          "output_type": "stream",
          "text": [
            "Train on 9369 samples, validate on 2343 samples\n",
            "Epoch 1/4\n",
            "9369/9369 [==============================] - 90s 10ms/step - loss: 0.1189 - accuracy: 0.9651 - val_loss: 0.0912 - val_accuracy: 0.9710\n",
            "Epoch 2/4\n",
            "9369/9369 [==============================] - 87s 9ms/step - loss: 0.0982 - accuracy: 0.9702 - val_loss: 0.0861 - val_accuracy: 0.9714\n",
            "Epoch 3/4\n",
            "9369/9369 [==============================] - 88s 9ms/step - loss: 0.0933 - accuracy: 0.9718 - val_loss: 0.0945 - val_accuracy: 0.9684\n",
            "Epoch 4/4\n",
            "9369/9369 [==============================] - 88s 9ms/step - loss: 0.0839 - accuracy: 0.9762 - val_loss: 0.0993 - val_accuracy: 0.9693\n"
          ],
          "name": "stdout"
        }
      ]
    },
    {
      "cell_type": "markdown",
      "metadata": {
        "id": "Mut9qJ3Z_Wp-",
        "colab_type": "text"
      },
      "source": [
        "We are overfitting but that can be fixed by steps such as reducing number of `epochs` or using a `callback`."
      ]
    },
    {
      "cell_type": "code",
      "metadata": {
        "id": "3PPCnQa8bK7D",
        "colab_type": "code",
        "colab": {}
      },
      "source": [
        "test_X=test['ProductList'].values.tolist()\n",
        "test_X=tokenizer.texts_to_sequences(test_X)\n",
        "test_X=pad_sequences(sequences=test_X,padding='post',maxlen=172)"
      ],
      "execution_count": 0,
      "outputs": []
    },
    {
      "cell_type": "code",
      "metadata": {
        "id": "sFxj5wFrbVCm",
        "colab_type": "code",
        "colab": {}
      },
      "source": [
        "predictions=model.predict_classes(test_X)\n",
        "predictions_dl=encoder.inverse_transform(predictions.reshape(-1))\n",
        "predictions_dl=predictions_dl.tolist()"
      ],
      "execution_count": 0,
      "outputs": []
    },
    {
      "cell_type": "code",
      "metadata": {
        "id": "5WjEOaQdbc4K",
        "colab_type": "code",
        "colab": {}
      },
      "source": [
        "submission_dl=pd.DataFrame(columns=['session_id','gender'])\n",
        "submission_dl['session_id']=test['session_id']\n",
        "submission_dl['gender']=predictions_dl"
      ],
      "execution_count": 0,
      "outputs": []
    },
    {
      "cell_type": "code",
      "metadata": {
        "id": "0a4w411iyt3a",
        "colab_type": "code",
        "colab": {}
      },
      "source": [
        "model.save('model_1.h5')"
      ],
      "execution_count": 0,
      "outputs": []
    },
    {
      "cell_type": "code",
      "metadata": {
        "id": "Jpwarcdjcpjw",
        "colab_type": "code",
        "colab": {}
      },
      "source": [
        "ensemble_dl=pd.DataFrame(columns=['session_id','predict_dl','prob_dl'])\n",
        "\n",
        "for index,row in test.iterrows():\n",
        "  x=[row['ProductList']]\n",
        "  x=tokenizer.texts_to_sequences(x)\n",
        "  x=pad_sequences(sequences=x,padding='post',maxlen=172)\n",
        "  probability=model.predict_proba(x)\n",
        "  prediction=model.predict_classes(x)\n",
        "  r={\n",
        "      'session_id':row['session_id'],\n",
        "      'predict_dl':encoder.inverse_transform(prediction)[0],\n",
        "      'prob_dl':probability.reshape(-1)[0].item()\n",
        "  }\n",
        "  ensemble_dl=ensemble_dl.append(r,ignore_index=True)"
      ],
      "execution_count": 0,
      "outputs": []
    },
    {
      "cell_type": "code",
      "metadata": {
        "id": "JuR_ap_LGtvm",
        "colab_type": "code",
        "colab": {}
      },
      "source": [
        "ensemble_dl.to_csv('ensemble_dl.csv',index=False)\n",
        "submission.to_csv('submission_dl.csv',index=False)"
      ],
      "execution_count": 0,
      "outputs": []
    },
    {
      "cell_type": "markdown",
      "metadata": {
        "id": "GjHJpmA-NPXC",
        "colab_type": "text"
      },
      "source": [
        "## **Submission** \n",
        "\n"
      ]
    },
    {
      "cell_type": "code",
      "metadata": {
        "id": "Hq2PQSEwi6_c",
        "colab_type": "code",
        "colab": {}
      },
      "source": [
        "# Confidence is the key!\n",
        "# Ensembling Stratefy, use that classifier that has more confidence in its hypothesis.\n",
        "\n",
        "ensemble_submission=pd.DataFrame(columns=['session_id','gender'])\n",
        "\n",
        "for index,row in ensemble_ml.iterrows():\n",
        "  ml_prob=row['prob_ml']\n",
        "  ml_predict=row['predict_ml']\n",
        "  sess_id=row['session_id']\n",
        "  dl_row=ensemble_dl.query('session_id==@sess_id')\n",
        "  dl_prob=dl_row['prob_dl']\n",
        "  dl_predict=dl_row['predict_dl']\n",
        "  if dl_prob.item()<ml_prob.item():\n",
        "    ensemble_submission=ensemble_submission.append({'session_id':sess_id,'gender':ml_predict.item()},ignore_index=True)\n",
        "  else:\n",
        "    ensemble_submission=ensemble_submission.append({'session_id':sess_id,'gender':dl_predict.item()},ignore_index=True)"
      ],
      "execution_count": 0,
      "outputs": []
    },
    {
      "cell_type": "code",
      "metadata": {
        "id": "qig6u1cei-Nc",
        "colab_type": "code",
        "colab": {}
      },
      "source": [
        "ensemble_submission.head()"
      ],
      "execution_count": 0,
      "outputs": []
    },
    {
      "cell_type": "code",
      "metadata": {
        "id": "riK-ZBvLi_HG",
        "colab_type": "code",
        "colab": {}
      },
      "source": [
        "ensemble_submission.to_csv('submission.csv',index=False)"
      ],
      "execution_count": 0,
      "outputs": []
    },
    {
      "cell_type": "markdown",
      "metadata": {
        "id": "K4YMJkonG66s",
        "colab_type": "text"
      },
      "source": [
        "As you can infer, we have 3 submission files from the notebook. However, due to time constraint, we could not implement this strategy completely as desired."
      ]
    },
    {
      "cell_type": "markdown",
      "metadata": {
        "id": "VUcnJIWLjCH-",
        "colab_type": "text"
      },
      "source": [
        "# ***Fin.***"
      ]
    },
    {
      "cell_type": "markdown",
      "metadata": {
        "id": "Wc1hWQPkyMmU",
        "colab_type": "text"
      },
      "source": [
        "*We explored other options as well such **Automated Machine Learning** and **Feed Forward Networks**, though they did'nt work that well (around 87-90%). We will be sharing them as well.*"
      ]
    },
    {
      "cell_type": "markdown",
      "metadata": {
        "id": "6_fA3PiMFMi0",
        "colab_type": "text"
      },
      "source": [
        "**Suggestions and Healthy criticism are always Welcome!**"
      ]
    }
  ]
}
